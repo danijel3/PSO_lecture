{
 "cells": [
  {
   "cell_type": "markdown",
   "metadata": {
    "slideshow": {
     "slide_type": "slide"
    }
   },
   "source": [
    "# Film"
   ]
  },
  {
   "cell_type": "markdown",
   "metadata": {
    "slideshow": {
     "slide_type": "subslide"
    }
   },
   "source": [
    "## Wprowadznie\n",
    "\n",
    "- Bezwładność oka ludzkiego\n",
    "    - [Zoetrope](https://en.wikipedia.org/wiki/Zoetrope)\n",
    "- Historia\n",
    "    - [\"Magiczna latarnia\" Huygensa](https://en.wikipedia.org/wiki/Magic_lantern) (XVII w.)\n",
    "    - Bracia Lumière (XIX w.) - pierwszy film 1895 r.\n",
    "- Algorytm:\n",
    "    1. Otwórz migawkę na krótki czas $t_0$\n",
    "    2. Wyświetl/nagraj zdjęcie\n",
    "    3. Zamknij migwakę po upłynięciu czasu $t_0$\n",
    "    4. Przesuń taśmę o jedną klatkę\n",
    "    5. Powróć do punktu 1.\n"
   ]
  },
  {
   "cell_type": "markdown",
   "metadata": {
    "slideshow": {
     "slide_type": "subslide"
    }
   },
   "source": [
    "### Udźwiękowienie filmu\n",
    "\n",
    "- Poluzowanie naciągu w projektorze ([fig](https://en.wikipedia.org/wiki/Movie_projector#/media/File:Projmech.jpg))\n",
    "- Zapis dźwięku na taśmie filmowej ([fig](https://upload.wikimedia.org/wikipedia/commons/thumb/1/1d/35mm_film_audio_macro.jpg/250px-35mm_film_audio_macro.jpg))"
   ]
  },
  {
   "cell_type": "markdown",
   "metadata": {
    "slideshow": {
     "slide_type": "subslide"
    }
   },
   "source": [
    "### Próbkowanie filmu\n",
    "\n",
    "- Film analogy zdefiniowany zmiennymi $x$,$y$ oraz $t$\n",
    "- Na taśmie, $x$ i $y$ są rzeczywiste, ale $t$ jest próbkowane\n",
    "- Twierdzenie Nyquista w filmie, np. [1](https://www.youtube.com/watch?v=UkotZy3lQqo), [2](https://www.youtube.com/watch?v=VNftf5qLpiA)\n",
    "- Transformata Fouriera 3D\n",
    "- Typowe częstotliwści próbkowania:\n",
    "    - 12, 24/25 - kino \n",
    "    - 50/60 - TV, monitor\n",
    "- Składowe:\n",
    "    - YUV444, YUV422, YUV411, YUV420 [link](https://en.wikipedia.org/wiki/Chroma_subsampling#Sampling_systems_and_ratios)\n",
    "- Przykładowo YUV444:\n",
    "\n",
    "\\begin{equation}\n",
    "24 \\text{ fps} \\cdot 3 \\text{ skł.} \\cdot 1920 \\cdot 1080 \\cdot 8 \\text{ b} = 1194393600 \\text{ b/s} \\approx 1.94 \\text{ Gb/s}\n",
    "\\end{equation}\n",
    "\n",
    "- Przeplot (ang. [interlace](https://en.wikipedia.org/wiki/Interlaced_video))"
   ]
  },
  {
   "cell_type": "markdown",
   "metadata": {
    "slideshow": {
     "slide_type": "subslide"
    }
   },
   "source": [
    "### MPEG\n",
    "\n",
    "- Kompresja pojedynczych klatek: MJPEG\n",
    "- Zapis różnicowy\n",
    "    - makrobloki (4 bloki 8x8)\n",
    "    - wektory przesunieć (x,y) i obrót (r)\n",
    "- Rodzaje klatek:\n",
    "    - I (internal), P (progressive), B (bi-predictive)\n",
    "- Przykład kodowania: IPBBBBBBIPBBBBBBIPBBBBBB\n",
    "- 1080p można przsyłać używając zaledwie 9.5 Mb/s\n",
    "- Utrata klatki [link](https://www.researchgate.net/publication/224393200_Not_All_Packets_Are_Equal_Part_2_The_Impact_of_Network_Packet_Loss_on_Video_Quality)"
   ]
  },
  {
   "cell_type": "markdown",
   "metadata": {
    "slideshow": {
     "slide_type": "slide"
    }
   },
   "source": [
    "## Podsumowanie wykładu"
   ]
  },
  {
   "cell_type": "markdown",
   "metadata": {
    "slideshow": {
     "slide_type": "slide"
    }
   },
   "source": [
    "### Sygnały\n",
    "\n",
    "- Definicja\n",
    "- Rodzaje sygnału (właściwości)\n",
    "- Wzory sygnału (główne)\n",
    "- Parametry sygnału:\n",
    "    - energia, moc, momenty statystyczne, ...\n",
    "- Reprezentacja wykładnicza\n",
    "- Porównannie i wady/zalety cyfrowy/analogowy\n",
    "- Modulacja AM/FM/PM\n",
    "- Pojęcia:\n",
    "    - próbka, amplituda, faza, częstotliwość, obwiednia"
   ]
  },
  {
   "cell_type": "markdown",
   "metadata": {
    "slideshow": {
     "slide_type": "slide"
    }
   },
   "source": [
    "### Systemy LTI\n",
    "\n",
    "- Definicja i zastosowania\n",
    "- Liniowość\n",
    "- Niezależność czasowa\n",
    "- Przyczynowość\n",
    "- Stabilność"
   ]
  },
  {
   "cell_type": "markdown",
   "metadata": {
    "slideshow": {
     "slide_type": "slide"
    }
   },
   "source": [
    "### Splot\n",
    "\n",
    "- Opis i zastosowania\n",
    "- Wzór i metody liczenia\n",
    "- Rodzaje:\n",
    "    - ciągły, dyskretny, kołowy\n",
    "- Właściwości"
   ]
  },
  {
   "cell_type": "markdown",
   "metadata": {
    "slideshow": {
     "slide_type": "slide"
    }
   },
   "source": [
    "### Transformaty\n",
    "\n",
    "- Rodzaje i zastosowanie transformat Fouriera\n",
    "    - Szereg Fouriera, Transformata Fouriera, DTFT, SFT\n",
    "- FS trygonometryczny i zespolony\n",
    "- Transformata analityczna i syntetyczna\n",
    "- Widmo\n",
    "    - amplitudowe, moduł, fazowe, argument, mocy\n",
    "- Ograniczenia TF\n",
    "- Właściwości TF\n",
    "- Symetria TF"
   ]
  },
  {
   "cell_type": "markdown",
   "metadata": {
    "slideshow": {
     "slide_type": "subslide"
    }
   },
   "source": [
    "- Twierdzenie Parsevala/Plancherela/mocy\n",
    "- Baza DFT\n",
    "- Zero-padding w DFT\n",
    "- DC-offset i wpływ na DFT\n",
    "- Okienkowanie (Hamming, etc.)\n",
    "- FFT\n",
    "    - zasada działania\n",
    "    - złożoność obliczeniowa\n",
    "    - DIT/DIF\n",
    "    - filtrowanie za pomocą DFT\n",
    "- analiza czasowo-częstotliwościowa i STFT\n",
    "- Zasada nieoznaczoności Heisenberga w analizie T-F"
   ]
  },
  {
   "cell_type": "markdown",
   "metadata": {
    "slideshow": {
     "slide_type": "slide"
    }
   },
   "source": [
    "### Próbkowanie\n",
    "\n",
    "- Próbkowanie\n",
    "- Kwantyzacja\n",
    "    - Rodzaje kwantyzacji\n",
    "- Interpolacja\n",
    "- Twierdzenie Nyquista\n",
    "- Aliasing i folding\n",
    "- Przykładowe częstotliwości próbkowania i głębie bitowe\n",
    "- SNR\n"
   ]
  },
  {
   "cell_type": "markdown",
   "metadata": {
    "slideshow": {
     "slide_type": "slide"
    }
   },
   "source": [
    "### Filtrowanie\n",
    "\n",
    "- Rodzaje filtrów\n",
    "    - FIR/IIR, HP/LP/BP/BS/AP\n",
    "- Generowanie innych z LP\n",
    "- Zasady projektowania\n",
    "    - w tym linowość, przyczynowość i stabilność\n",
    "- Wady/zalety IIR/FIR\n",
    "- Liniowy FIR\n",
    "- Transformata Z\n",
    "    - rozpoznawanie rodzaju (i właściwości) filtru z transformaty Z\n",
    "    - ROC\n",
    "- Transmitancja"
   ]
  },
  {
   "cell_type": "markdown",
   "metadata": {
    "slideshow": {
     "slide_type": "subslide"
    }
   },
   "source": [
    "- Przykładowe filtry:\n",
    "    - mean, gaussian, sin, sinc\n",
    "- Algorytmy do projektowania FIR\n",
    "    - próbkowanie częstotliwości\n",
    "    - minimalizacja błędu średniokwadratowego\n",
    "    - okienkowa\n",
    "- Algorytmy do IIR (tylko rodzaje, bez opisu)"
   ]
  },
  {
   "cell_type": "markdown",
   "metadata": {
    "slideshow": {
     "slide_type": "slide"
    }
   },
   "source": [
    "### Obrazy\n",
    "\n",
    "- Teoria\n",
    "    - prędkość światła\n",
    "    - zakres długości fal widocznych\n",
    "    - podczerwień i ultra-fiolet\n",
    "    - miary światła\n",
    "    - barwa światła (temperatura czarnego ciała)\n",
    "    - budowa oka (z grubsza)\n",
    "    - rodzaje ekranów\n",
    "    - rodzaje drukarek\n",
    "    - subpixel rendering\n",
    "    - kolor i kanały koloru"
   ]
  },
  {
   "cell_type": "markdown",
   "metadata": {
    "slideshow": {
     "slide_type": "subslide"
    }
   },
   "source": [
    "- Pojęcia\n",
    "    - piksel, rozdzielczość, dpi\n",
    "- Histogram\n",
    "- Momenty obrazów\n",
    "- Przestrzenie barw"
   ]
  },
  {
   "cell_type": "markdown",
   "metadata": {
    "slideshow": {
     "slide_type": "slide"
    }
   },
   "source": [
    "### Przekształcenia punktowe\n",
    "\n",
    "- Liniowe\n",
    "- Nieliniowe\n",
    "    - gamma, sigmoid\n",
    "- Kwantyzacja jako przekształcenie punktowe\n",
    "- Propagacja błędu w kwantyzacji\n",
    "- Progowanie\n",
    "    - jedna wartość, OTSU, adaptacyjnie"
   ]
  },
  {
   "cell_type": "markdown",
   "metadata": {
    "slideshow": {
     "slide_type": "slide"
    }
   },
   "source": [
    "### Transformaty 2D\n",
    "\n",
    "- Fourier 2D\n",
    "- DCT 2D\n",
    "- Aliasing w obrazach\n",
    "- Splot 2D\n",
    "- Filtry w obrazach\n",
    "    - mean, gauss, LP, HP\n",
    "    - median\n",
    "- Detekcja krawędzi\n",
    "    - pochodna\n",
    "    - Sobel\n",
    "    - Laplacian, LoG, DoG\n",
    "    - amplituda/faza krawędzi\n",
    "    - Canny"
   ]
  },
  {
   "cell_type": "markdown",
   "metadata": {
    "slideshow": {
     "slide_type": "slide"
    }
   },
   "source": [
    "### Inne\n",
    "\n",
    "- JPEG (ogólny zarys algorytmu)\n",
    "- Przekształcenia morfologiczne\n",
    "    - dylacja, erozja, zamknięcie, otwarcie\n",
    "- Transformata Hougha\n",
    "- Cechy obrazu (znajomość ogólnych cech algorytmu)\n",
    "    - Harris corner, SIFT, SURF, FAST, ORB, STAR, BRIEF\n",
    "- Sieci neuronowe (znajomość pojęć)\n",
    "    - sieci splotowe, autoenkoder, głębokie uczenie, transfer learning"
   ]
  }
 ],
 "metadata": {
  "celltoolbar": "Slideshow",
  "kernelspec": {
   "display_name": "Python 3",
   "language": "python",
   "name": "python3"
  },
  "language_info": {
   "codemirror_mode": {
    "name": "ipython",
    "version": 3
   },
   "file_extension": ".py",
   "mimetype": "text/x-python",
   "name": "python",
   "nbconvert_exporter": "python",
   "pygments_lexer": "ipython3",
   "version": "3.6.2"
  }
 },
 "nbformat": 4,
 "nbformat_minor": 2
}
