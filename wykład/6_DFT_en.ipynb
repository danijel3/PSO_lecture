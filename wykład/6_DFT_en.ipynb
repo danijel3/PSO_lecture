{
  "cells": [
    {
      "cell_type": "markdown",
      "metadata": {
        "slideshow": {
          "slide_type": "slide"
        },
        "pycharm": {}
      },
      "source": "# Discrete Fourier Transform"
    },
    {
      "cell_type": "markdown",
      "metadata": {
        "slideshow": {
          "slide_type": "subslide"
        },
        "pycharm": {}
      },
      "source": "## Recap\n\n\n![](images/fourier_types_en.png)"
    },
    {
      "cell_type": "markdown",
      "metadata": {
        "slideshow": {
          "slide_type": "subslide"
        },
        "pycharm": {}
      },
      "source": "### Fourier series\n\n![](images/fourier2.png)"
    },
    {
      "cell_type": "markdown",
      "metadata": {
        "slideshow": {
          "slide_type": "subslide"
        },
        "pycharm": {}
      },
      "source": "### Fourier transform\n\n![](images/fourier1.png)"
    },
    {
      "cell_type": "markdown",
      "metadata": {
        "slideshow": {
          "slide_type": "subslide"
        },
        "pycharm": {}
      },
      "source": [
        "### DTFT\n",
        "\n",
        "![](images/fourier3.png)"
      ]
    },
    {
      "cell_type": "markdown",
      "metadata": {
        "slideshow": {
          "slide_type": "subslide"
        },
        "pycharm": {}
      },
      "source": [
        "### DFT\n",
        "\n",
        "![](images/fourier4.png)"
      ]
    },
    {
      "cell_type": "markdown",
      "metadata": {
        "slideshow": {
          "slide_type": "subslide"
        },
        "pycharm": {}
      },
      "source": "### Discrete-Time Fourier Transform (DTFT)\n\n\\begin{equation}\nX(\\omega)\u003d\\sum_{n\u003d-\\infty}^{\\infty} x_n e^{-i\\omega n} \\\\\n\\omega \\in \\mathbb{R}\n\\end{equation}\n\n### Discrete Fourier Transform (DFT)\n\n\\begin{equation}\nX_k\u003d\\sum_{n\u003d0}^{N-1} x_n e^{-ik\\frac{2\\pi}{N} n} \\\\\nk \\in 0,1\\ldots N-1\n\\end{equation}\n"
    },
    {
      "cell_type": "markdown",
      "metadata": {
        "slideshow": {
          "slide_type": "slide"
        },
        "pycharm": {}
      },
      "source": "## Simplifed equation\n\n- We introduce a variable\n\n\\begin{equation}\nW_N\u003de^{-i\\frac{2\\pi}{N}}\n\\end{equation}\n\n- Also known as the N-th root of 1:\n\n\\begin{equation}\n(W_N)^N\u003d1\n\\end{equation}\n\n- It allows us to define the transfrom like this:\n\n\\begin{equation}\nX_k\u003d\\sum_{n\u003d0}^{N-1} x_n W_N^{kn} \\\\\nk \\in 0,1\\ldots N-1\n\\end{equation}"
    },
    {
      "cell_type": "markdown",
      "metadata": {
        "slideshow": {
          "slide_type": "subslide"
        },
        "pycharm": {}
      },
      "source": "### DFT as the change of basis\n\n- The equation can also be interpreted as the change of basis:\n\n\\begin{equation}\nX_k\u003dx_n\\cdot W_{(N)}\n\\end{equation}\n\n- Where $W_{(N)}$ is the so-called DFT basis, eg. for size 4:\n\n|        |         |         |         |\n|--------------------------------------|\n| 1.+0.j |  1.+0.j | 1.+0.j  |  1.+0.j |\n| 1.+0.j |  0.-1.j | -1.+0.j |  0.+1.j |\n| 1.+0.j | -1.+0.j |  1.+0.j | -1.+0.j |\n| 1.+0.j |  0.+1.j | -1.+0.j |  0.-1.j |"
    },
    {
      "cell_type": "markdown",
      "metadata": {
        "slideshow": {
          "slide_type": "subslide"
        },
        "pycharm": {}
      },
      "source": [
        "![](images/dftbase_ln.png)"
      ]
    },
    {
      "cell_type": "markdown",
      "metadata": {
        "slideshow": {
          "slide_type": "subslide"
        },
        "pycharm": {}
      },
      "source": [
        "![](images/dftbase_im.png)"
      ]
    },
    {
      "cell_type": "markdown",
      "metadata": {
        "slideshow": {
          "slide_type": "slide"
        },
        "pycharm": {}
      },
      "source": "## Link between DFT and DTFT\n\n- DFT is the value of DTFT sampled using N samples\n\n\\begin{equation}\nX_k^{(DFT)}\u003dX^{(DTFT)}\\left(\\frac{2\\pi k}{N}\\right)\n\\end{equation}\n\n- For example, let\u0027s take a signal with the period N\u003d10:\n\n\\begin{equation}\nx_k\\left\\{\n\\begin{array}{l l}\n 1 \u0026 \\text{dla }k\u003d0\\ldots4 \\\\\n 0 \u0026 \\text{dla }k\u003d5\\ldots9 \\\\\n\\end{array}\n\\right.\n\\end{equation}\n\n- Its DTFT is defined as:\n\n\\begin{equation}\nX(\\omega)\u003de^{-2i\\omega}\\frac{\\sin(5\\omega/2)}{\\sin(\\omega/2))}\n\\end{equation}"
    },
    {
      "cell_type": "markdown",
      "metadata": {
        "slideshow": {
          "slide_type": "subslide"
        },
        "pycharm": {}
      },
      "source": "- DFT accurately matches the values of DTFT at specific points:\n\n![](images/dft_samplow.png)"
    },
    {
      "cell_type": "markdown",
      "metadata": {
        "slideshow": {
          "slide_type": "subslide"
        },
        "pycharm": {}
      },
      "source": "## Zero-padding\n\n- Adding zeros to the end of the signal can improve its resolution after computing DFT:\n\n![](images/dft_samphi.png)"
    },
    {
      "cell_type": "markdown",
      "metadata": {
        "slideshow": {
          "slide_type": "subslide"
        },
        "pycharm": {}
      },
      "source": [
        "## DC-offset\n",
        "\n",
        "\n",
        "![](images/fourier_sample4.png)"
      ]
    },
    {
      "cell_type": "markdown",
      "metadata": {
        "slideshow": {
          "slide_type": "slide"
        },
        "pycharm": {}
      },
      "source": "## Circular convolution\n\n- Convolution still exists in the digital world \n\n- But DFT has to be periodic in both time and frequency domains!\n\n- The convolution theorem is true for DFT but only using circular convolution\n    - the functions aren\u0027t 0 outside of their boundaries, but they repeat\n    \n- Convolution can be efficiently implemented in the frequency domain:\n\n\\begin{equation}\nf * g \u003d \\mathfrak{F}^{-1}[\\mathfrak{F}(f)\\cdot \\mathfrak{F}(g)]\n\\end{equation}\n\n- If you want to compute a simple convolution using the DFT, we have to pad the shorter signal with zeros to make both signals the same length "
    },
    {
      "cell_type": "markdown",
      "metadata": {
        "slideshow": {
          "slide_type": "slide"
        },
        "pycharm": {}
      },
      "source": "## Windowing\n\n- Extracting a short segment of the signal is equivalent to multiplying it with a square pulse\n\n\\begin{equation}\nx[b:e] \u003d x \\cdot \\Pi(b,e)\n\\end{equation}\n\n- Mltiplication in the time domain is roughly equivalent to the convolution in the frequency domain\n\n- Using a rectangular pulse during windowing is equivalent to convolving the signal with a sinc function in the frequency domain \n\n"
    },
    {
      "cell_type": "markdown",
      "metadata": {
        "slideshow": {
          "slide_type": "subslide"
        },
        "pycharm": {}
      },
      "source": "- For example, 50 samples of the sine function:\n\n![](images/dft_rectwin.png)"
    },
    {
      "cell_type": "markdown",
      "metadata": {
        "slideshow": {
          "slide_type": "subslide"
        },
        "pycharm": {}
      },
      "source": "- To fix this, we can simply use a different windowing function, eg. Hamming:\n\n![](images/hamming.png)\n\n- There is a slew of other [windowing functions](http://mathworld.wolfram.com/ApodizationFunction.html)"
    },
    {
      "cell_type": "markdown",
      "metadata": {
        "slideshow": {
          "slide_type": "subslide"
        },
        "pycharm": {}
      },
      "source": "- After multiplying the window with the hamming function, we get the following result:\n\n![](images/dft_hammwin.png)"
    },
    {
      "cell_type": "markdown",
      "metadata": {
        "slideshow": {
          "slide_type": "slide"
        },
        "pycharm": {}
      },
      "source": "## FFT\n\n- Invented by Gauss in 1806 and made famous in the mid 20th century by J.W. Cooley and John Tukey\n\n- There are many variants - here we will talk about the radix-2 DIT (decimation in time)\n\n- Let\u0027s start with the DFT\n\n\\begin{equation}\nX_k \u003d \\sum_{n\u003d0}^{N-1} x_n W_{N}^{nk}\n\\end{equation}\n\n- Its computation complexity is $O(N)\u003dN^2$\n\n- FFT uses a \"divide and conquer\" startegy\n"
    },
    {
      "cell_type": "markdown",
      "metadata": {
        "slideshow": {
          "slide_type": "subslide"
        },
        "pycharm": {}
      },
      "source": "- Let\u0027s split the addtion into even and odd indices:\n\n\\begin{equation}\nX_k \u003d \\sum_{r\u003d0}^{N/2-1} x_{(2r)} W_{N}^{(2r)k} + \\sum_{r\u003d0}^{N/2-1} x_{(2r+1)} W_{N}^{(2r+1)k} \u003d \\\\\n\\sum_{r\u003d0}^{N/2-1} x_{(2r)} (W_{N}^{2})^{rk} + W_N^k \\sum_{r\u003d0}^{N/2-1} x_{(2r+1)} (W_{N}^2)^{rk} \u003d\\\\\n\\sum_{r\u003d0}^{N/2-1} x_{(2r)} W_{N/2}^{rk} + W_N^k \\sum_{r\u003d0}^{N/2-1} x_{(2r+1)} W_{N/2}^{rk} \u003d\n\\end{equation}\n\n- Which is equivalent to performing two half-DFTs ($N/2$) instead of one long one"
    },
    {
      "cell_type": "markdown",
      "metadata": {
        "slideshow": {
          "slide_type": "subslide"
        },
        "pycharm": {}
      },
      "source": [
        "\u003cimg src\u003d\"images/FFT_even_odd.png\" style\u003d\"width: 500px\"\u003e"
      ]
    },
    {
      "cell_type": "markdown",
      "metadata": {
        "slideshow": {
          "slide_type": "subslide"
        },
        "pycharm": {}
      },
      "source": [
        "\u003cimg src\u003d\"images/FFT_radix2.png\" style\u003d\"width: 500px\"\u003e"
      ]
    },
    {
      "cell_type": "markdown",
      "metadata": {
        "slideshow": {
          "slide_type": "subslide"
        },
        "pycharm": {}
      },
      "source": "### FFT summary\n\n- If the length of the signal is a power of two, the algorithm can be performed in $log_2 N$ steps\n\n- Each step multiplies and adds $N$ values giving the final complexity of $O(N)\u003dN \\log N$\n\n- Each structural elements resembles a butterfly\n\n- The algorithm can be computer \"in-place\" (this is acheived by postioning the elements in a specific order through bit reversal)\n\n- One of the most famous implemention of the algorith in C++ is a library called FFTW\n\n- There are multi-threaded algorithms that utilize $N$ compute elements thus giving the complexity of $O(N) \u003d \\log N$ (eg. the cuFFT library)"
    },
    {
      "cell_type": "markdown",
      "metadata": {
        "slideshow": {
          "slide_type": "subslide"
        },
        "pycharm": {}
      },
      "source": [
        "#### DIF\n",
        "\n",
        "\u003cimg src\u003d\"images/fft_dif.png\" style\u003d\"width: 500px\"\u003e"
      ]
    },
    {
      "cell_type": "markdown",
      "metadata": {
        "slideshow": {
          "slide_type": "slide"
        },
        "pycharm": {}
      },
      "source": "## Filtering with FFT\n\n- Digital filters are usually implemented through convolution\n\n- A simple method can be achieved by converting the signal into the frequency domain:\n\n1. compute FFT\n2. multiply the spectrum with the frequency response of the filter\n3. compute IFFT\n\n- before doing step 3, we need to make sure that the spectrum has Hermitian symmetry!\n"
    },
    {
      "cell_type": "markdown",
      "metadata": {
        "slideshow": {
          "slide_type": "slide"
        },
        "pycharm": {}
      },
      "source": "## Time-frequency analysis\n\n- Apart from a simple frequency distribution, we often want to know when exactly a certain frequency component starts and ends in the signal \n\n- STFT (short-term Fourier transform) is the simplest method of time-frequency analysis\n\n- Let us define the following parameters:\n    - $S$ - distance between the starts of two consecutive frames (frame rate, frame step)\n    - $L$ - width of a single frame (frame length, window size)\n    \n- We can use that to estimate the following:\n    - overlap: $L-S$\n    - number of complete frames for the signal of length $N$: $\\lfloor (N-L)/S \\rfloor +1$"
    },
    {
      "cell_type": "markdown",
      "metadata": {
        "slideshow": {
          "slide_type": "subslide"
        },
        "pycharm": {}
      },
      "source": [
        "\u003cimg src\u003d\u0027images/frames.png\u0027 style\u003d\u0027width:500px\u0027\u003e"
      ]
    },
    {
      "cell_type": "markdown",
      "metadata": {
        "slideshow": {
          "slide_type": "subslide"
        },
        "pycharm": {}
      },
      "source": "- Remove DC-offset for each frame\n\n- Add zero-padding (usually to the nearest power of 2, but more is also possible)\n\n- Multiply each frame with a windowing function\n\n- Finding the right frame rate is key - it determines a compromise between good resolution in either time or frequency\n\n- Perfect resolution in both time and frequency is imposible due to Heisenberg uncertainty principle"
    }
  ],
  "metadata": {
    "celltoolbar": "Slideshow",
    "kernelspec": {
      "display_name": "Python 2",
      "language": "python",
      "name": "python2"
    },
    "language_info": {
      "codemirror_mode": {
        "name": "ipython",
        "version": 2
      },
      "file_extension": ".py",
      "mimetype": "text/x-python",
      "name": "python",
      "nbconvert_exporter": "python",
      "pygments_lexer": "ipython2",
      "version": "2.7.14"
    }
  },
  "nbformat": 4,
  "nbformat_minor": 2
}
