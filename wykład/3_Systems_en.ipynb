{
 "cells": [
  {
   "cell_type": "markdown",
   "metadata": {
    "pycharm": {},
    "slideshow": {
     "slide_type": "slide"
    }
   },
   "source": [
    "# LTI Systems"
   ]
  },
  {
   "cell_type": "markdown",
   "metadata": {
    "pycharm": {},
    "slideshow": {
     "slide_type": "subslide"
    }
   },
   "source": [
    "![](images/system.svg)\n",
    "\n",
    "- How do we anaylze a system?\n",
    "  - What it does? How it will behave for different input data?\n",
    "- How do we design a system?\n",
    "  - How can we achieve a specific funtion? Filtering? Control? "
   ]
  },
  {
   "cell_type": "markdown",
   "metadata": {
    "pycharm": {},
    "slideshow": {
     "slide_type": "slide"
    }
   },
   "source": [
    "## Types of systems\n",
    "\n",
    "- Continous vs. discrete\n",
    "- Linear vs. non-linear\n",
    "- Time invariant vs. time varying\n",
    "- Causal vs. non-causal\n",
    "- Stable vs. unstable\n"
   ]
  },
  {
   "cell_type": "markdown",
   "metadata": {
    "pycharm": {},
    "slideshow": {
     "slide_type": "slide"
    }
   },
   "source": [
    "## Linearity\n",
    "\n",
    "- Homogeneity - scaling of the input scales the output by the same amount\n",
    "\n",
    "\\begin{equation}\n",
    "H(k\\cdot f(t)) = k\\cdot H(f(t))\n",
    "\\end{equation}\n",
    "\n",
    "- Additivity - adding two signals before the system is equivalent to adding them after\n",
    "\n",
    "\\begin{equation}\n",
    "H(f_1(t)+f_2(t)) = H(f_1(t))+H(f_2(t))\n",
    "\\end{equation}\n",
    "\n",
    "- Optionally, they can be combined in a single formula (superposition)\n",
    "\n",
    "\\begin{equation}\n",
    "H(k_1\\cdot f_1(t)+k_2\\cdot f_2(t)) = k_1\\cdot H(f_1(t))+k_2\\cdot H(f_2(t))\n",
    "\\end{equation}\n",
    "\n",
    "![](images/linearity.png)"
   ]
  },
  {
   "cell_type": "markdown",
   "metadata": {
    "pycharm": {},
    "slideshow": {
     "slide_type": "subslide"
    }
   },
   "source": [
    "### Example\n",
    "\n",
    "- For the signal:\n",
    "\n",
    "\\begin{equation}\n",
    "H[f(x)]=f(2x)\n",
    "\\end{equation}\n",
    "\n",
    "- (I) Let ${r(x)=k_1\\cdot f_1(x)+k_2\\cdot f_2(x)}$:\n",
    "\n",
    "\\begin{equation}\n",
    "H[r(x)]=r(2x)=k_1\\cdot f_1(2x)+k_2\\cdot f_2(2x)\n",
    "\\end{equation}\n",
    "\n",
    "- (II) And:\n",
    "\n",
    "\\begin{equation}\n",
    "k_1\\cdot H[f_1(x)] + k_2\\cdot H[f_2(x)] = k_1\\cdot f_1(2x) + k_2\\cdot f_2(2x)\n",
    "\\end{equation}\n",
    "\n",
    "- Given (I) and (II) are equal the system is linear!\n"
   ]
  },
  {
   "cell_type": "markdown",
   "metadata": {
    "pycharm": {},
    "slideshow": {
     "slide_type": "subslide"
    }
   },
   "source": [
    "### Example 2\n",
    "\n",
    "- For the signal:\n",
    "\n",
    "\\begin{equation}\n",
    "H[f(x)]=(f(x))^2\n",
    "\\end{equation}\n",
    "\n",
    "- (I) Let $r(x)=k_1\\cdot f_1(x)+k_2\\cdot f_2(x)$:\n",
    "\n",
    "\\begin{equation}\n",
    "H[r(x)]=(r(x))^2=(k_1\\cdot f_1(x)+k_2\\cdot f_2(x))^2 = \\\\\n",
    "= (k_1)^2\\cdot (f_1(x))^2 + 2\\cdot k_1 \\cdot f_1(x)\\cdot k_2 \\cdot f_2(x) + (k_2)^2\\cdot (f_2(x))^2\n",
    "\\end{equation}\n",
    "\n",
    "- (II) And:\n",
    "\n",
    "\\begin{equation}\n",
    "k_1\\cdot H[f_1(x)] + k_2\\cdot H[f_2(x)] = k_1\\cdot (f_1(2x))^2 + k_2\\cdot (f_2(2x))^2\n",
    "\\end{equation}\n",
    "\n",
    "- Given  (I) and (II) are different this time the system is non-linear!\n"
   ]
  },
  {
   "cell_type": "markdown",
   "metadata": {
    "pycharm": {},
    "slideshow": {
     "slide_type": "slide"
    }
   },
   "source": [
    "# Time invariance\n",
    "\n",
    "- If we define $H(f(t))$ as a function $s(t)$, we need to check if:\n",
    "\n",
    "\\begin{equation}\n",
    "H(f(t+t_0)) = s(t+t_0)\n",
    "\\end{equation}\n",
    "\n",
    "- In other words, if we shift the input signal by $t_0$, the output has to shift by the same amount"
   ]
  },
  {
   "cell_type": "markdown",
   "metadata": {
    "pycharm": {},
    "slideshow": {
     "slide_type": "subslide"
    }
   },
   "source": [
    "### Example\n",
    "\n",
    "- For the signal:\n",
    "\n",
    "\\begin{equation}\n",
    "H[f(x)]=f(2x)\n",
    "\\end{equation}\n",
    "\n",
    "- (I) Let $s(x)=H[f(x)]=f(2x)$:\n",
    "\n",
    "\\begin{equation}\n",
    "s(x+x_0)=f(2(x+x_0))=f(2x+2x_0)\n",
    "\\end{equation}\n",
    "\n",
    "- (II) Let $r(x)=f(x+x_0)$:\n",
    "\n",
    "\\begin{equation}\n",
    "H[f(x+x0)]=H[r(x)]=r(2x)=f(2x+x_0)\n",
    "\\end{equation}\n",
    "\n",
    "Note: $r(2x)=f(2x+x_0)$ because $x_0$ is constant and the function only scales the paramter $x$!\n",
    "\n",
    "- Given (I) and (II) Are different the system is time varying!\n"
   ]
  },
  {
   "cell_type": "markdown",
   "metadata": {
    "pycharm": {},
    "slideshow": {
     "slide_type": "subslide"
    }
   },
   "source": [
    "### Example 2\n",
    "\n",
    "- For the signal:\n",
    "\n",
    "\\begin{equation}\n",
    "H[f(x)]=(f(x))^2\n",
    "\\end{equation}\n",
    "\n",
    "- (I) Let $s(x)=H[f(x)]=(f(x))^2$:\n",
    "\n",
    "\\begin{equation}\n",
    "s(x+x_0)=(f(x+x_0))^2\n",
    "\\end{equation}\n",
    "\n",
    "- (II) Let $r(x)=f(x+x_0)$:\n",
    "\n",
    "\\begin{equation}\n",
    "H[f(x+x_0)]=H[r(x)]=(r(x))^2=(f(x+x_0))^2\n",
    "\\end{equation}\n",
    "\n",
    "\n",
    "- Given (I) and (II) are the same the system is time invariant!\n"
   ]
  },
  {
   "cell_type": "markdown",
   "metadata": {
    "pycharm": {},
    "slideshow": {
     "slide_type": "slide"
    }
   },
   "source": [
    "## Causality\n",
    "\n",
    "- Causal system - the values on the output are dependent only on past values given at the input\n",
    "- Anti-causal system - dependent only on future values\n",
    "- Non-causal system - values on output are dependent on both past and future values given at the input"
   ]
  },
  {
   "cell_type": "markdown",
   "metadata": {
    "pycharm": {},
    "slideshow": {
     "slide_type": "subslide"
    }
   },
   "source": [
    "## Stability\n",
    "\n",
    "- BIBO - bounded input - bounded output\n",
    "\n",
    "- For a signal $|f(t)|<\\infty$ a stable system $H$ guarantees that $|H(f(t))|<\\infty$\n",
    "\n",
    "- The $L_1$ norm of the system $||H||_1 < \\infty$"
   ]
  },
  {
   "cell_type": "markdown",
   "metadata": {
    "pycharm": {},
    "slideshow": {
     "slide_type": "slide"
    }
   },
   "source": [
    "# Convolution\n",
    "\n",
    "\\begin{equation}\n",
    "(f * g)(t) = \\int_{-\\infty}^{\\infty} f(\\tau)g(t-\\tau) d\\tau\n",
    "\\end{equation}\n",
    "\n",
    "- Requires the computation of an integral over $\\tau$ for all the values of $t$\n",
    "- Steps:\n",
    "  1. reverese the function $g$ around the $y$ axis\n",
    "  2. perform the product $f\\cdot g$\n",
    "  3. measure the area under the function resulting from this product\n",
    "  4. repeat steps 1-3 for all the shifts $t$ of the function $g$"
   ]
  },
  {
   "cell_type": "markdown",
   "metadata": {
    "pycharm": {},
    "slideshow": {
     "slide_type": "subslide"
    }
   },
   "source": [
    "## Illustration of operation\n",
    "\n",
    "<img src=\"images/convolution.svg\" style=\"width: 350px\">"
   ]
  },
  {
   "cell_type": "markdown",
   "metadata": {
    "pycharm": {},
    "slideshow": {
     "slide_type": "slide"
    }
   },
   "source": [
    "## Square pulse recap\n",
    "\n",
    "\\begin{equation}\n",
    "x(t)=\\Pi(t)=\\left\\{\n",
    "\\begin{array}{l l}\n",
    " 0 & \\text{if $|t|>\\frac{1}{2}$} \\\\\n",
    " 1 & \\text{if $|t|<=\\frac{1}{2}$}\n",
    "\\end{array}\n",
    "\\right.\n",
    "\\end{equation}\n",
    "\n",
    "![](images/square_pulse.png)"
   ]
  },
  {
   "cell_type": "markdown",
   "metadata": {
    "pycharm": {},
    "slideshow": {
     "slide_type": "subslide"
    }
   },
   "source": [
    "## Example of convolution of two square pulses\n",
    "\n",
    "- For $f(t)=\\Pi(t)$ and $g(t)=\\Pi(t)$:\n",
    "\n",
    "\\begin{equation}\n",
    "(f*g)=\\Pi(t)*\\Pi(t)\n",
    "=\\int_{-\\infty}^{\\infty}f(t-\\tau)g(\\tau)d\\tau \n",
    "= \\int_{-\\infty}^{\\infty}\\Pi(t-\\tau)\\Pi(\\tau)d\\tau\n",
    "\\end{equation}\n",
    "\n",
    "- For $t<=-1$ and $t>=1$: $(f*g)=0$\n",
    "\n",
    "- For $-1<t<=0$:\n",
    "\n",
    "\\begin{equation}\n",
    "\\int_{-\\infty}^{\\infty}\\Pi(t-\\tau)\\Pi(\\tau)d\\tau = \\int_{-0.5}^{t+0.5} 1 d\\tau =1 \\rvert_{-0.5}^{t+0.5}=t+0.5-(-0.5)=t+1\n",
    "\\end{equation}\n",
    "\n",
    "- For $0<t<1$:\n",
    "\n",
    "\\begin{equation}\n",
    "\\int_{-\\infty}^{\\infty}\\Pi(t-\\tau)\\Pi(\\tau)d\\tau = \\int_{t-0.5}^{0.5} 1 d\\tau =1 \\rvert_{t-0.5}^{0.5}=0.5-(t-0.5)=1-t\n",
    "\\end{equation}"
   ]
  },
  {
   "cell_type": "markdown",
   "metadata": {
    "pycharm": {},
    "slideshow": {
     "slide_type": "subslide"
    }
   },
   "source": [
    "## Result\n",
    "\n",
    "\\begin{equation}\n",
    "\\Pi(t)*\\Pi(t)=\\Lambda(t)=\\left\\{\n",
    "\\begin{array}{l l}\n",
    " 0 & \\text{dla $|t|>1$} \\\\\n",
    " t+1 & \\text{dla $-1<t<=0$}\\\\\n",
    " 1-t & \\text{dla $0<t<1$}\n",
    "\\end{array}\n",
    "\\right.\n",
    "\\end{equation}\n",
    "\n",
    "![](images/triangle_pulse.png?1)"
   ]
  },
  {
   "cell_type": "markdown",
   "metadata": {
    "pycharm": {},
    "slideshow": {
     "slide_type": "slide"
    }
   },
   "source": [
    "## Examples\n",
    "\n",
    "![](images/conv_box.gif)\n",
    "\n",
    "![](images/conv_exp_decay.gif)\n",
    "\n",
    "- What happens if one of the function is the Dirac delta?"
   ]
  },
  {
   "cell_type": "markdown",
   "metadata": {
    "pycharm": {},
    "slideshow": {
     "slide_type": "slide"
    }
   },
   "source": [
    "## Properties\n",
    "\n",
    "- commutativity: $f*g=g*f$\n",
    "- associativity: $f*(g*h) = (f*g)*h$\n",
    "- distributivity: $f*(g+h)=(f*g)+(f*h)$\n",
    "- associativity with a scalar: $\\alpha(f*g)=\\alpha f*g$\n",
    "- derivative: $(f*g)'=f'*g=f*g'$\n",
    "- translation invariance: $\\tau_x(f*g)=\\tau_xf*g=f*\\tau_xg$\n"
   ]
  },
  {
   "cell_type": "markdown",
   "metadata": {
    "pycharm": {},
    "slideshow": {
     "slide_type": "slide"
    }
   },
   "source": [
    "## Discrete convolution\n",
    "\n",
    "\\begin{equation}\n",
    "(f*g)[n]=\\sum_{m=-\\infty}^{\\infty} f[m]g[n-m] = \\sum_{m=-\\infty}^{\\infty} f[n-m]g[m]\n",
    "\\end{equation}\n",
    "\n",
    "- If the length of the signal $f$ is $N$, and for the signal $g$ is $M$, the result of the convolution will have a length $N+M-1$\n",
    "- In discrete signals instead of a Dirac $\\delta(t)$ delta function we use the Kroneckera $\\delta[n]$ delta function:\n",
    "\n",
    "\\begin{equation}\n",
    "\\delta[n]=\\left\\{\n",
    "\\begin{array}{l l}\n",
    "1 & \\text{dla $n=0$} \\\\\n",
    "0 & \\text{dla $n\\neq0$}\n",
    "\\end{array}\n",
    "\\right. \n",
    "\\end{equation}\n",
    "\n",
    "- Impulse repsonse of a discrete system is computed using the convolution with the Kronecker delta "
   ]
  },
  {
   "cell_type": "markdown",
   "metadata": {
    "pycharm": {},
    "slideshow": {
     "slide_type": "subslide"
    }
   },
   "source": [
    "## Example of discrete convolution\n",
    "\n",
    "- For signals:\n",
    "\\begin{equation}\n",
    "f=\\{1,2,3\\}\\text{, and }g=\\{4,5\\} \\\\\n",
    "\\end{equation}\n",
    "\n",
    "- Compute the convolution:\n",
    "\\begin{equation}\n",
    "f*g= \\{\\ldots , 0 , (4\\cdot1) , (4\\cdot2 + 5\\cdot1) , (4\\cdot3+5\\cdot2) , (5\\cdot3) , 0 , \\ldots \\}=\\\\\n",
    "=\\{\\ldots,0,4,13,22,15,0,\\ldots\\}\n",
    "\\end{equation}\n",
    "\n",
    "- Skipping all the trivial zeros, the length of $f$ is  $3$, $g$ is $2$, so the result has a length of $4$"
   ]
  },
  {
   "cell_type": "markdown",
   "metadata": {
    "pycharm": {},
    "slideshow": {
     "slide_type": "slide"
    }
   },
   "source": [
    "## Finite Impulse Response (FIR)\n",
    "\n",
    "![](images/FIR.svg)\n",
    "\n",
    "- always stable!"
   ]
  },
  {
   "cell_type": "markdown",
   "metadata": {
    "pycharm": {},
    "slideshow": {
     "slide_type": "subslide"
    }
   },
   "source": [
    "## Infinite Impulse Response (IIR)\n",
    "\n",
    "![](images/IIR.svg)\n",
    "\n",
    "- more capable, but can be unstable"
   ]
  }
 ],
 "metadata": {
  "celltoolbar": "Slideshow",
  "kernelspec": {
   "display_name": "Python 3",
   "language": "python",
   "name": "python3"
  },
  "language_info": {
   "codemirror_mode": {
    "name": "ipython",
    "version": 3
   },
   "file_extension": ".py",
   "mimetype": "text/x-python",
   "name": "python",
   "nbconvert_exporter": "python",
   "pygments_lexer": "ipython3",
   "version": "3.7.6"
  }
 },
 "nbformat": 4,
 "nbformat_minor": 1
}
