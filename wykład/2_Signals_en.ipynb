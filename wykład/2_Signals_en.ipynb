{
  "cells": [
    {
      "cell_type": "markdown",
      "metadata": {
        "slideshow": {
          "slide_type": "slide"
        },
        "pycharm": {}
      },
      "source": "# Signals and their parameters"
    },
    {
      "cell_type": "markdown",
      "metadata": {
        "slideshow": {
          "slide_type": "subslide"
        },
        "pycharm": {}
      },
      "source": "# Continous\n\n![](images/analog.png?1)"
    },
    {
      "cell_type": "markdown",
      "metadata": {
        "slideshow": {
          "slide_type": "subslide"
        },
        "pycharm": {}
      },
      "source": "# Continous value, discrete time\n\n![](images/discrete_time.png?1)"
    },
    {
      "cell_type": "markdown",
      "metadata": {
        "slideshow": {
          "slide_type": "subslide"
        },
        "pycharm": {}
      },
      "source": "# Discrete value, continous time\n\n![](images/discrete_value.png?1)"
    },
    {
      "cell_type": "markdown",
      "metadata": {
        "slideshow": {
          "slide_type": "subslide"
        },
        "pycharm": {}
      },
      "source": "# Digital\n\n![](images/digital.png?1)"
    },
    {
      "cell_type": "markdown",
      "metadata": {
        "slideshow": {
          "slide_type": "subslide"
        },
        "pycharm": {}
      },
      "source": "# Periodic\n\n\n\\begin{equation}\n\\forall t \\in \\mathbb{R},\\, \\forall k \\in \\mathbb{Z},\\, \\exists T \\in \\mathbb{R} \\\\\ny(t)\u003dy(t+kT)\n\\end{equation}\n\n![](images/periodic.png?2)\n"
    },
    {
      "cell_type": "markdown",
      "metadata": {
        "slideshow": {
          "slide_type": "subslide"
        },
        "pycharm": {}
      },
      "source": "# Non periodic\n\n![](images/aperiodic.png?1)"
    },
    {
      "cell_type": "markdown",
      "metadata": {
        "slideshow": {
          "slide_type": "subslide"
        },
        "pycharm": {}
      },
      "source": "# Deterministic\n\n\n![](images/deterministic.png?1)"
    },
    {
      "cell_type": "markdown",
      "metadata": {
        "slideshow": {
          "slide_type": "subslide"
        },
        "pycharm": {}
      },
      "source": "# Random\n\n![](images/random.png?2)"
    },
    {
      "cell_type": "markdown",
      "metadata": {
        "slideshow": {
          "slide_type": "subslide"
        },
        "pycharm": {}
      },
      "source": "# Finite\n\n![](images/finite.png?2)"
    },
    {
      "cell_type": "markdown",
      "metadata": {
        "slideshow": {
          "slide_type": "subslide"
        },
        "pycharm": {}
      },
      "source": "# Infinite\n\n## Non cauasal\n\n![](images/infinite.png?3)"
    },
    {
      "cell_type": "markdown",
      "metadata": {
        "slideshow": {
          "slide_type": "subslide"
        },
        "pycharm": {}
      },
      "source": "# Causal\n\n![](images/causal.png?3)"
    },
    {
      "cell_type": "markdown",
      "metadata": {
        "slideshow": {
          "slide_type": "subslide"
        },
        "pycharm": {}
      },
      "source": "# Anti causal\n\n![](images/anticausal.png)"
    },
    {
      "cell_type": "markdown",
      "metadata": {
        "slideshow": {
          "slide_type": "subslide"
        },
        "pycharm": {}
      },
      "source": "# Symmetric even\n\n\\begin{equation}\nf(t)\u003df(-t)\n\\end{equation}\n\n![](images/even.png)"
    },
    {
      "cell_type": "markdown",
      "metadata": {
        "slideshow": {
          "slide_type": "subslide"
        },
        "pycharm": {}
      },
      "source": "# Symmetric odd\n\n\\begin{equation}\nf(t)\u003d-f(-t)\n\\end{equation}\n\n![](images/odd.png)"
    },
    {
      "cell_type": "markdown",
      "metadata": {
        "slideshow": {
          "slide_type": "subslide"
        },
        "pycharm": {}
      },
      "source": "# Decomposition\n\n\\begin{equation}\nf_e(t)\u003df(t)+f(-t) \\\\\nf_o(t)\u003df(t)-f(-t) \\\\\nf(t)\u003d\\frac{1}{2}(f(t)+f(-t))+\\frac{1}{2}(f(t)-f(-t))\n\\end{equation}\n\n![](images/evenplusodd.png)"
    },
    {
      "cell_type": "markdown",
      "metadata": {
        "collapsed": true,
        "slideshow": {
          "slide_type": "slide"
        },
        "pycharm": {}
      },
      "source": "# Definitions\n\n## Amplitude\n\n* measure of change in signal value: \n    * peak (*1*)\n    * peak-to-peak (*2*)\n    * RMS (*3*) $\\sqrt{\\frac{1}{T}\\int_{0}^{T} f(t)^2 dt}$\n    \n![](https://upload.wikimedia.org/wikipedia/commons/8/8a/Sine_voltage.svg)"
    },
    {
      "cell_type": "markdown",
      "metadata": {
        "slideshow": {
          "slide_type": "subslide"
        },
        "pycharm": {}
      },
      "source": "## Phase\n\n* shift of signal in parameter space (eg. time) \n* with periodic signals usually defined as an angle \n    * where $360^{\\circ} \u003d 2 \\pi \u003d T$\n\n## Frequency\n\n* the repetition count of a phenomenon (eg. period) per unit of time\n* Hz -- number of periods per second\n\n## Wave length\n\n* length of signal period within a certain medium\n* inverse of frequency: $\\lambda \u003d \\frac{v}{f}$\n* for sound: $f\u003d1000Hz \\rightarrow v \\approx 343 m/s \\rightarrow \\lambda \\approx 34 cm$\n\n## Sample\n\n* in discrete signals, the value of signal amplitude at a certain point in time\n* sampling frequency -- number of samples per 1 second of signal"
    },
    {
      "cell_type": "markdown",
      "metadata": {
        "slideshow": {
          "slide_type": "slide"
        },
        "pycharm": {}
      },
      "source": "#  Sine\n\\begin{equation}\nf(t)\u003dA*\\sin(2\\pi f_0 t+\\phi)\n\\end{equation}\n![](images/sine.png)\n\n* $A$ - amplitude\n* $f_0$ - frequency ($1/T$)\n* $\\phi$ - phase\n"
    },
    {
      "cell_type": "markdown",
      "metadata": {
        "slideshow": {
          "slide_type": "subslide"
        },
        "pycharm": {}
      },
      "source": "# Sine\n\\begin{equation}\nf(n)\u003dA*\\sin(2\\pi f_0 n / f_s +\\phi)\n\\end{equation}\n![](images/sine_disc.png)\n\n* $n$ - sample index ($\\in \\mathbb{N}$)\n* $f_s$ - sampling frequency\n"
    },
    {
      "cell_type": "markdown",
      "metadata": {
        "slideshow": {
          "slide_type": "slide"
        },
        "pycharm": {}
      },
      "source": "# Square pulse\n\n\\begin{equation}\nx(t)\u003d\\Pi(t)\u003d\\left\\{\n\\begin{array}{l l}\n 0 \u0026 \\text{dla $|t|\u003e\\frac{1}{2}$} \\\\\n \\frac{1}{2} \u0026 \\text{dla $|t|\u003d\\frac{1}{2}$} \\\\\n 1 \u0026 \\text{dla $|t|\u003c\\frac{1}{2}$}\n\\end{array}\n\\right.\n\\end{equation}\n\n![](images/square_pulse.png)"
    },
    {
      "cell_type": "markdown",
      "metadata": {
        "slideshow": {
          "slide_type": "subslide"
        },
        "pycharm": {}
      },
      "source": "# Triangle pulse\n\n\\begin{equation}\nx(t)\u003d\\Lambda(t)\u003d\\left\\{\n\\begin{array}{l l}\n 0 \u0026 \\text{dla $|t|\u003e1$} \\\\\n 1-|t| \u0026 \\text{dla $|t|\\leq 1$} \\\\\n\\end{array}\n\\right.\n\\end{equation}\n\n![](images/triangle_pulse.png?1)"
    },
    {
      "cell_type": "markdown",
      "metadata": {
        "slideshow": {
          "slide_type": "subslide"
        },
        "pycharm": {}
      },
      "source": "# Cosine pulse\n\n\\begin{equation}\nx(t)\u003dcos(\\omega_0 t) \\cdot \\Pi\\left(\\frac{t}{T/2}\\right) \\\\\n\\omega_0 \u003d 2\\pi f_0,\\,f_0 \u003d 1/T\n\\end{equation}\n\n![](images/cosine_pulse.png)"
    },
    {
      "cell_type": "markdown",
      "metadata": {
        "slideshow": {
          "slide_type": "slide"
        },
        "pycharm": {}
      },
      "source": "# Dirac delta\n\n\\begin{equation}\nf(t)\u003d\\delta(t)\u003d\\left\\{\n\\begin{array}{l l}\n0 \u0026 \\text{dla $t\u003c0$} \\\\\n\\infty \u0026 \\text{dla $t\u003d0$} \\\\\n0 \u0026 \\text{dla $t\u003e0$}\n\\end{array}\n\\right. \n\\end{equation}\n\n\n\u003cimg src\u003d\"https://upload.wikimedia.org/wikipedia/commons/4/48/Dirac_distribution_PDF.svg\" style\u003d\"width:500px\"\u003e"
    },
    {
      "cell_type": "markdown",
      "metadata": {
        "slideshow": {
          "slide_type": "subslide"
        },
        "pycharm": {}
      },
      "source": "# Dirac delta\n\\begin{equation}\n\\lim_{\\epsilon\\rightarrow0}\\int_{-\\epsilon}^{\\epsilon}\\delta(t)dt\u003d1\n\\end{equation}\n\n![](https://upload.wikimedia.org/wikipedia/commons/b/b4/Dirac_function_approximation.gif)"
    },
    {
      "cell_type": "markdown",
      "metadata": {
        "slideshow": {
          "slide_type": "subslide"
        },
        "pycharm": {}
      },
      "source": "# Kronecker delta\n\n\\begin{equation}\nf(n)\u003d\\left\\{\n\\begin{array}{l l}\n1 \u0026 \\text{dla $n\u003d0$} \\\\\n0 \u0026 \\text{dla $n\\neq0$}\n\\end{array}\n\\right. \n\\end{equation}\n\n![](images/kronecker.png)"
    },
    {
      "cell_type": "markdown",
      "metadata": {
        "slideshow": {
          "slide_type": "slide"
        },
        "pycharm": {}
      },
      "source": "# Exponential decay\n\n\\begin{equation}\nf(t)\u003d\\left\\{\n\\begin{array}{l l}\nAe^{-\\alpha t} \u0026 \\text{dla $t\\geq 0$} \\\\\n0 \u0026 \\text{dla $t\u003c0$}\n\\end{array}\n\\right. \\\\\n\\alpha \u003e0\n\\end{equation}\n\n![](images/exp_dec.png)"
    },
    {
      "cell_type": "markdown",
      "metadata": {
        "slideshow": {
          "slide_type": "subslide"
        },
        "pycharm": {}
      },
      "source": "# Sine exponential decay\n\n\\begin{equation}\nf(t)\u003d\\left\\{\n\\begin{array}{l l}\nAe^{-\\alpha t} \\sin(\\omega_0 t) \u0026 \\text{dla $t\\geq 0$} \\\\\n0 \u0026 \\text{dla $t\u003c0$}\n\\end{array}\n\\right. \n\\end{equation}\n\n![](images/exp_sin.png)"
    },
    {
      "cell_type": "markdown",
      "metadata": {
        "slideshow": {
          "slide_type": "subslide"
        },
        "pycharm": {}
      },
      "source": [
        "# Sinc\n",
        "\n",
        "\\begin{equation}\n",
        "f(t)\u003d\\left\\{\n",
        "\\begin{array}{l l}\n",
        "\\sin(\\omega_0 t)/(\\omega_0 t) \u0026 \\text{dla $t\\neq 0$} \\\\\n",
        "1 \u0026 \\text{dla $t\u003d0$}\n",
        "\\end{array}\n",
        "\\right. \n",
        "\\end{equation}\n",
        "\n",
        "![](images/sinc.png?1)"
      ]
    },
    {
      "cell_type": "markdown",
      "metadata": {
        "slideshow": {
          "slide_type": "slide"
        },
        "pycharm": {}
      },
      "source": "# Gaussian\n\n\\begin{equation}\nf(t)\u003de^{-\\pi t^2}\n\\end{equation}\n\n![](images/gaussian.png)"
    },
    {
      "cell_type": "markdown",
      "metadata": {
        "slideshow": {
          "slide_type": "slide"
        },
        "pycharm": {}
      },
      "source": "# Step\n\n\\begin{equation}\nf(t)\u003d\\left\\{\n\\begin{array}{l l}\n1 \u0026 \\text{dla $t\\geq 0$} \\\\\n0 \u0026 \\text{dla $t\u003c0$}\n\\end{array}\n\\right. \n\\end{equation}\n\n![](images/step.png)"
    },
    {
      "cell_type": "markdown",
      "metadata": {
        "slideshow": {
          "slide_type": "subslide"
        },
        "pycharm": {}
      },
      "source": "# Exponential increase\n\n\\begin{equation}\nf(t)\u003d\\left\\{\n\\begin{array}{l l}\n(1-e^{-\\alpha t}) \u0026 \\text{dla $t\\geq 0$} \\\\\n0 \u0026 \\text{dla $t\u003c0$}\n\\end{array}\n\\right. \\\\\n\\alpha\u003e0\n\\end{equation}\n\n![](images/exp_inc.png)"
    },
    {
      "cell_type": "markdown",
      "metadata": {
        "slideshow": {
          "slide_type": "slide"
        },
        "pycharm": {}
      },
      "source": "# Sign (signum)\n\n\\begin{equation}\nf(t)\u003d\\left\\{\n\\begin{array}{l l}\n1 \u0026 \\text{dla $t\u003e0$} \\\\\n0 \u0026 \\text{dla $t\u003d0$} \\\\\n-1 \u0026 \\text{dla $t\u003c0$}\n\\end{array}\n\\right. \n\\end{equation}\n\n![](images/sign.png)"
    },
    {
      "cell_type": "markdown",
      "metadata": {
        "slideshow": {
          "slide_type": "subslide"
        },
        "pycharm": {}
      },
      "source": "# Sinc integral\n\n![](images/sinc_int.png)"
    },
    {
      "cell_type": "markdown",
      "metadata": {
        "slideshow": {
          "slide_type": "slide"
        },
        "pycharm": {}
      },
      "source": "# Square wave (PWM)\n\n![](images/pwm.png)"
    },
    {
      "cell_type": "markdown",
      "metadata": {
        "slideshow": {
          "slide_type": "subslide"
        },
        "pycharm": {}
      },
      "source": "# Triangle wave\n\n![](images/pwm_tri.png)"
    },
    {
      "cell_type": "markdown",
      "metadata": {
        "slideshow": {
          "slide_type": "slide"
        },
        "pycharm": {}
      },
      "source": "# Parameters\n\n\\begin{equation}\n\\mu_n \u003d \\int_{-\\infty}^{\\infty} (x-c)^n f(x) dx\n\\end{equation}\n\n- moments\n    - mean\n    - variance\n    - skewness\n    - kurtosis\n    - (hiperskewness, hiperkurtosis)\n    "
    },
    {
      "cell_type": "markdown",
      "metadata": {
        "slideshow": {
          "slide_type": "subslide"
        },
        "pycharm": {}
      },
      "source": "## Skewness \n\n![](https://upload.wikimedia.org/wikipedia/commons/f/f8/Negative_and_positive_skew_diagrams_%28English%29.svg)\n\n## Kurtosis\n\n\u003cimg src\u003d\"https://upload.wikimedia.org/wikipedia/commons/e/e6/Standard_symmetric_pdfs.png\" style\u003d\"width:500px\"\u003e"
    },
    {
      "cell_type": "markdown",
      "metadata": {
        "slideshow": {
          "slide_type": "slide"
        },
        "pycharm": {}
      },
      "source": "# Parameters\n\n## Energy\n\n\\begin{equation}\nE \u003d \\int_{-\\infty}^{\\infty} f(t) ^2 dt\n\\end{equation}\n\n## Power\n\n\\begin{equation}\nP \u003d \\lim_{T\\rightarrow\\infty}\\frac{E}{T}\n\\end{equation}\n\n## Root Mean Square\n\n\\begin{equation}\nRMS(T) \u003d \\sqrt{P_T}\n\\end{equation}\n\n## Decibel (dB)\n\n- Webera-Fechner law\n\n\\begin{equation}\nP_{dB} \u003d 10 \\log_{10} \\frac{P}{P_0} \u003d 20 \\log_{10} \\frac{A}{A_0}\n\\end{equation}\n"
    },
    {
      "cell_type": "markdown",
      "metadata": {
        "slideshow": {
          "slide_type": "slide"
        },
        "pycharm": {}
      },
      "source": "# Operations\n\n- time shift ($\\phi$)\n- amplitude shift ($\\delta$)\n- amplitude scale ($A$)\n- time scale ($\\theta$)\n\n\\begin{equation}\ng(t)\u003dA\\cdot f(\\theta\\cdot t - \\phi)+\\delta\n\\end{equation}"
    },
    {
      "cell_type": "markdown",
      "metadata": {
        "slideshow": {
          "slide_type": "slide"
        },
        "pycharm": {}
      },
      "source": "# Modulation\n\n## Carrier signal - $y_c$\n\n![](images/carrier.png)"
    },
    {
      "cell_type": "markdown",
      "metadata": {
        "slideshow": {
          "slide_type": "subslide"
        },
        "pycharm": {}
      },
      "source": "# Modulation\n\n## Modulating signal - $y_m$\n\n![](images/analog.png)"
    },
    {
      "cell_type": "markdown",
      "metadata": {
        "slideshow": {
          "slide_type": "subslide"
        },
        "pycharm": {}
      },
      "source": "# Modulation\n\n## Amplitude modulation (AM)\n\n\\begin{equation}\ny(t) \u003d (1 + M \\cdot y_m ) \\cdot y_c \\\\\n\\end{equation}\n\n- Carrier: 504 - 1600 kHz\n- Bandwidth: 10 kHz\n\n![](images/am.png)"
    },
    {
      "cell_type": "markdown",
      "metadata": {
        "slideshow": {
          "slide_type": "subslide"
        },
        "pycharm": {}
      },
      "source": "# Modulation\n\n## Frequency modulation (FM)\n\n\\begin{equation}\ny(t) \u003d sin\\left(2 \\cdot \\pi \\cdot f_c \\cdot t + M \\cdot \\int_t y_m dt\\right)\n\\end{equation}\n\n- Carrier: 88-108 MHz\n- Bandwidth: 200 kHz\n\n![](images/fm.png?1)"
    },
    {
      "cell_type": "markdown",
      "metadata": {
        "slideshow": {
          "slide_type": "subslide"
        },
        "pycharm": {}
      },
      "source": "# Modulacja\n\n## Phase modulation (PM)\n\n\\begin{equation}\ny(t) \u003d sin(2 \\cdot \\pi \\cdot f_c \\cdot t + M \\cdot y_m )\n\\end{equation}\n\n![](images/pm.png)"
    }
  ],
  "metadata": {
    "celltoolbar": "Slideshow",
    "kernelspec": {
      "display_name": "Python 2",
      "language": "python",
      "name": "python2"
    },
    "language_info": {
      "codemirror_mode": {
        "name": "ipython",
        "version": 2
      },
      "file_extension": ".py",
      "mimetype": "text/x-python",
      "name": "python",
      "nbconvert_exporter": "python",
      "pygments_lexer": "ipython2",
      "version": "2.7.14"
    }
  },
  "nbformat": 4,
  "nbformat_minor": 1
}