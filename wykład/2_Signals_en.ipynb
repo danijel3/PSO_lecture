{
 "cells": [
  {
   "cell_type": "markdown",
   "metadata": {
    "pycharm": {},
    "slideshow": {
     "slide_type": "slide"
    }
   },
   "source": [
    "# Signals and their parameters"
   ]
  },
  {
   "cell_type": "markdown",
   "metadata": {
    "pycharm": {},
    "slideshow": {
     "slide_type": "subslide"
    }
   },
   "source": [
    "# Continous\n",
    "\n",
    "![](images/analog.png?1)"
   ]
  },
  {
   "cell_type": "markdown",
   "metadata": {
    "pycharm": {},
    "slideshow": {
     "slide_type": "subslide"
    }
   },
   "source": [
    "# Continous value, discrete time\n",
    "\n",
    "![](images/discrete_time.png?1)"
   ]
  },
  {
   "cell_type": "markdown",
   "metadata": {
    "pycharm": {},
    "slideshow": {
     "slide_type": "subslide"
    }
   },
   "source": [
    "# Discrete value, continous time\n",
    "\n",
    "![](images/discrete_value.png?1)"
   ]
  },
  {
   "cell_type": "markdown",
   "metadata": {
    "pycharm": {},
    "slideshow": {
     "slide_type": "subslide"
    }
   },
   "source": [
    "# Digital\n",
    "\n",
    "![](images/digital.png?1)"
   ]
  },
  {
   "cell_type": "markdown",
   "metadata": {
    "pycharm": {},
    "slideshow": {
     "slide_type": "subslide"
    }
   },
   "source": [
    "# Periodic\n",
    "\n",
    "\n",
    "\\begin{equation}\n",
    "\\forall t \\in \\mathbb{R},\\, \\forall k \\in \\mathbb{Z},\\, \\exists T \\in \\mathbb{R} \\\\\n",
    "y(t)=y(t+kT)\n",
    "\\end{equation}\n",
    "\n",
    "![](images/periodic.png?2)\n"
   ]
  },
  {
   "cell_type": "markdown",
   "metadata": {
    "pycharm": {},
    "slideshow": {
     "slide_type": "subslide"
    }
   },
   "source": [
    "# Non periodic\n",
    "\n",
    "![](images/aperiodic.png?1)"
   ]
  },
  {
   "cell_type": "markdown",
   "metadata": {
    "pycharm": {},
    "slideshow": {
     "slide_type": "subslide"
    }
   },
   "source": [
    "# Deterministic\n",
    "\n",
    "\n",
    "![](images/deterministic.png?1)"
   ]
  },
  {
   "cell_type": "markdown",
   "metadata": {
    "pycharm": {},
    "slideshow": {
     "slide_type": "subslide"
    }
   },
   "source": [
    "# Random\n",
    "\n",
    "![](images/random.png?2)"
   ]
  },
  {
   "cell_type": "markdown",
   "metadata": {
    "pycharm": {},
    "slideshow": {
     "slide_type": "subslide"
    }
   },
   "source": [
    "# Finite\n",
    "\n",
    "![](images/finite.png?2)"
   ]
  },
  {
   "cell_type": "markdown",
   "metadata": {
    "pycharm": {},
    "slideshow": {
     "slide_type": "subslide"
    }
   },
   "source": [
    "# Infinite\n",
    "\n",
    "## Non cauasal\n",
    "\n",
    "![](images/infinite.png?3)"
   ]
  },
  {
   "cell_type": "markdown",
   "metadata": {
    "pycharm": {},
    "slideshow": {
     "slide_type": "subslide"
    }
   },
   "source": [
    "# Causal\n",
    "\n",
    "![](images/causal.png?3)"
   ]
  },
  {
   "cell_type": "markdown",
   "metadata": {
    "pycharm": {},
    "slideshow": {
     "slide_type": "subslide"
    }
   },
   "source": [
    "# Anti causal\n",
    "\n",
    "![](images/anticausal.png)"
   ]
  },
  {
   "cell_type": "markdown",
   "metadata": {
    "pycharm": {},
    "slideshow": {
     "slide_type": "subslide"
    }
   },
   "source": [
    "# Symmetric even\n",
    "\n",
    "\\begin{equation}\n",
    "f(t)=f(-t)\n",
    "\\end{equation}\n",
    "\n",
    "![](images/even.png)"
   ]
  },
  {
   "cell_type": "markdown",
   "metadata": {
    "pycharm": {},
    "slideshow": {
     "slide_type": "subslide"
    }
   },
   "source": [
    "# Symmetric odd\n",
    "\n",
    "\\begin{equation}\n",
    "f(t)=-f(-t)\n",
    "\\end{equation}\n",
    "\n",
    "![](images/odd.png)"
   ]
  },
  {
   "cell_type": "markdown",
   "metadata": {
    "pycharm": {},
    "slideshow": {
     "slide_type": "subslide"
    }
   },
   "source": [
    "# Decomposition\n",
    "\n",
    "\\begin{equation}\n",
    "f_e(t)=f(t)+f(-t) \\\\\n",
    "f_o(t)=f(t)-f(-t) \\\\\n",
    "f(t)=\\frac{1}{2}(f(t)+f(-t))+\\frac{1}{2}(f(t)-f(-t))\n",
    "\\end{equation}\n",
    "\n",
    "![](images/evenplusodd.png)"
   ]
  },
  {
   "cell_type": "markdown",
   "metadata": {
    "collapsed": true,
    "pycharm": {},
    "slideshow": {
     "slide_type": "slide"
    }
   },
   "source": [
    "# Definitions\n",
    "\n",
    "## Amplitude\n",
    "\n",
    "* measure of change in signal value: \n",
    "    * peak (*1*)\n",
    "    * peak-to-peak (*2*)\n",
    "    * RMS (*3*) $\\sqrt{\\frac{1}{T}\\int_{0}^{T} f(t)^2 dt}$\n",
    "    \n",
    "![](https://upload.wikimedia.org/wikipedia/commons/8/8a/Sine_voltage.svg)"
   ]
  },
  {
   "cell_type": "markdown",
   "metadata": {
    "pycharm": {},
    "slideshow": {
     "slide_type": "subslide"
    }
   },
   "source": [
    "## Phase\n",
    "\n",
    "* shift of signal in parameter space (eg. time) \n",
    "* with periodic signals usually defined as an angle \n",
    "    * where $360^{\\circ} = 2 \\pi = T$\n",
    "\n",
    "## Frequency\n",
    "\n",
    "* the repetition count of a phenomenon (eg. period) per unit of time\n",
    "* Hz -- number of periods per second"
   ]
  },
  {
   "cell_type": "markdown",
   "metadata": {
    "slideshow": {
     "slide_type": "subslide"
    }
   },
   "source": [
    "## Wave length\n",
    "\n",
    "* length of signal period within a certain medium\n",
    "* inverse of frequency: $\\lambda = \\frac{v}{f}$\n",
    "* for sound: $f=1000Hz \\rightarrow v \\approx 343 m/s \\rightarrow \\lambda \\approx 34 cm$\n",
    "\n",
    "## Sample\n",
    "\n",
    "* in discrete signals, the value of signal amplitude at a certain point in time\n",
    "* sampling frequency -- number of samples per 1 second of signal"
   ]
  },
  {
   "cell_type": "markdown",
   "metadata": {
    "pycharm": {},
    "slideshow": {
     "slide_type": "slide"
    }
   },
   "source": [
    "#  Sine\n",
    "\\begin{equation}\n",
    "f(t)=A*\\sin(2\\pi f_0 t+\\phi)\n",
    "\\end{equation}\n",
    "![](images/sine.png)\n",
    "\n",
    "* $A$ - amplitude\n",
    "* $f_0$ - frequency ($1/T$)\n",
    "* $\\phi$ - phase\n"
   ]
  },
  {
   "cell_type": "markdown",
   "metadata": {
    "pycharm": {},
    "slideshow": {
     "slide_type": "subslide"
    }
   },
   "source": [
    "# Sine\n",
    "\\begin{equation}\n",
    "f(n)=A*\\sin(2\\pi f_0 n / f_s +\\phi)\n",
    "\\end{equation}\n",
    "![](images/sine_disc.png)\n",
    "\n",
    "* $n$ - sample index ($\\in \\mathbb{N}$)\n",
    "* $f_s$ - sampling frequency\n"
   ]
  },
  {
   "cell_type": "markdown",
   "metadata": {
    "pycharm": {},
    "slideshow": {
     "slide_type": "slide"
    }
   },
   "source": [
    "# Square pulse\n",
    "\n",
    "\\begin{equation}\n",
    "x(t)=\\Pi(t)=\\left\\{\n",
    "\\begin{array}{l l}\n",
    " 0 & \\text{if $|t|>\\frac{1}{2}$} \\\\\n",
    " \\frac{1}{2} & \\text{if $|t|=\\frac{1}{2}$} \\\\\n",
    " 1 & \\text{if $|t|<\\frac{1}{2}$}\n",
    "\\end{array}\n",
    "\\right.\n",
    "\\end{equation}\n",
    "\n",
    "![](images/square_pulse.png)"
   ]
  },
  {
   "cell_type": "markdown",
   "metadata": {
    "pycharm": {},
    "slideshow": {
     "slide_type": "subslide"
    }
   },
   "source": [
    "# Triangle pulse\n",
    "\n",
    "\\begin{equation}\n",
    "x(t)=\\Lambda(t)=\\left\\{\n",
    "\\begin{array}{l l}\n",
    " 0 & \\text{if $|t|>1$} \\\\\n",
    " 1-|t| & \\text{if $|t|\\leq 1$} \\\\\n",
    "\\end{array}\n",
    "\\right.\n",
    "\\end{equation}\n",
    "\n",
    "![](images/triangle_pulse.png?1)"
   ]
  },
  {
   "cell_type": "markdown",
   "metadata": {
    "pycharm": {},
    "slideshow": {
     "slide_type": "subslide"
    }
   },
   "source": [
    "# Cosine pulse\n",
    "\n",
    "\\begin{equation}\n",
    "x(t)=cos(\\omega_0 t) \\cdot \\Pi\\left(\\frac{t}{T/2}\\right) \\\\\n",
    "\\omega_0 = 2\\pi f_0,\\,f_0 = 1/T\n",
    "\\end{equation}\n",
    "\n",
    "![](images/cosine_pulse.png)"
   ]
  },
  {
   "cell_type": "markdown",
   "metadata": {
    "pycharm": {},
    "slideshow": {
     "slide_type": "slide"
    }
   },
   "source": [
    "# Dirac delta\n",
    "\n",
    "\\begin{equation}\n",
    "f(t)=\\delta(t)=\\left\\{\n",
    "\\begin{array}{l l}\n",
    "0 & \\text{if $t<0$} \\\\\n",
    "\\infty & \\text{if $t=0$} \\\\\n",
    "0 & \\text{if $t>0$}\n",
    "\\end{array}\n",
    "\\right. \n",
    "\\end{equation}\n",
    "\n",
    "\n",
    "<img src=\"https://upload.wikimedia.org/wikipedia/commons/4/48/Dirac_distribution_PDF.svg\" style=\"width:500px\">"
   ]
  },
  {
   "cell_type": "markdown",
   "metadata": {
    "pycharm": {},
    "slideshow": {
     "slide_type": "subslide"
    }
   },
   "source": [
    "# Dirac delta\n",
    "\\begin{equation}\n",
    "\\lim_{\\epsilon\\rightarrow0}\\int_{-\\epsilon}^{\\epsilon}\\delta(t)dt=1\n",
    "\\end{equation}\n",
    "\n",
    "![](https://upload.wikimedia.org/wikipedia/commons/b/b4/Dirac_function_approximation.gif)"
   ]
  },
  {
   "cell_type": "markdown",
   "metadata": {
    "pycharm": {},
    "slideshow": {
     "slide_type": "subslide"
    }
   },
   "source": [
    "# Kronecker delta\n",
    "\n",
    "\\begin{equation}\n",
    "f(n)=\\left\\{\n",
    "\\begin{array}{l l}\n",
    "1 & \\text{if $n=0$} \\\\\n",
    "0 & \\text{if $n\\neq0$}\n",
    "\\end{array}\n",
    "\\right. \n",
    "\\end{equation}\n",
    "\n",
    "![](images/kronecker.png)"
   ]
  },
  {
   "cell_type": "markdown",
   "metadata": {
    "pycharm": {},
    "slideshow": {
     "slide_type": "slide"
    }
   },
   "source": [
    "# Exponential decay\n",
    "\n",
    "\\begin{equation}\n",
    "f(t)=\\left\\{\n",
    "\\begin{array}{l l}\n",
    "Ae^{-\\alpha t} & \\text{if $t\\geq 0$} \\\\\n",
    "0 & \\text{if $t<0$}\n",
    "\\end{array}\n",
    "\\right. \\\\\n",
    "\\alpha >0\n",
    "\\end{equation}\n",
    "\n",
    "![](images/exp_dec.png)"
   ]
  },
  {
   "cell_type": "markdown",
   "metadata": {
    "pycharm": {},
    "slideshow": {
     "slide_type": "subslide"
    }
   },
   "source": [
    "# Sine exponential decay\n",
    "\n",
    "\\begin{equation}\n",
    "f(t)=\\left\\{\n",
    "\\begin{array}{l l}\n",
    "Ae^{-\\alpha t} \\sin(\\omega_0 t) & \\text{if $t\\geq 0$} \\\\\n",
    "0 & \\text{if $t<0$}\n",
    "\\end{array}\n",
    "\\right. \n",
    "\\end{equation}\n",
    "\n",
    "![](images/exp_sin.png)"
   ]
  },
  {
   "cell_type": "markdown",
   "metadata": {
    "pycharm": {},
    "slideshow": {
     "slide_type": "subslide"
    }
   },
   "source": [
    "# Sinc\n",
    "\n",
    "\\begin{equation}\n",
    "f(t)=\\left\\{\n",
    "\\begin{array}{l l}\n",
    "\\sin(\\omega_0 t)/(\\omega_0 t) & \\text{if $t\\neq 0$} \\\\\n",
    "1 & \\text{if $t=0$}\n",
    "\\end{array}\n",
    "\\right. \n",
    "\\end{equation}\n",
    "\n",
    "![](images/sinc.png?1)"
   ]
  },
  {
   "cell_type": "markdown",
   "metadata": {
    "pycharm": {},
    "slideshow": {
     "slide_type": "slide"
    }
   },
   "source": [
    "# Gaussian\n",
    "\n",
    "\\begin{equation}\n",
    "f(t)=e^{-\\pi t^2}\n",
    "\\end{equation}\n",
    "\n",
    "![](images/gaussian.png)"
   ]
  },
  {
   "cell_type": "markdown",
   "metadata": {
    "pycharm": {},
    "slideshow": {
     "slide_type": "slide"
    }
   },
   "source": [
    "# Step\n",
    "\n",
    "\\begin{equation}\n",
    "f(t)=\\left\\{\n",
    "\\begin{array}{l l}\n",
    "1 & \\text{if $t\\geq 0$} \\\\\n",
    "0 & \\text{if $t<0$}\n",
    "\\end{array}\n",
    "\\right. \n",
    "\\end{equation}\n",
    "\n",
    "![](images/step.png)"
   ]
  },
  {
   "cell_type": "markdown",
   "metadata": {
    "pycharm": {},
    "slideshow": {
     "slide_type": "subslide"
    }
   },
   "source": [
    "# Exponential increase\n",
    "\n",
    "\\begin{equation}\n",
    "f(t)=\\left\\{\n",
    "\\begin{array}{l l}\n",
    "(1-e^{-\\alpha t}) & \\text{if $t\\geq 0$} \\\\\n",
    "0 & \\text{if $t<0$}\n",
    "\\end{array}\n",
    "\\right. \\\\\n",
    "\\alpha>0\n",
    "\\end{equation}\n",
    "\n",
    "![](images/exp_inc.png)"
   ]
  },
  {
   "cell_type": "markdown",
   "metadata": {
    "pycharm": {},
    "slideshow": {
     "slide_type": "slide"
    }
   },
   "source": [
    "# Sign (signum)\n",
    "\n",
    "\\begin{equation}\n",
    "f(t)=\\left\\{\n",
    "\\begin{array}{l l}\n",
    "1 & \\text{if $t>0$} \\\\\n",
    "0 & \\text{if $t=0$} \\\\\n",
    "-1 & \\text{if $t<0$}\n",
    "\\end{array}\n",
    "\\right. \n",
    "\\end{equation}\n",
    "\n",
    "![](images/sign.png)"
   ]
  },
  {
   "cell_type": "markdown",
   "metadata": {
    "pycharm": {},
    "slideshow": {
     "slide_type": "subslide"
    }
   },
   "source": [
    "# Sinc integral\n",
    "\n",
    "![](images/sinc_int.png)"
   ]
  },
  {
   "cell_type": "markdown",
   "metadata": {
    "pycharm": {},
    "slideshow": {
     "slide_type": "slide"
    }
   },
   "source": [
    "# Square wave (PWM)\n",
    "\n",
    "![](images/pwm.png)"
   ]
  },
  {
   "cell_type": "markdown",
   "metadata": {
    "pycharm": {},
    "slideshow": {
     "slide_type": "subslide"
    }
   },
   "source": [
    "# Triangle wave\n",
    "\n",
    "![](images/pwm_tri.png)"
   ]
  },
  {
   "cell_type": "markdown",
   "metadata": {
    "pycharm": {},
    "slideshow": {
     "slide_type": "slide"
    }
   },
   "source": [
    "# Parameters\n",
    "\n",
    "\\begin{equation}\n",
    "\\mu_n = \\int_{-\\infty}^{\\infty} (x-c)^n f(x) dx\n",
    "\\end{equation}\n",
    "\n",
    "- moments\n",
    "    - mean\n",
    "    - variance\n",
    "    - skewness\n",
    "    - kurtosis\n",
    "    - (hiperskewness, hiperkurtosis)\n",
    "    "
   ]
  },
  {
   "cell_type": "markdown",
   "metadata": {
    "pycharm": {},
    "slideshow": {
     "slide_type": "subslide"
    }
   },
   "source": [
    "## Skewness \n",
    "\n",
    "![](https://upload.wikimedia.org/wikipedia/commons/f/f8/Negative_and_positive_skew_diagrams_%28English%29.svg)\n",
    "\n",
    "## Kurtosis\n",
    "\n",
    "<img src=\"https://upload.wikimedia.org/wikipedia/commons/e/e6/Standard_symmetric_pdfs.png\" style=\"width:500px\">"
   ]
  },
  {
   "cell_type": "markdown",
   "metadata": {
    "pycharm": {},
    "slideshow": {
     "slide_type": "slide"
    }
   },
   "source": [
    "# Parameters\n",
    "\n",
    "## Energy\n",
    "\n",
    "\\begin{equation}\n",
    "E = \\int_{-\\infty}^{\\infty} f(t) ^2 dt\n",
    "\\end{equation}\n",
    "\n",
    "## Power\n",
    "\n",
    "\\begin{equation}\n",
    "P = \\lim_{T\\rightarrow\\infty}\\frac{E}{T}\n",
    "\\end{equation}"
   ]
  },
  {
   "cell_type": "markdown",
   "metadata": {
    "slideshow": {
     "slide_type": "subslide"
    }
   },
   "source": [
    "# Parameters\n",
    "\n",
    "## Root Mean Square\n",
    "\n",
    "\\begin{equation}\n",
    "RMS(T) = \\sqrt{P_T}\n",
    "\\end{equation}\n",
    "\n",
    "## Decibel (dB)\n",
    "\n",
    "- Weber-Fechner law\n",
    "\n",
    "\\begin{equation}\n",
    "P_{dB} = 10 \\log_{10} \\frac{P}{P_0} = 20 \\log_{10} \\frac{A}{A_0}\n",
    "\\end{equation}"
   ]
  },
  {
   "cell_type": "markdown",
   "metadata": {
    "pycharm": {},
    "slideshow": {
     "slide_type": "slide"
    }
   },
   "source": [
    "# Operations\n",
    "\n",
    "- time shift ($\\phi$)\n",
    "- amplitude shift ($\\delta$)\n",
    "- amplitude scale ($A$)\n",
    "- time scale ($\\theta$)\n",
    "\n",
    "\\begin{equation}\n",
    "g(t)=A\\cdot f(\\theta\\cdot t - \\phi)+\\delta\n",
    "\\end{equation}"
   ]
  },
  {
   "cell_type": "markdown",
   "metadata": {
    "pycharm": {},
    "slideshow": {
     "slide_type": "slide"
    }
   },
   "source": [
    "# Modulation\n",
    "\n",
    "## Carrier signal - $y_c$\n",
    "\n",
    "![](images/carrier.png)"
   ]
  },
  {
   "cell_type": "markdown",
   "metadata": {
    "pycharm": {},
    "slideshow": {
     "slide_type": "subslide"
    }
   },
   "source": [
    "# Modulation\n",
    "\n",
    "## Modulating signal - $y_m$\n",
    "\n",
    "![](images/analog.png)"
   ]
  },
  {
   "cell_type": "markdown",
   "metadata": {
    "pycharm": {},
    "slideshow": {
     "slide_type": "subslide"
    }
   },
   "source": [
    "# Modulation\n",
    "\n",
    "## Amplitude modulation (AM)\n",
    "\n",
    "\\begin{equation}\n",
    "y(t) = (1 + M \\cdot y_m ) \\cdot y_c \\\\\n",
    "\\end{equation}\n",
    "\n",
    "- Carrier: 504 - 1600 kHz\n",
    "- Bandwidth: 10 kHz\n",
    "\n",
    "![](images/am.png)"
   ]
  },
  {
   "cell_type": "markdown",
   "metadata": {
    "pycharm": {},
    "slideshow": {
     "slide_type": "subslide"
    }
   },
   "source": [
    "# Modulation\n",
    "\n",
    "## Frequency modulation (FM)\n",
    "\n",
    "\\begin{equation}\n",
    "y(t) = sin\\left(2 \\cdot \\pi \\cdot f_c \\cdot t + M \\cdot \\int_t y_m dt\\right)\n",
    "\\end{equation}\n",
    "\n",
    "- Carrier: 88-108 MHz\n",
    "- Bandwidth: 200 kHz\n",
    "\n",
    "![](images/fm.png?1)"
   ]
  },
  {
   "cell_type": "markdown",
   "metadata": {
    "pycharm": {},
    "slideshow": {
     "slide_type": "subslide"
    }
   },
   "source": [
    "# Modulation\n",
    "\n",
    "## Phase modulation (PM)\n",
    "\n",
    "\\begin{equation}\n",
    "y(t) = sin(2 \\cdot \\pi \\cdot f_c \\cdot t + M \\cdot y_m )\n",
    "\\end{equation}\n",
    "\n",
    "![](images/pm.png)"
   ]
  }
 ],
 "metadata": {
  "celltoolbar": "Slideshow",
  "kernelspec": {
   "display_name": "Python 3",
   "language": "python",
   "name": "python3"
  },
  "language_info": {
   "codemirror_mode": {
    "name": "ipython",
    "version": 3
   },
   "file_extension": ".py",
   "mimetype": "text/x-python",
   "name": "python",
   "nbconvert_exporter": "python",
   "pygments_lexer": "ipython3",
   "version": "3.7.6"
  },
  "pycharm": {
   "stem_cell": {
    "cell_type": "raw",
    "metadata": {
     "collapsed": false
    },
    "source": []
   }
  }
 },
 "nbformat": 4,
 "nbformat_minor": 1
}
