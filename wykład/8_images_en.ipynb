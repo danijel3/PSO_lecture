{
  "cells": [
    {
      "cell_type": "markdown",
      "metadata": {
        "slideshow": {
          "slide_type": "slide"
        },
        "pycharm": {}
      },
      "source": "# Digital images\n## Introduction"
    },
    {
      "cell_type": "markdown",
      "metadata": {
        "collapsed": true,
        "slideshow": {
          "slide_type": "slide"
        },
        "pycharm": {}
      },
      "source": "## Light\n\n- part of electromagnetic radiation\n- visible (by humans) for wavelengths between ~400-700 nm\n- speed in vacuum 299 792 458 m/s\n- frequency between $4 \\text{ and } 8 \\cdot 10^{14} Hz$ ( $400 - 800 THz$ )\n- \"wave-particle duality\"\n    -dispersion, difraction"
    },
    {
      "cell_type": "markdown",
      "metadata": {
        "collapsed": true,
        "slideshow": {
          "slide_type": "subslide"
        },
        "pycharm": {}
      },
      "source": "### Electromagnetic spectrum\n\n![](images/EM_spectrum.svg)"
    },
    {
      "cell_type": "markdown",
      "metadata": {
        "slideshow": {
          "slide_type": "subslide"
        },
        "pycharm": {}
      },
      "source": "## Measures \n\n- lumen (SI unit)\n\n\\begin{equation}\n1 \\text{ lm} \u003d 1 \\text{ cd} \\cdot \\text{ sr}\n\\end{equation}\n\n- candela (cd) - ~brightness of 1 candle ($\\frac{1}{683}$ watts per sr of light with hue of 540 THz)\n- steradian (sr) - similar to radian but in 3D\n- lux - lumen per square meter\n"
    },
    {
      "cell_type": "markdown",
      "metadata": {
        "slideshow": {
          "slide_type": "subslide"
        },
        "pycharm": {}
      },
      "source": [
        "\u003cimg src\u003d\"images/lumen.jpg\" style\u003d\"width: 400px\"\u003e"
      ]
    },
    {
      "cell_type": "markdown",
      "metadata": {
        "slideshow": {
          "slide_type": "subslide"
        },
        "pycharm": {}
      },
      "source": [
        "\u003cimg src\u003d\"images/lux.jpg\" style\u003d\"width: 400px\"\u003e"
      ]
    },
    {
      "cell_type": "markdown",
      "metadata": {
        "slideshow": {
          "slide_type": "subslide"
        },
        "pycharm": {}
      },
      "source": "## Light hue\n\n\u003cimg src\u003d\"images/color_temp.png\" style\u003d\"width: 400px\"\u003e"
    },
    {
      "cell_type": "markdown",
      "metadata": {
        "slideshow": {
          "slide_type": "subslide"
        },
        "pycharm": {}
      },
      "source": [
        "\u003cimg src\u003d\"images/colour-temperature-chart.png\" style\u003d\"height: 500px\"\u003e"
      ]
    },
    {
      "cell_type": "markdown",
      "metadata": {
        "slideshow": {
          "slide_type": "slide"
        },
        "pycharm": {}
      },
      "source": "## Eye\n\n![](images/eye.png)"
    },
    {
      "cell_type": "markdown",
      "source": "## Cones and rods\n\n![](images/cones_spec.png)",
      "metadata": {
        "pycharm": {
          "metadata": false
        }
      }
    },
    {
      "cell_type": "markdown",
      "metadata": {
        "slideshow": {
          "slide_type": "subslide"
        },
        "pycharm": {}
      },
      "source": "![](images/cones_rods.jpg)"
    },
    {
      "cell_type": "markdown",
      "metadata": {
        "slideshow": {
          "slide_type": "slide"
        },
        "pycharm": {}
      },
      "source": "## Analog image\n\n- Photographic film\n    - light sensitive silver salt crystals\n- Nipkow disk\n- Analog television\n- Screen technology\n    - CRT\n    - LCD\n    - Plasma\n    - LED\n    - many others...\n- Printing\n    - Dot matrix\n    - Thermal\n    - Ink jest\n    - Laser"
    },
    {
      "cell_type": "markdown",
      "metadata": {
        "slideshow": {
          "slide_type": "subslide"
        },
        "pycharm": {}
      },
      "source": "### Television using Nipkow disks\n\n![](images/nipkow.jpg)"
    },
    {
      "cell_type": "markdown",
      "metadata": {
        "slideshow": {
          "slide_type": "subslide"
        },
        "pycharm": {}
      },
      "source": [
        "\u003cimg src\u003d\"images/tv_transmission.png\" style\u003d\"height: 500px\"\u003e"
      ]
    },
    {
      "cell_type": "markdown",
      "metadata": {
        "slideshow": {
          "slide_type": "subslide"
        },
        "pycharm": {}
      },
      "source": "### Cathode Ray Tube\n\n![](images/crt.png)"
    },
    {
      "cell_type": "markdown",
      "metadata": {
        "slideshow": {
          "slide_type": "subslide"
        },
        "pycharm": {}
      },
      "source": [
        "\u003cimg src\u003d\"images/color_pixel.jpg\" style\u003d\"height: 500px\"\u003e"
      ]
    },
    {
      "cell_type": "markdown",
      "metadata": {
        "slideshow": {
          "slide_type": "slide"
        },
        "pycharm": {}
      },
      "source": "## Digital image\n\n- pixel - *picture element*\n- resolution\n    - measured by DPI/PPI (print), megapixels (screen)\n    - subpixel rendering\n    - 4:3, 3:2, 16:9\n- bit-depth\n- color channels"
    },
    {
      "cell_type": "markdown",
      "metadata": {
        "slideshow": {
          "slide_type": "subslide"
        },
        "pycharm": {}
      },
      "source": "## Color spaces\n\n- RGB\n- CMYK\n- HSV/HSL\n- XYZ\n- YUV\n- ..."
    },
    {
      "cell_type": "markdown",
      "metadata": {
        "slideshow": {
          "slide_type": "subslide"
        },
        "pycharm": {}
      },
      "source": [
        "### RGB/CMYK\n",
        "\n",
        "![](images/RGBCube.png)"
      ]
    },
    {
      "cell_type": "markdown",
      "metadata": {
        "slideshow": {
          "slide_type": "subslide"
        },
        "pycharm": {}
      },
      "source": [
        "### HSV/HSL\n",
        "\n",
        "- http://tinyurl.com/pjatk-grk (Barwy i histogram)\n",
        "\n",
        "\u003cimg src\u003d\"images/hsv_hsl.png\" style\u003d\"height: 500px\"\u003e"
      ]
    },
    {
      "cell_type": "markdown",
      "metadata": {
        "slideshow": {
          "slide_type": "subslide"
        },
        "pycharm": {}
      },
      "source": [
        "### CIE XYZ\n",
        "\n",
        "\u003cimg src\u003d\"images/xyz.png\" style\u003d\"height: 500px\"\u003e"
      ]
    },
    {
      "cell_type": "markdown",
      "metadata": {
        "slideshow": {
          "slide_type": "subslide"
        },
        "pycharm": {}
      },
      "source": [
        "### YUV\n",
        "\n",
        "\u003cimg src\u003d\"images/YUV.svg\" style\u003d\"height: 500px;float:left\"\u003e\n",
        "\u003cimg src\u003d\"images/Barn-yuv.png\" style\u003d\"height: 500px;clear:none\"\u003e"
      ]
    },
    {
      "cell_type": "markdown",
      "metadata": {
        "slideshow": {
          "slide_type": "slide"
        },
        "pycharm": {}
      },
      "source": "## Image arithmetic\n\n- Addition\n    - eg. image brightness, combining masks\n- Subtraction\n    - eg. looking for differences\n- Multiplication\n    - eg. applying masks\n- Division\n    - eg. removing reflectance using lightfield image\n- Blending\n    - eg. averaging\n- Binary\n    - AND, OR, NOT, XOR"
    },
    {
      "cell_type": "markdown",
      "metadata": {
        "slideshow": {
          "slide_type": "subslide"
        },
        "pycharm": {}
      },
      "source": [
        "## Histogram\n",
        "\n",
        "\u003cimg src\u003d\"images/histograms.png\" style\u003d\"height: 500px\"\u003e"
      ]
    },
    {
      "cell_type": "markdown",
      "metadata": {
        "slideshow": {
          "slide_type": "subslide"
        },
        "pycharm": {}
      },
      "source": "## Image moments\n\n- Image moment wrt point $c$ - usually $(0,0)$:\n\n\\begin{equation}\n\\mu_{m,n} \u003d \\sum_{x\u003d0}^{W}\\sum_{y\u003d0}^{H} (x-c_x)^m (y-c_y)^n f(x,y)\n\\end{equation}\n\n- Area of binary image: \n\n\\begin{equation}\n\\mu_{0,0}\n\\end{equation}\n\n- Centroid of a binary image:\n\n\\begin{equation}\n\\left(\\frac{\\mu_{1,0}}{\\mu_{0,0}},\\frac{\\mu_{0,1}}{\\mu_{0,0}}\\right)\n\\end{equation}"
    },
    {
      "cell_type": "markdown",
      "metadata": {
        "slideshow": {
          "slide_type": "subslide"
        },
        "pycharm": {}
      },
      "source": "## Links\n\n- https://homepages.inf.ed.ac.uk/rbf/HIPR2/index.htm\n- http://scikit-image.org/docs/dev/auto_examples/index.html\n- https://docs.opencv.org/master/d9/df8/tutorial_root.html\n- http://aishack.in/"
    }
  ],
  "metadata": {
    "celltoolbar": "Slideshow",
    "kernelspec": {
      "display_name": "Python 3",
      "language": "python",
      "name": "python3"
    },
    "language_info": {
      "codemirror_mode": {
        "name": "ipython",
        "version": 3
      },
      "file_extension": ".py",
      "mimetype": "text/x-python",
      "name": "python",
      "nbconvert_exporter": "python",
      "pygments_lexer": "ipython3",
      "version": "3.6.2"
    }
  },
  "nbformat": 4,
  "nbformat_minor": 2
}