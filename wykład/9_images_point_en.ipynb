{
  "cells": [
    {
      "cell_type": "markdown",
      "metadata": {
        "slideshow": {
          "slide_type": "slide"
        },
        "pycharm": {}
      },
      "source": "# Image processing\n## Point operations"
    },
    {
      "cell_type": "markdown",
      "metadata": {
        "slideshow": {
          "slide_type": "slide"
        },
        "pycharm": {}
      },
      "source": "## Image coding\n\n- resolution $\\equiv$ sampling frequency\n![](images/imscale.png)"
    },
    {
      "cell_type": "markdown",
      "metadata": {
        "slideshow": {
          "slide_type": "subslide"
        },
        "pycharm": {}
      },
      "source": "- bit depth\n![](images/imdepth.png)"
    },
    {
      "cell_type": "markdown",
      "metadata": {
        "slideshow": {
          "slide_type": "subslide"
        },
        "pycharm": {}
      },
      "source": "## Dithering\n\n- i.e. error diffusion\n\n- Floyd–Steinberg method, 16 levels\n\n\\begin{equation}\n\\begin{bmatrix}\n\\ldots \u0026 \u0026 * \u0026 7 \u0026 \\ldots \\\\\n\\ldots \u0026 3 \u0026 5 \u0026 1 \u0026 \\ldots \\\\\n\\end{bmatrix} /16\n\\end{equation}\n\n![](images/imdither.png)\n\n"
    },
    {
      "cell_type": "markdown",
      "metadata": {
        "slideshow": {
          "slide_type": "subslide"
        },
        "pycharm": {}
      },
      "source": "- Stucki method, 8 levels\n\n![](images/imdither2.png)"
    },
    {
      "cell_type": "markdown",
      "metadata": {
        "slideshow": {
          "slide_type": "slide"
        },
        "pycharm": {}
      },
      "source": "## Point operations\n\n- change of pixel (point) value independent from all other variables (other pixel values, location, etc.)\n\n\\begin{equation}\nf(p) \\hspace{1cm} \\forall p \u003d i[x,y]\n\\end{equation}\n\n- \"curves\" tool in Photoshop\n\n![](images/ps_curves.jpg)"
    },
    {
      "cell_type": "markdown",
      "metadata": {
        "slideshow": {
          "slide_type": "subslide"
        },
        "pycharm": {}
      },
      "source": "### Linear conversion\n\n\\begin{equation}\nf(x)\u003dx\n\\end{equation}\n\n![](images/im_point1.png)"
    },
    {
      "cell_type": "markdown",
      "metadata": {
        "slideshow": {
          "slide_type": "subslide"
        },
        "pycharm": {}
      },
      "source": "### Linear conversion\n\n\\begin{equation}\nf(x)\u003dx \\pm 100\n\\end{equation}\n\n![](images/im_point2.png)\n![](images/im_point3.png)"
    },
    {
      "cell_type": "markdown",
      "metadata": {
        "slideshow": {
          "slide_type": "subslide"
        },
        "pycharm": {}
      },
      "source": "### Linear conversion\n\n\\begin{equation}\nf(x)\u003dx\\cdot2\\\\\nf(x)\u003d\\frac{x}{2}\n\\end{equation}\n\n\n![](images/im_point4.png)\n![](images/im_point5.png)"
    },
    {
      "cell_type": "markdown",
      "metadata": {
        "slideshow": {
          "slide_type": "subslide"
        },
        "pycharm": {}
      },
      "source": "### Linear conversion\n\n\\begin{equation}\nf(x)\u003dA\\cdot x+B\n\\end{equation}\n\n\n![](images/im_point6.png)\n![](images/im_point7.png)"
    },
    {
      "cell_type": "markdown",
      "metadata": {
        "slideshow": {
          "slide_type": "subslide"
        },
        "pycharm": {}
      },
      "source": "### Nonlinear conversion - gamma\n\n\\begin{equation}\nf(x)\u003dx^{\\alpha}\n\\end{equation}\n\n\n![](images/im_point8.png)\n![](images/im_point9.png)"
    },
    {
      "cell_type": "markdown",
      "metadata": {
        "slideshow": {
          "slide_type": "subslide"
        },
        "pycharm": {}
      },
      "source": "### Nonlinear conversion - sigmoidal contrast\n\n\\begin{equation}\nf(x)\u003d\\frac{L}{1+e^{-k(x-x_0)}}\n\\end{equation}\n\n\n![](images/im_point10.png)"
    },
    {
      "cell_type": "markdown",
      "metadata": {
        "slideshow": {
          "slide_type": "subslide"
        },
        "pycharm": {}
      },
      "source": "### Nonlinear conversion - histogram equalization\n\n![](images/im_point13.png)"
    },
    {
      "cell_type": "markdown",
      "metadata": {
        "slideshow": {
          "slide_type": "subslide"
        },
        "pycharm": {}
      },
      "source": "### Quantization\n\n\n![](images/im_point11.png)"
    },
    {
      "cell_type": "markdown",
      "metadata": {
        "slideshow": {
          "slide_type": "subslide"
        },
        "pycharm": {}
      },
      "source": "### Thresholding\n\n\n![](images/im_point12.png)"
    },
    {
      "cell_type": "markdown",
      "metadata": {
        "slideshow": {
          "slide_type": "subslide"
        },
        "pycharm": {}
      },
      "source": "### \"Otsu\" thresholding\n\n\n![](images/im_otsu.png)"
    },
    {
      "cell_type": "markdown",
      "metadata": {
        "slideshow": {
          "slide_type": "subslide"
        },
        "pycharm": {}
      },
      "source": "### Adaptive thresholding\n\n\n![](images/im_adaptive.png)"
    }
  ],
  "metadata": {
    "celltoolbar": "Slideshow",
    "kernelspec": {
      "display_name": "Python 3",
      "language": "python",
      "name": "python3"
    },
    "language_info": {
      "codemirror_mode": {
        "name": "ipython",
        "version": 3
      },
      "file_extension": ".py",
      "mimetype": "text/x-python",
      "name": "python",
      "nbconvert_exporter": "python",
      "pygments_lexer": "ipython3",
      "version": "3.6.2"
    }
  },
  "nbformat": 4,
  "nbformat_minor": 2
}