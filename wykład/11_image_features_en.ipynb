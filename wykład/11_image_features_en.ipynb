{
  "cells": [
    {
      "cell_type": "markdown",
      "metadata": {
        "slideshow": {
          "slide_type": "slide"
        },
        "pycharm": {}
      },
      "source": "# Image processing\n## Feature extraction"
    },
    {
      "cell_type": "markdown",
      "metadata": {
        "slideshow": {
          "slide_type": "slide"
        },
        "pycharm": {}
      },
      "source": "## JPEG\n\n1. Convert RGB $\\rightarrow$ YCrCb and sub-sampling (4:4:4, 4:2:2 or 4:2:0)\n2. Divide into 8x8 blocks\n3. DCT of each block\n4. Quantization\n5. Lossless compression (RLE, Huffman)"
    },
    {
      "cell_type": "markdown",
      "metadata": {
        "slideshow": {
          "slide_type": "subslide"
        },
        "pycharm": {}
      },
      "source": "#### Quantization matrix for q\u003d50\n\n![](images/jpg_quant.svg)"
    },
    {
      "cell_type": "markdown",
      "metadata": {
        "slideshow": {
          "slide_type": "subslide"
        },
        "pycharm": {}
      },
      "source": "#### Example result of quantization of DCT of an image\n\n![](images/jpg_quant2.svg)"
    },
    {
      "cell_type": "markdown",
      "metadata": {
        "slideshow": {
          "slide_type": "subslide"
        },
        "pycharm": {}
      },
      "source": "#### \"Zig-zag\" scheme used to order value befor losless compression\n\n\u003cimg src\u003d\"images/JPEG_ZigZag.svg\" style\u003d\"width:300px\"\u003e"
    },
    {
      "cell_type": "markdown",
      "metadata": {
        "slideshow": {
          "slide_type": "slide"
        },
        "pycharm": {}
      },
      "source": "## Convolution filters\n\n####  Salt and pepper\n\n![](images/pepper_salt.png)"
    },
    {
      "cell_type": "markdown",
      "metadata": {
        "slideshow": {
          "slide_type": "subslide"
        },
        "pycharm": {}
      },
      "source": "#### Mean filter\n\n![](images/pepper_mean.png)"
    },
    {
      "cell_type": "markdown",
      "metadata": {
        "slideshow": {
          "slide_type": "subslide"
        },
        "pycharm": {}
      },
      "source": "#### Gaussian filter\n\n![](images/pepper_gauss.png)"
    },
    {
      "cell_type": "markdown",
      "metadata": {
        "slideshow": {
          "slide_type": "subslide"
        },
        "pycharm": {}
      },
      "source": "### Median filter\n\n![](images/pepper_median.png)"
    },
    {
      "cell_type": "markdown",
      "metadata": {
        "slideshow": {
          "slide_type": "slide"
        },
        "pycharm": {}
      },
      "source": "## Morphological operations\n\n#### Dilation\n\n![](images/dilation.png)"
    },
    {
      "cell_type": "markdown",
      "metadata": {
        "slideshow": {
          "slide_type": "subslide"
        },
        "pycharm": {}
      },
      "source": "#### Erosion\n\n![](images/erosion.png)"
    },
    {
      "cell_type": "markdown",
      "metadata": {
        "slideshow": {
          "slide_type": "subslide"
        },
        "pycharm": {}
      },
      "source": "#### Dilation of \"salt\" image\n\n![](images/astronaut_dilate.png)"
    },
    {
      "cell_type": "markdown",
      "metadata": {
        "slideshow": {
          "slide_type": "subslide"
        },
        "pycharm": {}
      },
      "source": "#### Erosion of \"salt\" image\n\n![](images/astronaut_erode.png)"
    },
    {
      "cell_type": "markdown",
      "metadata": {
        "slideshow": {
          "slide_type": "subslide"
        },
        "pycharm": {}
      },
      "source": "#### Opening\n\n![](images/astronaut_open.png)"
    },
    {
      "cell_type": "markdown",
      "metadata": {
        "slideshow": {
          "slide_type": "subslide"
        },
        "pycharm": {}
      },
      "source": "#### Closing\n\n![](images/astronaut_close.png)"
    },
    {
      "cell_type": "markdown",
      "metadata": {
        "slideshow": {
          "slide_type": "slide"
        },
        "pycharm": {}
      },
      "source": "## Hougha transform\n\n![](images/hough_simple.png?1)"
    },
    {
      "cell_type": "markdown",
      "metadata": {
        "slideshow": {
          "slide_type": "subslide"
        },
        "pycharm": {}
      },
      "source": "#### Hougha transform of a natural image\n\n![](images/hough_camera.png)"
    },
    {
      "cell_type": "markdown",
      "metadata": {
        "slideshow": {
          "slide_type": "subslide"
        },
        "pycharm": {}
      },
      "source": "#### Maxima of Houhgh transform displayed as lines\n\n![](images/hough_lines.png)"
    },
    {
      "cell_type": "markdown",
      "metadata": {
        "slideshow": {
          "slide_type": "slide"
        },
        "pycharm": {}
      },
      "source": "## Harris corner detection\n\n(1988)\n\n\\begin{equation}\nE(u,v)\u003d\\sum_{x,y} \\underbrace{w(x,y)}_{\\text{window}} [\\underbrace{I(x+u,y+v)}_{\\text{shifted intensity}} - \\underbrace{I(x,y)}_{\\text{intensity}}]^2\n\\end{equation}"
    },
    {
      "cell_type": "markdown",
      "metadata": {
        "slideshow": {
          "slide_type": "subslide"
        },
        "pycharm": {}
      },
      "source": "#### Formula intuition\n\n\u003cimg src\u003d\"images/harris.png\" style\u003d\"width:500px\"\u003e"
    },
    {
      "cell_type": "markdown",
      "metadata": {
        "slideshow": {
          "slide_type": "subslide"
        },
        "pycharm": {}
      },
      "source": "#### Using Taylor series expansion\n\n\\begin{equation}\nE(u,v)\\cong\n\\begin{bmatrix}\nu \u0026 v\n\\end{bmatrix}\nM\n\\begin{bmatrix}\nu \\\\ v\n\\end{bmatrix}\n\\end{equation}\n\n\\begin{equation}\nM\u003d\\sum_{x,y} w(x,y) \n\\begin{bmatrix}\nI^2_x \u0026 I_xI_y \\\\\nI_xI_y \u0026 I^2_y\n\\end{bmatrix}\n\\end{equation}"
    },
    {
      "cell_type": "markdown",
      "metadata": {
        "slideshow": {
          "slide_type": "subslide"
        },
        "pycharm": {}
      },
      "source": "#### Eigenvalues\n\n\u003cimg src\u003d\"images/harris2.png?1\" style\u003d\"width:500px\"\u003e"
    },
    {
      "cell_type": "markdown",
      "metadata": {
        "slideshow": {
          "slide_type": "subslide"
        },
        "pycharm": {}
      },
      "source": "#### Corner response value\n\n\\begin{equation}\nR\u003d\\det M - k (\\text{trace } M)^2\n\\end{equation}\n\n\\begin{equation}\n\\det M \u003d \\lambda_1\\lambda_2 \\\\\n\\text{trace } M \u003d \\lambda_1 + \\lambda_2\n\\end{equation}\n"
    },
    {
      "cell_type": "markdown",
      "metadata": {
        "slideshow": {
          "slide_type": "subslide"
        },
        "pycharm": {}
      },
      "source": "#### Example of response on an image\n\n![](images/checker_harris.png)"
    },
    {
      "cell_type": "markdown",
      "metadata": {
        "slideshow": {
          "slide_type": "slide"
        },
        "pycharm": {}
      },
      "source": "## Laplace operator\n\n\\begin{equation}\nL(x,y)\u003d\\frac{\\partial^2I}{\\partial x^2} + \\frac{\\partial^2I}{\\partial y^2}\n\\end{equation}\n\n![](images/derivs.png)"
    },
    {
      "cell_type": "markdown",
      "metadata": {
        "slideshow": {
          "slide_type": "subslide"
        },
        "pycharm": {}
      },
      "source": "#### Laplacian of an image\n\n![](images/laplacian.png)"
    },
    {
      "cell_type": "markdown",
      "metadata": {
        "slideshow": {
          "slide_type": "subslide"
        },
        "pycharm": {}
      },
      "source": "#### Thresholding of Laplacian\n\n![](images/laplacian2.png)"
    },
    {
      "cell_type": "markdown",
      "metadata": {
        "slideshow": {
          "slide_type": "subslide"
        },
        "pycharm": {}
      },
      "source": [
        "### Laplacian of Gaussian\n",
        "\n",
        "\\begin{equation}\n",
        "LoG(x,y)\u003d-\\frac{1}{\\pi\\sigma^4}\\left[1-\\frac{x^2+y^2}{2\\sigma^2}\\right]e^{\\left[-\\frac{x^2+y^2}{2\\sigma^2}\\right]}\n",
        "\\end{equation}"
      ]
    },
    {
      "cell_type": "markdown",
      "metadata": {
        "slideshow": {
          "slide_type": "subslide"
        },
        "pycharm": {}
      },
      "source": "#### Different $\\sigma$ values\n\n\n![](images/log1.png)"
    },
    {
      "cell_type": "markdown",
      "metadata": {
        "slideshow": {
          "slide_type": "subslide"
        },
        "pycharm": {}
      },
      "source": "#### Approximations\n\n![](images/log_dog.png)"
    },
    {
      "cell_type": "markdown",
      "metadata": {
        "slideshow": {
          "slide_type": "slide"
        },
        "pycharm": {}
      },
      "source": "## SIFT\n\nScale-Invariant Feature Transform (2004)\n\n1. Detect extrema in the DoG pyramid for different $\\sigma$ values  \n2. Keypoint location fine-tuning \n3. Determine orientation using gradient\n4. Compute a descriptor\n\t- 16x6 macro-block divided into 16 4x4 blocks, each represented by a 8-bin orientation histogram\n    - gives 128 values per descriptor"
    },
    {
      "cell_type": "markdown",
      "metadata": {
        "slideshow": {
          "slide_type": "subslide"
        },
        "pycharm": {}
      },
      "source": "#### Calculating DoG\n\n![](images/sift_dog.jpg)"
    },
    {
      "cell_type": "markdown",
      "metadata": {
        "slideshow": {
          "slide_type": "subslide"
        },
        "pycharm": {}
      },
      "source": "#### Keypoints on a sample image\n\n![](images/sift_keypoints.jpg)"
    },
    {
      "cell_type": "markdown",
      "metadata": {
        "slideshow": {
          "slide_type": "subslide"
        },
        "pycharm": {}
      },
      "source": "### Other methods\n\n- SURF - Speeded-Up Robust Features (2006)\n- FAST - Features from Accelerated Segment Test (2006, 2010)\n- CenSuRe/STAR - Center Surround Extremas (2008)\n- BRIEF - Binary Robust Independent Elementary Features (2010)\n- ORB - Oriented FAST and Rotated BRIEF (2011)"
    },
    {
      "cell_type": "markdown",
      "metadata": {
        "slideshow": {
          "slide_type": "slide"
        },
        "pycharm": {}
      },
      "source": "## Deep neural networks\n\n![](images/hierarchical_features.png)"
    },
    {
      "cell_type": "markdown",
      "metadata": {
        "slideshow": {
          "slide_type": "subslide"
        },
        "pycharm": {}
      },
      "source": "#### Autoencoders\n\n![](images/autoencoder.png)"
    },
    {
      "cell_type": "markdown",
      "metadata": {
        "slideshow": {
          "slide_type": "subslide"
        },
        "pycharm": {}
      },
      "source": "#### Autoencoder trained on the MNIST database\n\n![](images/ae_minst.jpg)\n\n[Youtube](https://www.youtube.com/watch?v\u003dpM68et1o3Zk)"
    },
    {
      "cell_type": "markdown",
      "metadata": {
        "slideshow": {
          "slide_type": "subslide"
        },
        "pycharm": {}
      },
      "source": [
        "### Transfer learning\n",
        "\n",
        "![](images/imagenet_vgg16.png)"
      ]
    },
    {
      "cell_type": "code",
      "execution_count": null,
      "metadata": {
        "collapsed": true,
        "pycharm": {}
      },
      "outputs": [],
      "source": []
    }
  ],
  "metadata": {
    "celltoolbar": "Slideshow",
    "kernelspec": {
      "display_name": "Python 3",
      "language": "python",
      "name": "python3"
    },
    "language_info": {
      "codemirror_mode": {
        "name": "ipython",
        "version": 3
      },
      "file_extension": ".py",
      "mimetype": "text/x-python",
      "name": "python",
      "nbconvert_exporter": "python",
      "pygments_lexer": "ipython3",
      "version": "3.6.2"
    }
  },
  "nbformat": 4,
  "nbformat_minor": 2
}