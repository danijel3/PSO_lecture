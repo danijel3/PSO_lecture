{
 "cells": [
  {
   "cell_type": "markdown",
   "metadata": {
    "pycharm": {},
    "slideshow": {
     "slide_type": "slide"
    }
   },
   "source": [
    "# Fourier Transform"
   ]
  },
  {
   "cell_type": "markdown",
   "metadata": {
    "pycharm": {},
    "slideshow": {
     "slide_type": "slide"
    }
   },
   "source": [
    "# Recap\n",
    "\n",
    "- What is a complex number?\n",
    "- What is the trigonometric form of a complex number?\n",
    "- What is the difference between the cartesian and polar coordinate system?\n",
    "\n",
    "![](images/imaginary.svg)\n",
    "\n",
    "- How to compute $r$ and $\\varphi$ using $\\Re$ and $\\Im$ and vice versa?"
   ]
  },
  {
   "cell_type": "markdown",
   "metadata": {
    "pycharm": {},
    "slideshow": {
     "slide_type": "subslide"
    }
   },
   "source": [
    "## Conversion\n",
    "\n",
    "### Polar $\\rightarrow$ cartesian\n",
    "\\begin{equation}\n",
    "\\Re=A \\cos \\varphi \\\\\n",
    "\\Im=A \\sin \\varphi \\\\\n",
    "\\end{equation}\n",
    "\n",
    "### Cartesian $\\rightarrow$ polar\n",
    "\\begin{equation}\n",
    "A = \\sqrt{\\Re^2+\\Im^2} \\\\\n",
    "\\varphi = \\text{atan2}(\\Im,\\Re) \\approx \\arctan \\left(\\frac{\\Im}{\\Re}\\right)\n",
    "\\end{equation}\n"
   ]
  },
  {
   "cell_type": "markdown",
   "metadata": {
    "pycharm": {
     "metadata": false
    },
    "slideshow": {
     "slide_type": "-"
    }
   },
   "source": [
    "### Euler formula\n",
    "\\begin{equation}\n",
    "z=\\Re + i\\cdot\\Im \\\\\n",
    "z=A\\cdot(\\cos{\\varphi} + i\\cdot\\sin{\\varphi})\\\\\n",
    "e^{ix}=\\cos{x}+i\\sin{x} \\\\\n",
    "z=A\\cdot e^{i\\varphi}\n",
    "\\end{equation}"
   ]
  },
  {
   "cell_type": "markdown",
   "metadata": {
    "pycharm": {},
    "slideshow": {
     "slide_type": "slide"
    }
   },
   "source": [
    "# Taylor series\n",
    "\n",
    "\\begin{equation}\n",
    "f(x) = f(a) + \\frac{f'(a)}{1!} (x-a) + \\frac{f''(a)}{2!} (x-a)^2 + \\frac{f'''(a)}{3!} (x-a)^3 +\\ldots\n",
    "\\end{equation}\n",
    "\n",
    "\\begin{equation}\n",
    "f(x) = \\sum_{n=0}^{\\infty} \\frac{f^{(n)}(a)}{n!} (x-a)^n\n",
    "\\end{equation}\n",
    "\n",
    "\n",
    "- where $f^{(0)}(x)=f(x)$ and $0!=1$\n",
    "- for $a=0$ also known as Maclaurin series"
   ]
  },
  {
   "cell_type": "markdown",
   "metadata": {
    "pycharm": {},
    "slideshow": {
     "slide_type": "slide"
    }
   },
   "source": [
    "# Fourier series\n",
    "\n",
    "- for orthogonal functions $g_1\\ldots g_n$ and coefficients $a_1\\ldots a_n$ let us define:\n",
    "\n",
    "\\begin{equation}\n",
    "f(t)=a_1\\cdot g_1(t) + a_2\\cdot g_2(t) + a_3\\cdot g_3(t) + \\ldots + a_n\\cdot g_n(t) = \\sum_{n=1}^{\\infty}a_n\\cdot g_n(t)\n",
    "\\end{equation}\n",
    "\n",
    "- let us take $g_1$ use it to multiply both sides of the above equation:\n",
    "\n",
    "\\begin{equation}\n",
    "g_1(t)\\cdot f(t)=a_1\\cdot g_1^2(t) + \\sum_{n=2}^{\\infty} a_n\\cdot g_n(t)\\cdot g_1(t)\n",
    "\\end{equation}\n",
    "\n",
    "- let us also compute the integral of both sides of the equation:\n",
    "\n",
    "\\begin{equation}\n",
    "\\int_{t_1}^{t_2} g_1(t)\\cdot f(t) dt=\\int_{t_1}^{t_2} a_1\\cdot g_1^2(t)\\ dt + \\sum_{n=2}^{\\infty} \\int_{t_1}^{t_2} a_n\\cdot g_n(t)\\cdot g_1(t)\\ dt\n",
    "\\end{equation}"
   ]
  },
  {
   "cell_type": "markdown",
   "metadata": {
    "pycharm": {},
    "slideshow": {
     "slide_type": "subslide"
    }
   },
   "source": [
    "## Fourier series\n",
    "\n",
    "- because all the components are orthogonal their products are always 0,\n",
    "\t- we can therefore remove most of the equation:\n",
    "\n",
    "\\begin{equation}\n",
    "\\int_{t_1}^{t_2} g_1(t)\\cdot f(t)\\ dt=\\int_{t_1}^{t_2} a_1\\cdot g_1^2(t)\\ dt = a_1\\cdot \\int_{t_1}^{t_2} g_1^2(t)\\ dt\n",
    "\\end{equation}\n",
    "\n",
    "\n",
    "- to compute the coefficient $a_1$ we can simply use:\n",
    "\n",
    "\\begin{equation}\n",
    "a_1=\\frac{\\int_{t_1}^{t_2} g_1(t)\\cdot f(t)\\ dt}{\\int_{t_1}^{t_2} g_1^2(t)\\ dt}\n",
    "\\end{equation}\n",
    "\n",
    "- we can use a similar equation for all other coefficients:\n",
    "\n",
    "\\begin{equation}\n",
    "a_n=\\frac{\\int_{t_1}^{t_2} g_n(t)\\cdot f(t)\\,dt}{\\int_{t_1}^{t_2} g_n^2(t)\\ dt}\n",
    "\\end{equation}\n",
    "\n"
   ]
  },
  {
   "cell_type": "markdown",
   "metadata": {
    "pycharm": {},
    "slideshow": {
     "slide_type": "subslide"
    }
   },
   "source": [
    "## Trigonometric Fourier series\n",
    "\n",
    "- Fourier used $\\sin$ as the $g_n$ function:\n",
    "\n",
    "\\begin{equation}\n",
    "f(t) = \\frac{A_0}{2} + \\sum_{n=1}^{\\infty}A_n\\cdot\\sin(n\\omega_0t+\\varphi_n)\n",
    "\\end{equation}\n",
    "\n",
    "(where $\\omega_0=\\frac{2\\pi}{T_0}=2\\pi f_0$ - ie. *angular frequency*, with unit *rad/s*)\n",
    "\n",
    "- We can use the following equations:\n",
    "\n",
    "\\begin{equation}\n",
    "\\sin(n\\omega_0t+\\varphi_n) = \\sin(\\varphi_n)\\cos(n\\omega_0t)+\\cos(\\varphi_n)\\sin(n\\omega_0t) \\\\\n",
    "a_n=A_n\\sin(\\phi_n)\\ \\text{(by formula for $\\Re$)} \\\\\n",
    "b_n=A_n\\cos(\\phi_n)\\ \\text{(by formula for $\\Im$)}\n",
    "\\end{equation}\n",
    "\n",
    "- To simplify the computation like this:\n",
    "\n",
    "\\begin{equation}\n",
    "f(t) = \\frac{A_0}{2} + \\sum_{n=1}^{\\infty}a_n\\cdot\\cos(n\\omega_0t)+b_n\\cdot\\sin(n\\omega_0t)\n",
    "\\end{equation}"
   ]
  },
  {
   "cell_type": "markdown",
   "metadata": {
    "pycharm": {},
    "slideshow": {
     "slide_type": "subslide"
    }
   },
   "source": [
    "## Trigonometric Fourier series\n",
    "\n",
    "\\begin{equation}\n",
    "f(t) = a_0 + \\sum_{n=1}^{\\infty}a_n\\cdot\\cos(n\\omega_0t)+b_n\\cdot\\sin(n\\omega_0t)\n",
    "\\end{equation}\n",
    "\n",
    "- where $a_n$ and $b_n$ are known as the *Fourier coefficients*:\n",
    "\n",
    "\\begin{equation}\n",
    "a_0 = \\frac{1}{T_0}\\int_{0}^{T_0}f(t)\\ dt \\\\\n",
    "a_n = \\frac{2}{T_0}\\int_{0}^{T_0}f(t)\\cdot\\cos(n\\omega_0t)\\ dt \\\\\n",
    "b_n = \\frac{2}{T_0}\\int_{0}^{T_0}f(t)\\cdot\\sin(n\\omega_0t)\\ dt \\\\\n",
    "\\end{equation}"
   ]
  },
  {
   "cell_type": "markdown",
   "metadata": {
    "pycharm": {},
    "slideshow": {
     "slide_type": "subslide"
    }
   },
   "source": [
    "## Complex Fourier series\n",
    "\n",
    "- We use the complex version of the Fourier formula more often:\n",
    "\n",
    "\\begin{equation}\n",
    "f(t) = \\sum_{n=-\\infty}^{\\infty}F_n\\cdot e^{in\\omega_0t}\n",
    "\\end{equation}\n",
    "\n",
    "- where $F_n$ is computed:\n",
    "\n",
    "\\begin{equation}\n",
    "F_n=\\frac{1}{T_0}\\int_{0}^{T_0}f(t)\\cdot e^{-i n\\omega_0t}\\ dt\n",
    "\\end{equation}"
   ]
  },
  {
   "cell_type": "markdown",
   "metadata": {
    "slideshow": {
     "slide_type": "subslide"
    }
   },
   "source": [
    "### Properties \n",
    "\n",
    "\\begin{equation}\n",
    "a_n=2\\Re[F_n] \\quad b_n=-2\\Im[F_n]\n",
    "\\end{equation}\n",
    "\n",
    "\\begin{equation}\n",
    "F_0=a_0\n",
    "\\end{equation}\n",
    "\n",
    "\\begin{equation}\n",
    "F_{-n}=F_n^{*} \\quad |F_n|=|F_{-n}| \\quad \\angle(F_n)=-\\angle(F_{-n})\n",
    "\\end{equation}\n",
    "(Hermitian symmetry)\n",
    "\n",
    "\\begin{equation}\n",
    "a_n=(F_n+F_{-n}) \\quad b_n=i\\cdot(F_n-F_{-n})\n",
    "\\end{equation}\n",
    "\n",
    "\\begin{equation}\n",
    "F_n=0.5\\cdot(a_n-i\\cdot b_n) \\quad F_{-n}=0.5\\cdot(a_n+i\\cdot b_n)\n",
    "\\end{equation}\n",
    "\n",
    "\\begin{equation}\n",
    "A_n=\\sqrt{a_n^2+b_n^2}=2|F_n|\n",
    "\\end{equation}"
   ]
  },
  {
   "cell_type": "markdown",
   "metadata": {
    "pycharm": {},
    "slideshow": {
     "slide_type": "subslide"
    }
   },
   "source": [
    "## Examples online\n",
    "\n",
    "https://www.intmath.com/fourier-series/fourier-graph-applet.php\n",
    "\n",
    "http://www.mathstools.com/section/main/fourier_series_calculator"
   ]
  },
  {
   "cell_type": "markdown",
   "metadata": {
    "pycharm": {},
    "slideshow": {
     "slide_type": "slide"
    }
   },
   "source": [
    "# Fourier transform\n",
    "\n",
    "\\begin{equation}\n",
    "F_n=\\frac{1}{T_0}\\int_{0}^{T_0}f(t)\\cdot e^{-in\\omega_0t}\\ dt\n",
    "\\end{equation}\n",
    "\n",
    "- Fourier series is defined only for periodic signals (with the period $T_0$)!\n",
    "\n",
    "- How can we compute the Fourier series for non-periodic signals?\n",
    "\n",
    "    - Given that $\\omega_0=\\frac{2\\pi}{T_0}=2\\pi f_0$\n",
    "\n",
    "    - If $T_0\\rightarrow\\infty$ then $\\omega_0\\rightarrow0$\n",
    "\n",
    "    - Thus the $F_n$ coeffients will turn from a series of points $\\rightarrow$ function of real values $F(\\xi)$\n",
    "    \n",
    "\n",
    "\\begin{equation}\n",
    "F(\\xi) = \\int_{-\\infty}^{\\infty} f(t)e^{-i 2\\pi \\xi t } dt\n",
    "\\end{equation}\n"
   ]
  },
  {
   "cell_type": "markdown",
   "metadata": {
    "pycharm": {},
    "slideshow": {
     "slide_type": "subslide"
    }
   },
   "source": [
    "# Fourier transform\n",
    "\n",
    "- Analitic function\n",
    "\n",
    "\\begin{equation}\n",
    "F(\\xi) = \\int_{-\\infty}^{\\infty} f(t)e^{-i 2\\pi \\xi t} dt\n",
    "\\end{equation}\n",
    "\n",
    "- Synthetic function (aka. invrerse):\n",
    "\n",
    "\\begin{equation}\n",
    "f(t) = \\int_{-\\infty}^{\\infty} F(\\xi)e^{i 2\\pi t \\xi} d\\xi\n",
    "\\end{equation}\n",
    "\n",
    "\n",
    "- Apart from the decomposition in the frequency domain, other useful forumlas include:\n",
    "  - Amplitude spectrum: $|F(\\xi)|$\n",
    "  - Phase spectrum: $\\angle[F(\\xi)]$\n",
    "  - Power spectrum: $|F(\\xi)|^2$"
   ]
  },
  {
   "cell_type": "markdown",
   "metadata": {
    "pycharm": {},
    "slideshow": {
     "slide_type": "subslide"
    }
   },
   "source": [
    "## When is it computable?\n",
    "\n",
    "- finite energy: $\\int_{-\\infty}^{\\infty}\\lvert x(t) \\rvert^2dt<\\infty$\n",
    "- finite number of extrema\n",
    "- finite number of discontinuities\n",
    "- any periodic signal (including inifinite energy)"
   ]
  },
  {
   "cell_type": "markdown",
   "metadata": {
    "pycharm": {},
    "slideshow": {
     "slide_type": "slide"
    }
   },
   "source": [
    "# Discrete Fourier transform\n",
    "\n",
    "- Used for digital signals\n",
    "\n",
    "- Analitic function:\n",
    "\n",
    "\\begin{equation}\n",
    "X_k=\\sum_{n=0}^{N-1} x_n e ^ {-i2\\pi k n/N} \\\\\n",
    "k \\in 0\\ldots N-1\n",
    "\\end{equation}\n",
    "\n",
    "- Synthetic function (inverse):\n",
    "\n",
    "\\begin{equation}\n",
    "x_n=\\frac{1}{N} \\sum_{k=0}^{N-1} X_k e ^ {i2\\pi k n/N}\\\\\n",
    "n \\in 0\\ldots N-1\n",
    "\\end{equation}\n"
   ]
  },
  {
   "cell_type": "markdown",
   "metadata": {
    "pycharm": {},
    "slideshow": {
     "slide_type": "subslide"
    }
   },
   "source": [
    "# Types of Fourier transforms\n",
    "\n",
    "![](images/fourier1.png)"
   ]
  },
  {
   "cell_type": "markdown",
   "metadata": {
    "pycharm": {},
    "slideshow": {
     "slide_type": "subslide"
    }
   },
   "source": [
    "## Fourier series\n",
    "\n",
    "![](images/fourier2.png)"
   ]
  },
  {
   "cell_type": "markdown",
   "metadata": {
    "pycharm": {},
    "slideshow": {
     "slide_type": "subslide"
    }
   },
   "source": [
    "## DTFT\n",
    "\n",
    "![](images/fourier3.png)"
   ]
  },
  {
   "cell_type": "markdown",
   "metadata": {
    "pycharm": {},
    "slideshow": {
     "slide_type": "subslide"
    }
   },
   "source": [
    "## DFT\n",
    "\n",
    "![](images/fourier4.png)"
   ]
  },
  {
   "cell_type": "markdown",
   "metadata": {
    "pycharm": {},
    "slideshow": {
     "slide_type": "slide"
    }
   },
   "source": [
    "# Properties of the Fourier transform\n",
    "\n",
    "\\begin{equation}\n",
    "f(t) \\qquad\\rightarrow\\qquad F(\\omega)\n",
    "\\end{equation}\n",
    "\n",
    "### Inverse \n",
    "\n",
    "\\begin{equation}\n",
    "F(t) \\qquad\\rightarrow\\qquad 2\\pi f(-\\omega)\n",
    "\\end{equation}\n",
    "\n",
    "### Convolution\n",
    "\n",
    "\\begin{equation}\n",
    "f_1\\star f_2(t) \\qquad\\rightarrow\\qquad F_1(\\omega)F_2(\\omega)\n",
    "\\end{equation}\n",
    "\n",
    "### Product \n",
    "\n",
    "\\begin{equation}\n",
    "f_1(t)f_2(t) \\qquad\\rightarrow\\qquad \\frac{1}{2\\pi}F_1\\star F_2(\\omega)\n",
    "\\end{equation}"
   ]
  },
  {
   "cell_type": "markdown",
   "metadata": {
    "pycharm": {},
    "slideshow": {
     "slide_type": "subslide"
    }
   },
   "source": [
    "### Shift\n",
    "\n",
    "\\begin{equation}\n",
    "f(t-u) \\qquad\\rightarrow\\qquad e^{-iu\\omega}F(\\omega)\n",
    "\\end{equation}\n",
    "\n",
    "### Amplitude modulation\n",
    "\n",
    "\\begin{equation}\n",
    "e^{i\\xi t}f(t) \\qquad\\rightarrow\\qquad F(\\omega-\\xi)\n",
    "\\end{equation}\n",
    "\n",
    "### Scaling \n",
    "\n",
    "\\begin{equation}\n",
    "f(t/s)  \\qquad\\rightarrow\\qquad  |s|F(s\\omega)\n",
    "\\end{equation}\n",
    "\n",
    "### Time derivative\n",
    "\n",
    "\\begin{equation}\n",
    "f^{(p)}(t) \\qquad\\rightarrow\\qquad (i\\omega)^{(p)}F(\\omega)\n",
    "\\end{equation}"
   ]
  },
  {
   "cell_type": "markdown",
   "metadata": {
    "pycharm": {},
    "slideshow": {
     "slide_type": "subslide"
    }
   },
   "source": [
    "### Frequency derivative \n",
    "\n",
    "\\begin{equation}\n",
    "(-it)^{(p)}f(t) \\qquad\\rightarrow\\qquad F^{(p)}(\\omega)\n",
    "\\end{equation}\n",
    "\n",
    "### Complex conjugation \n",
    "\n",
    "\\begin{equation}\n",
    "f^{\\star}(t)  \\qquad\\rightarrow\\qquad F^{\\star}(-\\omega)\n",
    "\\end{equation}\n",
    "\n",
    "### Hermitian symmetry \n",
    "\n",
    "\\begin{equation}\n",
    "f(t)\\in \\mathbb{R}  \\qquad\\rightarrow\\qquad F(-\\omega)=F^{\\star}(\\omega)\n",
    "\\end{equation}"
   ]
  },
  {
   "cell_type": "markdown",
   "metadata": {
    "pycharm": {},
    "slideshow": {
     "slide_type": "subslide"
    }
   },
   "source": [
    "## A bit more on symmetry\n",
    "\n",
    "- for any real signal $f(t)$, Fourier transform has the following properties:\n",
    "    - $\\Re(F)$ - is an even function\n",
    "    - $\\Im(F)$ - is an odd function\n",
    "    - $\\lvert F \\rvert$ - is an even function\n",
    "    - $\\angle(f)$ - is an odd function\n",
    "- if $X$ isn't symmetric as above, FT isn't a real function (it's complex)\n",
    "- additionally:\n",
    "    - if $f(t)$ is real and even - $F(\\omega)$ is also real and even\n",
    "    - if $f(t)$ is real and odd - $F(\\omega)$ is completely imaginary and odd\n",
    "- since every singal can be decomposed into its even and odd part:\n",
    "    - the even component of $f(t)$ corresponds to the $\\Re[F(\\omega)]$\n",
    "    - the odd component of $f(t)$ corresponds to $i\\Im[F(\\omega)]$"
   ]
  },
  {
   "cell_type": "markdown",
   "metadata": {
    "pycharm": {},
    "slideshow": {
     "slide_type": "slide"
    }
   },
   "source": [
    "## Parseval theorem\n",
    "\n",
    "\\begin{equation}\n",
    "\\int_{-\\infty}^{\\infty}f(x)g^{*}(x)\\ dx=\\int_{-\\infty}^{\\infty}F(\\xi)G^{*}(\\xi)\\ d\\xi\n",
    "\\end{equation}\n",
    "\n",
    "## Plancherel theorem\n",
    "\n",
    "\\begin{equation}\n",
    "\\int_{-\\infty}^{\\infty}||f(x)||^2\\ dx=\\int_{-\\infty}^{\\infty}||F(\\xi)||^2\\ d\\xi\n",
    "\\end{equation}\n",
    "\n",
    "- Signal power:\n",
    "\n",
    "\\begin{equation}\n",
    "P=\\lim_{T\\rightarrow\\infty} \\int_{-\\infty}^{\\infty} |f(t)|^2 dt\n",
    "\\end{equation}\n",
    "\n",
    "- For discrete signals:\n",
    "\n",
    "\\begin{equation}\n",
    "\\sum_{n=0}^{N-1}|x[n]|^2 = \\frac{1}{N} \\sum_{k=0}^{N-1}|X[k]|^2\n",
    "\\end{equation}"
   ]
  },
  {
   "cell_type": "markdown",
   "metadata": {
    "pycharm": {},
    "slideshow": {
     "slide_type": "slide"
    }
   },
   "source": [
    "# Examples\n",
    "\n",
    "![](images/fourier_sample1.png)\n"
   ]
  },
  {
   "cell_type": "markdown",
   "metadata": {
    "pycharm": {},
    "slideshow": {
     "slide_type": "subslide"
    }
   },
   "source": [
    "\n",
    "![](images/fourier_sample2.png)\n"
   ]
  },
  {
   "cell_type": "markdown",
   "metadata": {
    "pycharm": {},
    "slideshow": {
     "slide_type": "subslide"
    }
   },
   "source": [
    "\n",
    "![](images/fourier_sample3.png)\n"
   ]
  },
  {
   "cell_type": "markdown",
   "metadata": {
    "pycharm": {},
    "slideshow": {
     "slide_type": "subslide"
    }
   },
   "source": [
    "\n",
    "![](images/fourier_sample4.png)\n"
   ]
  },
  {
   "cell_type": "markdown",
   "metadata": {
    "pycharm": {},
    "slideshow": {
     "slide_type": "subslide"
    }
   },
   "source": [
    "\n",
    "![](images/fourier_sample5.png)\n"
   ]
  },
  {
   "cell_type": "markdown",
   "metadata": {
    "pycharm": {},
    "slideshow": {
     "slide_type": "subslide"
    }
   },
   "source": [
    "\n",
    "![](images/fourier_sample6.png)\n"
   ]
  },
  {
   "cell_type": "markdown",
   "metadata": {
    "pycharm": {},
    "slideshow": {
     "slide_type": "subslide"
    }
   },
   "source": [
    "\n",
    "![](images/fourier_sample7.png)\n"
   ]
  }
 ],
 "metadata": {
  "celltoolbar": "Slideshow",
  "kernelspec": {
   "display_name": "Python 3",
   "language": "python",
   "name": "python3"
  },
  "language_info": {
   "codemirror_mode": {
    "name": "ipython",
    "version": 3
   },
   "file_extension": ".py",
   "mimetype": "text/x-python",
   "name": "python",
   "nbconvert_exporter": "python",
   "pygments_lexer": "ipython3",
   "version": "3.7.6"
  },
  "pycharm": {
   "stem_cell": {
    "cell_type": "raw",
    "metadata": {
     "collapsed": false
    },
    "source": []
   }
  }
 },
 "nbformat": 4,
 "nbformat_minor": 2
}
