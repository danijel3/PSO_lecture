{
 "cells": [
  {
   "cell_type": "markdown",
   "metadata": {
    "slideshow": {
     "slide_type": "slide"
    },
    "pycharm": {}
   },
   "source": [
    "# Digital filters\n",
    "\n",
    "## Design and features"
   ]
  },
  {
   "cell_type": "markdown",
   "metadata": {
    "slideshow": {
     "slide_type": "slide"
    },
    "pycharm": {}
   },
   "source": [
    "# Laplace transform\n",
    "\n",
    "\\begin{equation}\n",
    "F(s)=\\int_{-\\infty}^{\\infty} f(t)e^{-st}dt\n",
    "\\end{equation}\n",
    "\n",
    "## Fourier transform\n",
    "\n",
    "\\begin{equation}\n",
    "\\hat{f}(\\omega)=\\int_{-\\infty}^{\\infty} f(t)e^{-i\\omega t}dt\n",
    "\\end{equation}\n",
    "\n",
    "- Therefore:\n",
    "\n",
    "\\begin{equation}\n",
    "s = i\\omega\n",
    "\\end{equation}\n",
    "\n",
    "- Laplace transform is used to analyze signals that don't have $\\hat{f}(t)$"
   ]
  },
  {
   "cell_type": "markdown",
   "metadata": {
    "slideshow": {
     "slide_type": "subslide"
    },
    "pycharm": {}
   },
   "source": [
    "## Z transform\n",
    "\n",
    "- A discrete version of the Laplace transform:\n",
    "\n",
    "\\begin{equation}\n",
    "X(z)=\\sum_{n=-\\infty}^{\\infty}x[n]z^{-n}\n",
    "\\end{equation}\n",
    "\n",
    "- Compared to DFT:\n",
    "\n",
    "\\begin{equation}\n",
    "X(\\omega)=\\sum_{n=-\\infty}^{\\infty}x[n]e^{-i\\omega n}\n",
    "\\end{equation}\n",
    "\n",
    "- While $\\omega$ is a real value signal frequency, $z$ is a complex number\n",
    "\n",
    "- Instead of a linear frequency spectrum we are talking about the *Z plane* where $z=e^{i\\omega}$ \n",
    "is a circle representing the Fourier transform\n",
    "\n",
    "- $X(\\omega)$ exists if $\\sum \\left|x[n]\\right| < \\infty$\n",
    "- $X(z)$ can be computed for many more signals"
   ]
  },
  {
   "cell_type": "markdown",
   "metadata": {
    "slideshow": {
     "slide_type": "subslide"
    },
    "pycharm": {}
   },
   "source": [
    "## Region-of-convergence - ROC\n",
    "\n",
    "- $X(z)$ is convergent in the area where:\n",
    "\n",
    "\\begin{equation}\n",
    "z=\\left|\\sum_{n=-\\infty}^{\\infty}x[n]z^{-n}\\right| < \\infty\n",
    "\\end{equation}\n",
    "\n",
    "- A system is stable iff the unit circle (ie. circle in the complex plane with radius 1 located at 0,0) \n",
    "is situated completely within the ROC\n"
   ]
  },
  {
   "cell_type": "markdown",
   "metadata": {
    "slideshow": {
     "slide_type": "subslide"
    },
    "pycharm": {}
   },
   "source": [
    "## Region-of-convergence - ROC\n",
    "\n",
    "- In practice, we are faced with 3 types of ROC:\n",
    "\n",
    "![](images/roc_types_en.png)"
   ]
  },
  {
   "cell_type": "markdown",
   "metadata": {
    "slideshow": {
     "slide_type": "subslide"
    },
    "pycharm": {}
   },
   "source": [
    "## Poles and zeros\n",
    "\n",
    "- We are particularly interested in the points on the Z plane for which $|z|=0$ and $|z|=\\infty$\n",
    "\n",
    "- Zeros are marked with circles and poles (infinities) with crosses, eg:\n",
    "\n",
    "![](images/polezero.png)\n"
   ]
  },
  {
   "cell_type": "markdown",
   "metadata": {
    "slideshow": {
     "slide_type": "subslide"
    },
    "pycharm": {}
   },
   "source": [
    "## ROC Rules\n",
    "\n",
    "- ROC is a disc or a ring centered at $(0+0i)$\n",
    "\n",
    "- ROC never contais any poles!\n",
    "\n",
    "- For finite $x[n]$, ROC covers the whole Z plane with the possible exception of $z=0$ or $z=\\infty$\n",
    "\n",
    "![](images/roc_types2_en.png)"
   ]
  },
  {
   "cell_type": "markdown",
   "metadata": {
    "slideshow": {
     "slide_type": "subslide"
    },
    "pycharm": {}
   },
   "source": [
    "## Transfer function\n",
    "\n",
    "\\begin{equation}\n",
    "y[n]=x[n]*h[n]\n",
    "\\end{equation}\n",
    "\n",
    "\\begin{equation}\n",
    "Y(z) = H(z)X(z)\n",
    "\\end{equation}\n",
    "\n",
    "\\begin{equation}\n",
    "H(z)=\\frac{Y(z)}{X(z)}\n",
    "\\end{equation}\n",
    "\n",
    "\\begin{equation}\n",
    "\\left|Y(z)\\right| = \\left|H(z)\\right| \\cdot \\left|X(z)\\right|\n",
    "\\end{equation}\n",
    "\n",
    "\\begin{equation}\n",
    "\\angle Y(z) = \\angle H(z) + \\angle X(z)\n",
    "\\end{equation}\n"
   ]
  },
  {
   "cell_type": "markdown",
   "metadata": {
    "slideshow": {
     "slide_type": "slide"
    },
    "pycharm": {}
   },
   "source": [
    "# Types of filters\n",
    "\n",
    "<img src=\"images/filter_types_en.png\" style=\"height:500px\">"
   ]
  },
  {
   "cell_type": "markdown",
   "metadata": {
    "slideshow": {
     "slide_type": "subslide"
    },
    "pycharm": {}
   },
   "source": [
    "## Quiz time!\n",
    "\n",
    "![](images/pole_zero_filters.jpg)"
   ]
  },
  {
   "cell_type": "markdown",
   "metadata": {
    "slideshow": {
     "slide_type": "subslide"
    },
    "pycharm": {}
   },
   "source": [
    "- We design LP filters most of the time\n",
    "\n",
    "- HP filters can be designed by subtracting an LP filter from 1:\n",
    "    - $H_{hi}(z)=1-H_{lo}(z)=H_{lo}(e^{j\\omega-\\pi})$\n",
    "    - $h_{hi}[n] = (-1)^n h_{lo}[n]$\n",
    "\n",
    "- BS filter is a combination of LP and HP filters    \n",
    "    - $H_{bs} = H_{lo} + H_{hi}$\n",
    "    - $h_{bs} = h_{lo} + h_{hi}$\n",
    "\n",
    "- BP filter is a product of HP and LP filters:    \n",
    "    - $H_{bs} = H_{lo} \\cdot H_{hi}$\n",
    "    - $h_{bs} = h_{lo} * h_{hi}$"
   ]
  },
  {
   "cell_type": "markdown",
   "metadata": {
    "slideshow": {
     "slide_type": "subslide"
    },
    "pycharm": {}
   },
   "source": [
    "## Design principles and limiatations of digital filters\n",
    "\n",
    "- Frequency response\n",
    "- Type: FIR, IIR\n",
    "- Filter length\n",
    "- Linear phase\n",
    "- Causality\n",
    "- Stability\n",
    "- Limitations:\n",
    "![](images/filter_design.png)\n",
    "\n"
   ]
  },
  {
   "cell_type": "markdown",
   "metadata": {
    "slideshow": {
     "slide_type": "subslide"
    },
    "pycharm": {}
   },
   "source": [
    "## Why not sinc?\n",
    "\n",
    "- Not causal\n",
    "- Infinite\n",
    "\n",
    "![](images/sinc.png)"
   ]
  },
  {
   "cell_type": "markdown",
   "metadata": {
    "slideshow": {
     "slide_type": "subslide"
    },
    "pycharm": {}
   },
   "source": [
    "## Spectrum amplitude vs magnitude\n",
    "\n",
    "![](images/amp_mag_en.png?)"
   ]
  },
  {
   "cell_type": "markdown",
   "metadata": {
    "slideshow": {
     "slide_type": "subslide"
    },
    "pycharm": {}
   },
   "source": [
    "## 4 types of linear phase FIR filters\n",
    "\n",
    "![](images/linphase_fir.png?1)"
   ]
  },
  {
   "cell_type": "markdown",
   "metadata": {
    "slideshow": {
     "slide_type": "subslide"
    },
    "pycharm": {}
   },
   "source": [
    "## Methods for FIR filter design\n",
    "\n",
    "### Frequency sampling\n",
    "\n",
    "1. Choose N \n",
    "2. Design filter in frequency domain\n",
    "3. Sample the frequency response using N samples\n",
    "4. Perform IDFT\n",
    "\n",
    "![](images/sample_fir.png?2)\n",
    "    "
   ]
  },
  {
   "cell_type": "markdown",
   "metadata": {
    "slideshow": {
     "slide_type": "subslide"
    },
    "pycharm": {}
   },
   "source": [
    "### Least squares\n",
    "\n",
    "1. Choose N\n",
    "2. Design filter in frequency domain\n",
    "3. Sample the frequency response using M > N samples\n",
    "4. Perform IDFT\n",
    "5. Choose N middle values\n",
    "\n",
    "![](images/leastsquares_fir.png?2)"
   ]
  },
  {
   "cell_type": "markdown",
   "metadata": {
    "slideshow": {
     "slide_type": "subslide"
    },
    "pycharm": {}
   },
   "source": [
    "### \"Window\" method\n",
    "\n",
    "- Similar to previous methods, but the coefficients are multiplied by a chosen windowing function (eg. Hamming)\n",
    "\n",
    "![](images/window_fir.png?2)"
   ]
  },
  {
   "cell_type": "markdown",
   "metadata": {
    "slideshow": {
     "slide_type": "subslide"
    },
    "pycharm": {}
   },
   "source": [
    "## Advantages of FIR\n",
    "\n",
    "- They can have linear phase\n",
    "- Easy to implement\n",
    "- Easy to design\n",
    "- Always stable!\n",
    "\n",
    "## Disadvantages\n",
    "\n",
    "- May require large N\n",
    "- Therefore may need a lot of operations/memory/components to implement\n",
    "- Therefore may introduce long delays"
   ]
  },
  {
   "cell_type": "markdown",
   "metadata": {
    "slideshow": {
     "slide_type": "slide"
    },
    "pycharm": {}
   },
   "source": [
    "## IIR filters\n",
    "\n",
    "### Advantages\n",
    "\n",
    "- They can solve problems with much stricter constraints\n",
    "- Usually require much lower N\n",
    "\n",
    "### Disadvantages\n",
    "\n",
    "- They cannot have a linear phase\n",
    "- They can be unstable\n",
    "- They are somewhat more difficult to design and implement"
   ]
  },
  {
   "cell_type": "markdown",
   "metadata": {
    "slideshow": {
     "slide_type": "subslide"
    },
    "pycharm": {}
   },
   "source": [
    "## IIR filter description\n",
    "\n",
    "\\begin{equation}\n",
    "y[n]=\\sum_{m=0}^{M} b[m]x[n-m]-\\sum_{k=1}^{N}a[k]y[n-k]\n",
    "\\end{equation}\n",
    "\n",
    "![](images/iir_block.png)"
   ]
  },
  {
   "cell_type": "markdown",
   "metadata": {
    "slideshow": {
     "slide_type": "subslide"
    },
    "pycharm": {}
   },
   "source": [
    "## IIR filter transfer function\n",
    "\n",
    "\\begin{equation}\n",
    "H(z)=\\sum_{n=0}^{\\infty}h[n]z^{-n}\n",
    "\\end{equation}\n",
    "\n",
    "\\begin{equation}\n",
    "H(z)=\\frac{\\sum_{n=0}^{M}b[n]z^{-n}}{\\sum_{n=0}^{N}a[n]z^{-n}}\n",
    "\\end{equation}\n",
    "\n",
    "\\begin{equation}\n",
    "H(z)=\\frac{B(z)}{A(z)}\n",
    "\\end{equation}\n",
    "\n",
    "- The roots of $B(z)$ correspond to zeros\n",
    "- The roots of $A(z)$ correspond to poles\n",
    "- For a causal filter, the poles have to be inside the unit circle, therefore $|r|<1$\n"
   ]
  },
  {
   "cell_type": "markdown",
   "metadata": {
    "slideshow": {
     "slide_type": "subslide"
    },
    "pycharm": {}
   },
   "source": [
    "## IIR optimization parameters\n",
    "\n",
    "- Filter length N\n",
    "- F_p,F_s pass/stop band edges\n",
    "- $\\delta_1$ deviation from pass band (from 1)\n",
    "- $\\delta_2$ deviation from stop band (from 0)\n",
    "\n",
    "\n",
    "### Minimizing N\n",
    "\n",
    "\\begin{equation}\n",
    "N \\approx \\frac{-20\\log_{10}\\sqrt{\\delta_1 \\delta_2}-13}{14.6(F_s-F_p)}+1\n",
    "\\end{equation}"
   ]
  },
  {
   "cell_type": "markdown",
   "metadata": {
    "slideshow": {
     "slide_type": "subslide"
    },
    "pycharm": {}
   },
   "source": [
    "## Sample algorithms\n",
    "\n",
    "- To design IIR filters in practice we usually first design an analog filter and transform it into digital domain (Laplace $\\rightarrow$ Z transform)\n",
    "\n",
    "![](images/iir_design.png)"
   ]
  }
 ],
 "metadata": {
  "celltoolbar": "Slideshow",
  "kernelspec": {
   "display_name": "Python 3",
   "language": "python",
   "name": "python3"
  },
  "language_info": {
   "codemirror_mode": {
    "name": "ipython",
    "version": 3
   },
   "file_extension": ".py",
   "mimetype": "text/x-python",
   "name": "python",
   "nbconvert_exporter": "python",
   "pygments_lexer": "ipython3",
   "version": "3.6.2"
  },
  "pycharm": {
   "stem_cell": {
    "cell_type": "raw",
    "source": [],
    "metadata": {
     "collapsed": false
    }
   }
  }
 },
 "nbformat": 4,
 "nbformat_minor": 2
}