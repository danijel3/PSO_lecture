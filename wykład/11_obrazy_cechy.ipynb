{
 "cells": [
  {
   "cell_type": "markdown",
   "metadata": {
    "slideshow": {
     "slide_type": "slide"
    }
   },
   "source": [
    "# Przetwarzanie obrazów\n",
    "## Ekstracja cech"
   ]
  },
  {
   "cell_type": "markdown",
   "metadata": {
    "slideshow": {
     "slide_type": "slide"
    }
   },
   "source": [
    "## JPEG\n",
    "\n",
    "1. Konwersja RGB $\\rightarrow$ YCrCb i sub-sampling (4:4:4, 4:2:2 albo 4:2:0)\n",
    "2. Podział na bloki 8x8\n",
    "3. DCT każedgo bloku\n",
    "4. Kwantyzacja\n",
    "5. Kodowanie bezstratne (RLE, Huffman)"
   ]
  },
  {
   "cell_type": "markdown",
   "metadata": {
    "slideshow": {
     "slide_type": "subslide"
    }
   },
   "source": [
    "#### Macierz kwantyzacji dla q=50\n",
    "\n",
    "![](images/jpg_quant.svg)"
   ]
  },
  {
   "cell_type": "markdown",
   "metadata": {
    "slideshow": {
     "slide_type": "subslide"
    }
   },
   "source": [
    "#### Wynik kwantyzacji DCT przykładowego zdjęcia\n",
    "\n",
    "![](images/jpg_quant2.svg)"
   ]
  },
  {
   "cell_type": "markdown",
   "metadata": {
    "slideshow": {
     "slide_type": "subslide"
    }
   },
   "source": [
    "#### Schemat \"zig-zag\" do szeregowania wartości przed kodowaniem bezstratnym\n",
    "\n",
    "<img src=\"images/JPEG_ZigZag.svg\" style=\"width:300px\">"
   ]
  },
  {
   "cell_type": "markdown",
   "metadata": {
    "slideshow": {
     "slide_type": "slide"
    }
   },
   "source": [
    "## Filtry splotowe\n",
    "\n",
    "####  Sól i pieprz\n",
    "\n",
    "![](images/pepper_salt.png)"
   ]
  },
  {
   "cell_type": "markdown",
   "metadata": {
    "slideshow": {
     "slide_type": "subslide"
    }
   },
   "source": [
    "#### Filtr uśredniający\n",
    "\n",
    "![](images/pepper_mean.png)"
   ]
  },
  {
   "cell_type": "markdown",
   "metadata": {
    "slideshow": {
     "slide_type": "subslide"
    }
   },
   "source": [
    "#### Filtr Gaussowski\n",
    "\n",
    "![](images/pepper_gauss.png)"
   ]
  },
  {
   "cell_type": "markdown",
   "metadata": {
    "slideshow": {
     "slide_type": "subslide"
    }
   },
   "source": [
    "### Filtr medianowy\n",
    "\n",
    "![](images/pepper_median.png)"
   ]
  },
  {
   "cell_type": "markdown",
   "metadata": {
    "slideshow": {
     "slide_type": "slide"
    }
   },
   "source": [
    "## Operatory morfologiczne\n",
    "\n",
    "#### Dylatacja\n",
    "\n",
    "![](images/dilation.png)"
   ]
  },
  {
   "cell_type": "markdown",
   "metadata": {
    "slideshow": {
     "slide_type": "subslide"
    }
   },
   "source": [
    "#### Erozja\n",
    "\n",
    "![](images/erosion.png)"
   ]
  },
  {
   "cell_type": "markdown",
   "metadata": {
    "slideshow": {
     "slide_type": "subslide"
    }
   },
   "source": [
    "#### Dylatacja obrazu \"sól\"\n",
    "\n",
    "![](images/astronaut_dilate.png)"
   ]
  },
  {
   "cell_type": "markdown",
   "metadata": {
    "slideshow": {
     "slide_type": "subslide"
    }
   },
   "source": [
    "#### Erozja obrazu \"sól\"\n",
    "\n",
    "![](images/astronaut_erode.png)"
   ]
  },
  {
   "cell_type": "markdown",
   "metadata": {
    "slideshow": {
     "slide_type": "subslide"
    }
   },
   "source": [
    "#### Otwarcie\n",
    "\n",
    "![](images/astronaut_open.png)"
   ]
  },
  {
   "cell_type": "markdown",
   "metadata": {
    "slideshow": {
     "slide_type": "subslide"
    }
   },
   "source": [
    "#### Zamknięcie\n",
    "\n",
    "![](images/astronaut_close.png)"
   ]
  },
  {
   "cell_type": "markdown",
   "metadata": {
    "slideshow": {
     "slide_type": "slide"
    }
   },
   "source": [
    "## Transformata Hougha\n",
    "\n",
    "![](images/hough_simple.png?1)"
   ]
  },
  {
   "cell_type": "markdown",
   "metadata": {
    "slideshow": {
     "slide_type": "subslide"
    }
   },
   "source": [
    "#### Transformata Hougha obrazu naturalnego\n",
    "\n",
    "![](images/hough_camera.png)"
   ]
  },
  {
   "cell_type": "markdown",
   "metadata": {
    "slideshow": {
     "slide_type": "subslide"
    }
   },
   "source": [
    "#### Maksima transformaty Houhgha jako linie\n",
    "\n",
    "![](images/hough_lines.png)"
   ]
  },
  {
   "cell_type": "markdown",
   "metadata": {
    "slideshow": {
     "slide_type": "slide"
    }
   },
   "source": [
    "## Detekcja rogów Harris'a\n",
    "\n",
    "(1988)\n",
    "\n",
    "\\begin{equation}\n",
    "E(u,v)=\\sum_{x,y} \\underbrace{w(x,y)}_{\\text{window}} [\\underbrace{I(x+u,y+v)}_{\\text{shifted intensity}} - \\underbrace{I(x,y)}_{\\text{intensity}}]^2\n",
    "\\end{equation}"
   ]
  },
  {
   "cell_type": "markdown",
   "metadata": {
    "slideshow": {
     "slide_type": "subslide"
    }
   },
   "source": [
    "#### Intuicja wzoru\n",
    "\n",
    "<img src=\"images/harris.png\" style=\"width:500px\">"
   ]
  },
  {
   "cell_type": "markdown",
   "metadata": {
    "slideshow": {
     "slide_type": "subslide"
    }
   },
   "source": [
    "#### Na podstawie rozwinięcia szeregu Taylora\n",
    "\n",
    "\\begin{equation}\n",
    "E(u,v)\\cong\n",
    "\\begin{bmatrix}\n",
    "u & v\n",
    "\\end{bmatrix}\n",
    "M\n",
    "\\begin{bmatrix}\n",
    "u \\\\ v\n",
    "\\end{bmatrix}\n",
    "\\end{equation}\n",
    "\n",
    "\\begin{equation}\n",
    "M=\\sum_{x,y} w(x,y) \n",
    "\\begin{bmatrix}\n",
    "I^2_x & I_xI_y \\\\\n",
    "I_xI_y & I^2_y\n",
    "\\end{bmatrix}\n",
    "\\end{equation}"
   ]
  },
  {
   "cell_type": "markdown",
   "metadata": {
    "slideshow": {
     "slide_type": "subslide"
    }
   },
   "source": [
    "#### Wartości  własne (eigenvalues)\n",
    "\n",
    "<img src=\"images/harris2.png?1\" style=\"width:500px\">"
   ]
  },
  {
   "cell_type": "markdown",
   "metadata": {
    "slideshow": {
     "slide_type": "subslide"
    }
   },
   "source": [
    "#### Miara odpowiedzi rogów\n",
    "\n",
    "\\begin{equation}\n",
    "R=\\det M - k (\\text{trace } M)^2\n",
    "\\end{equation}\n",
    "\n",
    "\\begin{equation}\n",
    "\\det M = \\lambda_1\\lambda_2 \\\\\n",
    "\\text{trace } M = \\lambda_1 + \\lambda_2\n",
    "\\end{equation}\n"
   ]
  },
  {
   "cell_type": "markdown",
   "metadata": {
    "slideshow": {
     "slide_type": "subslide"
    }
   },
   "source": [
    "#### Przykład odpowiedzi na zdjęciu\n",
    "\n",
    "![](images/checker_harris.png)"
   ]
  },
  {
   "cell_type": "markdown",
   "metadata": {
    "slideshow": {
     "slide_type": "slide"
    }
   },
   "source": [
    "## Opeartor Laplace'a\n",
    "\n",
    "\\begin{equation}\n",
    "L(x,y)=\\frac{\\partial^2I}{\\partial x^2} + \\frac{\\partial^2I}{\\partial y^2}\n",
    "\\end{equation}\n",
    "\n",
    "![](images/derivs.png)"
   ]
  },
  {
   "cell_type": "markdown",
   "metadata": {
    "slideshow": {
     "slide_type": "subslide"
    }
   },
   "source": [
    "#### Przykład transformaty na zdjęciu\n",
    "\n",
    "![](images/laplacian.png)"
   ]
  },
  {
   "cell_type": "markdown",
   "metadata": {
    "slideshow": {
     "slide_type": "subslide"
    }
   },
   "source": [
    "#### Progowanie transformaty\n",
    "\n",
    "![](images/laplacian2.png)"
   ]
  },
  {
   "cell_type": "markdown",
   "metadata": {
    "slideshow": {
     "slide_type": "subslide"
    }
   },
   "source": [
    "### Laplacian of Gaussian\n",
    "\n",
    "\\begin{equation}\n",
    "LoG(x,y)=-\\frac{1}{\\pi\\sigma^4}\\left[1-\\frac{x^2+y^2}{2\\sigma^2}\\right]e^{\\left[-\\frac{x^2+y^2}{2\\sigma^2}\\right]}\n",
    "\\end{equation}"
   ]
  },
  {
   "cell_type": "markdown",
   "metadata": {
    "slideshow": {
     "slide_type": "subslide"
    }
   },
   "source": [
    "#### Różne wartości $\\sigma$\n",
    "\n",
    "\n",
    "![](images/log1.png)"
   ]
  },
  {
   "cell_type": "markdown",
   "metadata": {
    "slideshow": {
     "slide_type": "subslide"
    }
   },
   "source": [
    "#### Aproksymacje\n",
    "\n",
    "![](images/log_dog.png)"
   ]
  },
  {
   "cell_type": "markdown",
   "metadata": {
    "slideshow": {
     "slide_type": "slide"
    }
   },
   "source": [
    "## SIFT\n",
    "\n",
    "Scale-Invariant Feature Transform (2004)\n",
    "\n",
    "1. Detekcja ekstremów w piramidzie DoG dla różnych $\\sigma$\n",
    "2. Doprecyzowanie lokalizacji puntków kluczowych\n",
    "3. Określenie orientacji na podstawie gradientu\n",
    "4. Zdefiniowanie deskryptora\n",
    "    - blok 16x16 podzielony na 16 bloków 4x4, dla każdego 8-przedziałowy histogram orientacji\n",
    "    - w sumie 128 różnych wartości w deskryptorze"
   ]
  },
  {
   "cell_type": "markdown",
   "metadata": {
    "slideshow": {
     "slide_type": "subslide"
    }
   },
   "source": [
    "#### Liczenie DoG\n",
    "\n",
    "![](images/sift_dog.jpg)"
   ]
  },
  {
   "cell_type": "markdown",
   "metadata": {
    "slideshow": {
     "slide_type": "subslide"
    }
   },
   "source": [
    "#### Punkty kluczowe na przykładowym zdjęciu\n",
    "\n",
    "![](images/sift_keypoints.jpg)"
   ]
  },
  {
   "cell_type": "markdown",
   "metadata": {
    "slideshow": {
     "slide_type": "subslide"
    }
   },
   "source": [
    "### Inne metody\n",
    "\n",
    "- SURF - Speeded-Up Robust Features (2006)\n",
    "- FAST - Features from Accelerated Segment Test (2006, 2010)\n",
    "- CenSuRe/STAR - Center Surround Extremas (2008)\n",
    "- BRIEF - Binary Robust Independent Elementary Features (2010)\n",
    "- ORB - Oriented FAST and Rotated BRIEF (2011)"
   ]
  },
  {
   "cell_type": "markdown",
   "metadata": {
    "slideshow": {
     "slide_type": "slide"
    }
   },
   "source": [
    "## Głębokie siecie neuronowe\n",
    "\n",
    "![](images/hierarchical_features.png)"
   ]
  },
  {
   "cell_type": "markdown",
   "metadata": {
    "slideshow": {
     "slide_type": "subslide"
    }
   },
   "source": [
    "#### Autoenkoder\n",
    "\n",
    "![](images/autoencoder.png)"
   ]
  },
  {
   "cell_type": "markdown",
   "metadata": {
    "slideshow": {
     "slide_type": "subslide"
    }
   },
   "source": [
    "#### Przykład działania autoenkodera na bazie zdjęć MNIST\n",
    "\n",
    "![](images/ae_minst.jpg)\n",
    "\n",
    "[Youtube](https://www.youtube.com/watch?v=pM68et1o3Zk)"
   ]
  },
  {
   "cell_type": "markdown",
   "metadata": {
    "slideshow": {
     "slide_type": "subslide"
    }
   },
   "source": [
    "### Transfer learning\n",
    "\n",
    "![](images/imagenet_vgg16.png)"
   ]
  },
  {
   "cell_type": "code",
   "execution_count": null,
   "metadata": {
    "collapsed": true
   },
   "outputs": [],
   "source": []
  }
 ],
 "metadata": {
  "celltoolbar": "Slideshow",
  "kernelspec": {
   "display_name": "Python 3",
   "language": "python",
   "name": "python3"
  },
  "language_info": {
   "codemirror_mode": {
    "name": "ipython",
    "version": 3
   },
   "file_extension": ".py",
   "mimetype": "text/x-python",
   "name": "python",
   "nbconvert_exporter": "python",
   "pygments_lexer": "ipython3",
   "version": "3.6.2"
  }
 },
 "nbformat": 4,
 "nbformat_minor": 2
}
