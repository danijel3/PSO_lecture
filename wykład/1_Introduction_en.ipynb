{
 "cells": [
  {
   "cell_type": "markdown",
   "metadata": {
    "pycharm": {},
    "slideshow": {
     "slide_type": "slide"
    }
   },
   "source": [
    "# Image and signal processing\n",
    "\n",
    "## Danijel Koržinek\n",
    "### danijel@pja.edu.pl"
   ]
  },
  {
   "cell_type": "markdown",
   "metadata": {
    "pycharm": {},
    "slideshow": {
     "slide_type": "subslide"
    }
   },
   "source": [
    "# Reading material\n",
    "\n",
    "- **John G. Proakis, Dimitris K Manolakis** *Digital Signal Processing* Pearson, 4 edition, 2006.\n",
    "- **B. P. Lathi** *Signal Processing and Linear Systems* Oxford University Press, 2000.\n",
    "- **Alan V. Oppenheim, Alan S. Willsky, with S. Hamid** *Signals and Systems*, Pearson, 2 edition, 1996.\n",
    "- **Mallat Stéphane** *A Wavelet Tour of Signal Processing: The Sparse Way* Academic Press, 2009.\n",
    "\n",
    "Labs:\n",
    "- **José Unpingco** *Python for Signal Processing* Springer, 2013.\n",
    "- **Allen B. Downey** *Think DSP: Digital Signal Processing in Python*, O'Reily, 2016."
   ]
  },
  {
   "cell_type": "markdown",
   "metadata": {
    "pycharm": {},
    "slideshow": {
     "slide_type": "subslide"
    }
   },
   "source": [
    "# Grading\n",
    "\n",
    "## Labs\n",
    "\n",
    "- Each lab is graded with a mark <2-5>\n",
    "- Final grade is the mean of all the marks during the semester\n",
    "- Absence or otherwise unsolved exercise is marked 0\n",
    "- Solutions can be delivered no later than one week after the given lab\n",
    "- When justifiable, this limit can be prolonged if the lecturer gives their consent \n",
    "- A maximum of 2 unsolved exercises are allowed\n",
    "\n",
    "## Exam\n",
    "\n",
    "- The exam is based on the lecture material\n",
    "- The questions include providing simple term definitions as well as solving simple exercises "
   ]
  },
  {
   "cell_type": "markdown",
   "metadata": {
    "pycharm": {},
    "slideshow": {
     "slide_type": "slide"
    }
   },
   "source": [
    "# Introduction\n",
    "\n",
    "- In general terms, a signal is *any established gesture or sign used to transmit some form of information* \n",
    "  - lat. *signum* $\\rightarrow$ sign\n",
    "  - verb *to signal*\n",
    "\n",
    "<img src=\"https://upload.wikimedia.org/wikipedia/commons/9/9a/US_Navy_051129-N-0685C-007_Quartermaster_Seaman_Ryan_Ruona_signals_with_semaphore_flags_during_a_replenishment_at_sea.jpg\" style=\"width:320px\">\n",
    "\n",
    "- From our point of view it will be *a change in some phenomenon* (usually in time)\n",
    "- We use it for:\n",
    "  - studying physical phenomena and systems\n",
    "  - system control\n",
    "  - information transmission"
   ]
  },
  {
   "cell_type": "markdown",
   "metadata": {
    "pycharm": {},
    "slideshow": {
     "slide_type": "subslide"
    }
   },
   "source": [
    "# Discussion\n",
    "\n",
    "Can you give some examples of signals?\n",
    "\n",
    "- natural?\n",
    "- artificial?\n",
    "- for control?\n",
    "- for transmitting information?"
   ]
  },
  {
   "cell_type": "markdown",
   "metadata": {
    "pycharm": {},
    "slideshow": {
     "slide_type": "subslide"
    }
   },
   "source": [
    "# Areas where signal processing is used\n",
    "\n",
    "- telecommunication\n",
    "- transmitting information, electronics\n",
    "- sound, music, image, multimedia\n",
    "- astronomy\n",
    "- medicine\n",
    "- radars\n",
    "- satellite navigation\n",
    "- physical phenomena (eg. seismology, meteorology)\n",
    "- numerical data analysis (eg. markets)"
   ]
  },
  {
   "cell_type": "markdown",
   "metadata": {
    "pycharm": {},
    "slideshow": {
     "slide_type": "slide"
    }
   },
   "source": [
    "# Signal processing\n",
    "\n",
    "- Synthesis ie. generation of signals\n",
    "- Analysis ie. parametrisation of signals\n",
    "- Processing ie. modification  of signals"
   ]
  },
  {
   "cell_type": "markdown",
   "metadata": {
    "pycharm": {},
    "slideshow": {
     "slide_type": "subslide"
    }
   },
   "source": [
    "# Signal transmission\n",
    "### Shannon-Weaver model of communication\n",
    "\n",
    "![](images/Shannon-and-Weaver-1948.png)\n",
    "\n",
    "(Shannon and Weaver, 1948)"
   ]
  },
  {
   "cell_type": "markdown",
   "metadata": {
    "pycharm": {},
    "slideshow": {
     "slide_type": "slide"
    }
   },
   "source": [
    "# Signal types\n",
    "\n",
    "- function of time, space, ...\n",
    "  - $f(t)$ or $f(x)$\n",
    "- one-dimensional or two-dimensional or multi-dimensional\n",
    "  - $f(x)$ or $f(x,y)$\n",
    "- real or complex\n",
    "  - $\\mathbb{R}$ or $\\mathbb{C}$\n",
    "- continuous or discrete (analog or digital)\n",
    "- deterministic or random\n",
    "- periodic, pulsed, infinite"
   ]
  },
  {
   "cell_type": "markdown",
   "metadata": {
    "pycharm": {},
    "slideshow": {
     "slide_type": "subslide"
    }
   },
   "source": [
    "![](images/sound_signal.png)"
   ]
  },
  {
   "cell_type": "markdown",
   "metadata": {
    "pycharm": {},
    "slideshow": {
     "slide_type": "slide"
    }
   },
   "source": [
    "![](images/Signals.svg)\n",
    "\n",
    "(T. Zieliński)"
   ]
  },
  {
   "cell_type": "markdown",
   "metadata": {
    "pycharm": {},
    "slideshow": {
     "slide_type": "slide"
    }
   },
   "source": [
    "# Periodic signal\n",
    "\n",
    "A periodic signal is defined as:\n",
    "\n",
    "- there exists a value $T$, known as the signal period\n",
    "- which, for all time values $t \\in \\mathbb{R}$ and any value $k \\in \\mathbb{Z}$ the following holds true:\n",
    "\n",
    "$x(t)=x(t+kT)$\n",
    "\n",
    "![](images/periodic.png)"
   ]
  },
  {
   "cell_type": "markdown",
   "metadata": {
    "pycharm": {},
    "slideshow": {
     "slide_type": "subslide"
    }
   },
   "source": [
    "# Examples of deterministic signals\n",
    "\n",
    "- Square pulse\n",
    "\n",
    "\\begin{equation}\n",
    "x(t)=\\left\\{\n",
    "\\begin{array}{l l}\n",
    " 0 & \\text{dla $|t|>\\frac{1}{2}$} \\\\\n",
    " \\frac{1}{2} & \\text{dla $|t|=\\frac{1}{2}$} \\\\\n",
    " 1 & \\text{dla $|t|<\\frac{1}{2}$}\n",
    "\\end{array}\n",
    "\\right.\n",
    "\\end{equation}\n",
    "\n",
    "![](images/impuls.png?1)"
   ]
  },
  {
   "cell_type": "markdown",
   "metadata": {
    "pycharm": {},
    "slideshow": {
     "slide_type": "subslide"
    }
   },
   "source": [
    "# Examples of deterministic signals\n",
    "\n",
    "- Step\n",
    "\n",
    "\\begin{equation}\n",
    "x(t)=\\left\\{\n",
    "\\begin{array}{l l}\n",
    "1 & \\text{dla $t>0$} \\\\\n",
    "\\frac{1}{2} & \\text{dla $t=0$} \\\\\n",
    "0 & \\text{dla $t<0$}\n",
    "\\end{array}\n",
    "\\right.\n",
    "\\end{equation}\n",
    "\n",
    "![](images/skok.png)"
   ]
  },
  {
   "cell_type": "markdown",
   "metadata": {
    "pycharm": {},
    "slideshow": {
     "slide_type": "subslide"
    }
   },
   "source": [
    "# Examples of deterministic signals\n",
    "- Sine\n",
    "\\begin{equation}\n",
    "x(t)=A\\sin(\\omega_0t+\\phi)\n",
    "\\end{equation}\n",
    "![](images/sinus.png)"
   ]
  },
  {
   "cell_type": "markdown",
   "metadata": {
    "pycharm": {},
    "slideshow": {
     "slide_type": "subslide"
    }
   },
   "source": [
    "# Examples of deterministic signals\n",
    "- Sinc (simplified)\n",
    "\\begin{equation}\n",
    "x(t)=\\frac{\\sin(\\omega_0t)}{\\omega_0t}\n",
    "\\end{equation}\n",
    "![](images/sinc.png)"
   ]
  },
  {
   "cell_type": "markdown",
   "metadata": {
    "pycharm": {},
    "slideshow": {
     "slide_type": "slide"
    }
   },
   "source": [
    "# Radnom signals\n",
    "\n",
    "- stationary - statistical parameters don't change over time\n",
    "    - *...stochastic process whose unconditional joint probability distribution does \n",
    "    not change when shifted in time. Consequently, parameters such as mean and \n",
    "    variance also do not change over time.*\n",
    "- ergodic - parameters also don't change for any collection of samples\n",
    "    - *...a stochastic process is said to be ergodic if its statistical properties \n",
    "    can be deduced from a single, sufficiently long, random sample of the process.*\n",
    "- ergodic processes are usually modelled using a probability distribution function, eg.:\n",
    "  - uniform\n",
    "  - normal, Gaussian\n",
    "  - Poisson\n",
    "  - etc..."
   ]
  },
  {
   "cell_type": "markdown",
   "metadata": {
    "pycharm": {},
    "slideshow": {
     "slide_type": "subslide"
    }
   },
   "source": [
    "![](images/losowe_small.png)\n",
    "\n",
    "(T. Zielinski)"
   ]
  },
  {
   "cell_type": "markdown",
   "metadata": {
    "pycharm": {},
    "slideshow": {
     "slide_type": "slide"
    }
   },
   "source": [
    "# Signal representation\n",
    "\n",
    "- a signal is usually written as a real function of time: $f(x)$\n",
    "- a signal can also be represented as a complex function\n",
    "  - for example, this exponential complex signal:\n",
    "\n",
    "\\begin{equation}\n",
    "z(t)=e^{j\\omega t}=\\cos(\\omega t)+j\\sin(\\omega t)\n",
    "\\end{equation}\n",
    "\n",
    "- a signal can also be converted to a different domain (from time):\n",
    "  - for example, into frequency using the Fourier transform"
   ]
  },
  {
   "cell_type": "markdown",
   "metadata": {
    "pycharm": {},
    "slideshow": {
     "slide_type": "slide"
    }
   },
   "source": [
    "# Digital signal\n",
    "\n",
    "- Continous (analog) signal\n",
    "- Continous-time discrete signal\n",
    "  - eg. output of a DAC before interpolation\n",
    "  - quantization\n",
    "- Discrete-time continous signal\n",
    "  - eg. CCD matrix output\n",
    "  - sampling\n",
    "- Discrete time discrete signal - digital signal"
   ]
  },
  {
   "cell_type": "markdown",
   "metadata": {
    "pycharm": {},
    "slideshow": {
     "slide_type": "subslide"
    }
   },
   "source": [
    "# Advantages of digital signal processing\n",
    "\n",
    "- flexibility, ability to program\n",
    "- stability, resistance to interference, loss of quality\n",
    "- reproducibility\n",
    "- data compression\n",
    "- efficient multi-channel use\n",
    "- low price"
   ]
  },
  {
   "cell_type": "markdown",
   "metadata": {
    "pycharm": {},
    "slideshow": {
     "slide_type": "slide"
    }
   },
   "source": [
    "# Transforms\n",
    "\n",
    "- a signal is represented by a function of numbers, eg.: \n",
    "\n",
    "\\begin{equation}\n",
    "f(t) : \\mathbb{R} \\to \\mathbb{R}\n",
    "\\end{equation}\n",
    "\n",
    "- a transform is a mathematical operation (similar to a function) but operating on functions:\n",
    "\n",
    "\\begin{equation}\n",
    "F(f) : f(t) \\to g(\\xi)\n",
    "\\end{equation}\n",
    "\n",
    "- allows to view the signal from a *different angle*\n",
    "- significantly simplifies some mathematical computations"
   ]
  },
  {
   "cell_type": "markdown",
   "metadata": {
    "pycharm": {},
    "slideshow": {
     "slide_type": "slide"
    }
   },
   "source": [
    "# Subject overview\n",
    "\n",
    "- One-dimensional signal processing\n",
    "  - Signals and their properties\n",
    "  - LTI systems and convolution\n",
    "  - Fourier Transform\n",
    "  - Quantization and signal encoding\n",
    "  - Discrete Fourier Transform, FFT, STFT\n",
    "  - Digital filters\n",
    "- Image processing\n",
    "  - Image encoding, color spaces\n",
    "  - Histograms and point operations\n",
    "  - Image convolution\n",
    "  - Image transforms\n",
    "  - Morphological operations"
   ]
  }
 ],
 "metadata": {
  "celltoolbar": "Slideshow",
  "kernelspec": {
   "display_name": "Python 3",
   "language": "python",
   "name": "python3"
  },
  "language_info": {
   "codemirror_mode": {
    "name": "ipython",
    "version": 3
   },
   "file_extension": ".py",
   "mimetype": "text/x-python",
   "name": "python",
   "nbconvert_exporter": "python",
   "pygments_lexer": "ipython3",
   "version": "3.7.6"
  },
  "pycharm": {
   "stem_cell": {
    "cell_type": "raw",
    "metadata": {
     "collapsed": false
    },
    "source": []
   }
  }
 },
 "nbformat": 4,
 "nbformat_minor": 1
}
