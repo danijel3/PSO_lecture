{
  "cells": [
    {
      "cell_type": "markdown",
      "metadata": {
        "slideshow": {
          "slide_type": "slide"
        },
        "pycharm": {}
      },
      "source": "# Image and signal processing\n\n## Danijel Koržinek\n### danijel@pja.edu.pl"
    },
    {
      "cell_type": "markdown",
      "metadata": {
        "slideshow": {
          "slide_type": "subslide"
        },
        "pycharm": {}
      },
      "source": "# Reading material\n\nTODO\n\nLabs:\n- **José Unpingco** *Python for Signal Processing* Springer 2013.\n- **Allen B. Downey** *Think DSP: Digital Signal Processing in Python*, O\u0027Reily, 2016."
    },
    {
      "cell_type": "markdown",
      "metadata": {
        "slideshow": {
          "slide_type": "subslide"
        },
        "pycharm": {}
      },
      "source": "# Grading\n\n## Labs\n\n- Each lab is graded with a mark 2-5\n- Final grade is the mean of all the marks during the semestr\n- Absence or otherwise unsolved exercise is marked 0\n- Solutions can be delivered no later than one week after the given lab\n- When justifiable, this limit can be prolonged if the lecturer gives their consent \n- A maximum of 2 unsolved exercises are allowed\n\n## Egzamin\n\n- The exam is based on the lecture material\n- The questions include providing simple term definitions as well as solving simple exercises "
    },
    {
      "cell_type": "markdown",
      "metadata": {
        "slideshow": {
          "slide_type": "slide"
        },
        "pycharm": {}
      },
      "source": "# Introduction\n\n- In general terms, a signal is *any established gesture or sign used to transmit some form of information* \n  - lat. *signum* $\\rightarrow$ sign\n  - verb *to signal*\n\n\u003cimg src\u003d\"https://upload.wikimedia.org/wikipedia/commons/9/9a/US_Navy_051129-N-0685C-007_Quartermaster_Seaman_Ryan_Ruona_signals_with_semaphore_flags_during_a_replenishment_at_sea.jpg\" style\u003d\"width:320px\"\u003e\n\n- From our point of view it will be *a change in some phenomenon* (usually in time)\n- We use it for:\n  - studying physical phenomena and systems\n  - system control\n  - information transmission"
    },
    {
      "cell_type": "markdown",
      "metadata": {
        "slideshow": {
          "slide_type": "subslide"
        },
        "pycharm": {}
      },
      "source": "# Discussion\n\nCan you give some examples of signals?\n\n- natural?\n- artificial?\n- for control?\n- for transmitting information?"
    },
    {
      "cell_type": "markdown",
      "metadata": {
        "slideshow": {
          "slide_type": "subslide"
        },
        "pycharm": {}
      },
      "source": "# Areas where signal processing is used\n\n- telecommunication\n- transmitting information, electronics\n- sound, music, image, multimedia\n- astronomy\n- medicine\n- radars\n- satellite navigation\n- physical phenomena (eg. seismology, meteorology)\n- numerical data analysis (eg. markets)"
    },
    {
      "cell_type": "markdown",
      "metadata": {
        "slideshow": {
          "slide_type": "slide"
        },
        "pycharm": {}
      },
      "source": "# Signal processing\n\n- Synthesis ie. generation of signals\n- Analysis ie. parametrisation of signals\n- Processing ie. modification  of signals"
    },
    {
      "cell_type": "markdown",
      "metadata": {
        "slideshow": {
          "slide_type": "subslide"
        },
        "pycharm": {}
      },
      "source": "# Signal transmission\n\n![](images/Shannon-and-Weaver-1948.png)\n(Shannon and Weaver, 1948)"
    },
    {
      "cell_type": "markdown",
      "metadata": {
        "slideshow": {
          "slide_type": "slide"
        },
        "pycharm": {}
      },
      "source": "# Signal types\n\n- function of time, space, ...\n  - $f(t)$ or $f(x)$\n- one-dimensional or two-dimensional or multi-dimensional\n  - $f(x)$ or $f(x,y)$\n- real or complex\n  - $\\mathbb{R}$ or $\\mathbb{C}$\n- continuous or discrete (analog or digital)\n- deterministic or random\n- periodic, pulsed, infinite"
    },
    {
      "cell_type": "markdown",
      "metadata": {
        "slideshow": {
          "slide_type": "subslide"
        },
        "pycharm": {}
      },
      "source": [
        "![](images/sound_signal.png)"
      ]
    },
    {
      "cell_type": "markdown",
      "metadata": {
        "slideshow": {
          "slide_type": "slide"
        },
        "pycharm": {}
      },
      "source": "![](images/Signals.svg)\n(T. Zieliński)"
    },
    {
      "cell_type": "markdown",
      "metadata": {
        "slideshow": {
          "slide_type": "slide"
        },
        "pycharm": {}
      },
      "source": "# Periodic signal\n\nA periodic signal is defined as:\n\n- there exists a value $T$, known as the signal period\n- which, for all time values $t \\in \\mathbb{R}$ and any value $k \\in \\mathbb{Z}$ the following holds true:\n\n$x(t)\u003dx(t+kT)$\n\n![](images/periodic.png)"
    },
    {
      "cell_type": "markdown",
      "metadata": {
        "slideshow": {
          "slide_type": "subslide"
        },
        "pycharm": {}
      },
      "source": "# Examples of deterministic signals\n\n- Square pulse\n\n\\begin{equation}\nx(t)\u003d\\left\\{\n\\begin{array}{l l}\n 0 \u0026 \\text{dla $|t|\u003e\\frac{1}{2}$} \\\\\n \\frac{1}{2} \u0026 \\text{dla $|t|\u003d\\frac{1}{2}$} \\\\\n 1 \u0026 \\text{dla $|t|\u003c\\frac{1}{2}$}\n\\end{array}\n\\right.\n\\end{equation}\n\n![](images/impuls.png?1)"
    },
    {
      "cell_type": "markdown",
      "metadata": {
        "slideshow": {
          "slide_type": "subslide"
        },
        "pycharm": {}
      },
      "source": "# Examples of deterministic signals\n\n- Step\n\n\\begin{equation}\nx(t)\u003d\\left\\{\n\\begin{array}{l l}\n1 \u0026 \\text{dla $t\u003e0$} \\\\\n\\frac{1}{2} \u0026 \\text{dla $t\u003d0$} \\\\\n0 \u0026 \\text{dla $t\u003c0$}\n\\end{array}\n\\right.\n\\end{equation}\n\n![](images/skok.png)"
    },
    {
      "cell_type": "markdown",
      "metadata": {
        "slideshow": {
          "slide_type": "subslide"
        },
        "pycharm": {}
      },
      "source": "# Examples of deterministic signals\n- Sine\n\\begin{equation}\nx(t)\u003dA\\sin(\\omega_0t+\\phi)\n\\end{equation}\n![](images/sinus.png)"
    },
    {
      "cell_type": "markdown",
      "metadata": {
        "slideshow": {
          "slide_type": "subslide"
        },
        "pycharm": {}
      },
      "source": "# Examples of deterministic signals\n- Sinc (simplified)\n\\begin{equation}\nx(t)\u003d\\frac{\\sin(\\omega_0t)}{\\omega_0t}\n\\end{equation}\n![](images/sinc.png)"
    },
    {
      "cell_type": "markdown",
      "metadata": {
        "slideshow": {
          "slide_type": "slide"
        },
        "pycharm": {}
      },
      "source": "# Radnom signals\n\n- stationary - statistical parameters don\u0027t change in time\n- ergodic - paramaeters also don\u0027t change for any sample as well as time\n- ergodic processes are usually modelled using a probability distribution function, eg.:\n  - uniform\n  - normal, Gaussian\n  - Poisson\n  - etc..."
    },
    {
      "cell_type": "markdown",
      "metadata": {
        "slideshow": {
          "slide_type": "subslide"
        },
        "pycharm": {}
      },
      "source": "![](images/losowe_small.png)\n\n(T. Zielinski)"
    },
    {
      "cell_type": "markdown",
      "metadata": {
        "slideshow": {
          "slide_type": "slide"
        },
        "pycharm": {}
      },
      "source": "# Signal representation\n\n- a signal is usually written as a real function of time: $f(x)$\n- a signal can also be represented as a complex function\n  - for example, this exponential complex signal:\n\n\\begin{equation}\nz(t)\u003de^{j\\omega t}\u003d\\cos(\\omega t)+j\\sin(\\omega t)\n\\end{equation}\n\n- a signal can also be converted to a different domain (from time):\n  - for example, into frequency using the Fourier transform"
    },
    {
      "cell_type": "markdown",
      "metadata": {
        "slideshow": {
          "slide_type": "slide"
        },
        "pycharm": {}
      },
      "source": "# Digital signal\n\n- Continous (analog) signal\n- Continous-time discrete signal\n  - eg. output of a DAC before interpolation\n  - quantization\n- Discrete-time continous signal\n  - eg. CCD matrix output\n  - sampling\n- Discrete time discrete signal - digital signal"
    },
    {
      "cell_type": "markdown",
      "metadata": {
        "slideshow": {
          "slide_type": "subslide"
        },
        "pycharm": {}
      },
      "source": "# Advantages of digital signal processing\n\n- flexibility, ability to program\n- stability, resistance to interference, loss of quality\n- reproducibility\n- data compression\n- efficient multi-channel use\n- low price"
    },
    {
      "cell_type": "markdown",
      "metadata": {
        "slideshow": {
          "slide_type": "slide"
        },
        "pycharm": {}
      },
      "source": "# Transforms\n\n- a signal is represented by a function of numbers, eg.: \n\n\\begin{equation}\nf(t) : \\mathbb{R} \\to \\mathbb{R}\n\\end{equation}\n\n- a transform is a mathematical operation (similar to a function) but operating on functions:\n\n\\begin{equation}\nF(f) : f(t) \\to g(\\xi)\n\\end{equation}\n\n- allows to view the signal from a *different angle*\n- significantly simplifies some mathematical computations"
    },
    {
      "cell_type": "markdown",
      "metadata": {
        "slideshow": {
          "slide_type": "slide"
        },
        "pycharm": {}
      },
      "source": "# Subject overview\n\n- One-dimensional signal processing\n  - Signals and their properties\n  - LTI systems and convolution\n  - Fourier Transform\n  - Quantization and signal encoding\n  - Discrete Fourier Transform, FFT, STFT\n  - Digital filters\n- Image processing\n  - Image encoding, color spaces\n  - Histograms and point operations\n  - Image convolution\n  - Image transforms\n  - Morphological operations"
    }
  ],
  "metadata": {
    "celltoolbar": "Slideshow",
    "kernelspec": {
      "display_name": "Python 3",
      "language": "python",
      "name": "python3"
    },
    "language_info": {
      "codemirror_mode": {
        "name": "ipython",
        "version": 3
      },
      "file_extension": ".py",
      "mimetype": "text/x-python",
      "name": "python",
      "nbconvert_exporter": "python",
      "pygments_lexer": "ipython3",
      "version": "3.6.8"
    }
  },
  "nbformat": 4,
  "nbformat_minor": 1
}