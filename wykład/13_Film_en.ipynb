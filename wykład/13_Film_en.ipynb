{
  "cells": [
    {
      "cell_type": "markdown",
      "metadata": {
        "slideshow": {
          "slide_type": "slide"
        },
        "pycharm": {}
      },
      "source": "# Video"
    },
    {
      "cell_type": "markdown",
      "metadata": {
        "slideshow": {
          "slide_type": "subslide"
        },
        "pycharm": {}
      },
      "source": "## Introduction\n\n- Persistence of vision\n    - [Zoetrope](https://en.wikipedia.org/wiki/Zoetrope)\n- History\n    - [Huygens \"Magic lantern\"](https://en.wikipedia.org/wiki/Magic_lantern) (XVII c.)\n    - Lumière brothers (XIX c.) - first movie 1895.\n- Algorithm:\n    1. Open the shutter for a short time period $t_0$\n    2. Display/record an image\n    3. Close shutter after $t_0$ time has passed\n    4. Move the tape by one frame\n    5. Go to step 1\n"
    },
    {
      "cell_type": "markdown",
      "metadata": {
        "slideshow": {
          "slide_type": "subslide"
        },
        "pycharm": {}
      },
      "source": "### Sound in movies\n\n- Slack in the film tape ([fig](https://en.wikipedia.org/wiki/Movie_projector#/media/File:Projmech.jpg))\n- Encoding audio on tape ([fig](https://upload.wikimedia.org/wikipedia/commons/thumb/1/1d/35mm_film_audio_macro.jpg/250px-35mm_film_audio_macro.jpg))"
    },
    {
      "cell_type": "markdown",
      "metadata": {
        "slideshow": {
          "slide_type": "subslide"
        },
        "pycharm": {}
      },
      "source": "### Video sampling\n\n- Analog video is defined using variables $x$,$y$ and $t$\n- On tape $x$ and $y$ are real but $t$ is sampled\n- Nyquist rule for video, eg. [1](https://www.youtube.com/watch?v\u003dUkotZy3lQqo), [2](https://www.youtube.com/watch?v\u003dVNftf5qLpiA)\n- 3D Fourier transform\n- Typical sampling frequencies:\n    - 12, 24/25 - cinema\n    - 50/60 - TV, monitor\n- Components:\n    - YUV444, YUV422, YUV411, YUV420 [link](https://en.wikipedia.org/wiki/Chroma_subsampling#Sampling_systems_and_ratios)\n- Eg. YUV444:\n\n\\begin{equation}\n24 \\text{ fps} \\cdot 3 \\text{ ch.} \\cdot 1920 \\cdot 1080 \\cdot 8 \\text{ b} \u003d 1194393600 \\text{ b/s} \\approx 1.94 \\text{ Gb/s}\n\\end{equation}\n\n- [Interlace](https://en.wikipedia.org/wiki/Interlaced_video)"
    },
    {
      "cell_type": "markdown",
      "metadata": {
        "slideshow": {
          "slide_type": "subslide"
        },
        "pycharm": {}
      },
      "source": "### MPEG\n\n- Individual frame compression: MJPEG\n- Difference encoding\n    - macroblocks (4 blocks 8x8 pixels)\n    - motion vectors (x,y) and rotation (r)\n- Frame types:\n    - I (internal), P (progressive), B (bi-predictive)\n- Example of encoding: IPBBBBBBIPBBBBBBIPBBBBBB\n- 1080p can be transferred with as little as 9.5 Mb/s\n- Frame loss [link](https://www.researchgate.net/publication/224393200_Not_All_Packets_Are_Equal_Part_2_The_Impact_of_Network_Packet_Loss_on_Video_Quality)"
    }
  ],
  "metadata": {
    "celltoolbar": "Slideshow",
    "kernelspec": {
      "display_name": "Python 3",
      "language": "python",
      "name": "python3"
    },
    "language_info": {
      "codemirror_mode": {
        "name": "ipython",
        "version": 3
      },
      "file_extension": ".py",
      "mimetype": "text/x-python",
      "name": "python",
      "nbconvert_exporter": "python",
      "pygments_lexer": "ipython3",
      "version": "3.6.2"
    }
  },
  "nbformat": 4,
  "nbformat_minor": 2
}