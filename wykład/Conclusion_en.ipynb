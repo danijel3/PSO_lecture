{
  "cells": [
    {
      "cell_type": "markdown",
      "metadata": {
        "slideshow": {
          "slide_type": "slide"
        },
        "pycharm": {}
      },
      "source": "# Lecture conclusion"
    },
    {
      "cell_type": "markdown",
      "metadata": {
        "slideshow": {
          "slide_type": "slide"
        },
        "pycharm": {}
      },
      "source": "### Signals\n\n- Definition\n- Signal types (properties)\n- Signal formulas (major ones)\n- Signal parameters:\n    - energy, power, statistical moments, ...\n- Exponenetial form\n- Comparison and (dis)advantages of digital/analog\n- AM/FM/PM modulation\n- Concepts:\n    - sample, amplitude, phase, frequency, envelope"
    },
    {
      "cell_type": "markdown",
      "metadata": {
        "slideshow": {
          "slide_type": "slide"
        },
        "pycharm": {}
      },
      "source": "### LTI systems\n\n- Definition and applications\n- Linearity\n- Time independence\n- Causality\n- Stability"
    },
    {
      "cell_type": "markdown",
      "metadata": {
        "slideshow": {
          "slide_type": "slide"
        },
        "pycharm": {}
      },
      "source": "### Convolution\n\n- Description and appliaction\n- Formula and computation methods\n- Types:\n    - continous, discrete, circular\n- Properties"
    },
    {
      "cell_type": "markdown",
      "metadata": {
        "slideshow": {
          "slide_type": "slide"
        },
        "pycharm": {}
      },
      "source": "### Transforms\n\n- Types and application of Fourier transforms\n    - Fourier series, Fourier transform, DTFT, STFT\n- Trigonometrical and complex FS\n- Analytic and synthetic tranforms\n- Spectrum\n    - amplitude, magnitude, phase, argument, power\n- TF limitation\n- TF properties\n- TF symmetry"
    },
    {
      "cell_type": "markdown",
      "metadata": {
        "slideshow": {
          "slide_type": "subslide"
        },
        "pycharm": {}
      },
      "source": "- Parsevala/Plancherela/power theorem\n- DFT base\n- Zero-padding for DFT\n- DC-offset and influence on DFT\n- Windowing (Hamming, etc.)\n- FFT\n    - principle of operation\n    - computation complexity\n    - DIT/DIF\n    - filtering using DFT\n- time-frequency analysis and STFT\n- Heisenberg uncertainty principle in T-F analysis"
    },
    {
      "cell_type": "markdown",
      "metadata": {
        "slideshow": {
          "slide_type": "slide"
        },
        "pycharm": {}
      },
      "source": "### Sampling\n\n- Sampling\n- Quantization\n    - Quantization types\n- Interpolation\n- Nyquist theorem\n- Aliasing and folding\n- Example sampling frequencies and bit depths\n- SNR\n"
    },
    {
      "cell_type": "markdown",
      "metadata": {
        "slideshow": {
          "slide_type": "slide"
        },
        "pycharm": {}
      },
      "source": "### Filtering\n\n- Filter types\n    - FIR/IIR, HP/LP/BP/BS/AP\n- Generating others from LP\n- Design rules\n    - including linearity, causality and stability\n- IIR/FIR (dis)advantages\n- Linear FIRs\n- Z transform\n    - types (and properties) of filters from Z transform\n    - ROC\n- Transfer function"
    },
    {
      "cell_type": "markdown",
      "metadata": {
        "slideshow": {
          "slide_type": "subslide"
        },
        "pycharm": {}
      },
      "source": "- Example filters:\n    - mean, gaussian, sine, sinc\n- FIR design algorithms\n    - sampling in frequency domain\n    - least squares optimization\n    - windowing\n- IIR filter design (only types, no need to describe)"
    },
    {
      "cell_type": "markdown",
      "metadata": {
        "slideshow": {
          "slide_type": "slide"
        },
        "pycharm": {}
      },
      "source": "### Images\n\n- Theory\n    - speed of light\n    - wavelengths for visible light\n    - infrared and ultraviolet\n    - light intesity measures\n    - color temperature (black body temperature)\n    - eye anatomy (roughly)\n    - types of screens\n    - types of printers\n    - subpixel rendering\n    - color and color channels"
    },
    {
      "cell_type": "markdown",
      "metadata": {
        "slideshow": {
          "slide_type": "subslide"
        },
        "pycharm": {}
      },
      "source": "- Concepts\n    - pixel, resolution, dpi\n- Histogram\n- Image moments\n- Color sapces"
    },
    {
      "cell_type": "markdown",
      "metadata": {
        "slideshow": {
          "slide_type": "slide"
        },
        "pycharm": {}
      },
      "source": "### Point operations\n\n- Linear\n- Nonlinear\n    - gamma, sigmoid\n- Quantization as a point operation\n- Dithering\n- Thresholding\n    - single value, OTSU, adaptation"
    },
    {
      "cell_type": "markdown",
      "metadata": {
        "slideshow": {
          "slide_type": "slide"
        },
        "pycharm": {}
      },
      "source": "### 2D transform\n\n- Fourier in 2D\n- DCT in 2D\n- Aliasing in images\n- Convolution in 2D\n- Filtring in images\n    - mean, gauss, LP, HP\n    - median\n- Edge detection\n    - derivative\n    - Sobel\n    - Laplacian, LoG, DoG\n    - edge amplitude/phase\n    - Canny"
    },
    {
      "cell_type": "markdown",
      "metadata": {
        "slideshow": {
          "slide_type": "slide"
        },
        "pycharm": {}
      },
      "source": "### Other\n\n- JPEG (basic description of algorithm)\n- Morphological transformation\n    - dilation, erosion, closing, opening\n- Hough transform\n- Image features (knowledge of basic algorithm properties)\n    - Harris corner, SIFT, SURF, FAST, ORB, STAR, BRIEF\n- Neutal networks (knowledge of concepts)\n    - convolution networks, autoencoder, deep learning, transfer learning"
    }
  ],
  "metadata": {
    "celltoolbar": "Slideshow",
    "kernelspec": {
      "display_name": "Python 3",
      "language": "python",
      "name": "python3"
    },
    "language_info": {
      "codemirror_mode": {
        "name": "ipython",
        "version": 3
      },
      "file_extension": ".py",
      "mimetype": "text/x-python",
      "name": "python",
      "nbconvert_exporter": "python",
      "pygments_lexer": "ipython3",
      "version": "3.6.2"
    }
  },
  "nbformat": 4,
  "nbformat_minor": 2
}