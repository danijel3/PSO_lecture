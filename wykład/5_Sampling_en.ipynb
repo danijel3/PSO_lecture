{
 "cells": [
  {
   "cell_type": "markdown",
   "metadata": {
    "pycharm": {},
    "slideshow": {
     "slide_type": "slide"
    }
   },
   "source": [
    "# Sampling and quantization"
   ]
  },
  {
   "cell_type": "markdown",
   "metadata": {
    "pycharm": {},
    "slideshow": {
     "slide_type": "subslide"
    }
   },
   "source": [
    "## Recap\n",
    "\n",
    "### Continous signal\n",
    "\n",
    "![](images/analog.png)"
   ]
  },
  {
   "cell_type": "markdown",
   "metadata": {
    "pycharm": {},
    "slideshow": {
     "slide_type": "subslide"
    }
   },
   "source": [
    "### Sampling\n",
    "\n",
    "![](images/discrete_time.png)"
   ]
  },
  {
   "cell_type": "markdown",
   "metadata": {
    "pycharm": {},
    "slideshow": {
     "slide_type": "subslide"
    }
   },
   "source": [
    "### Quantization\n",
    "\n",
    "![](images/discrete_value.png)"
   ]
  },
  {
   "cell_type": "markdown",
   "metadata": {
    "pycharm": {},
    "slideshow": {
     "slide_type": "subslide"
    }
   },
   "source": [
    "### Digital signal\n",
    "\n",
    "![](images/digital.png)"
   ]
  },
  {
   "cell_type": "markdown",
   "metadata": {
    "pycharm": {},
    "slideshow": {
     "slide_type": "slide"
    }
   },
   "source": [
    "## Sampling\n",
    "\n",
    "- Reading the instantaneous value of the signal at regular time steps \n",
    "\t- While assuming precision in time, instantaneousness and no noise\n",
    "- We get a series of discrete pulses corresponding to the continous signal \n",
    "- Which continuous signals can we reproduce using these pulses? \n",
    "- How do we sample in order to avoid problems with reproducing the original continous signal? "
   ]
  },
  {
   "cell_type": "markdown",
   "metadata": {
    "pycharm": {},
    "slideshow": {
     "slide_type": "subslide"
    }
   },
   "source": [
    "### Interpolation\n",
    "\n",
    "![](images/interpolation.png?1)"
   ]
  },
  {
   "cell_type": "markdown",
   "metadata": {
    "pycharm": {},
    "slideshow": {
     "slide_type": "subslide"
    }
   },
   "source": [
    "### Sufficient amount of samples\n",
    "\n",
    "![](images/oversample.png)"
   ]
  },
  {
   "cell_type": "markdown",
   "metadata": {
    "pycharm": {},
    "slideshow": {
     "slide_type": "subslide"
    }
   },
   "source": [
    "### Insufficient amount of samples\n",
    "\n",
    "![](images/undersample.png)"
   ]
  },
  {
   "cell_type": "markdown",
   "metadata": {
    "pycharm": {},
    "slideshow": {
     "slide_type": "subslide"
    }
   },
   "source": [
    "### Sampling as a product with a pulse train\n",
    "\n",
    "- Let's define sampling in the following manner:\n",
    "\n",
    "\\begin{equation}\n",
    "x_p(t)=x_c(t)\\cdot\\delta(t)\n",
    "\\end{equation}\n",
    "\n",
    "- In frequency domain we get:\n",
    "\n",
    "\\begin{equation}\n",
    "\\begin{array}{ll}\n",
    "X_p(\\omega) & = \\frac{1}{2\\pi} X_c(\\omega)*D(\\omega) \\\\\n",
    "  & = \\frac{1}{2\\pi}X_c(\\omega)*\\left[\\frac{2\\pi}{T}\\sum_{k=-\\infty}^{\\infty} \\delta(\\omega-k\\omega_p) \\right] \\\\\n",
    "  & = \\frac{1}{T} \\sum_{k=\\infty}^{\\infty}X_c(\\omega-k\\omega_p)\n",
    "\\end{array}\n",
    "\\end{equation}\n",
    "\n",
    "*Note: $x_p$ should really be $x_s$ but the images on the next slide are from a polish book* "
   ]
  },
  {
   "cell_type": "markdown",
   "metadata": {
    "pycharm": {},
    "slideshow": {
     "slide_type": "subslide"
    }
   },
   "source": [
    "### Delta pulse train\n",
    "\n",
    "<img src=\"images/pulsetrain1.png\" style=\"width:400px\">\n",
    "<img src=\"images/pulsetrain2.png\" style=\"width:400px\">"
   ]
  },
  {
   "cell_type": "markdown",
   "metadata": {
    "pycharm": {},
    "slideshow": {
     "slide_type": "subslide"
    }
   },
   "source": [
    "![](images/sampling1.png)"
   ]
  },
  {
   "cell_type": "markdown",
   "metadata": {
    "pycharm": {},
    "slideshow": {
     "slide_type": "subslide"
    }
   },
   "source": [
    "### Bad case\n",
    "\n",
    "![](images/sampling2.png)"
   ]
  },
  {
   "cell_type": "markdown",
   "metadata": {
    "pycharm": {},
    "slideshow": {
     "slide_type": "subslide"
    }
   },
   "source": [
    "## Sampling theorem\n",
    "\n",
    "- Let $\\omega_p$ be the sampling frequency\n",
    "- Let $\\omega_{max}$ be the maximum frequency of the sampled signal\n",
    "- We say:\n",
    "\\begin{equation}\n",
    "\\omega_p > 2\\cdot\\omega_{max}\n",
    "\\end{equation}\n",
    "- Where the value $2\\cdot\\omega_{max}$ in the formula above is known as the Nyquist or Shannon rate\n",
    "- Not to be confused with $\\omega_p/2$ which is known as the Nyquist or Shannon frequency\n",
    "- For proof of the above formula, looking at the previous slide we can see that to avoid overlap $\\omega_{max}$ has to be smaller than $\\omega_p-\\omega_{max}$"
   ]
  },
  {
   "cell_type": "markdown",
   "metadata": {
    "pycharm": {},
    "slideshow": {
     "slide_type": "subslide"
    }
   },
   "source": [
    "## Aliasing\n",
    "\n",
    "![](https://upload.wikimedia.org/wikipedia/commons/f/f6/Aliasing-folding.png)"
   ]
  },
  {
   "cell_type": "markdown",
   "metadata": {
    "pycharm": {},
    "slideshow": {
     "slide_type": "subslide"
    }
   },
   "source": [
    "## Is it okay to make $\\omega_p = 2\\cdot\\omega_{max}$?\n",
    "\n",
    "- What will happen to $\\cos(t)$, and what will happen to $\\sin(t)$?"
   ]
  },
  {
   "cell_type": "markdown",
   "metadata": {
    "pycharm": {},
    "slideshow": {
     "slide_type": "subslide"
    }
   },
   "source": [
    "## Example values of sampling frequency\n",
    "\n",
    "- 8000 Hz - telephony, sufficient to transfer speech information\n",
    "- 16000 Hz - wideband telephony, high-quality voice transfer (e.g. VoIP, ASR) \n",
    "- 32/36 kHz - Audio casettes\n",
    "- 44100 Hz - Audio CD, MPEG-1 (based on the PAL standard: 3 samples, 588 lines, 25 fps)\n",
    "    * 11025, 22050 - For loq-quality recordings to save space\n",
    "    * 44056 - Using the NTSC standard\n",
    "- 48000 Hz - High-quality studio recording standard\n",
    "- 96, 192, ... kHz - DVD, BluRay, ultrasound?"
   ]
  },
  {
   "cell_type": "markdown",
   "metadata": {
    "pycharm": {},
    "slideshow": {
     "slide_type": "slide"
    }
   },
   "source": [
    "## Quantization\n",
    "\n",
    "\n",
    "![](images/discrete_value.png)"
   ]
  },
  {
   "cell_type": "markdown",
   "metadata": {
    "pycharm": {},
    "slideshow": {
     "slide_type": "subslide"
    }
   },
   "source": [
    "## Linear quantization\n",
    "\n",
    "(8 levels = 3 bits)\n",
    "\n",
    "![](images/uniform_quant.png)"
   ]
  },
  {
   "cell_type": "markdown",
   "metadata": {
    "pycharm": {},
    "slideshow": {
     "slide_type": "subslide"
    }
   },
   "source": [
    "### Resistor ladder DAC\n",
    "\n",
    "![](images/R2r-ladder.png)"
   ]
  },
  {
   "cell_type": "markdown",
   "metadata": {
    "pycharm": {},
    "slideshow": {
     "slide_type": "subslide"
    }
   },
   "source": [
    "### Flash ADC\n",
    "\n",
    "![](images/three-bit-flash-ADC-circuit-answercard.jpg)"
   ]
  },
  {
   "cell_type": "markdown",
   "metadata": {
    "pycharm": {},
    "slideshow": {
     "slide_type": "subslide"
    }
   },
   "source": [
    "## Properties\n",
    "\n",
    "- Quantization is usually performed as: $\\hat{x}(t) = \\lfloor x(t)\\cdot L \\rfloor$, where $L$ is the number of levels \n",
    "\t- here we assume the signal $x(t)$ is in the range of $<0,1>$ \n",
    "- The reconstruction of the signal is $x(t) = \\hat{x}(t)/L+\\epsilon(t)$ where $\\epsilon$ is the qunatization error\n",
    "- This error is a random process in the range $<0..1/L>$ and has a uniform distribution \n",
    "- The error is independent on the content of the signal, which makes it sound like white noise\n",
    "- This noise is often referred to as **quantization noise**\n",
    "- The most common PCM encoding scheme uses a linear encoding with 16 bits per sample "
   ]
  },
  {
   "cell_type": "markdown",
   "metadata": {
    "pycharm": {},
    "slideshow": {
     "slide_type": "subslide"
    }
   },
   "source": [
    "## SNR as the measure of signal quality\n",
    "\n",
    "- SNR - Signal-to-noise ratio:\n",
    "\n",
    "\\begin{equation}\n",
    "\\text{SNR} = \\frac{\\sigma^2_{\\text{signal}}}{\\sigma^2_{\\text{noise}}}\n",
    "\\end{equation}\n",
    "\n",
    "- Remember that we defined the noise as $\\epsilon(t)=x(t)-\\hat{x}(t)$\n",
    "- This value can also be computed from signal power:\n",
    "\n",
    "\\begin{equation}\n",
    "\\text{SNR} = \\frac{P_{\\text{signal}}}{P_{\\text{noise}}}\n",
    "\\end{equation}\n",
    "\n",
    "- It is often provided in decibel: $SNR_{dB} = 10\\cdot log_{10}(SNR)$\n",
    "- AS a general rule: each 1 bit improves the SNR by ~6 dB"
   ]
  },
  {
   "cell_type": "markdown",
   "metadata": {
    "pycharm": {},
    "slideshow": {
     "slide_type": "subslide"
    }
   },
   "source": [
    "## Is there a better alternative to linear encoding?\n",
    "\n",
    "![](images/log_quant.png)"
   ]
  },
  {
   "cell_type": "markdown",
   "metadata": {
    "pycharm": {},
    "slideshow": {
     "slide_type": "subslide"
    }
   },
   "source": [
    "## Logarithmic encoding\n",
    "\n",
    "- $\\mu$-law  / A-law \n",
    "- used in telephony (8-bits, T0/POTS 64 kb/s)\n",
    "- formula for $\\mu$-law encoding:\n",
    "\n",
    "\\begin{equation}\n",
    "\\hat{x}=sgn(x)\\frac{ln(1+\\mu \\vert x \\vert)}{ln(1+\\mu)}\n",
    "\\end{equation}\n",
    "\n",
    "- where $x\\in <-1,1>$ and $\\mu$ is the maximum value (so 255 for 8-bits)\n",
    "- decoding:\n",
    "\n",
    "\\begin{equation}\n",
    "x=sgn(\\hat{x})(1/\\mu)((1+\\mu)^{\\vert\\hat{x}\\vert}-1)\n",
    "\\end{equation}\n"
   ]
  },
  {
   "cell_type": "markdown",
   "metadata": {
    "pycharm": {},
    "slideshow": {
     "slide_type": "subslide"
    }
   },
   "source": [
    "## Can we do even better?\n",
    "\n",
    "- Signal PDF and Lloyd-Max algorithm\n",
    "- Adaptive coding - A-PCM\n",
    "    - feed-forward - we compute the adaptation coefficient from $x(t)$ and send it with the signal\n",
    "    - feed-back - we compute the coefficient from $\\hat{x}(t)$\n",
    "- differential encoding - D-PCM\n",
    "- ADPCM algorithm (only 4-bits per sample!)"
   ]
  }
 ],
 "metadata": {
  "celltoolbar": "Slideshow",
  "kernelspec": {
   "display_name": "Python 3",
   "language": "python",
   "name": "python3"
  },
  "language_info": {
   "codemirror_mode": {
    "name": "ipython",
    "version": 3
   },
   "file_extension": ".py",
   "mimetype": "text/x-python",
   "name": "python",
   "nbconvert_exporter": "python",
   "pygments_lexer": "ipython3",
   "version": "3.7.6"
  },
  "pycharm": {
   "stem_cell": {
    "cell_type": "raw",
    "metadata": {
     "collapsed": false
    },
    "source": []
   }
  }
 },
 "nbformat": 4,
 "nbformat_minor": 2
}
