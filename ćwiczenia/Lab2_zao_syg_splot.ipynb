{
  "nbformat": 4,
  "nbformat_minor": 0,
  "metadata": {
    "colab": {
      "name": "Lab2_zao_syg_splot.ipynb",
      "version": "0.3.2",
      "provenance": []
    },
    "kernelspec": {
      "display_name": "Python 3",
      "language": "python",
      "name": "python3"
    }
  },
  "cells": [
    {
      "metadata": {
        "id": "gVfC5Jq4tdWb",
        "colab_type": "text"
      },
      "cell_type": "markdown",
      "source": [
        "# Sygnały 1D\n",
        "\n",
        "W tym ćwiczeniu zaczniemy od analizy prostych sygnałów jedno-wymiarowych. Na początku zainiciujemy bibliotekę Matplotlib po to żeby nie trzeba tego robić więcej niż raz w całym Notebooku (uruchom poniższy blok)."
      ]
    },
    {
      "metadata": {
        "id": "t3pmnzQqtdWe",
        "colab_type": "code",
        "colab": {}
      },
      "cell_type": "code",
      "source": [
        "%pylab inline"
      ],
      "execution_count": 0,
      "outputs": []
    },
    {
      "metadata": {
        "id": "s9mLIMVNtdWp",
        "colab_type": "text"
      },
      "cell_type": "markdown",
      "source": [
        "## Zadania wstępne - proste sygnały\n",
        "\n",
        "Narysuj następujące funkcje. Dla zmiennej $x$ zakładamy zakres wartości $<0,20>$.\n",
        "\n",
        "### Funkcja schodkowa (step function)\n",
        "\n",
        "![](https://raw.githubusercontent.com/danijel3/PSO_lecture/master/%C4%87wiczenia/step.png)"
      ]
    },
    {
      "metadata": {
        "id": "ZLCYgZratdWs",
        "colab_type": "code",
        "colab": {}
      },
      "cell_type": "code",
      "source": [
        ""
      ],
      "execution_count": 0,
      "outputs": []
    },
    {
      "metadata": {
        "id": "54XM9eEltdW0",
        "colab_type": "text"
      },
      "cell_type": "markdown",
      "source": [
        "### Impuls (warto użyć funkcji \"stem\")\n",
        "\n",
        "![](https://raw.githubusercontent.com/danijel3/PSO_lecture/master/%C4%87wiczenia/impulse.png)"
      ]
    },
    {
      "metadata": {
        "id": "qBlkPcRhtdW1",
        "colab_type": "code",
        "colab": {}
      },
      "cell_type": "code",
      "source": [
        ""
      ],
      "execution_count": 0,
      "outputs": []
    },
    {
      "metadata": {
        "id": "h3iZ_XpjtdW8",
        "colab_type": "text"
      },
      "cell_type": "markdown",
      "source": [
        "### Sygnał kwadratowy (square wave):\n",
        "\n",
        "![](https://raw.githubusercontent.com/danijel3/PSO_lecture/master/%C4%87wiczenia/square.png)"
      ]
    },
    {
      "metadata": {
        "id": "Su5BrQottdXA",
        "colab_type": "code",
        "colab": {}
      },
      "cell_type": "code",
      "source": [
        ""
      ],
      "execution_count": 0,
      "outputs": []
    },
    {
      "metadata": {
        "id": "eNDEC1BptdXH",
        "colab_type": "text"
      },
      "cell_type": "markdown",
      "source": [
        "### Sygnał \"piła\" (sawtooth wave):\n",
        "\n",
        "![](https://raw.githubusercontent.com/danijel3/PSO_lecture/master/%C4%87wiczenia/sawtooth.png)"
      ]
    },
    {
      "metadata": {
        "id": "FAXPQj27tdXI",
        "colab_type": "code",
        "colab": {}
      },
      "cell_type": "code",
      "source": [
        ""
      ],
      "execution_count": 0,
      "outputs": []
    },
    {
      "metadata": {
        "id": "ZEShqiJhtdXS",
        "colab_type": "text"
      },
      "cell_type": "markdown",
      "source": [
        "### Sygnał trójkątny (triangle wave):\n",
        "\n",
        "![](https://raw.githubusercontent.com/danijel3/PSO_lecture/master/%C4%87wiczenia/triangle.png)"
      ]
    },
    {
      "metadata": {
        "id": "IKZ3_1v0tdXW",
        "colab_type": "code",
        "colab": {}
      },
      "cell_type": "code",
      "source": [
        ""
      ],
      "execution_count": 0,
      "outputs": []
    },
    {
      "metadata": {
        "id": "tKkZLZBitdXj",
        "colab_type": "text"
      },
      "cell_type": "markdown",
      "source": [
        "## Sygnał sinusoidalny\n",
        "\n",
        "Proszę narysować sygnał sinusoidalny o następujących parametrach:\n",
        "\n",
        "* Amplituda: 2\n",
        "* Częstotliwość: 5 Hz\n",
        "* Faza: $\\pi/2$ rad\n",
        "* Długość: 3 s\n",
        "* Częstotliwość próbkowania: 100 Hz\n",
        "\n",
        "Sprawdź również inne ustawienia żeby zobaczyć jak poszczególne parametry wpływają na wygląd sygnału."
      ]
    },
    {
      "metadata": {
        "id": "MlQYVDUWtdXk",
        "colab_type": "code",
        "colab": {}
      },
      "cell_type": "code",
      "source": [
        ""
      ],
      "execution_count": 0,
      "outputs": []
    },
    {
      "metadata": {
        "id": "TxTLR_kltdXr",
        "colab_type": "text"
      },
      "cell_type": "markdown",
      "source": [
        "Teraz stwórz jedną sekundę syngału o częstotliowści próbkowania 48 kHz i częstotliwości 300 Hz. Odtwórz go w komponencie HTML5. Spróbuj inne częstotliwości żeby poznać ich brzmienia."
      ]
    },
    {
      "metadata": {
        "id": "10nb47fFtdXt",
        "colab_type": "code",
        "colab": {}
      },
      "cell_type": "code",
      "source": [
        ""
      ],
      "execution_count": 0,
      "outputs": []
    },
    {
      "metadata": {
        "id": "BAVmg5kstdX3",
        "colab_type": "text"
      },
      "cell_type": "markdown",
      "source": [
        "# Splot\n",
        "\n",
        "Funkcja splotu jest podana wzorem:\n",
        "\n",
        "$(f * g)(m) = \\sum_{n=1}^{N}f(n)g(m-n)$ &nbsp;&nbsp;&nbsp;&nbsp; dla $m=1..M$\n",
        "\n",
        "Gdzie N to długość sygnału N, a M wynikowego sygnału. Zaimplementuj daną funkcję używając wyłącznie podstawowych operatrów oraz pętli *for*. Porównaj czas działania swojej funkcji z wbudowaną funkcją *numpy.convolve*."
      ]
    },
    {
      "metadata": {
        "id": "oxM-IZegtdX6",
        "colab_type": "code",
        "colab": {}
      },
      "cell_type": "code",
      "source": [
        ""
      ],
      "execution_count": 0,
      "outputs": []
    },
    {
      "metadata": {
        "id": "-Ga5kvIxtdYC",
        "colab_type": "text"
      },
      "cell_type": "markdown",
      "source": [
        "## Odpowiedź impulsowa\n",
        "\n",
        "Wygeneruj funkcję $g$ o długości 10, używając losowo wybranych przez siebie liczb. Jako funkcję $f$ użyj delty Kroneckera o długości 100 próbek. Jaki jest wynik splotu tych dwóch sygnałów? Zwróć uwagę na wzór i implementację funkcji splotu i zastanów się dlaczego tak jest."
      ]
    },
    {
      "metadata": {
        "id": "_Dw5xA7ftdYI",
        "colab_type": "code",
        "colab": {}
      },
      "cell_type": "code",
      "source": [
        ""
      ],
      "execution_count": 0,
      "outputs": []
    },
    {
      "metadata": {
        "id": "lOGIYBFztdYN",
        "colab_type": "text"
      },
      "cell_type": "markdown",
      "source": [
        "# Praca domowa\n",
        "\n",
        "## Ćwiczenia z generowania sygnału sinusoidalnego\n",
        "\n",
        "Wygeneruj sygnał wyrażony jako suma sygnałów o parametrach podanych poniżej. Sygnał ma mieć 2.5 sekundy, przy częstotliwości próbkowania 44.1 kHz. Narysuj i odtwórz taki dźwięk.\n",
        "\n",
        "1. f=500Hz A=2 $\\phi$=0 rad\n",
        "2. f=1234Hz A=0.5 $\\phi$=$\\pi$ rad\n",
        "3. f=100Hz A=1 $\\phi$=115$^\\circ$"
      ]
    },
    {
      "metadata": {
        "id": "6vkW7cAJtdYO",
        "colab_type": "code",
        "colab": {}
      },
      "cell_type": "code",
      "source": [
        ""
      ],
      "execution_count": 0,
      "outputs": []
    },
    {
      "metadata": {
        "id": "fSI7FCYjtdYT",
        "colab_type": "text"
      },
      "cell_type": "markdown",
      "source": [
        "Wygeneruj sekundę sygnału o częstotliwości próbkowania 10 kHz z parametrów poniżej i narysuj. Czemu uzyskałeś taki wykres (zwróć uwagę na zakres wartości)?\n",
        "\n",
        "1. f=100 Hz A=1 $\\phi$=$\\frac{\\pi}{2}$\n",
        "2. f=200 Hz A=2 $\\phi$=$\\pi$\n",
        "3. f=100 Hz A=-1 $\\phi$=$\\frac{\\pi}{2}$\n",
        "4. f=200 Hz A=2 $\\phi$=$2\\pi$"
      ]
    },
    {
      "metadata": {
        "id": "G87PY2GntdYW",
        "colab_type": "code",
        "colab": {}
      },
      "cell_type": "code",
      "source": [
        ""
      ],
      "execution_count": 0,
      "outputs": []
    },
    {
      "metadata": {
        "id": "DZ91aL_6tdYd",
        "colab_type": "text"
      },
      "cell_type": "markdown",
      "source": [
        "## Pogłos spolotowy\n",
        "\n",
        "Innym zastosowaniem odpowiedzi impulsowej jest bardziej kreatywny. Możemy nałożyć charakterystykę danego pomieszczenia na nudny sygnał nagrany w studiu, żeby mu nadać więcej *charakteru*. Wczytaj bazę danych odpowiedzi impulsowej AIR, którą możesz pobrać ze strony poniżej (używając przykładowo polecenia wget):\n",
        "\n",
        "http://www.ind.rwth-aachen.de/en/research/tools-downloads/aachen-impulse-response-database/\n",
        "\n",
        "Jeśli pracujesz na szkolnym serwerze, w Twoim katalogu powienien już istnieć katalog o nazwie *AIR_1_4*. Sprawdź jego zawartość.\n",
        "\n",
        "Pliki w bazie danych są zapisane w formacie Matlaba. Łatwo je można wczytać używając metody *scipy.io.loadmat*. Po wczytaniu pliku z bazy danych, element słownika *h_air* zawiera odpowiedź impulsową, a *air_info* podstawowe informacje o nagraniu. Odtwórz i narysuj wybrany impuls. UWAGA: impuls jest zapisany w postaci macierzy 2D (której jedna oś ma rozmiar 1), więc należy najpierw dokonać metody *flatten* żeby się pozbyć zbędnego wymiaru.\n",
        "\n",
        "Ściągnij plik 'zdanie.wav' ze strony z ćwiczeniami (używając wget) i wczytaj za pomocą metody *scipy.io.wavread*. Dokonaj splotu wczytanego pliku z jednym z impulsów powyżej.\n",
        "\n",
        "Procedura ta nadaje więcej *echa* nagraniu. Takie echo jest znane również jako *pogłos* (ang. reverb). Jest wiele metod generowania pogłosu w nagraniu. Metoda, którą my użyliśmy nazwya się *pogłos splotowy* (ang. convolution reverb)."
      ]
    },
    {
      "metadata": {
        "id": "oEMKb9oCtdYe",
        "colab_type": "code",
        "colab": {}
      },
      "cell_type": "code",
      "source": [
        ""
      ],
      "execution_count": 0,
      "outputs": []
    }
  ]
}