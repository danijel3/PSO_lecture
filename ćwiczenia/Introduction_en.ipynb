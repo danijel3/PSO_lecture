{
  "nbformat": 4,
  "nbformat_minor": 0,
  "metadata": {
    "colab": {
      "name": "Wprowadzenie.ipynb",
      "version": "0.3.2",
      "provenance": [],
      "collapsed_sections": []
    },
    "kernelspec": {
      "name": "python3",
      "language": "python",
      "display_name": "Python 3"
    }
  },
  "cells": [
    {
      "metadata": {
        "id": "1iSO4mShQvAb",
        "colab_type": "text",
        "pycharm": {}
      },
      "cell_type": "markdown",
      "source": "# PSO - Introduction\n\nImage and Signal Processing deals with the theory behind synthesis, analysis and processing of one- (eg. sound) and two-deimensional (eg. image) signals. \nThe labs will consist of practical exercises related to the topics discussed in the lectures (which are mandatory to understand the contents of the labs).\nDuring the labs will use the Python programming language including a list of libraries, among others:\n\n* numpy - library for fast numerical and mathematical operations\n* scipy - library containig various algorithms used in scientific computing (also signal processing)\n* scikit-image - library for image processing\n* matplotlib - library for drawing charts and graphs\n\nIf you are using Python on your own computer, you can use the command:\n\n\u003e pip install [package]\n\nor\n\n\u003e easy_install [package]\n\nor\n\n\u003e conda install [package]\n\nApart from the above, we will also use the Jupyter Notebook environment. This will simplify the way we conduct exercises by keeping both the task and their solution in a single document. This tool uses a web application to edit and execute python code \nand saves everyhing in \\*.ipynb files. Each lab will consist of a task file, just like this one, which has to be solved during the labs or at home.\n"
    },
    {
      "metadata": {
        "id": "JoAJ6TlnQvAe",
        "colab_type": "text",
        "pycharm": {}
      },
      "cell_type": "markdown",
      "source": "# Python language basics\n\nAs with most other weakly typed scripting languages, Python doesn\u0027t require you to declare variable types and executes each instruction as soon as it is entered on the command line (smilarly to eg. Javascript).\nAdditionally, Python doesn\u0027t use any end-line delimiter (so no semi-colon) and uses indents as part of the syntax. This is the only major thing that requires getting use to (ie. whitespace is a part of the language syntax).\n\nRegardless, one can easily execute a simple command like this (press play on the next cell):"
    },
    {
      "metadata": {
        "id": "9SS3FDexQvAh",
        "colab_type": "code",
        "colab": {},
        "pycharm": {}
      },
      "cell_type": "code",
      "source": [
        "1+1"
      ],
      "execution_count": 0,
      "outputs": []
    },
    {
      "metadata": {
        "id": "iy47XaSRQvAp",
        "colab_type": "text",
        "pycharm": {}
      },
      "cell_type": "markdown",
      "source": "Each block of code which generates some output will automatically write the last line to the screen. If we wish to print out more than one line on the output, we should use the `print` comannd:"
    },
    {
      "metadata": {
        "id": "g8gld6ZXQvAq",
        "colab_type": "code",
        "colab": {},
        "pycharm": {}
      },
      "cell_type": "code",
      "source": [
        "print(1+1)\n",
        "x\u003d1\n",
        "print(x+x)"
      ],
      "execution_count": 0,
      "outputs": []
    },
    {
      "metadata": {
        "id": "irv511CGQvAy",
        "colab_type": "text",
        "pycharm": {}
      },
      "cell_type": "markdown",
      "source": "For text variables we can use either single or double quotes:"
    },
    {
      "metadata": {
        "id": "HntdDwr_QvAz",
        "colab_type": "code",
        "colab": {},
        "pycharm": {}
      },
      "cell_type": "code",
      "source": [
        "a\u003d\u0027Hello\u0027\n",
        "b\u003d\u0027world\u0027\n",
        "print(a+\u0027 \u0027+b+\u0027!\u0027)"
      ],
      "execution_count": 0,
      "outputs": []
    },
    {
      "metadata": {
        "id": "F_KdRRGtQvA3",
        "colab_type": "text",
        "pycharm": {}
      },
      "cell_type": "markdown",
      "source": "As mentioned earlier, types are assigned dynamically, but they can be verified and converted at any time in a simple and intuitive manner:"
    },
    {
      "metadata": {
        "id": "Jv6_hQhnQvA6",
        "colab_type": "code",
        "colab": {},
        "pycharm": {}
      },
      "cell_type": "code",
      "source": "x\u003d1\nprint(type(x))\nx\u003d1.2\nprint(type(x))\nx\u003d\u0027a\u0027\nprint(type(x))\nx\u003dstr(1)\nprint(type(x))\nx\u003dint(\u00271\u0027)\nprint(type(x))",
      "execution_count": 0,
      "outputs": []
    },
    {
      "metadata": {
        "id": "a9lafWE_QvA-",
        "colab_type": "text",
        "pycharm": {}
      },
      "cell_type": "markdown",
      "source": "We can also easily chech the members of any object:"
    },
    {
      "metadata": {
        "id": "mabp-NuDQvA_",
        "colab_type": "code",
        "colab": {},
        "pycharm": {}
      },
      "cell_type": "code",
      "source": "x\u003dopen(\u0027test\u0027,\u0027w\u0027) #open a file called test\nprint(dir(x))\nx.close()",
      "execution_count": 0,
      "outputs": []
    },
    {
      "metadata": {
        "id": "Xe6OjZLqQvBE",
        "colab_type": "text",
        "pycharm": {}
      },
      "cell_type": "markdown",
      "source": "As shown above, comments in Python are written using the \u0027#\u0027 symbol. \n\nBy convention, multiline comments are started and finished using triple quote:"
    },
    {
      "metadata": {
        "id": "zw0xFXfVQvBF",
        "colab_type": "code",
        "colab": {},
        "pycharm": {}
      },
      "cell_type": "code",
      "source": "\u0027\u0027\u0027\nThis is a multiline comment.\nThese lines don\u0027t do anything.\nThis is useful for writing documentation and descriptions of classes and methods.\n\u0027\u0027\u0027",
      "execution_count": 0,
      "outputs": []
    },
    {
      "metadata": {
        "id": "E1E0aE17QvBJ",
        "colab_type": "text",
        "pycharm": {}
      },
      "cell_type": "markdown",
      "source": "Jupyter Notebook is a simple application, but it provides several useful features as a basic IDE. \n\nPressing TAB will acrivate code-completion (both for built-in functions and variables as well as those mentioned in the code above). Try it here: "
    },
    {
      "metadata": {
        "id": "kyCavwizQvBL",
        "colab_type": "code",
        "colab": {},
        "pycharm": {}
      },
      "cell_type": "code",
      "source": [
        "di"
      ],
      "execution_count": 0,
      "outputs": []
    },
    {
      "metadata": {
        "id": "dGMJIVGUQvBS",
        "colab_type": "text",
        "pycharm": {}
      },
      "cell_type": "markdown",
      "source": "A question mark after the name of a function opens the help system:"
    },
    {
      "metadata": {
        "id": "IqV81NKCQvBU",
        "colab_type": "code",
        "colab": {},
        "pycharm": {}
      },
      "cell_type": "code",
      "source": [
        "dir?"
      ],
      "execution_count": 0,
      "outputs": []
    },
    {
      "metadata": {
        "id": "aszEHH9RQvBZ",
        "colab_type": "text",
        "pycharm": {
          "name": "#%% md\n"
        }
      },
      "cell_type": "markdown",
      "source": "All other docs and keyboard shortcuts can be found in the Help menu on top.\n\n## Loops and arrays\n\nThe basic data structure in Python for representing sequences is a list. A list is created and accessed with square brackets:"
    },
    {
      "metadata": {
        "id": "i4CHIyPoQvBa",
        "colab_type": "code",
        "colab": {},
        "pycharm": {}
      },
      "cell_type": "code",
      "source": "a\u003d[] #creates empty list\nprint(type(a))\n\na\u003d[1,2,3]\nprint(a)\n\nprint(a[1])\n\nprint(a[0:2])#write everything from index 0 (inclusive) to 2 (exclusive)",
      "execution_count": 0,
      "outputs": []
    },
    {
      "metadata": {
        "id": "O92WG8cIQvBf",
        "colab_type": "text",
        "pycharm": {}
      },
      "cell_type": "markdown",
      "source": "Multidimensional lists (eg. matrices) can also be defined:"
    },
    {
      "metadata": {
        "id": "MmbDmmIgQvBg",
        "colab_type": "code",
        "colab": {},
        "pycharm": {}
      },
      "cell_type": "code",
      "source": [
        "a\u003d[[1,2,3],[4,5,6],[7,8,9]]\n",
        "print(a)"
      ],
      "execution_count": 0,
      "outputs": []
    },
    {
      "metadata": {
        "id": "MJcWlpB1QvBk",
        "colab_type": "text",
        "pycharm": {}
      },
      "cell_type": "markdown",
      "source": "A list can be used to easily add or remove any element:"
    },
    {
      "metadata": {
        "id": "JNCOAQWkQvBl",
        "colab_type": "code",
        "colab": {},
        "pycharm": {}
      },
      "cell_type": "code",
      "source": "a\u003d[1,2,3]\nprint(a)\na.append(4)\nprint(a)\na.remove(2)\nprint(a)\na.pop(1)\nprint(a)",
      "execution_count": 0,
      "outputs": []
    },
    {
      "metadata": {
        "id": "V3yemrtcQvBt",
        "colab_type": "text",
        "pycharm": {}
      },
      "cell_type": "markdown",
      "source": "The conditional statement IF as written as follows. Note the mandatory indent in the line following the statement. If the indent is missing, an error will be displayed (try it out):"
    },
    {
      "metadata": {
        "id": "hzlURAjbQvBv",
        "colab_type": "code",
        "colab": {},
        "pycharm": {}
      },
      "cell_type": "code",
      "source": [
        "a\u003d[[1,2,3],[4,5,6],[7,8,9]]\n",
        "if a[1][1]\u003c5:\n",
        "    print (\u0027\u003c5\u0027)\n",
        "else:\n",
        "    print (\u0027\u003e\u003d5\u0027)"
      ],
      "execution_count": 0,
      "outputs": []
    },
    {
      "metadata": {
        "id": "18Hj_0-7QvB1",
        "colab_type": "text",
        "pycharm": {}
      },
      "cell_type": "markdown",
      "source": "Loops are written as follows:"
    },
    {
      "metadata": {
        "id": "XUcDB-UjQvB3",
        "colab_type": "code",
        "colab": {},
        "pycharm": {}
      },
      "cell_type": "code",
      "source": [
        "for x in range(0,3):\n",
        "    for y in range(0,3):\n",
        "        print (a[x][y])"
      ],
      "execution_count": 0,
      "outputs": []
    },
    {
      "metadata": {
        "id": "25D9XzXQQvB9",
        "colab_type": "text",
        "pycharm": {}
      },
      "cell_type": "markdown",
      "source": "## Classes and functions\n\nA function is defined using the keyword **def** like this:"
    },
    {
      "metadata": {
        "id": "K350cDwMQvB_",
        "colab_type": "code",
        "colab": {},
        "pycharm": {}
      },
      "cell_type": "code",
      "source": "def function(x,y,z):\n    x\u003dx/y+z\n    return x**2\n\nprint (function(1,2,3))",
      "execution_count": 0,
      "outputs": []
    },
    {
      "metadata": {
        "id": "1GmxMWI7QvCF",
        "colab_type": "text",
        "pycharm": {}
      },
      "cell_type": "markdown",
      "source": "Classes are defined in a very similar fashion with the caveat that due to the dynamic nature of the language, the contents of the class can be modified much more liberally. The use of classes isn\u0027t necessary in this course:"
    },
    {
      "metadata": {
        "id": "ka6vERoXQvCI",
        "colab_type": "code",
        "colab": {},
        "pycharm": {}
      },
      "cell_type": "code",
      "source": "class MyClass:\n    \n    class_variable\u003d1\n    \n    def __init__(self):#optional contructor\n        print(\u0027constructor\u0027)\n\t\tself.variable_initialization\u003d0\n    \n    def method(self, arg):#class member methods always have \"self\" as the first argument\n        return arg+self.class_variable\n    \nx\u003dMyClass()\nprint(x.method(1))\n\nx.any_other_variable\u003d2 #we can do this because Python is weakly typed and it\u0027s not an error\n\nprint(dir(x))",
      "execution_count": 0,
      "outputs": []
    },
    {
      "metadata": {
        "id": "Qi9qFi4-QvCM",
        "colab_type": "text",
        "pycharm": {}
      },
      "cell_type": "markdown",
      "source": "## Numpy\n\nLibraries are added to the program using the **import** statement. Numpy is a very useful library used for numeric computation. It allows for efficient computation of complicated vector, matrix and other data type algorithms.\n\nThe import statement can also use an **as** keyword to rename the library to something else (usually shorter)."
    },
    {
      "metadata": {
        "id": "S8rTgmEJQvCN",
        "colab_type": "code",
        "colab": {},
        "pycharm": {}
      },
      "cell_type": "code",
      "source": [
        "import numpy as np\n",
        "\n",
        "x\u003dnp.array([[1,2,3],[4,5,6],[7,8,9]])\n",
        "\n",
        "print (x)\n",
        "\n",
        "print (x.sum())\n",
        "\n",
        "print (x.mean(axis\u003d0))\n",
        "\n",
        "print (x.dtype)"
      ],
      "execution_count": 0,
      "outputs": []
    },
    {
      "metadata": {
        "id": "8DBzRve9QvCR",
        "colab_type": "text",
        "pycharm": {}
      },
      "cell_type": "markdown",
      "source": "It can be useful to use a differetnt data type for an array. Note that while a Python list can contain any sequence of data types, numpy array elements all have the same type."
    },
    {
      "metadata": {
        "id": "x73EA8H8QvCT",
        "colab_type": "code",
        "colab": {},
        "pycharm": {}
      },
      "cell_type": "code",
      "source": [
        "x\u003dnp.array([[1,2,3],[4,5,6],[7,8,9]])\n",
        "\n",
        "print(x/2)\n",
        "\n",
        "x\u003dnp.array([[1,2,3],[4,5,6],[7,8,9]],dtype\u003dnp.int32)\n",
        "\n",
        "print(x//2)"
      ],
      "execution_count": 0,
      "outputs": []
    },
    {
      "metadata": {
        "id": "JLOLaVz2QvCZ",
        "colab_type": "text",
        "pycharm": {}
      },
      "cell_type": "markdown",
      "source": "We can use two methods to read numpy elements:"
    },
    {
      "metadata": {
        "id": "PoVE-YbOQvCb",
        "colab_type": "code",
        "colab": {},
        "pycharm": {}
      },
      "cell_type": "code",
      "source": [
        "print (x[1][1])\n",
        "print (x[1,1])"
      ],
      "execution_count": 0,
      "outputs": []
    },
    {
      "metadata": {
        "id": "VrdINa78QvCe",
        "colab_type": "text",
        "pycharm": {}
      },
      "cell_type": "markdown",
      "source": "The second syntax allows for a convenient use of ranges:"
    },
    {
      "metadata": {
        "id": "fFf68jcaQvCh",
        "colab_type": "code",
        "colab": {},
        "pycharm": {}
      },
      "cell_type": "code",
      "source": [
        "print (x[1:2,0:2])\n",
        "print (x[:1,2:])\n",
        "print (x[:,0])"
      ],
      "execution_count": 0,
      "outputs": []
    },
    {
      "metadata": {
        "id": "u555GV_1QvCl",
        "colab_type": "text",
        "pycharm": {}
      },
      "cell_type": "markdown",
      "source": "Arrays can be merged:"
    },
    {
      "metadata": {
        "id": "3sneD-N2QvCm",
        "colab_type": "code",
        "colab": {},
        "pycharm": {}
      },
      "cell_type": "code",
      "source": [
        "print (np.vstack([x,x]))\n",
        "print (np.hstack([x,x]))"
      ],
      "execution_count": 0,
      "outputs": []
    },
    {
      "metadata": {
        "id": "5lQvW68tQvCp",
        "colab_type": "text",
        "pycharm": {}
      },
      "cell_type": "markdown",
      "source": "They can also be reshaped:"
    },
    {
      "metadata": {
        "id": "ButuOpDJQvCr",
        "colab_type": "code",
        "colab": {},
        "pycharm": {}
      },
      "cell_type": "code",
      "source": [
        "print (x.reshape([1,9]))\n",
        "print (x.flatten())"
      ],
      "execution_count": 0,
      "outputs": []
    },
    {
      "metadata": {
        "id": "66qPxuOvQvCw",
        "colab_type": "text",
        "pycharm": {}
      },
      "cell_type": "markdown",
      "source": "# Jupyter Notebook magics\n\nMagics are a special group of built-in Jupyter Notebook commands that begin with the % symbol, eg:"
    },
    {
      "metadata": {
        "id": "b7a-5j_LQvCy",
        "colab_type": "code",
        "colab": {},
        "pycharm": {}
      },
      "cell_type": "code",
      "source": [
        "%ls sample_data"
      ],
      "execution_count": 0,
      "outputs": []
    },
    {
      "metadata": {
        "id": "OM2wggvnQvC3",
        "colab_type": "code",
        "colab": {},
        "pycharm": {}
      },
      "cell_type": "code",
      "source": [
        "x\u003dnp.random.rand(100,100)\n",
        "y\u003dnp.random.rand(100,100)\n",
        "%timeit -n 1000 z\u003dx+y"
      ],
      "execution_count": 0,
      "outputs": []
    },
    {
      "metadata": {
        "id": "O-D54Y9fQvC_",
        "colab_type": "text",
        "pycharm": {}
      },
      "cell_type": "markdown",
      "source": "To see a full list of commands, run the following cell:"
    },
    {
      "metadata": {
        "id": "u-EHtCyWQvDA",
        "colab_type": "code",
        "colab": {},
        "pycharm": {}
      },
      "cell_type": "code",
      "source": [
        "%magic"
      ],
      "execution_count": 0,
      "outputs": []
    },
    {
      "metadata": {
        "id": "4CAxmzc-QvDF",
        "colab_type": "text",
        "pycharm": {}
      },
      "cell_type": "markdown",
      "source": "## Audio\n\nWe can generate and display dynamic HTML content in Notebooks. This is somewhat limited, depending on the version of the Notebook, but we will make a liberal use of the Audio comoponent from the `IPython.display` library:"
    },
    {
      "metadata": {
        "id": "NskWKROuQvDN",
        "colab_type": "code",
        "colab": {},
        "pycharm": {}
      },
      "cell_type": "code",
      "source": [
        "import numpy as np\n",
        "from IPython.display import Audio\n",
        "\n",
        "data\u003dnp.sin(2.0*np.pi*500.0*np.linspace(0,3,3*16000.0))\n",
        "\n",
        "Audio(data,rate\u003d16000)"
      ],
      "execution_count": 0,
      "outputs": []
    },
    {
      "metadata": {
        "id": "fFfto7kIQvDT",
        "colab_type": "text",
        "pycharm": {}
      },
      "cell_type": "markdown",
      "source": "# Graphs\n\nWe will use the Matplotlib library to draw graphs. Most of the work will be based on the **matplotlib.pyplot**. A special *magic* will allow us to automatically draw the graphs in the Notebook. We will do this using the `%pylab` environment, which will allow us to automatically run Matplotlib and numpy commands."
    },
    {
      "metadata": {
        "id": "ZPdMyqgxQvDU",
        "colab_type": "code",
        "colab": {},
        "pycharm": {}
      },
      "cell_type": "code",
      "source": "%pylab inline\n\ndata\u003dnp.random.rand(10)\n\nbar(range(0,10),data)",
      "execution_count": 0,
      "outputs": []
    },
    {
      "metadata": {
        "id": "oJN3r1wfQvDX",
        "colab_type": "text",
        "pycharm": {}
      },
      "cell_type": "markdown",
      "source": "The most common graph type we will use is the line chart. The following example shows how to add several lines and a legend to the graph:"
    },
    {
      "metadata": {
        "id": "PmF9HU60QvDZ",
        "colab_type": "code",
        "colab": {},
        "pycharm": {}
      },
      "cell_type": "code",
      "source": [
        "figure(); #stwórz nowy wykres\n",
        "plot(data,\u0027r\u0027)\n",
        "plot(-data,\u0027g\u0027)\n",
        "legend((\u0027data\u0027,\u0027-data\u0027),loc\u003d\u0027upper right\u0027)\n",
        "title(\u0027Wykresy liniowe\u0027)"
      ],
      "execution_count": 0,
      "outputs": []
    },
    {
      "metadata": {
        "id": "j-IdXeIsQvDg",
        "colab_type": "text",
        "pycharm": {}
      },
      "cell_type": "markdown",
      "source": "We will use the same library do display images. The following sample will load a sample image from the *scipy* library and display it on a graph of a specified size. To do this, we first define a new image placeholder (aka. a figure), and all the subsequent drawing commands will end up in its place:"
    },
    {
      "metadata": {
        "id": "lArmXEqcQvDi",
        "colab_type": "code",
        "colab": {},
        "pycharm": {}
      },
      "cell_type": "code",
      "source": [
        "import scipy.misc\n",
        "\n",
        "img\u003dscipy.misc.face()\n",
        "\n",
        "figure(figsize\u003d[6,6])\n",
        "grid(False)\n",
        "imshow(img,cmap\u003d\u0027gray\u0027,interpolation\u003d\u0027none\u0027,origin\u003d\u0027upper\u0027)"
      ],
      "execution_count": 0,
      "outputs": []
    },
    {
      "metadata": {
        "id": "0vqfzyARQvDq",
        "colab_type": "text",
        "pycharm": {}
      },
      "cell_type": "markdown",
      "source": "We can also use the subplots command to draw several different graphs with different axes in the same area: "
    },
    {
      "metadata": {
        "id": "3eiQbts-QvDs",
        "colab_type": "code",
        "colab": {},
        "pycharm": {}
      },
      "cell_type": "code",
      "source": [
        "x\u003dnp.arange(-3,3,0.1)\n",
        "\n",
        "f,ax\u003dsubplots(5,5,sharex\u003d\u0027col\u0027, sharey\u003d\u0027row\u0027,figsize\u003d(10,10))\n",
        "\n",
        "for i in range(0,5):\n",
        "    for j in range(0,5):\n",
        "        ax[i,j].plot(i*x)\n",
        "        ax[i,j].plot(j*x**2)"
      ],
      "execution_count": 0,
      "outputs": []
    },
    {
      "metadata": {
        "id": "BHS3jFuyQvD1",
        "colab_type": "text",
        "pycharm": {}
      },
      "cell_type": "markdown",
      "source": "# Tasks\n\n## 1. Compute the product of two matrices in two ways\n\nFirst using a loop in simple Python and then using the Numpy library. Compare the effeciency of both methods (with time or timeit magics). "
    },
    {
      "metadata": {
        "id": "BfClpNJUQvD2",
        "colab_type": "code",
        "colab": {},
        "pycharm": {}
      },
      "cell_type": "code",
      "source": [
        ""
      ],
      "execution_count": 0,
      "outputs": []
    },
    {
      "metadata": {
        "id": "BUx988qxQvD6",
        "colab_type": "text",
        "pycharm": {}
      },
      "cell_type": "markdown",
      "source": "## 2. Draw a function\n\nDraw the following functions using line graphs in the range $-\\pi$ to $\\pi$:\n\n* $f(x)\u003d\\sin(x)*\\sin(100x)$\n* $f(x)\u003dx$\n* $f(x)\u003d-x$"
    },
    {
      "metadata": {
        "id": "ehb2NTpHQvD7",
        "colab_type": "code",
        "colab": {},
        "pycharm": {}
      },
      "cell_type": "code",
      "source": [
        ""
      ],
      "execution_count": 0,
      "outputs": []
    },
    {
      "metadata": {
        "id": "rakW7RWfQvEE",
        "colab_type": "text",
        "pycharm": {}
      },
      "cell_type": "markdown",
      "source": "## 3. Analyze a file online\n\nDownload the following file:\n\nhttp://www.openfst.org/twiki/pub/FST/FstExamples/wotw.txt\n\nCompute the frequency of each word in the text and draw a bar graph displaying the word frequency from most frequent to least frequent.\n\nTo solve this task use the internet and documentation, eg:\n\nhttp://lmgtfy.com/?q\u003dpython+download+file+from+url\n\nhttp://lmgtfy.com/?q\u003dpython+file\n\nhttp://lmgtfy.com/?q\u003dpython+strings\n\nhttp://lmgtfy.com/?q\u003dpython+lists"
    },
    {
      "metadata": {
        "id": "uHk_Tu08QvEF",
        "colab_type": "code",
        "colab": {},
        "pycharm": {}
      },
      "cell_type": "code",
      "source": [
        ""
      ],
      "execution_count": 0,
      "outputs": []
    }
  ]
}