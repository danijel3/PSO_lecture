{
  "nbformat": 4,
  "nbformat_minor": 0,
  "metadata": {
    "colab": {
      "name": "Lab6_dz_DFT_FFT_STFT.ipynb",
      "version": "0.3.2",
      "provenance": [],
      "collapsed_sections": []
    },
    "kernelspec": {
      "display_name": "Python 3",
      "language": "python",
      "name": "python3"
    }
  },
  "cells": [
    {
      "metadata": {
        "id": "Bxz60s0kZIp-",
        "colab_type": "code",
        "colab": {}
      },
      "cell_type": "code",
      "source": [
        "%pylab inline"
      ],
      "execution_count": 0,
      "outputs": []
    },
    {
      "metadata": {
        "id": "f37kaF6iZIqI",
        "colab_type": "text"
      },
      "cell_type": "markdown",
      "source": [
        "# Modyfikacja sygnału w dziedzinie częstotliwości\n",
        "\n",
        "Weźmy sygnał sinusoidalny zawierający dwie częstotliwości: $1kHz$ i $2kHz$. Chcemy z tego sygnału usunąć jedną z tych częstotliwości, ale nie wiemy nic na temat filtrowania - jest na to prosty sposób oparty o szybką transformatę Fouriera i jej odswrotną funckję.\n",
        "\n",
        "1. Wygeneruj w/w sygnał i narysuj jego wykres. Możesz użyć funkcji *xlim(0,0.01)* żeby zbliżyć początek wykresu.\n",
        "2. Oblicz transformatę Fouriera i narysuj widmo amplitudowe sygnału.\n",
        "3. Skasuj wartości na jednej z wybranej częstotliwości i jakimś zakresie przed i po, np $900-1100 Hz$, żeby skasować sygnał $1kHz$.\n",
        "4. Weź pod uwagę że transformata Fouriera musi być symteryczna, więc zastosuj operację opisaną niżej.\n",
        "5. Narysuj poprawiony wykres widma sygnału.\n",
        "6. Dokonaj odwrotnej transformaty i narysuj poprawiony sygnał. Wypisz również wartośc próbek sygnału. Jeśli operacja w pkt. 6 została dokonana poprawnie, wartość liczb urojonych (*np.imag*) wyniku powinien być zero (albo bardzo bliski zera).\n",
        "\n",
        "## Symetryczność Hermitowska\n",
        "\n",
        "\\begin{equation}\n",
        "H_{F_{s}-x}=H_x^\\star \\text{, dla } x \\in <1,F_s-1>\n",
        "\\end{equation}\n",
        "\n",
        "Implementacyjnie można zastosować następujące kroki/funkcje:\n",
        "\n",
        "1. Pobieramy wartości lewej części wykresu (bez 0 i $F_s/2$)\n",
        "2. Stosujemy *np.flipud* żeby je odwrócić\n",
        "3. Stosujemy na tym *np.conj* żeby wyliczyć sprzężenie.\n",
        "4. Wklejamy wynik na odpowiednie miejsce po prawej stronie wykresu (również bez $F_s/2$)"
      ]
    },
    {
      "metadata": {
        "id": "r6H3Bgb2ZIqK",
        "colab_type": "code",
        "colab": {}
      },
      "cell_type": "code",
      "source": [
        ""
      ],
      "execution_count": 0,
      "outputs": []
    },
    {
      "metadata": {
        "id": "0xsxdAJIZIqQ",
        "colab_type": "text"
      },
      "cell_type": "markdown",
      "source": [
        "## Alternatywne rozwiązanie\n",
        "\n",
        "Zamiast funkcji *fft.fft* i *fft.ifft* można stosować bardziej wydajne funkcje *fft.rfft* i *fft.irfft*. R-FFT liczy tylko lewą część wykresu (czyli od $0..F_s/2$), a I-R-FFT liczy odwrotną funkcję z wyniku R-FFT ignorując wymogi symetrii, jak w przykładzie powyżej.\n",
        "\n",
        "Powtórz poprzednie zadanie użwyając *fft.rfft* i *fft.irfft*."
      ]
    },
    {
      "metadata": {
        "id": "llJk4GftZIqT",
        "colab_type": "code",
        "colab": {}
      },
      "cell_type": "code",
      "source": [
        ""
      ],
      "execution_count": 0,
      "outputs": []
    },
    {
      "metadata": {
        "id": "XgTjl5YVZIqY",
        "colab_type": "text"
      },
      "cell_type": "markdown",
      "source": [
        "# Przeciek częstotliwości\n",
        "\n",
        "1. Wygeneruj sekwencję liczb od 999 do 1001 w ilości np. 100 sztuk.\n",
        "2. W pętli dokonaj utworzenie sygnału o częstotliwości z pkt 1, amplitudzie 1 i zerowej fazie.\n",
        "3. Również w pętli wylicz transformatę Fouriera sygnału i policz wartość wierzchołka (funkcją *np.max*) i zapisz wynik w jakiejś liście.\n",
        "4. Narysuj listę wartości z pkt. 3. na wykresie którego oś X to wartości z pkt. 1.\n",
        "\n",
        "Zauważ, że wartość amplitudy wcale nie jest stała i zmienia się nawet o 40%! Zobaczmy jak wyglądają wykresy skrajnych wartości tego eksperymentu. Narysuj wykres transformaty Fouriera sygnału o częstotliwości gdzie amplituda była najniższa i najwyższa (możesz policzyć *np.argmin* z listy w pkt. 3 oraz użyć tego indeksu żeby pobrać wartość z listy w pkt. 1). Zbliż wykres widma amplitudowego do zakresu częstotliwości od $980 Hz$ do $1020 Hz$ używając *P.xlim*.\n",
        "\n",
        "Zauważ, że w maksymalnym przypadku wykres wygląda idealnie: jest jeden punkt, a jego wartość jest równa wartości amplitudy pomnożonej przez połowę ilości próbek sygnału (druga połowa się znajduje na prawej stronie wykresu). \n",
        "\n",
        "W minimalnym przypadku wykres wygląda zupełnie inaczej. Ponieważ położenie analizowanej częstotliwości nie leży w żadnym punkcie transformaty, amplituda tej sinusoidy się \"rozlewa\" na sąsiednie wartości."
      ]
    },
    {
      "metadata": {
        "id": "9xanmZekZIqa",
        "colab_type": "code",
        "colab": {}
      },
      "cell_type": "code",
      "source": [
        ""
      ],
      "execution_count": 0,
      "outputs": []
    },
    {
      "metadata": {
        "id": "U2qO06GWZIqg",
        "colab_type": "text"
      },
      "cell_type": "markdown",
      "source": [
        "# Okienkowanie\n",
        "\n",
        "Narysuj funkcję Hamminga i jej widmo amplitudowe. Wygneruj 10ms sygnału sinusowego o 1 kHz. Narysuj jego widmo amplitudowe i zauważ jaki ma przeciek. Pomnoż teraz ten sygnał z oknem Hamminga (o tej samej długości) i ponownie narysuj jego widmo amplitudowe. "
      ]
    },
    {
      "metadata": {
        "id": "q3dc3EqLZIqh",
        "colab_type": "code",
        "colab": {}
      },
      "cell_type": "code",
      "source": [
        ""
      ],
      "execution_count": 0,
      "outputs": []
    },
    {
      "metadata": {
        "id": "lOBFWoicZIqn",
        "colab_type": "text"
      },
      "cell_type": "markdown",
      "source": [
        "# STFT\n",
        "\n",
        "Zaimplementujmy własną STFT. Zacznijmy od zdefiniowania sygnału. Zróbmy najpierw sygnał 5 sekundowy o $F_s$ 16 kHz, składający się z jednej składowej 1000 Hz i wzrastającej częstotliwości o 0 do $2*F_s$. Inny sygnał możesz wczytać z pliku."
      ]
    },
    {
      "metadata": {
        "id": "EAQf8sHCZIqo",
        "colab_type": "code",
        "colab": {}
      },
      "cell_type": "code",
      "source": [
        ""
      ],
      "execution_count": 0,
      "outputs": []
    },
    {
      "metadata": {
        "id": "N0cYcYRsZIqv",
        "colab_type": "text"
      },
      "cell_type": "markdown",
      "source": [
        "Zacznijmy od podziału sygnału na krótko-okresowe okienka, albo ramki.\n",
        "\n",
        "Zdefiniuj najpierw takie zmienne:\n",
        "\n",
        "  * $L$ - długość sygnału (w próbkach)\n",
        "  * $T$ - długość sygnały (w sekundach) \n",
        "  * $win\\_len$ - szerokość okienka (w próbkach) - np. 256\n",
        "  * $win\\_shift$ - przesunięcie okienka (w próbkach) - np. 128\n",
        "  * $win\\_num$ - ilość okienek sygnału (zaokrąglone w dół) - $\\frac{L-win\\_len}{win\\_shift}+1$\n",
        "  * $S$ - macierz 2D zer o rozmiarze ($\\frac{win\\_len}{2}+1$,$win\\_num$)\n",
        "  \n",
        "W pętli wyciągnijmy poszczególne ramki ze sygnału, a potem wykonajmy transformatę Fouriera na każdej ramce osobno i wynik zapiszmy w macierzy S.\n",
        "\n",
        "Oblicz indeksy osi X i Y wykresu i użyj metody *pyploy.pcolormesh* żeby narysować moduł tablicy S. Możesz też wyliczyć logarytm z modułu, żeby lepiej zobaczyć \"szczegóły\"."
      ]
    },
    {
      "metadata": {
        "id": "fZfHZVmoZIqw",
        "colab_type": "code",
        "colab": {}
      },
      "cell_type": "code",
      "source": [
        ""
      ],
      "execution_count": 0,
      "outputs": []
    },
    {
      "metadata": {
        "id": "gBRrcfaSZIq4",
        "colab_type": "text"
      },
      "cell_type": "markdown",
      "source": [
        "Obraz jest dosyć zaszumiony. Zastosuj jakąś funkcję okienkującą, żeby go \"wyczyścić\"."
      ]
    },
    {
      "metadata": {
        "id": "quBiezDiZIq6",
        "colab_type": "code",
        "colab": {}
      },
      "cell_type": "code",
      "source": [
        ""
      ],
      "execution_count": 0,
      "outputs": []
    },
    {
      "metadata": {
        "id": "TUPTFcrcZIrA",
        "colab_type": "text"
      },
      "cell_type": "markdown",
      "source": [
        "Co się stanie jak zmienimy rozmiar okienka?"
      ]
    },
    {
      "metadata": {
        "id": "oSCpNxXVZIrC",
        "colab_type": "code",
        "colab": {}
      },
      "cell_type": "code",
      "source": [
        ""
      ],
      "execution_count": 0,
      "outputs": []
    },
    {
      "metadata": {
        "id": "1jXXjztnZIrI",
        "colab_type": "text"
      },
      "cell_type": "markdown",
      "source": [
        "Co sie stanie jak dodamy DC-offset do sygnału?"
      ]
    },
    {
      "metadata": {
        "id": "dcAttsAKZIrJ",
        "colab_type": "code",
        "colab": {}
      },
      "cell_type": "code",
      "source": [
        ""
      ],
      "execution_count": 0,
      "outputs": []
    },
    {
      "metadata": {
        "id": "1y8lvoojZIrQ",
        "colab_type": "text"
      },
      "cell_type": "markdown",
      "source": [
        "Obraz ma dosyć niską \"rozdzielczość\". Dodaj parametr $fftn$ (np. 512 - generalnie potęga 2) i policz każdą transformatę Fouriera  na okienku z dopisanymi zerami, tak żeby rozmiar okienka odpowiadał temu parametrowi (tzw. *zero-padding*)."
      ]
    },
    {
      "metadata": {
        "id": "mKDn9G3YZIrR",
        "colab_type": "code",
        "colab": {}
      },
      "cell_type": "code",
      "source": [
        ""
      ],
      "execution_count": 0,
      "outputs": []
    },
    {
      "metadata": {
        "id": "f6ficb0zZIra",
        "colab_type": "text"
      },
      "cell_type": "markdown",
      "source": [
        "Użyj teraz funkcji *pyplot.specgram* żeby osiągnąć to samo. Sprawdź dokumentację żeby zobaczyć poszcególne parametry."
      ]
    },
    {
      "metadata": {
        "id": "c9UtmYCtZIre",
        "colab_type": "code",
        "colab": {}
      },
      "cell_type": "code",
      "source": [
        ""
      ],
      "execution_count": 0,
      "outputs": []
    },
    {
      "metadata": {
        "id": "kiXBnjc1ZIrn",
        "colab_type": "text"
      },
      "cell_type": "markdown",
      "source": [
        "# Praca domowa\n",
        "\n",
        "## 1. Filtrowanie w dziedzinie częstotliwości\n",
        "\n",
        "Użyj metody modyfikacji sygnału w dziedzinie częstotliwości żeby odtworzyć tylko niskie ($<200Hz$), średnie (między $500Hz$, a $1000Hz$) oraz wysokie (między $2 kHz$, a $4 kHz$) częstotliwości pliku *zdanie.wav*."
      ]
    },
    {
      "metadata": {
        "id": "G_VgmkrtZIro",
        "colab_type": "code",
        "colab": {}
      },
      "cell_type": "code",
      "source": [
        ""
      ],
      "execution_count": 0,
      "outputs": []
    },
    {
      "metadata": {
        "id": "LirAWRpUZIrr",
        "colab_type": "text"
      },
      "cell_type": "markdown",
      "source": [
        "## 2. Funkcje okienkowe\n",
        "\n",
        "Narysuj i przetestuj następujące funkcje apodyzacyjne obecne w pakiecie numpy:\n",
        "\n",
        "* bartlett\n",
        "* blackman\n",
        "* hamming\n",
        "* hanning\n",
        "* kaiser\n",
        "\n",
        "Przetestuj również różne ustawienia wartości $\\beta$ dla funkcji *kaiser* według porad na stronie:\n",
        "\n",
        "http://docs.scipy.org/doc/numpy/reference/generated/numpy.kaiser.html\n",
        "\n",
        "Zwróć szczególną uwagę na widmo amplitudowe w skali logarytmicznej poszczególnych okienek."
      ]
    },
    {
      "metadata": {
        "id": "KnsxhzA9ZIru",
        "colab_type": "code",
        "colab": {}
      },
      "cell_type": "code",
      "source": [
        ""
      ],
      "execution_count": 0,
      "outputs": []
    }
  ]
}