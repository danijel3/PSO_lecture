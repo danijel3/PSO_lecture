{
 "nbformat": 4,
 "nbformat_minor": 0,
 "metadata": {
  "colab": {
   "name": "Lab8_dz_obrazy.ipynb",
   "version": "0.3.2",
   "provenance": [],
   "collapsed_sections": []
  },
  "kernelspec": {
   "display_name": "Python 3",
   "language": "python",
   "name": "python3"
  },
  "pycharm": {
   "stem_cell": {
    "cell_type": "raw",
    "source": [],
    "metadata": {
     "collapsed": false
    }
   }
  }
 },
 "cells": [
  {
   "metadata": {
    "id": "mM33OLXzfvqr",
    "colab_type": "code",
    "colab": {}
   },
   "cell_type": "code",
   "source": [
    "%pylab inline\n",
    "from skimage import data, color, exposure, io\n",
    "import os\n",
    "import urllib"
   ],
   "execution_count": 0,
   "outputs": []
  },
  {
   "metadata": {
    "id": "cBRXFXnZfvq8",
    "colab_type": "text"
   },
   "cell_type": "markdown",
   "source": [
    "# Images\n",
    "\n",
    "A few modules belonging the the `scikit-image` library were imported above:\n",
    "\n",
    "  * data - sample images and methods to import data\n",
    "  * color - methods related to color spaces\n",
    "  * exposure - methods to cacluate and manipulate the histogram\n",
    "  * io - input and output methods\n",
    "\n",
    "A detailed description of the library can be found here: http://scikit-image.org/docs/stable/api/api.html\n",
    "\n",
    "There are a few more modules in the library, but only the ones above are discussed in this lab.\n",
    "\n",
    "Apart from `scikit-image`, we will also use `urllib` to download the data off the internet and `matplotlib` and `numpy` as usual."
   ]
  },
  {
   "metadata": {
    "id": "JvM8K5Uvfvq_",
    "colab_type": "code",
    "colab": {}
   },
   "cell_type": "code",
   "source": [],
   "execution_count": 0,
   "outputs": []
  },
  {
   "metadata": {
    "id": "UK-d9nWTfvrF",
    "colab_type": "text"
   },
   "cell_type": "markdown",
   "source": [
    "Load the image named `astronaut` and plot it using the `imshow` mehtod.\n",
    "\n",
    "Check the data type and the shape of the array containing the image.\n",
    "\n",
    "Draw the individual red, green and blue channels separately."
   ]
  },
  {
   "metadata": {
    "id": "3KbcC9s3fvrH",
    "colab_type": "code",
    "colab": {}
   },
   "cell_type": "code",
   "source": [],
   "execution_count": 0,
   "outputs": []
  },
  {
   "metadata": {
    "id": "m2pLPgfRfvrO",
    "colab_type": "text"
   },
   "cell_type": "markdown",
   "source": [
    "## Loading from the internet\n",
    "\n",
    "Load any PNG image off the internet and plot it as before.\n",
    "\n",
    "You can use this URL, for example: http://www.pja.edu.pl/templates/pjwstk/images/logo-lg-md.png\n",
    "\n",
    "You can use `urllib.request.urlopen` to open a stream and provide it to the `imread` method."
   ]
  },
  {
   "metadata": {
    "id": "6rfRWJ3zfvrQ",
    "colab_type": "code",
    "colab": {}
   },
   "cell_type": "code",
   "source": [],
   "execution_count": 0,
   "outputs": []
  },
  {
   "metadata": {
    "id": "aEN8eXUwfvrW",
    "colab_type": "text"
   },
   "cell_type": "markdown",
   "source": [
    "Try loading a GIF: https://upload.wikimedia.org/wikipedia/commons/a/a0/Sunflower_as_gif_websafe.gif\n",
    "\n",
    "Pyplot doesn't support GIFs by default, so you need to download the image to disk, and use the `data.load` method from the `scikit-image` library.\n",
    "\n",
    "The `data.load` requires absolute paths, so you can use the `pathlib.Path` to create a path to your file and use the `resolve` method to get the full path."
   ]
  },
  {
   "metadata": {
    "id": "yfkzyZAYfvrY",
    "colab_type": "code",
    "colab": {}
   },
   "cell_type": "code",
   "source": [],
   "execution_count": 0,
   "outputs": []
  },
  {
   "metadata": {
    "id": "DheLIIpRfvrf",
    "colab_type": "text"
   },
   "cell_type": "markdown",
   "source": [
    "## Color spaces\n",
    "\n",
    "Change the color space from RGB to HSB and draw the individual H, S and V channels."
   ]
  },
  {
   "metadata": {
    "id": "S_aQkCaRfvrg",
    "colab_type": "code",
    "colab": {}
   },
   "cell_type": "code",
   "source": [],
   "execution_count": 0,
   "outputs": []
  },
  {
   "metadata": {
    "id": "vfrany74fvrm",
    "colab_type": "text"
   },
   "cell_type": "markdown",
   "source": [
    "Do the same but for the LAB colorspace."
   ]
  },
  {
   "metadata": {
    "id": "UHZoQErmfvrn",
    "colab_type": "code",
    "colab": {}
   },
   "cell_type": "code",
   "source": [],
   "execution_count": 0,
   "outputs": []
  },
  {
   "metadata": {
    "id": "BhTucN22fvru",
    "colab_type": "text"
   },
   "cell_type": "markdown",
   "source": [
    "Convert the astronaut to grayscale and zoom in to 250-350 in both X and Y axes (using `xlim` and `ylim`).\n",
    "\n",
    "Check the `interpolation` argument of the `imshow`."
   ]
  },
  {
   "metadata": {
    "id": "7FwYeSi9fvrv",
    "colab_type": "code",
    "colab": {}
   },
   "cell_type": "code",
   "source": [],
   "execution_count": 0,
   "outputs": []
  },
  {
   "metadata": {
    "id": "g5bt9jHSfvr0",
    "colab_type": "text"
   },
   "cell_type": "markdown",
   "source": [
    "## Histograms\n",
    "\n",
    "Computer the histogram of the grayscale image using any of the 3 methods:\n",
    "\n",
    "  * `scikit-image` library - `exposure.histogram` method\n",
    "  * `numpy` library - `numpy.histogram` method\n",
    "  * `matplotlib` library - `pyplot.hist` method\n",
    "  \n",
    "Use `pyplot.bar` or `pyplot.plot` to plot the result."
   ]
  },
  {
   "metadata": {
    "id": "6BiBJAK7fvr2",
    "colab_type": "code",
    "colab": {}
   },
   "cell_type": "code",
   "source": [],
   "execution_count": 0,
   "outputs": []
  },
  {
   "metadata": {
    "id": "Sd434ZvIfvr8",
    "colab_type": "text"
   },
   "cell_type": "markdown",
   "source": [
    "## Steganography\n",
    "\n",
    "Load the stego.bmp image and plot it. Is everything okay with the image?\n",
    "\n",
    "Draw its histogram.\n",
    "\n",
    "Read the last 3 bits of each pixel and plot the image from those values.\n",
    "\n",
    "This technique of hiding information within other information in an unperceivable manner is known as steganography. You can read more about it online:\n",
    "https://en.wikipedia.org/wiki/Steganography"
   ]
  },
  {
   "metadata": {
    "id": "rQrqWqVBfvr-",
    "colab_type": "code",
    "colab": {}
   },
   "cell_type": "code",
   "source": [],
   "execution_count": 0,
   "outputs": []
  },
  {
   "metadata": {
    "id": "qH1Lck6HfvsD",
    "colab_type": "text"
   },
   "cell_type": "markdown",
   "source": [
    "# Homework\n",
    "\n",
    "Make your own example of steganography. Hide some form of information (it doesn't have to be an image) in some other medium in such a way that you don't ruin the original."
   ]
  },
  {
   "metadata": {
    "id": "1-d2fIZrfvsE",
    "colab_type": "code",
    "colab": {}
   },
   "cell_type": "code",
   "source": [
    ""
   ],
   "execution_count": 0,
   "outputs": []
  }
 ]
}