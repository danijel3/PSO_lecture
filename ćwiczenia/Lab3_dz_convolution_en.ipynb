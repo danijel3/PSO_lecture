{
 "nbformat": 4,
 "nbformat_minor": 0,
 "metadata": {
  "colab": {
   "name": "Lab3_dz_splot.ipynb",
   "version": "0.3.2",
   "provenance": [],
   "collapsed_sections": []
  },
  "kernelspec": {
   "display_name": "Python 3",
   "language": "python",
   "name": "python3"
  },
  "pycharm": {
   "stem_cell": {
    "cell_type": "raw",
    "source": [],
    "metadata": {
     "collapsed": false
    }
   }
  }
 },
 "cells": [
  {
   "metadata": {
    "id": "bzvrchwdilt9",
    "colab_type": "code",
    "colab": {}
   },
   "cell_type": "code",
   "source": [
    "%pylab inline"
   ],
   "execution_count": 0,
   "outputs": []
  },
  {
   "metadata": {
    "id": "Kc19ShVEilt7",
    "colab_type": "text"
   },
   "cell_type": "markdown",
   "source": [
    "# Convolution\n",
    "\n",
    "The formula for convolution is as follows:\n",
    "\n",
    "\\begin{equation}\n",
    "(f * g)(m) = \\sum_{n=0}^{N-1}f(n)g(m-n) \\qquad \\mbox{for }\\, m=0..M-1\n",
    "\\end{equation}\n",
    "\n",
    "Where $N$ is the length of signal $f$ and $M$ is the length of the result.\n",
    "\n",
    "Implement this function using the basic python operators and loops. Compare your implementation with the optimized `numpy.convolve`."
   ]
  },
  {
   "metadata": {
    "id": "f4PIeMKailuH",
    "colab_type": "code",
    "colab": {}
   },
   "cell_type": "code",
   "source": [],
   "execution_count": 0,
   "outputs": []
  },
  {
   "metadata": {
    "id": "8LAlitcmiluO",
    "colab_type": "text"
   },
   "cell_type": "markdown",
   "source": [
    "## Impulse response\n",
    "\n",
    "Generate a signal called $g$ of length 10 samples using any random numbers. For the $f$ signal use the Kronecker delta of length 100 samples.\n",
    "\n",
    "What is the result of the convolution of these two signals? Note the formula and the implementation of convolution to figure out why this is."
   ]
  },
  {
   "metadata": {
    "id": "E7SOnA1riluP",
    "colab_type": "code",
    "colab": {}
   },
   "cell_type": "code",
   "source": [],
   "execution_count": 0,
   "outputs": []
  },
  {
   "metadata": {
    "id": "9lotuUNtiluU",
    "colab_type": "text"
   },
   "cell_type": "markdown",
   "source": [
    "## Convolution reverb\n",
    "\n",
    "One use of convolution involves a more creative purpose. We can use it to apply the properties of a given environment (room, hall, etc.) on a sterile signal recorded in the studio in order to give it more *character*.\n",
    "\n",
    "Load the AIR database, which can be downloaded from this page:\n",
    "\n",
    "http://www.ind.rwth-aachen.de/en/research/tools-downloads/aachen-impulse-response-database/\n",
    "\n",
    "The files within the database are stored in Matlab format. They can still be easily loaded into Python using the `scipy.io.loadmat` function. After it is loaded\n",
    "the `h_air` element contains the actual impulse response of the given room and `air_info` contains the basic information about the recording.\n",
    "Load any file and play back the impulse.\n",
    "\n",
    "Make (or use) a simple recording and perform a convolution with one of the functions from the database (the larger the room, the longer and more audible the effect).\n",
    "Make sure that the sampling frequency of the recording and the impulse are the same! You can use the `scipy.signal.resample` to convert between samling.\n",
    "Note that for long signals, the convolution can take a long time and it may pay off to shorten the impulse (especially if it's very quiet after a second or two).\n",
    "\n",
    "This effects applies lots of *echo* to the recording. Such a complex *echo* is also known as *reverberation*. There are many mehtods of applying reverberation\n",
    "(eg. parametric), but this particular one is known as *convolution reverb*."
   ]
  },
  {
   "metadata": {
    "id": "krcqk0T9iluU",
    "colab_type": "code",
    "colab": {}
   },
   "cell_type": "code",
   "source": [],
   "execution_count": 0,
   "outputs": []
  },
  {
   "metadata": {
    "id": "gdJMogpLiluc",
    "colab_type": "text"
   },
   "cell_type": "markdown",
   "source": [
    "# Homework\n",
    "\n",
    "Define some formulas or function to represent two different signals: $f_1$ and $f_2$. You can use the method we used on the previous\n",
    "lecture, eg: \n",
    "```\n",
    "def signal(x):\n",
    "    return x**2+1\n",
    "x=np.linspace(-10,10,100)\n",
    "plot(x,signal(x))\n",
    "```\n",
    "\n",
    "Define a function $f_s$ as the weighted sum of the above signals (use any values for $k_1$ and $k_2$):\n",
    "\n",
    "\\begin{equation}\n",
    "f_s(x)=k_1\\cdot f_1(x) + k_2\\cdot f_2(x)\n",
    "\\end{equation}\n",
    "\n",
    "Define two different systems using the equations below. These systems take both the function $f_s$ and its arguemnts $x$ as inputs:\n",
    "\n",
    "  1. $H_1(f,x)=f(2x)$\n",
    "  2. $H_2(f,x)=(f(x))^2$\n",
    "\n",
    "Use the rules for determining linearity to demonstrate emirically whether each of the above two systems are linear or not.\n",
    "As a reminder, a linear system should hold under the following condition:\n",
    "\n",
    "\\begin{equation}\n",
    "H(f_s,x) = k_1 \\cdot H(f_1,x) + k_2 \\cdot H(f_2,x)\n",
    "\\end{equation}"
   ]
  },
  {
   "metadata": {
    "id": "M59L2Shxiluk",
    "colab_type": "code",
    "colab": {}
   },
   "cell_type": "code",
   "source": [
    ""
   ],
   "execution_count": 0,
   "outputs": []
  }
 ]
}