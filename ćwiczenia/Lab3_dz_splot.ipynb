{
  "nbformat": 4,
  "nbformat_minor": 0,
  "metadata": {
    "colab": {
      "name": "Lab3_dz_splot.ipynb",
      "version": "0.3.2",
      "provenance": [],
      "collapsed_sections": []
    },
    "kernelspec": {
      "display_name": "Python 3",
      "language": "python",
      "name": "python3"
    }
  },
  "cells": [
    {
      "metadata": {
        "id": "bzvrchwdilt9",
        "colab_type": "code",
        "colab": {}
      },
      "cell_type": "code",
      "source": [
        "%pylab inline"
      ],
      "execution_count": 0,
      "outputs": []
    },
    {
      "metadata": {
        "id": "Kc19ShVEilt7",
        "colab_type": "text"
      },
      "cell_type": "markdown",
      "source": [
        "# Splot\n",
        "\n",
        "Funkcja splotu jest podana wzorem:\n",
        "\n",
        "$(f * g)(m) = \\sum_{n=1}^{N}f(n)g(m-n)$ &nbsp;&nbsp;&nbsp;&nbsp; dla $m=1..M$\n",
        "\n",
        "Gdzie N to długość sygnału N, a M wynikowego sygnału. Zaimplementuj daną funkcję używając wyłącznie podstawowych operatrów oraz pętli *for*. Porównaj czas działania swojej funkcji z wbudowaną funkcją *numpy.convolve*."
      ]
    },
    {
      "metadata": {
        "id": "f4PIeMKailuH",
        "colab_type": "code",
        "colab": {}
      },
      "cell_type": "code",
      "source": [
        ""
      ],
      "execution_count": 0,
      "outputs": []
    },
    {
      "metadata": {
        "id": "8LAlitcmiluO",
        "colab_type": "text"
      },
      "cell_type": "markdown",
      "source": [
        "## Odpowiedź impulsowa\n",
        "\n",
        "Wygeneruj funkcję $g$ o długości 10, używając losowo wybranych przez siebie liczb. Jako funkcję $f$ użyj delty Kroneckera o długości 100 próbek. Jaki jest wynik splotu tych dwóch sygnałów? Zwróć uwagę na wzór i implementację funkcji splotu i zastanów się dlaczego tak jest."
      ]
    },
    {
      "metadata": {
        "id": "E7SOnA1riluP",
        "colab_type": "code",
        "colab": {}
      },
      "cell_type": "code",
      "source": [
        ""
      ],
      "execution_count": 0,
      "outputs": []
    },
    {
      "metadata": {
        "id": "9lotuUNtiluU",
        "colab_type": "text"
      },
      "cell_type": "markdown",
      "source": [
        "## Pogłos spolotowy\n",
        "\n",
        "Innym zastosowaniem odpowiedzi impulsowej jest bardziej kreatywny. Możemy nałożyć charakterystykę danego pomieszczenia na nudny sygnał nagrany w studiu, żeby mu nadać więcej *charakteru*. Wczytaj bazę danych odpowiedzi impulsowej AIR, którą możesz pobrać ze strony poniżej:\n",
        "\n",
        "http://www.ind.rwth-aachen.de/en/research/tools-downloads/aachen-impulse-response-database/\n",
        "\n",
        "Pliki w bazie danych są zapisane w formacie Matlaba. Łatwo je można wczytać używając metody *scipy.io.loadmat*. Po wczytaniu pliku z bazy danych, element słownika *h_air* zawiera odpowiedź impulsową, a *air_info* podstawowe informacje o nagraniu. Odtwórz wybrany impuls.\n",
        "\n",
        "Zrób proste nagranie (albo użyj gotowe) i wykonaj splot z jedną z funkcji podanych w bazie (im większe pomieszczenie, tym bardziej słyszalny efekt). Zwróć uwagę żeby częstotliwość próbkowania sygnału jaki chcesz zmodyfikować oraz impulsu były takie same! Możesz użyć funkcji *scipy.signal.resample* aby skorygować jeden z sygnałów. Uważaj, bo liczenie splotu długich sygnałów może trwać bardzo długo!\n",
        "\n",
        "Procedura ta nadaje więcej *echa* nagraniu. Takie echo jest znane również jako *pogłos* (ang. reverb). Jest wiele metod generowania pogłosu w nagraniu. Metoda, którą my użyliśmy nazwya się *pogłos splotowy* (ang. convolution reverb)."
      ]
    },
    {
      "metadata": {
        "id": "krcqk0T9iluU",
        "colab_type": "code",
        "colab": {}
      },
      "cell_type": "code",
      "source": [
        ""
      ],
      "execution_count": 0,
      "outputs": []
    },
    {
      "metadata": {
        "id": "gdJMogpLiluc",
        "colab_type": "text"
      },
      "cell_type": "markdown",
      "source": [
        "# Praca domowa\n",
        "\n",
        "Zdefiniuj dowolne wzory albo funkcje dla dwóch przykładowych sygnałów $f_1$ i $f_2$ w następujący sposób:\n",
        "```\n",
        "def f(x):\n",
        "    return x**2+1\n",
        "x=np.linspace(-10,10,100)\n",
        "plot(x,f(x))\n",
        "```\n",
        "\n",
        "Zdefiniuj funkcję $f_s$ która jest sumą ważoną dwóch powyższych funkcji (dla $k_1$ i $k_2$ użyj dowolnych wartości):\n",
        "\n",
        "\\begin{equation}\n",
        "f_s(x)=k_1\\cdot f_1(x) + k_2\\cdot f_2(x)\n",
        "\\end{equation}\n",
        "\n",
        "Zdefiniuj dwie następujące układy jako funkcję, którę jako argumenty przyjmują zrówno funkcję $f$ jak i jej wartości $x$:\n",
        "\n",
        "  1. $H_1(f,x)=f(2x)$\n",
        "  2. $H_2(f,x)=(f(x))^2$\n",
        "  \n",
        "Użyj twierdzenie o liniowości, żeby empirycznie sprawdzić czy układy te są liniowe, czy nie. Dla przypomnienia, dla układu liniowego powinno wyjść:\n",
        "\n",
        "\\begin{equation}\n",
        "H(f_s,x) = k_1 \\cdot H(f_1,x) + k_2 \\cdot H(f_2,x)\n",
        "\\end{equation}"
      ]
    },
    {
      "metadata": {
        "id": "M59L2Shxiluk",
        "colab_type": "code",
        "colab": {}
      },
      "cell_type": "code",
      "source": [
        ""
      ],
      "execution_count": 0,
      "outputs": []
    }
  ]
}