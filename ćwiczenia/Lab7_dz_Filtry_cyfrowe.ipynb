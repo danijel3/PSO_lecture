{
  "nbformat": 4,
  "nbformat_minor": 0,
  "metadata": {
    "colab": {
      "name": "Lab7_dz_Filtry_cyfrowe.ipynb",
      "version": "0.3.2",
      "provenance": [],
      "collapsed_sections": []
    },
    "kernelspec": {
      "display_name": "Python 3",
      "language": "python",
      "name": "python3"
    }
  },
  "cells": [
    {
      "metadata": {
        "id": "YQzKTajgYhED",
        "colab_type": "code",
        "colab": {}
      },
      "cell_type": "code",
      "source": [
        "%pylab inline"
      ],
      "execution_count": 0,
      "outputs": []
    },
    {
      "metadata": {
        "id": "dd5PLR6FYhES",
        "colab_type": "text"
      },
      "cell_type": "markdown",
      "source": [
        "# Filtry cyfrowe\n",
        "\n",
        "## FIR - SOI\n",
        "\n",
        "Filtry o skończonej odpowiedzi impulsowej wykonują operację splotu z zestawem parametrów definiujących dany filtr. Powiedzmy, że mamy sygnał o określonej częstotliwości 2 Hz zaszumiony szumem białym o niskiej amplitudzie."
      ]
    },
    {
      "metadata": {
        "id": "5tvk8sC-YhET",
        "colab_type": "code",
        "colab": {}
      },
      "cell_type": "code",
      "source": [
        ""
      ],
      "execution_count": 0,
      "outputs": []
    },
    {
      "metadata": {
        "id": "Ob7zFyyvYhEc",
        "colab_type": "text"
      },
      "cell_type": "markdown",
      "source": [
        "W jaki sposób się możemy pozbyć szumu? Spróbujmy użyć operacji splotu żeby dla każdej próbki wyliczyć średnią $N$ poprzednich próbek (dla określonego $N$). Zróbmy więc sygnał składający się z liczby $\\frac{1}{N}$ powtórzonej $N$ razy. Wyliczmy splot zaszumionego sygnału z tym sygnałem i narysujmy wynik."
      ]
    },
    {
      "metadata": {
        "id": "9SSxseAWYhEd",
        "colab_type": "code",
        "colab": {}
      },
      "cell_type": "code",
      "source": [
        ""
      ],
      "execution_count": 0,
      "outputs": []
    },
    {
      "metadata": {
        "id": "Zd5z0h8TYhEm",
        "colab_type": "text"
      },
      "cell_type": "markdown",
      "source": [
        "Zobaczmy co ten zestaw współczynników robi w dziedzinie częstotliwości. Wykonaj transformatę Fouriera i narysuj widmo amplitudowe i fazowe. Żeby otrzymać większą \"rozdzielczość\" dodaj mnóstwo zer na końcu sygnału. Co robi ten filtr? Sprawdź też funkcję *scipy.signal.freqz*."
      ]
    },
    {
      "metadata": {
        "id": "veD0Gh2nYhEo",
        "colab_type": "code",
        "colab": {}
      },
      "cell_type": "code",
      "source": [
        ""
      ],
      "execution_count": 0,
      "outputs": []
    },
    {
      "metadata": {
        "id": "lb_3DG4uYhE1",
        "colab_type": "text"
      },
      "cell_type": "markdown",
      "source": [
        "Użyjmy teraz funkcji Gaussowskiej, zamiast serii tej samej liczby (właściwie funkcji prostokątnej). Znajdziesz ją w *scipy.signal.gaussian*. Jakie ona ma widmo?"
      ]
    },
    {
      "metadata": {
        "id": "QNhCWTIjYhE3",
        "colab_type": "code",
        "colab": {}
      },
      "cell_type": "code",
      "source": [
        ""
      ],
      "execution_count": 0,
      "outputs": []
    },
    {
      "metadata": {
        "id": "12O9Tu1cYhFI",
        "colab_type": "text"
      },
      "cell_type": "markdown",
      "source": [
        "Spróbuj teraz funkcę *np.sinc*."
      ]
    },
    {
      "metadata": {
        "id": "cGzvgK3nYhFL",
        "colab_type": "code",
        "colab": {}
      },
      "cell_type": "code",
      "source": [
        ""
      ],
      "execution_count": 0,
      "outputs": []
    },
    {
      "metadata": {
        "id": "PdgqwW1lYhFX",
        "colab_type": "text"
      },
      "cell_type": "markdown",
      "source": [
        "Wszystkie poprzednie filtry, to filtry dolno-przepustowe. Jak zrobić górno przepustowy? Spróbuj odwrócić znak co drugiego elementu sygnału."
      ]
    },
    {
      "metadata": {
        "id": "OCmZaEieYhFY",
        "colab_type": "code",
        "colab": {}
      },
      "cell_type": "code",
      "source": [
        ""
      ],
      "execution_count": 0,
      "outputs": []
    },
    {
      "metadata": {
        "id": "b6cXLowbYhFd",
        "colab_type": "text"
      },
      "cell_type": "markdown",
      "source": [
        "Zróbmy połączenie dwóch filtrów (dolno i górno przepustowego). Do tego wystarczy zrobić sumę w dziedzinie częstotliowości, czyli również sumę w dziedzinie czasu."
      ]
    },
    {
      "metadata": {
        "id": "IRX63dCMYhFf",
        "colab_type": "code",
        "colab": {}
      },
      "cell_type": "code",
      "source": [
        ""
      ],
      "execution_count": 0,
      "outputs": []
    },
    {
      "metadata": {
        "id": "lR0kll0PYhFl",
        "colab_type": "text"
      },
      "cell_type": "markdown",
      "source": [
        "Weźmy teraz sygnał sinusowy o określonej częstotliwości jako współczynniki filtru. Co otrzymaliśmy?"
      ]
    },
    {
      "metadata": {
        "id": "GZDMNhqbYhFn",
        "colab_type": "code",
        "colab": {}
      },
      "cell_type": "code",
      "source": [
        ""
      ],
      "execution_count": 0,
      "outputs": []
    },
    {
      "metadata": {
        "id": "rNH210L2YhFw",
        "colab_type": "text"
      },
      "cell_type": "markdown",
      "source": [
        "Użyj funkcji *scipy.signal.firwin* żeby wygnereować filtr z wybranej funkcji okienkowej."
      ]
    },
    {
      "metadata": {
        "id": "W0Vg0fm8YhFy",
        "colab_type": "code",
        "colab": {}
      },
      "cell_type": "code",
      "source": [
        ""
      ],
      "execution_count": 0,
      "outputs": []
    },
    {
      "metadata": {
        "id": "O_Hb6Kz8YhF-",
        "colab_type": "text"
      },
      "cell_type": "markdown",
      "source": [
        "## IIR - NOI\n",
        "\n",
        "Filtry IIR są bardziej skomplikowane, ponieważ złe współczynniki mogą spowodować niestabilność układu (poprzez efekt *feedback*). Zaprojektuj filtr IIR za pomocą funkcji *scipy.signal.butter*. Użyj funkcji *scipy.signal.freqz* żeby obejrzeć jego widma, a *scipy.signal.lfilter* żeby zastosować filtr na sygnale.\n",
        "\n",
        "Sensownymi wartościami filtru Butterwortha to $N=19$ i $W_n=0.5$."
      ]
    },
    {
      "metadata": {
        "id": "yKT69is1YhGB",
        "colab_type": "code",
        "colab": {}
      },
      "cell_type": "code",
      "source": [
        ""
      ],
      "execution_count": 0,
      "outputs": []
    },
    {
      "metadata": {
        "id": "zVarxyULYhGH",
        "colab_type": "text"
      },
      "cell_type": "markdown",
      "source": [
        "Spróbuj filtr eliptyczny używając funkcji *scipy.signal.ellip* z parametrami $N=10$, $rp=0.1$, $rs=10$ i $Wn=0.5$."
      ]
    },
    {
      "metadata": {
        "id": "Lq4F5N_IYhGJ",
        "colab_type": "code",
        "colab": {}
      },
      "cell_type": "code",
      "source": [
        ""
      ],
      "execution_count": 0,
      "outputs": []
    },
    {
      "metadata": {
        "id": "GrmNyPJzYhGP",
        "colab_type": "text"
      },
      "cell_type": "markdown",
      "source": [
        "Policz odpowiedź impulsową tego filtru."
      ]
    },
    {
      "metadata": {
        "id": "V66UNlPkYhGS",
        "colab_type": "code",
        "colab": {}
      },
      "cell_type": "code",
      "source": [
        ""
      ],
      "execution_count": 0,
      "outputs": []
    },
    {
      "metadata": {
        "id": "ah1szsArYhGa",
        "colab_type": "text"
      },
      "cell_type": "markdown",
      "source": [
        "Sprawdź czy filtr jest stabilny. Filtr IIR jest stabilny jeśli wartości bezwględne pierwiastków jego współczynników mianownikowych są mniejsze od 1. Do policzenia pierwiastków można użyć funkcji *np.roots*."
      ]
    },
    {
      "metadata": {
        "id": "H4ZWoMrzYhGc",
        "colab_type": "code",
        "colab": {}
      },
      "cell_type": "code",
      "source": [
        ""
      ],
      "execution_count": 0,
      "outputs": []
    },
    {
      "metadata": {
        "id": "vAWPe-YbYhGi",
        "colab_type": "text"
      },
      "cell_type": "markdown",
      "source": [
        "Narysuj wykres zer i bigunów (pole/zero plot) do wybranego filtru. Do narysowania okręgu jednostowego użyj funkcji z biblioteki *matplotlib.patches*,np\n",
        "\n",
        "```\n",
        "ax.add_patch(patches.Circle((0,0), radius=1, fill=True, color='black', ls='dashed', alpha=0.5))\n",
        "```\n",
        "\n",
        "Do wyliczenia współczynników zer i biegunów, możesz użyć funkcji *scipy.signal.tf2zpk*.\n"
      ]
    },
    {
      "metadata": {
        "id": "ZdWGw9K_YhGj",
        "colab_type": "code",
        "colab": {}
      },
      "cell_type": "code",
      "source": [
        ""
      ],
      "execution_count": 0,
      "outputs": []
    },
    {
      "metadata": {
        "id": "C0zyV-__YhGn",
        "colab_type": "text"
      },
      "cell_type": "markdown",
      "source": [
        "# Praca domowa\n",
        "\n",
        "## 1. Filtr SOI\n",
        "\n",
        "Zrób sygnał z trzema sygnałami: 1 kHz, 2kHz i 3 kHz. Zrób filtr który usunie składową 2 kHz."
      ]
    },
    {
      "metadata": {
        "id": "gHI7uiDOYhGp",
        "colab_type": "code",
        "colab": {}
      },
      "cell_type": "code",
      "source": [
        ""
      ],
      "execution_count": 0,
      "outputs": []
    },
    {
      "metadata": {
        "id": "G5_tNrWuYhGu",
        "colab_type": "text"
      },
      "cell_type": "markdown",
      "source": [
        "## 2. Filtr NOI\n",
        "\n",
        "Użyj tego samego sygnału co powyżej, ale zastosuj filtr NOI. Sprawdź czy filtr jest na pewno stabilny."
      ]
    },
    {
      "metadata": {
        "id": "p4PHR089YhGv",
        "colab_type": "code",
        "colab": {}
      },
      "cell_type": "code",
      "source": [
        ""
      ],
      "execution_count": 0,
      "outputs": []
    }
  ]
}