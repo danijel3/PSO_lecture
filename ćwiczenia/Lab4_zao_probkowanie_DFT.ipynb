{
  "nbformat": 4,
  "nbformat_minor": 0,
  "metadata": {
    "colab": {
      "name": "Lab4_zao_probkowanie_DFT.ipynb",
      "version": "0.3.2",
      "provenance": [],
      "collapsed_sections": []
    },
    "kernelspec": {
      "display_name": "Python 3",
      "language": "python",
      "name": "python3"
    }
  },
  "cells": [
    {
      "metadata": {
        "id": "SuyMQfMo-1d0",
        "colab_type": "code",
        "colab": {}
      },
      "cell_type": "code",
      "source": [
        "%pylab inline"
      ],
      "execution_count": 0,
      "outputs": []
    },
    {
      "metadata": {
        "id": "NqUHOKwE-1d7",
        "colab_type": "text"
      },
      "cell_type": "markdown",
      "source": [
        "# Próbkowanie i kwantyzacja\n",
        "\n",
        "## Twierdzenie Nyquista/Shannona\n",
        "\n",
        "Wiemy co to jest częstotliwość próbkowania, ale jaką ona powinna mieć wartość? Jaka jest minimalna ilość próbek (minimalna zajętość pamięci) wymagana żeby zachować optymalną jakość sygnału?\n",
        "\n",
        "Otóż, odpowiedź jest dosyć prosta, ale zanim podamy twierdzenie, zróbmy kilka eksperymentów, żeby zobaczyć podstawowe jego cechy.\n",
        "\n",
        "Wygenerujmy i narysujmy 1 sekundę sygnału o częstotliwości 1 Hz oraz jednostkowej amplitudzie oraz zerowej fazie. Jaka jest minimalna ilość próbek potrzebna żeby zachować kształt sinusoidy? Jak jest w przypadku sygnału 2 Hz? 3 Hz?"
      ]
    },
    {
      "metadata": {
        "id": "CWlywBIc-1d7",
        "colab_type": "code",
        "colab": {}
      },
      "cell_type": "code",
      "source": [
        ""
      ],
      "execution_count": 0,
      "outputs": []
    },
    {
      "metadata": {
        "id": "2OjpliMB-1d_",
        "colab_type": "text"
      },
      "cell_type": "markdown",
      "source": [
        "To ćwiczenie może i nie należy do najłatwiejszych. Spróbujmy więc podejść do problemu od drugiej strony. Załóżmy, że częstotliwość próbkowania jest stała i wynosi 10 Hz. Jakie sygnały możemy wygenerować używając tylko 10 próbek? Jak wygląda sygnał o częstotliwości 1 Hz? A 4 Hz? 5 Hz? 6 Hz? 9Hz? 10 Hz? 11 Hz? Spróbuj wygenerować inne częstotliwości. Jakie sygnały wyglądają podobnie, a jakie się różnią?"
      ]
    },
    {
      "metadata": {
        "id": "krLbp7gV-1eA",
        "colab_type": "code",
        "colab": {}
      },
      "cell_type": "code",
      "source": [
        ""
      ],
      "execution_count": 0,
      "outputs": []
    },
    {
      "metadata": {
        "id": "gKhlyOkA-1eF",
        "colab_type": "text"
      },
      "cell_type": "markdown",
      "source": [
        "Możemy pójść o krok dalej. Wygenerujmy sygnał sinusoidalny, gdzie parametr częstotliwości jest liczbą rzeczywistą zmieniająca się w czasie od 1 Hz do dwukrotności częstotliwości próbkowania. Długość sygnału możesz ustawić na 10 sekund, a częstotliwość próbkowania na 1000 Hz. Co się dzieję z sygnałem? Odtwórz go."
      ]
    },
    {
      "metadata": {
        "id": "EhsJ9V_G-1eF",
        "colab_type": "code",
        "colab": {}
      },
      "cell_type": "code",
      "source": [
        ""
      ],
      "execution_count": 0,
      "outputs": []
    },
    {
      "metadata": {
        "id": "L8oH8WNY-1eK",
        "colab_type": "text"
      },
      "cell_type": "markdown",
      "source": [
        "Użyj poniższej funkcji *pyplot.specgram* aby zobacyzć widmo sygnału (o tym na następnym ćwiczeniu). Jako pierwszy arguemnt podaj sygnał, a jako drugi (o nazwie Fs) podaj częstotliwość próbkowania. Jak się ten wykres ma do brzmienia sygnału? "
      ]
    },
    {
      "metadata": {
        "id": "v9QMG06E-1eO",
        "colab_type": "code",
        "colab": {}
      },
      "cell_type": "code",
      "source": [
        ""
      ],
      "execution_count": 0,
      "outputs": []
    },
    {
      "metadata": {
        "id": "7jdDyOeO-1eT",
        "colab_type": "text"
      },
      "cell_type": "markdown",
      "source": [
        "# Rozdzielczość bitowa\n",
        "\n",
        "Otwórz plik WAV standardową biblioteką 'wave' i podaj jakie on ma parametry (użyj metody getparams). Więcej informacji na temat tej biblioteki znajdziesz tutaj:\n",
        "\n",
        "https://docs.python.org/2/library/wave.html"
      ]
    },
    {
      "metadata": {
        "id": "rj__vYsb-1eU",
        "colab_type": "code",
        "colab": {}
      },
      "cell_type": "code",
      "source": [
        ""
      ],
      "execution_count": 0,
      "outputs": []
    },
    {
      "metadata": {
        "id": "lKDXGv9J-1ed",
        "colab_type": "text"
      },
      "cell_type": "markdown",
      "source": [
        "Wczytaj teraz plik do pamięci, ale użyj o wiele wygodniejszej metody z biblioteki scipy:\n",
        "\n",
        "http://docs.scipy.org/doc/scipy/reference/generated/scipy.io.wavfile.read.html\n",
        "\n",
        "Narysuj i odtwórz dany plik."
      ]
    },
    {
      "metadata": {
        "id": "VtFyY3p--1ed",
        "colab_type": "code",
        "colab": {}
      },
      "cell_type": "code",
      "source": [
        ""
      ],
      "execution_count": 0,
      "outputs": []
    },
    {
      "metadata": {
        "id": "0RTlX36o-1ej",
        "colab_type": "text"
      },
      "cell_type": "markdown",
      "source": [
        "Dokonaj kwantyzacji pliku używając mniejszej ilości bitów na próbkę. Odtwórz dźwięk i porównaj z oryginałem. Co można usłyszeć? Oblicz różnicę między nagraniem oryginalnym i przetworzonym i odtwórz. Czy się charakteryzuje ta różnica?\n",
        "\n",
        "# Modyfikacja sygnału w dziedzinie częstotliwości\n",
        "\n",
        "Weźmy sygnał sinusoidalny zawierający dwie częstotliwości: $1kHz$ i $2kHz$. Chcemy z tego sygnału usunąć jedną z tych częstotliwości, ale nie wiemy nic na temat filtrowania - jest na to prosty sposób oparty o szybką transformatę Fouriera i jej odswrotną funckję.\n",
        "\n",
        "1. Wygeneruj w/w sygnał i narysuj jego wykres.\n",
        "2. Oblicz transformatę Fouriera i narysuj widmo amplitudowe sygnału.\n",
        "3. Skasuj wartości na jednej z wybranej częstotliwości i jakimś zakresie przed i po, np $900-1100 Hz$, żeby skasować sygnał $1kHz$.\n",
        "- Weź pod uwagę że transformata Fouriera musi być symteryczna, więc zastosuj funckję opisaną niżej.\n",
        "4. Narysuj poprawiony wykres widma sygnału.\n",
        "5. Dokonaj odwrotnej transformaty i narysuj poprawiony sygnał. Wypisz również wartośc próbek sygnału. Jeśli operacja w pkt.\n",
        "\n",
        "Zamiast funkcji *np.fft.fft* i *np.fft.ifft* można stosować bardziej wydajne funkcje *np.fft.rfft* i *np.fft.irfft*. R-FFT liczy tylko lewą część wykresu (czyli od $0..F_s/2$), a I-R-FFT liczy odwrotną funkcję z wyniku R-FFT ignorując wymogi symetrii."
      ]
    },
    {
      "metadata": {
        "id": "EpDAzvIr-1ek",
        "colab_type": "code",
        "colab": {}
      },
      "cell_type": "code",
      "source": [
        ""
      ],
      "execution_count": 0,
      "outputs": []
    },
    {
      "metadata": {
        "id": "-NIewfVR-1en",
        "colab_type": "text"
      },
      "cell_type": "markdown",
      "source": [
        "# Przeciek częstotliwości\n",
        "\n",
        "Wygnereuj sekundę sygnału o 1 kHz przy $F_s$ 10 kHz. Potem wygeneruj inny sygnał o częstotliwości dokładnie 999.5 Hz. Narysuj widma obydwu sygnałów na jednym wykresie.\n",
        "\n",
        "Zauważ, że w maksymalnym przypadku wykres wygląda idealnie: jest jeden punkt, a jego wartość jest równa wartości amplitudy pomnożonej przez połowę ilości próbek sygnału (druga połowa się znajduje na prawej stronie wykresu). \n",
        "\n",
        "W drugim przypadku wykres wygląda zupełnie inaczej. Ponieważ położenie analizowanej częstotliwości nie leży w żadnym punkcie transformaty, amplituda tej sinusoidy się \"rozlewa\" na sąsiednie wartości."
      ]
    },
    {
      "metadata": {
        "id": "TnKusA-5-1ep",
        "colab_type": "code",
        "colab": {}
      },
      "cell_type": "code",
      "source": [
        ""
      ],
      "execution_count": 0,
      "outputs": []
    },
    {
      "metadata": {
        "id": "CIfJxPEE-1er",
        "colab_type": "text"
      },
      "cell_type": "markdown",
      "source": [
        "# Okienkowanie\n",
        "\n",
        "Narysuj funkcję Hamminga i jej widmo amplitudowe. Wygneruj 10ms sygnału sinusowego o 1 kHz. Narysuj jego widmo amplitudowe i zauważ jaki ma przeciek. Pomnoż teraz ten sygnał z oknem Hamminga (o tej samej długości) i ponownie narysuj jego widmo amplitudowe. "
      ]
    },
    {
      "metadata": {
        "id": "WLzyhjXL-1et",
        "colab_type": "code",
        "colab": {}
      },
      "cell_type": "code",
      "source": [
        ""
      ],
      "execution_count": 0,
      "outputs": []
    },
    {
      "metadata": {
        "id": "hJciy4Xg-1ex",
        "colab_type": "text"
      },
      "cell_type": "markdown",
      "source": [
        "# STFT\n",
        "\n",
        "Zróbmy najpierw sygnał 5 sekundowy o $F_s$ 16 kHz, składający się z jednej składowej 1000 Hz i wzrastającej częstotliwości o 0 do $2*F_s$. Użyj funkcji *pyplot.specgram* żeby policzyć STFT tego sygnału. Przy pomocy dokumentacji sprawdź następujące parametry:\n",
        "\n",
        "- Fs - częstotliwość próbkowania\n",
        "- NFFT - rozmiar ramki\n",
        "- noverlap - overlap ramek\n",
        "- pad_to - padding\n",
        "- window - funkcja okienkowa\n",
        "- detrend - usuwanie DC offset\n",
        "- mode - rodzaj wykresu (amplitudowe, fazowe, kąta, mocy\n",
        "- scale - skala wartości liniowa lub dB"
      ]
    },
    {
      "metadata": {
        "id": "zEHRAqoJ-1ey",
        "colab_type": "code",
        "colab": {}
      },
      "cell_type": "code",
      "source": [
        ""
      ],
      "execution_count": 0,
      "outputs": []
    },
    {
      "metadata": {
        "id": "IP8jytU3-1e0",
        "colab_type": "text"
      },
      "cell_type": "markdown",
      "source": [
        "# Praca domowa\n",
        "\n",
        "## Zadanie 1 - kwantyzacja\n",
        "\n",
        "Wczytaj sygnał z pliku i dokonaj jego kwantyzacji na wiele różnych sposobów. Zmierz SNR sygnału i zrób wykres porównujący SNR do głebi bitowej dźwięku."
      ]
    },
    {
      "metadata": {
        "id": "eaaCh3_7-1e1",
        "colab_type": "code",
        "colab": {}
      },
      "cell_type": "code",
      "source": [
        ""
      ],
      "execution_count": 0,
      "outputs": []
    },
    {
      "metadata": {
        "id": "676ZlHyF-1e3",
        "colab_type": "text"
      },
      "cell_type": "markdown",
      "source": [
        "## Zadanie 2 - Filtrowanie w dziedzinie częstotliwości\n",
        "\n",
        "Użyj metody modyfikacji sygnału w dziedzinie częstotliwości żeby odtworzyć tylko niskie ($<200Hz$), średnie (między $500Hz$, a $1000Hz$) oraz wysokie (między $2 kHz$, a $4 kHz$) częstotliwości pliku *zdanie.wav*."
      ]
    },
    {
      "metadata": {
        "id": "SETmDrex-1e4",
        "colab_type": "code",
        "colab": {}
      },
      "cell_type": "code",
      "source": [
        ""
      ],
      "execution_count": 0,
      "outputs": []
    },
    {
      "metadata": {
        "id": "YCWkzAL_-1e6",
        "colab_type": "text"
      },
      "cell_type": "markdown",
      "source": [
        "## Zadanie 3 - Funkcje okienkowe\n",
        "\n",
        "Narysuj i przetestuj następujące funkcje apodyzacyjne obecne w pakiecie numpy:\n",
        "\n",
        "* bartlett\n",
        "* blackman\n",
        "* hamming\n",
        "* hanning\n",
        "* kaiser\n",
        "\n",
        "Przetestuj również różne ustawienia wartości $\\beta$ dla funkcji *kaiser* według porad na stronie:\n",
        "\n",
        "http://docs.scipy.org/doc/numpy/reference/generated/numpy.kaiser.html\n",
        "\n",
        "Zwróć szczególną uwagę na widmo amplitudowe w skali logarytmicznej poszczególnych okienek."
      ]
    },
    {
      "metadata": {
        "id": "FdcFoxxV-1e7",
        "colab_type": "code",
        "colab": {}
      },
      "cell_type": "code",
      "source": [
        ""
      ],
      "execution_count": 0,
      "outputs": []
    }
  ]
}