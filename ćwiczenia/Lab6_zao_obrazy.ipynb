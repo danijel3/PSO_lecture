{
  "nbformat": 4,
  "nbformat_minor": 0,
  "metadata": {
    "colab": {
      "name": "Lab6_zao_obrazy.ipynb",
      "version": "0.3.2",
      "provenance": [],
      "collapsed_sections": []
    },
    "kernelspec": {
      "display_name": "Python 3",
      "language": "python",
      "name": "python3"
    }
  },
  "cells": [
    {
      "metadata": {
        "id": "OHmpEvHqglEQ",
        "colab_type": "code",
        "colab": {}
      },
      "cell_type": "code",
      "source": [
        "from skimage import data, color, exposure, transform, io, filters, morphology\n",
        "import os\n",
        "import urllib\n",
        "\n",
        "%pylab inline"
      ],
      "execution_count": 0,
      "outputs": []
    },
    {
      "metadata": {
        "id": "z74Q2cPdglEi",
        "colab_type": "text"
      },
      "cell_type": "markdown",
      "source": [
        "# Obrazy\n",
        "\n",
        "Powyżej zaimportowano kilka klas z biblioteki *scikit-image*:\n",
        "\n",
        "  * data - przykładowe zdjęcia i metody do wczytywania danych\n",
        "  * color - metody dotyczące przestrzeni barw\n",
        "  * exposure - metody do obliczania i manipulacji histogramu\n",
        "  * transform - transformaty i przekształcenia obrazów\n",
        "  * filters - filtry obrazów\n",
        "  * morphology - operacje morfologiczne\n",
        "  * io - metody wyjścia/wejścia\n",
        "\n",
        "Dokładny opis biblioteki znajdziesz tutaj: http://scikit-image.org/docs/stable/api/api.html\n",
        "\n",
        "W bibliotece jest o wiele więcej klas, ale dzisiaj użyjemy tylko te wspomniane wyżej.\n",
        "\n",
        "Oprócz *scikit-image* importujemy biblioteki *urllib* 1 i 2 do ściągania danych z internetu i standardowo *numpy* oraz *matplotlib*. Spójrzmy najpierw jakie metody mamy w klasie *data*?"
      ]
    },
    {
      "metadata": {
        "id": "gLAZsEX6glEl",
        "colab_type": "code",
        "colab": {}
      },
      "cell_type": "code",
      "source": [
        ""
      ],
      "execution_count": 0,
      "outputs": []
    },
    {
      "metadata": {
        "id": "RPGnAxctglEt",
        "colab_type": "text"
      },
      "cell_type": "markdown",
      "source": [
        "Wczytaj obraz o nazwie \"astronaut\" i wyświetl go metodą *pyplot.imshow*.\n",
        "\n",
        "Sprawdź jakiego typu danych jest zmienna zawierająca obraz i jakiego kształtu jest ta macierz.\n",
        "\n",
        "Narysuj osobno czerwoną, zieloną i niebieską składową obrazu."
      ]
    },
    {
      "metadata": {
        "id": "lvFumxcWglEv",
        "colab_type": "code",
        "colab": {}
      },
      "cell_type": "code",
      "source": [
        ""
      ],
      "execution_count": 0,
      "outputs": []
    },
    {
      "metadata": {
        "id": "SnoIO2RaglE2",
        "colab_type": "text"
      },
      "cell_type": "markdown",
      "source": [
        "## Wczytywanie z internetu\n",
        "\n",
        "Wczytaj teraz obraz PNG z internetu i narysuj go.\n",
        "\n",
        "Można użyć ten URL: http://www.pja.edu.pl/templates/pjwstk/images/logo-lg-md.png\n",
        "\n",
        "Użyj metody *urllib2.urlopen* żeby otworzyć strumień i przekaż go do funkcji *pyplot.imread*."
      ]
    },
    {
      "metadata": {
        "id": "9jmsxZC8glE5",
        "colab_type": "code",
        "colab": {}
      },
      "cell_type": "code",
      "source": [
        ""
      ],
      "execution_count": 0,
      "outputs": []
    },
    {
      "metadata": {
        "id": "kVXqD1OnglFG",
        "colab_type": "text"
      },
      "cell_type": "markdown",
      "source": [
        "Spróbujmy obraz https://upload.wikimedia.org/wikipedia/commons/a/a0/Sunflower_as_gif_websafe.gif\n",
        "\n",
        "Pyplot niestety nie obsługuje obrazów GIF, więc w tym przypadku trzeba ściągnąć i zapisać plik na dysku. Do tego można użyć metody *urllib.urlretrieve*, a potem można obraz wczytać metodą *data.load* z biblioteki *scikit-image*.\n",
        "\n",
        "Metoda *data.load* nie wczytuje plików z bieżącego katalogu, więc należy użyć metody *os.getcwd()* żeby wskazać katalog w którym się znajdujemy."
      ]
    },
    {
      "metadata": {
        "id": "-MoyDG0HglFI",
        "colab_type": "code",
        "colab": {}
      },
      "cell_type": "code",
      "source": [
        ""
      ],
      "execution_count": 0,
      "outputs": []
    },
    {
      "metadata": {
        "id": "bQp1fI2KglFS",
        "colab_type": "text"
      },
      "cell_type": "markdown",
      "source": [
        "## Przestrzenie barw\n",
        "\n",
        "Zmień przetrzeń barw z RGB na HSV i narysuj składwe H, S i V obrazu."
      ]
    },
    {
      "metadata": {
        "id": "J85QKxL8glFU",
        "colab_type": "code",
        "colab": {}
      },
      "cell_type": "code",
      "source": [
        ""
      ],
      "execution_count": 0,
      "outputs": []
    },
    {
      "metadata": {
        "id": "OJK3TQ2MglFh",
        "colab_type": "text"
      },
      "cell_type": "markdown",
      "source": [
        "Zrób to samo ale dla przestrzeni LAB."
      ]
    },
    {
      "metadata": {
        "id": "bgVVxOSwglFj",
        "colab_type": "code",
        "colab": {}
      },
      "cell_type": "code",
      "source": [
        ""
      ],
      "execution_count": 0,
      "outputs": []
    },
    {
      "metadata": {
        "id": "WydEPTKkglFs",
        "colab_type": "text"
      },
      "cell_type": "markdown",
      "source": [
        "Narysuj obraz astronautki w odcieniach szerości i zbliż zdjęcie do zakresu 250-350 w osi X i Y (użwając metod *xlim* i *ylim*).\n",
        "\n",
        "Sprawdź działanie argumentu *interpolation* w metodzie *imshow* (sprawdź ustawienie 'none')."
      ]
    },
    {
      "metadata": {
        "id": "ds_Gnp9mglFv",
        "colab_type": "code",
        "colab": {}
      },
      "cell_type": "code",
      "source": [
        ""
      ],
      "execution_count": 0,
      "outputs": []
    },
    {
      "metadata": {
        "id": "NW0mOzcUglF2",
        "colab_type": "text"
      },
      "cell_type": "markdown",
      "source": [
        "## Histogramy\n",
        "\n",
        "Policz histogram obrazu Lena w odcieniach szarości uzywając 3 metod:\n",
        "\n",
        "  * biblioteką scikit-image - metoda *exposure.histogram*\n",
        "  * biblioteką numpy - metoda *numpy.histogram*\n",
        "  * biblioteką matplotlib - metoda *pyplot.hist*\n",
        "  \n",
        "Narsyuj przy użyciu wykresu *pyplot.bar* albo *pyplot.plot*."
      ]
    },
    {
      "metadata": {
        "id": "D8DRlTQNglF4",
        "colab_type": "code",
        "colab": {}
      },
      "cell_type": "code",
      "source": [
        ""
      ],
      "execution_count": 0,
      "outputs": []
    },
    {
      "metadata": {
        "id": "k4T9Ev3jglF_",
        "colab_type": "text"
      },
      "cell_type": "markdown",
      "source": [
        "# Operacje punktowe\n",
        "\n",
        "Najpierw wczytaj jakiś przykładowy obraz w odcieniach szarości i wyświetl. Jaki zakres wartości posiada ten obraz?"
      ]
    },
    {
      "metadata": {
        "id": "4dXBjkEaglGB",
        "colab_type": "code",
        "colab": {}
      },
      "cell_type": "code",
      "source": [
        ""
      ],
      "execution_count": 0,
      "outputs": []
    },
    {
      "metadata": {
        "id": "xZScp5YIglGI",
        "colab_type": "text"
      },
      "cell_type": "markdown",
      "source": [
        "Zdefiniuj funkcję $f(x)$, która zwraca $x$ powiększoną o jakąś stałą wartość (np. $0.5$). Pamiętaj że obraz musi zaweriać liczby w zakresie $<0,1>$, więc zastosuj funkcję *numpy.clip* aby wymusić tą zależność. Żeby łatwo zastosować funkcję na wszystkich pikselach obrazu, możesz użyć metody *numpy.vectorize* aby przekształcić standardową funkcję, na taką, która może być stosowana na wektorach numpy.\n",
        "\n",
        "Na końcu, zastosuj funkcję na poprzednim obrazie i wyświetl wynik."
      ]
    },
    {
      "metadata": {
        "id": "IGB1oQ_HglGK",
        "colab_type": "code",
        "colab": {}
      },
      "cell_type": "code",
      "source": [
        ""
      ],
      "execution_count": 0,
      "outputs": []
    },
    {
      "metadata": {
        "id": "0NK7_kaZglGW",
        "colab_type": "text"
      },
      "cell_type": "markdown",
      "source": [
        "Zdefiniuj prostą funkcję liniową $f(x)=a*x+b$ jako operację punktową obrazu. Żeby łatwiej zrozumieć działanie tej funkcji na obrazie, oprócz stosowania jej na obrazie, narysuj wykres liniowy (*pyploy.plot*) pokazujący jak ta funkcja zmienia wsyzstkie odcienie szarości (w zakresie $<0,1>$)."
      ]
    },
    {
      "metadata": {
        "id": "rSNpAI3dglGY",
        "colab_type": "code",
        "colab": {}
      },
      "cell_type": "code",
      "source": [
        ""
      ],
      "execution_count": 0,
      "outputs": []
    },
    {
      "metadata": {
        "id": "TYjHrTN3glGh",
        "colab_type": "text"
      },
      "cell_type": "markdown",
      "source": [
        "Powyższe przekształcenia służą przeważnie do zmiany ekspozycji. Jeśli zrejestrowany obraz jest prześwietlony (overexposed) albo niedoświetlony (underexposed), histogram takiego obrazu będzie skupiony w pewnym wąskim obszarze odcieni szarości. Stosowanie powyższej funkcji liniowej pozwoli wydobić z histogramu istotne wartości odcieni szarości (te zawierające informacje) i odrzucenie innych.\n",
        "\n",
        "Znajdź jakiś przykładowy obraz wymagający korekty ekspozycji i znajdź odpowiednie parametry dla powyższej operacji.\n",
        "\n",
        "Na przykład:\n",
        "https://lifeaperture.files.wordpress.com/2011/04/dsc0085.jpg\n",
        "\n",
        "UWAGA: Żeby przyspieszyć działanie algorytmu, można zastosować *transform.rescale* żeby zmniejszyć rozmiar obrazu."
      ]
    },
    {
      "metadata": {
        "id": "N0wJ1cBhglGk",
        "colab_type": "code",
        "colab": {}
      },
      "cell_type": "code",
      "source": [
        ""
      ],
      "execution_count": 0,
      "outputs": []
    },
    {
      "metadata": {
        "id": "KOqnccK3glGy",
        "colab_type": "text"
      },
      "cell_type": "markdown",
      "source": [
        "Powyższa operacja skutecznie rozjaśnia (albo ściemnia) interesujące nas odcienie, ale inne są całkowicie usuwane z obrazu. W przypadku rozjaśniania, część obrazu zostanie zmieniona na całkowicie biały kolor, a w przypadku ściemniania na czarny. Powoduje to utratę szczegółów w niektórych (możliwie dużych) fragmentach obrazu.\n",
        "\n",
        "Zamiast calkowicie usunąć wybrany fragment obrazu, lepiej by było zastosować nieliniową operację, która \"rozciąga\" interesujące nas fragmenty histogramu, \"ściska\" te mniej interesujące, ale nadal nie powoduje ich całkowitą utratę. Jednym z takich nieliniowych operacji jest tzw. **gamma**. Definiujemy ją jako:\n",
        "\n",
        "\\begin{equation}\n",
        "f(x)=x^\\gamma\n",
        "\\end{equation}\n",
        "\n",
        "Stwórz własny operator gamma i znajdź odpowiednie parametry dla swojego obrazu."
      ]
    },
    {
      "metadata": {
        "id": "M_QS1GuYglGy",
        "colab_type": "code",
        "colab": {}
      },
      "cell_type": "code",
      "source": [
        ""
      ],
      "execution_count": 0,
      "outputs": []
    },
    {
      "metadata": {
        "id": "Gr7i9FkDglG5",
        "colab_type": "text"
      },
      "cell_type": "markdown",
      "source": [
        "Zaimplementuj opearcję wyrównania histogramu. Należy najpierw policzyć histogram obrazu, a potem policzyć jego *dystrybuantę*, czyli skumulowaną sumę poszczególnych próbek histogramu. Do tego celu można użyc funkcję *numpy.cumsum*. Jeśli dystrybuantę potraktujemy jako funkcję do operatora punktowego, wynik takiej operacji powinien być \"wyrównany\".\n",
        "\n",
        "Zastosuj taką operację na swoim obrazie."
      ]
    },
    {
      "metadata": {
        "id": "HxpcmjOOglG_",
        "colab_type": "code",
        "colab": {}
      },
      "cell_type": "code",
      "source": [
        ""
      ],
      "execution_count": 0,
      "outputs": []
    },
    {
      "metadata": {
        "id": "xrXGX3SVglHH",
        "colab_type": "text"
      },
      "cell_type": "markdown",
      "source": [
        "# Binaryzacja obrazu\n",
        "\n",
        "Najprostsza metoda binaryzacji jest tzw. progowanie (ang. thresholding). Dla zdefiniowanej wartości progu (np. 0.5), każdy piksel którego wartość przekracza ten próg ustaw na 1, a wszystkie inne na 0. Użyj zdjęcia *camera* (z klasy *skimage.data*) do wszystkich zadań."
      ]
    },
    {
      "metadata": {
        "id": "7Vbs-IA7glHJ",
        "colab_type": "code",
        "colab": {}
      },
      "cell_type": "code",
      "source": [
        ""
      ],
      "execution_count": 0,
      "outputs": []
    },
    {
      "metadata": {
        "id": "MEZMeL2YglHS",
        "colab_type": "text"
      },
      "cell_type": "markdown",
      "source": [
        "Dla większości zdjęć, proste progowanie nie jest skuteczną metodą detekcji elementów morfologicznych. Jest kilka rozszerzeń jakie można zastosować: użyć kilka progów (czyli np. \"od-do\"), zmienić przestrzeń barw (np. progowanie na podstawie odcieni barw), wykonać inne kroki przetwarzania wstępnego (np. wygładzanie, odszumianie, normalizacja).\n",
        "\n",
        "## Binaryzacja kontekstowa - metoda Otsu\n",
        "\n",
        "Dla niektórych zdjęć trudno wyliczyć uniwersalny próg, bo kontrast się zmienia w zależności od obszaru zdjęcia jaki analizujemy. Sprawdź zdjęcie z metody *data.page* i zastosuj na nim jakiś próg.\n",
        "\n",
        "Metoda wymyślona przez naukowaca Nobuyuki Otsu polega na wyliczeniu optymalnego progu dla każdego piksela (na podstawie jego najbliższego sąsiedztwa) i dokonanie binaryzacji na tej podstawie. Do znalezienia progu użyj metody *skimage.filters.rank.otsu*, a jako element strukturalny tej metody użyj objekt *skimage.morphology.disk*. Odejmij wartość 10 od wyliczonego progu żeby się pozbyć artefaktów w tle."
      ]
    },
    {
      "metadata": {
        "id": "aAlCN67_glHW",
        "colab_type": "code",
        "colab": {}
      },
      "cell_type": "code",
      "source": [
        ""
      ],
      "execution_count": 0,
      "outputs": []
    },
    {
      "metadata": {
        "id": "q6Fadbu5glHc",
        "colab_type": "text"
      },
      "cell_type": "markdown",
      "source": [
        "Podobne efekty można uzyskać stosując inne lokalnie adaptacyjnie metody. Użyj metody *skimage.filters.threshold_local* o sąsiedztwie 35 i parametrze *offset* równym 10 na tym samym obrazie. Sprawdź inne opcje jakie ma ta metoda."
      ]
    },
    {
      "metadata": {
        "id": "XTVBHPpJglHe",
        "colab_type": "code",
        "colab": {}
      },
      "cell_type": "code",
      "source": [
        ""
      ],
      "execution_count": 0,
      "outputs": []
    },
    {
      "metadata": {
        "id": "PyOaRNxuglHm",
        "colab_type": "text"
      },
      "cell_type": "markdown",
      "source": [
        "## Steganografia\n",
        "\n",
        "Wczytaj obraz stego.bmp i wyświetl. Czy jest coś nie tak z tym obrazem?\n",
        "\n",
        "Narysuj jego histogram.\n",
        "\n",
        "Odczytaj 3 ostatnie bity każdego piksela z danego obrazu i zrób z tego inny obraz.\n",
        "\n",
        "Metoda ukrywania informacji w obrazach (lub innych zbiorach danych gdzie niewielkie perturbacje wartości nie zmieniają jego treści) znana jest właśnie pod nazwą *steganografia*. Więcej informacji znajdziesz tutaj:\n",
        "\n",
        "https://en.wikipedia.org/wiki/Steganography"
      ]
    },
    {
      "metadata": {
        "id": "B4v918ExglHo",
        "colab_type": "code",
        "colab": {}
      },
      "cell_type": "code",
      "source": [
        ""
      ],
      "execution_count": 0,
      "outputs": []
    },
    {
      "metadata": {
        "id": "GIIbVk8TglHv",
        "colab_type": "text"
      },
      "cell_type": "markdown",
      "source": [
        "# Praca domowa\n",
        "\n",
        "## Zadanie 1\n",
        "\n",
        "Zamiplementuj metodę tranformacji kontrastu na podstawie funkcji logistycznej z parametrem $k$ określającym jej intesywność. Uważaj żeby funkcja zawsze była znormalizowana tak, żeby 0 było zamieniane na 0, a 1 na 1."
      ]
    },
    {
      "metadata": {
        "id": "FXbuXLy2glHx",
        "colab_type": "code",
        "colab": {}
      },
      "cell_type": "code",
      "source": [
        ""
      ],
      "execution_count": 0,
      "outputs": []
    },
    {
      "metadata": {
        "collapsed": true,
        "id": "Y-vEUIY8glHz",
        "colab_type": "text"
      },
      "cell_type": "markdown",
      "source": [
        "## Zadanie 2\n",
        "\n",
        "Zrób własny przykład steganografii. Ukryj jakąś informacje (nie musi to być zdjęcie) w jakimś innym pliku tak żeby nie zaburzyć jego "
      ]
    },
    {
      "metadata": {
        "id": "4jLr9LT8glH1",
        "colab_type": "code",
        "colab": {}
      },
      "cell_type": "code",
      "source": [
        ""
      ],
      "execution_count": 0,
      "outputs": []
    }
  ]
}