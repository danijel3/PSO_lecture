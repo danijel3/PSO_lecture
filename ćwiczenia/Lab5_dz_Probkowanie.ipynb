{
  "nbformat": 4,
  "nbformat_minor": 0,
  "metadata": {
    "colab": {
      "name": "Lab5_dz_Probkowanie.ipynb",
      "version": "0.3.2",
      "provenance": []
    },
    "kernelspec": {
      "display_name": "Python 3",
      "language": "python",
      "name": "python3"
    }
  },
  "cells": [
    {
      "metadata": {
        "id": "-vp6pF4biDRk",
        "colab_type": "text"
      },
      "cell_type": "markdown",
      "source": [
        "# Próbkowanie i kwantyzacja\n",
        "\n",
        "## Twierdzenie Nyquista/Shannona\n",
        "\n",
        "Wiemy co to jest częstotliwość próbkowania, ale jaką ona powinna mieć wartość? Jaka jest minimalna ilość próbek (minimalna zajętość pamięci) wymagana żeby zachować optymalną jakość sygnału?\n",
        "\n",
        "Otóż, odpowiedź jest dosyć prosta, ale zanim podamy twierdzenie, zróbmy kilka eksperymentów, żeby zobaczyć podstawowe jego cechy.\n",
        "\n",
        "Wygenerujmy i narysujmy 1 sekundę sygnału o częstotliwości 1 Hz oraz jednostkowej amplitudzie oraz zerowej fazie. Jaka jest minimalna ilość próbek potrzebna żeby zachować kształt sinusoidy? Jak jest w przypadku sygnału 2 Hz? 3 Hz?"
      ]
    },
    {
      "metadata": {
        "id": "yQsxRRhwiDRo",
        "colab_type": "code",
        "colab": {}
      },
      "cell_type": "code",
      "source": [
        ""
      ],
      "execution_count": 0,
      "outputs": []
    },
    {
      "metadata": {
        "id": "7cYrav3yiDR2",
        "colab_type": "text"
      },
      "cell_type": "markdown",
      "source": [
        "To ćwiczenie może i nie należy do najłatwiejszych. Spróbujmy więc podejść do problemu od drugiej strony. Załóżmy, że częstotliwość próbkowania jest stała i wynosi 10 Hz. Jakie sygnały możemy wygenerować używając tylko 10 próbek? Jak wygląda sygnał o częstotliwości 1 Hz? A 4 Hz? 5 Hz? 6 Hz? 9Hz? 10 Hz? 11 Hz? Spróbuj wygenerować inne częstotliwości. Jakie sygnały wyglądają podobnie, a jakie się różnią?"
      ]
    },
    {
      "metadata": {
        "id": "9zLaDZsRiDR6",
        "colab_type": "code",
        "colab": {}
      },
      "cell_type": "code",
      "source": [
        ""
      ],
      "execution_count": 0,
      "outputs": []
    },
    {
      "metadata": {
        "id": "jOpTLCyriDSD",
        "colab_type": "text"
      },
      "cell_type": "markdown",
      "source": [
        "Możemy pójść o krok dalej. Wygenerujmy sygnał sinusoidalny, gdzie parametr częstotliwości jest liczbą rzeczywistą zmieniająca się w czasie od 1 Hz do dwukrotności częstotliwości próbkowania. Długość sygnału możesz ustawić na 10 sekund, a częstotliwość próbkowania na 1000 Hz. Co się dzieję z sygnałem? Odtwórz go."
      ]
    },
    {
      "metadata": {
        "id": "scxXr3tRiDSF",
        "colab_type": "code",
        "colab": {}
      },
      "cell_type": "code",
      "source": [
        ""
      ],
      "execution_count": 0,
      "outputs": []
    },
    {
      "metadata": {
        "id": "6Oae6E4ViDSQ",
        "colab_type": "text"
      },
      "cell_type": "markdown",
      "source": [
        "Użyj poniższej funkcji *pyplot.specgram* aby zobacyzć widmo sygnału (o tym na następnym ćwiczeniu). Jako pierwszy arguemnt podaj sygnał, a jako drugi (o nazwie Fs) podaj częstotliwość próbkowania. Jak się ten wykres ma do brzmienia sygnału? "
      ]
    },
    {
      "metadata": {
        "id": "guPWuPb2iDSV",
        "colab_type": "code",
        "colab": {}
      },
      "cell_type": "code",
      "source": [
        ""
      ],
      "execution_count": 0,
      "outputs": []
    },
    {
      "metadata": {
        "id": "-JcS4mWJiDSj",
        "colab_type": "text"
      },
      "cell_type": "markdown",
      "source": [
        "# Rozdzielczość bitowa\n",
        "\n",
        "Otwórz plik WAV standardową biblioteką 'wave' i podaj jakie on ma parametry (użyj metody getparams). Więcej informacji na temat tej biblioteki znajdziesz tutaj:\n",
        "\n",
        "https://docs.python.org/2/library/wave.html"
      ]
    },
    {
      "metadata": {
        "id": "P78taq4CiDSm",
        "colab_type": "code",
        "colab": {}
      },
      "cell_type": "code",
      "source": [
        ""
      ],
      "execution_count": 0,
      "outputs": []
    },
    {
      "metadata": {
        "id": "V-JC-ClUiDSv",
        "colab_type": "text"
      },
      "cell_type": "markdown",
      "source": [
        "Wczytaj teraz plik do pamięci, ale użyj o wiele wygodniejszej metody z biblioteki scipy:\n",
        "\n",
        "http://docs.scipy.org/doc/scipy/reference/generated/scipy.io.wavfile.read.html\n",
        "\n",
        "Narysuj i odtwórz dany plik."
      ]
    },
    {
      "metadata": {
        "id": "iTG3rKoAiDSx",
        "colab_type": "code",
        "colab": {}
      },
      "cell_type": "code",
      "source": [
        ""
      ],
      "execution_count": 0,
      "outputs": []
    },
    {
      "metadata": {
        "id": "6YbxxypEiDTD",
        "colab_type": "text"
      },
      "cell_type": "markdown",
      "source": [
        "Dokonaj kwantyzacji pliku używając mniejszej ilości bitów na próbkę. Odtwórz dźwięk i porównaj z oryginałem. Co można usłyszeć? Oblicz różnicę między nagraniem oryginalnym i przetworzonym i odtwórz. Czy się charakteryzuje ta różnica?"
      ]
    },
    {
      "metadata": {
        "id": "7Hf7lxlJiDTF",
        "colab_type": "code",
        "colab": {}
      },
      "cell_type": "code",
      "source": [
        ""
      ],
      "execution_count": 0,
      "outputs": []
    },
    {
      "metadata": {
        "id": "D5vY4b0siDTQ",
        "colab_type": "text"
      },
      "cell_type": "markdown",
      "source": [
        "# Praca domowa\n",
        "\n",
        "## Zadanie 1\n",
        "\n",
        "Wczytaj sygnał z pliku i zmniejsz jego częstotliwość próbkowania o połowę kopiując co drugą próbkę. Zobrazuj zjawisko aliasingu przez analizę częstotliwościową przed i po zmianie próbkowania."
      ]
    },
    {
      "metadata": {
        "id": "NTmorMCCiDTT",
        "colab_type": "code",
        "colab": {}
      },
      "cell_type": "code",
      "source": [
        ""
      ],
      "execution_count": 0,
      "outputs": []
    },
    {
      "metadata": {
        "id": "nmoduaUViDTc",
        "colab_type": "text"
      },
      "cell_type": "markdown",
      "source": [
        "## Zadanie 2\n",
        "\n",
        "Wczytaj sygnał z pliku i dokonaj jego kwantyzacji na wiele różnych sposobów. Zmierz SNR sygnału i zrób wykres porównujący SNR do głebi bitowej dźwięku."
      ]
    },
    {
      "metadata": {
        "id": "ahJLgyy_iDTf",
        "colab_type": "code",
        "colab": {},
        "outputId": "b16eb7f4-2ca1-4917-dfba-f6a5a381d36d"
      },
      "cell_type": "code",
      "source": [
        "%pylab inline"
      ],
      "execution_count": 0,
      "outputs": [
        {
          "output_type": "stream",
          "text": [
            "Populating the interactive namespace from numpy and matplotlib\n"
          ],
          "name": "stdout"
        }
      ]
    },
    {
      "metadata": {
        "id": "yRqJstwHiDT2",
        "colab_type": "code",
        "colab": {}
      },
      "cell_type": "code",
      "source": [
        "from scipy.io.wavfile import read\n",
        "\n",
        "Fs,y=read('zdanie.wav')\n",
        "y=y.astype(float)\n",
        "y-=y.mean()\n",
        "y/=abs(y).max()+1"
      ],
      "execution_count": 0,
      "outputs": []
    },
    {
      "metadata": {
        "id": "cbfWbAdJiDT-",
        "colab_type": "code",
        "colab": {}
      },
      "cell_type": "code",
      "source": [
        "def SNR(y_signal, y_conv):\n",
        "    y_noise=y_signal-y_conv\n",
        "#    s=y_signal.var()/y_noise.var()\n",
        "    s=mean(y_signal**2)/mean(y_noise**2)\n",
        "    return 10*log10(s)\n",
        "\n",
        "def conv(y,L):\n",
        "    return 2*floor(L*(y+1)/2)/L-1"
      ],
      "execution_count": 0,
      "outputs": []
    },
    {
      "metadata": {
        "id": "-qt6oJhdiDUF",
        "colab_type": "code",
        "colab": {},
        "outputId": "bb24036e-cc85-4c23-8678-f81bb7a9ff88"
      },
      "cell_type": "code",
      "source": [
        "B=range(1,33)\n",
        "\n",
        "s=[]\n",
        "for b in B:\n",
        "    yc=conv(y,2**b)\n",
        "    s.append(SNR(y,yc))\n",
        "\n",
        "\n",
        "plot(B,s)"
      ],
      "execution_count": 0,
      "outputs": [
        {
          "output_type": "execute_result",
          "data": {
            "text/plain": [
              "[<matplotlib.lines.Line2D at 0x7f57032a5048>]"
            ]
          },
          "metadata": {
            "tags": []
          },
          "execution_count": 255
        },
        {
          "output_type": "display_data",
          "data": {
            "image/png": "[encoded data removed]",
            "text/plain": [
              "<matplotlib.figure.Figure at 0x7f5703310198>"
            ]
          },
          "metadata": {
            "tags": []
          }
        }
      ]
    },
    {
      "metadata": {
        "id": "_gPOuA44iDUT",
        "colab_type": "text"
      },
      "cell_type": "markdown",
      "source": [
        "## Zadanie 3\n",
        "\n",
        "Zrób to samo co w zadaniu 2, ale użyj metody kodowania $\\mu$-law."
      ]
    },
    {
      "metadata": {
        "id": "qe7hYPrriDUV",
        "colab_type": "code",
        "colab": {}
      },
      "cell_type": "code",
      "source": [
        "def ulaw(x,u=255):    \n",
        "    return sign(x)*log(1+u*abs(x))/log(1+u)\n",
        "def ulaw_d(y,u=255):    \n",
        "    return sign(y)*(1/u)*((1+u)**abs(y)-1)"
      ],
      "execution_count": 0,
      "outputs": []
    },
    {
      "metadata": {
        "id": "UwC38-TliDUh",
        "colab_type": "code",
        "colab": {},
        "outputId": "26aa97f6-65f0-4fcf-b796-e7c6d2c3d61b"
      },
      "cell_type": "code",
      "source": [
        "B=range(1,16)\n",
        "\n",
        "s=[]\n",
        "for b in B:\n",
        "    yc=conv(y,2**b)\n",
        "    s.append(SNR(y,yc))\n",
        "\n",
        "su=[]\n",
        "sy=[]\n",
        "for b in B:\n",
        "    u=ulaw(y,2**b)\n",
        "    uc=conv(u,2**b)    \n",
        "    su.append(SNR(u,uc))\n",
        "    yc=ulaw_d(uc,2**b)\n",
        "    sy.append(SNR(y,yc))\n",
        "\n",
        "plot(B,s,label='linear')\n",
        "plot(B,su,label='ulaw')\n",
        "plot(B,sy,label='ulaw decoded')\n",
        "legend()"
      ],
      "execution_count": 0,
      "outputs": [
        {
          "output_type": "execute_result",
          "data": {
            "text/plain": [
              "<matplotlib.legend.Legend at 0x7f5702fd2978>"
            ]
          },
          "metadata": {
            "tags": []
          },
          "execution_count": 261
        },
        {
          "output_type": "display_data",
          "data": {
            "image/png": "[encoded data removed]",
            "text/plain": [
              "<matplotlib.figure.Figure at 0x7f57030a6f98>"
            ]
          },
          "metadata": {
            "tags": []
          }
        }
      ]
    },
    {
      "metadata": {
        "id": "mzUNvxsZiDUs",
        "colab_type": "code",
        "colab": {}
      },
      "cell_type": "code",
      "source": [
        ""
      ],
      "execution_count": 0,
      "outputs": []
    }
  ]
}