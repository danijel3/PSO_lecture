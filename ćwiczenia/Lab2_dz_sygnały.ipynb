{
  "nbformat": 4,
  "nbformat_minor": 0,
  "metadata": {
    "colab": {
      "name": "Lab2_dz_sygnały.ipynb",
      "version": "0.3.2",
      "provenance": [],
      "collapsed_sections": []
    },
    "kernelspec": {
      "display_name": "Python 3",
      "language": "python",
      "name": "python3"
    }
  },
  "cells": [
    {
      "metadata": {
        "id": "2253-7jWMrvx",
        "colab_type": "text"
      },
      "cell_type": "markdown",
      "source": [
        "# Sygnały 1D\n",
        "\n",
        "W tym ćwiczeniu zaczniemy od analizy prostych sygnałów jedno-wymiarowych. Na początku zainiciujemy bibliotekę Matplotlib po to żeby nie trzeba tego robić więcej niż raz w całym Notebooku (uruchom poniższy blok)."
      ]
    },
    {
      "metadata": {
        "id": "6pC6Cpm0Mrvz",
        "colab_type": "code",
        "colab": {}
      },
      "cell_type": "code",
      "source": [
        "%pylab inline"
      ],
      "execution_count": 0,
      "outputs": []
    },
    {
      "metadata": {
        "id": "IYPFjRoDMrv9",
        "colab_type": "text"
      },
      "cell_type": "markdown",
      "source": [
        "## Zadania wstępne - proste sygnały\n",
        "\n",
        "Narysuj następujące funkcje. Dla zmiennej $x$ zakładamy zakres wartości $<0,20>$.\n",
        "\n",
        "### Funkcja schodkowa (step function)\n",
        "\n",
        "![](https://raw.githubusercontent.com/danijel3/PSO_lecture/master/%C4%87wiczenia/step.png)"
      ]
    },
    {
      "metadata": {
        "id": "NrF4m0kxMrv-",
        "colab_type": "code",
        "colab": {}
      },
      "cell_type": "code",
      "source": [
        ""
      ],
      "execution_count": 0,
      "outputs": []
    },
    {
      "metadata": {
        "id": "r0VG7ABbMrwH",
        "colab_type": "text"
      },
      "cell_type": "markdown",
      "source": [
        "### Impuls (warto użyć funkcji \"stem\")\n",
        "\n",
        "![](https://raw.githubusercontent.com/danijel3/PSO_lecture/master/%C4%87wiczenia/impulse.png)"
      ]
    },
    {
      "metadata": {
        "id": "JRr19TEZMrwK",
        "colab_type": "code",
        "colab": {}
      },
      "cell_type": "code",
      "source": [
        ""
      ],
      "execution_count": 0,
      "outputs": []
    },
    {
      "metadata": {
        "id": "sRjICJkpMrwQ",
        "colab_type": "text"
      },
      "cell_type": "markdown",
      "source": [
        "### Sygnał kwadratowy (square wave):\n",
        "\n",
        "![](https://raw.githubusercontent.com/danijel3/PSO_lecture/master/%C4%87wiczenia/square.png)"
      ]
    },
    {
      "metadata": {
        "id": "sYqYpi3_MrwT",
        "colab_type": "code",
        "colab": {}
      },
      "cell_type": "code",
      "source": [
        ""
      ],
      "execution_count": 0,
      "outputs": []
    },
    {
      "metadata": {
        "id": "0AXuCCviMrwd",
        "colab_type": "text"
      },
      "cell_type": "markdown",
      "source": [
        "### Sygnał \"piła\" (sawtooth wave):\n",
        "\n",
        "![](https://raw.githubusercontent.com/danijel3/PSO_lecture/master/%C4%87wiczenia/sawtooth.png)"
      ]
    },
    {
      "metadata": {
        "id": "hD7ttSudMrwg",
        "colab_type": "code",
        "colab": {}
      },
      "cell_type": "code",
      "source": [
        ""
      ],
      "execution_count": 0,
      "outputs": []
    },
    {
      "metadata": {
        "id": "_zqhuT81Mrwo",
        "colab_type": "text"
      },
      "cell_type": "markdown",
      "source": [
        "### Sygnał trójkątny (triangle wave):\n",
        "\n",
        "![](https://raw.githubusercontent.com/danijel3/PSO_lecture/master/%C4%87wiczenia/triangle.png)"
      ]
    },
    {
      "metadata": {
        "id": "TqQIXqEMMrwq",
        "colab_type": "code",
        "colab": {}
      },
      "cell_type": "code",
      "source": [
        ""
      ],
      "execution_count": 0,
      "outputs": []
    },
    {
      "metadata": {
        "id": "6EGpB0ChMrww",
        "colab_type": "text"
      },
      "cell_type": "markdown",
      "source": [
        "## Sygnał sinusoidalny\n",
        "\n",
        "Proszę narysować sygnał sinusoidalny o następujących parametrach:\n",
        "\n",
        "* Amplituda: 2\n",
        "* Częstotliwość: 5 Hz\n",
        "* Faza: $\\pi/2$ rad\n",
        "* Długość: 3 s\n",
        "* Częstotliwość próbkowania: 100 Hz\n",
        "\n",
        "Sprawdź również inne ustawienia żeby zobaczyć jak poszczególne parametry wpływają na wygląd sygnału."
      ]
    },
    {
      "metadata": {
        "id": "6oGHkCzuMrwy",
        "colab_type": "code",
        "colab": {}
      },
      "cell_type": "code",
      "source": [
        ""
      ],
      "execution_count": 0,
      "outputs": []
    },
    {
      "metadata": {
        "id": "_tpLBO1tMrw_",
        "colab_type": "text"
      },
      "cell_type": "markdown",
      "source": [
        "Teraz stwórz jedną sekundę syngału o częstotliowści próbkowania 48 kHz i częstotliwości 300 Hz. Odtwórz go w komponencie HTML5. Spróbuj inne częstotliwości żeby poznać ich brzmienia."
      ]
    },
    {
      "metadata": {
        "scrolled": true,
        "id": "BPRZP6N7MrxB",
        "colab_type": "code",
        "colab": {}
      },
      "cell_type": "code",
      "source": [
        ""
      ],
      "execution_count": 0,
      "outputs": []
    },
    {
      "metadata": {
        "id": "cI4dYIV5MrxG",
        "colab_type": "text"
      },
      "cell_type": "markdown",
      "source": [
        "## Modulacja\n",
        "\n",
        "### Modulacja AM\n",
        "\n",
        "Modulacja amplitudowa jest prosta bo polega na zastąpienie parametru amplitudy sygnału nośnego, wartością sygnału modulującego. Weźmy dla przykłady 3 sekundowy sygnał o częstotliwości 30 Hz (Fs=1kHz). Zmoduluj jego amplitudę sygnałem o częstotliwości 2 Hz i narysuj pod spodem."
      ]
    },
    {
      "metadata": {
        "id": "GjTXXAX7MrxH",
        "colab_type": "code",
        "colab": {}
      },
      "cell_type": "code",
      "source": [
        ""
      ],
      "execution_count": 0,
      "outputs": []
    },
    {
      "metadata": {
        "id": "kfufJsNLMrxN",
        "colab_type": "text"
      },
      "cell_type": "markdown",
      "source": [
        "Wygeneruj i odtwórz sygnał modulowany o częstotliwości nośnej 500 Hz i modulowanej 3 Hz. Dla AM zastosuj parametr M o wartości 0.5, a dla FM 50 Hz."
      ]
    },
    {
      "metadata": {
        "id": "mUB9LdH9MrxO",
        "colab_type": "code",
        "colab": {}
      },
      "cell_type": "code",
      "source": [
        ""
      ],
      "execution_count": 0,
      "outputs": []
    },
    {
      "metadata": {
        "id": "K_lPT7nFMrxU",
        "colab_type": "text"
      },
      "cell_type": "markdown",
      "source": [
        "### Modulacja FM\n",
        "\n",
        "Modulacja częstotliwościowa działa podobnie do modulacji amplitudowej, ale zamiast amplitudy zmienia częstotliwość sygnału nośnego. Biorąc te same parametry jak w poprzednim zadaniu (3s, 30Hz, Fs=1kHz) wykonaj modulację częstotliwościową.\n",
        "\n",
        "Warto też wziąć pod uwagę, że rozrzut amplitudy sygnału nadawanego jest w dziedzinie częstotliowści, więc powinien wynosić nieco więcej, aby był słyszalny (conajmniej 10, 20 Hz). "
      ]
    },
    {
      "metadata": {
        "id": "fjm5T9P0MrxW",
        "colab_type": "code",
        "colab": {}
      },
      "cell_type": "code",
      "source": [
        ""
      ],
      "execution_count": 0,
      "outputs": []
    },
    {
      "metadata": {
        "id": "j3Rb053-Mrxc",
        "colab_type": "text"
      },
      "cell_type": "markdown",
      "source": [
        "Działanie metody FM łątwiej zrozumieć analizując jej rozkład częstotliwości, ale o tym będzie dopiero na póżniejszych wykładach. Wygeneruj jeszcze raz sygnał modulowamy, ale zwiększ jego częstotliwość próbkowania do 10 kHz, częstotliwość sygnału nośnego do 1 kHz, i rozrzut M do 100 Hz. \n",
        "\n",
        "Do uruchomienia prostej funkcji analizującej rozkład częstotliwości w czasie, wystarczy uruchomić następujące polecenie:\n",
        "\n",
        "    z=P.specgram(y)\n",
        "   \n",
        "(funkcja ta zwraca wartości i zmienna z jest tylko po to żeby wymusić narysowanie wykresu zamiast wyświetlania tych wartości)"
      ]
    },
    {
      "metadata": {
        "id": "2c4qBNH6Mrxe",
        "colab_type": "code",
        "colab": {}
      },
      "cell_type": "code",
      "source": [
        ""
      ],
      "execution_count": 0,
      "outputs": []
    },
    {
      "metadata": {
        "id": "eRGahASIMrxi",
        "colab_type": "text"
      },
      "cell_type": "markdown",
      "source": [
        "# Ćwiczenia\n",
        "### (praca domowa)\n",
        "\n",
        "Wygeneruj sygnał wyrażony jako suma sygnałów o parametrach podanych poniżej. Sygnał ma mieć 2.5 sekundy, przy częstotliwości próbkowania 44.1 kHz. Narysuj i odtwórz taki dźwięk.\n",
        "\n",
        "1. f=500Hz A=2 $\\phi$=0 rad\n",
        "2. f=1234Hz A=0.5 $\\phi$=$\\pi$ rad\n",
        "3. f=100Hz A=1 $\\phi$=115$^\\circ$"
      ]
    },
    {
      "metadata": {
        "id": "Ibh1f7gRMrxj",
        "colab_type": "code",
        "colab": {}
      },
      "cell_type": "code",
      "source": [
        ""
      ],
      "execution_count": 0,
      "outputs": []
    },
    {
      "metadata": {
        "id": "rj3tQ5AdMrxn",
        "colab_type": "text"
      },
      "cell_type": "markdown",
      "source": [
        "Z powyższego sygnału wylicz i narysuj jego składową parzystą i nieparzystą (patrz wykład). Potem dodaj te składowe do siebie tak żeby znowu otrzymać oryginalny sygnał. Do odwracania sewkecji użyj metody *np.flip*."
      ]
    },
    {
      "metadata": {
        "id": "BAadn2jiMrxp",
        "colab_type": "code",
        "colab": {}
      },
      "cell_type": "code",
      "source": [
        ""
      ],
      "execution_count": 0,
      "outputs": []
    },
    {
      "metadata": {
        "id": "WCM1rMJxMrxs",
        "colab_type": "text"
      },
      "cell_type": "markdown",
      "source": [
        "Wygeneruj sekundę sygnału o częstotliwości próbkowania 10 kHz z parametrów poniżej i narysuj. Czemu uzyskałeś taki wykres (zwróć uwagę na zakres wartości)?\n",
        "\n",
        "1. f=100 Hz A=1 $\\phi$=$\\frac{\\pi}{2}$\n",
        "2. f=200 Hz A=2 $\\phi$=$\\pi$\n",
        "3. f=100 Hz A=-1 $\\phi$=$\\frac{\\pi}{2}$\n",
        "4. f=200 Hz A=2 $\\phi$=$2\\pi$"
      ]
    },
    {
      "metadata": {
        "id": "fkc9u3e4Mrxt",
        "colab_type": "code",
        "colab": {}
      },
      "cell_type": "code",
      "source": [
        ""
      ],
      "execution_count": 0,
      "outputs": []
    }
  ]
}