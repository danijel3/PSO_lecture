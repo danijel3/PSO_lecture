{
  "nbformat": 4,
  "nbformat_minor": 0,
  "metadata": {
    "colab": {
      "name": "Lab10_dz_obrazy_trans.ipynb",
      "version": "0.3.2",
      "provenance": [],
      "collapsed_sections": []
    },
    "kernelspec": {
      "display_name": "Python 3",
      "language": "python",
      "name": "python3"
    }
  },
  "cells": [
    {
      "metadata": {
        "id": "rYQRAj_Rfsr0",
        "colab_type": "code",
        "colab": {}
      },
      "cell_type": "code",
      "source": [
        "%pylab inline\n",
        "from skimage import data, color, transform, morphology\n",
        "from scipy.fftpack import dct,idct\n",
        "from scipy.signal import gaussian, convolve2d"
      ],
      "execution_count": 0,
      "outputs": []
    },
    {
      "metadata": {
        "id": "hZ6iYP-Lfsr-",
        "colab_type": "text"
      },
      "cell_type": "markdown",
      "source": [
        "# Transformata Fouriera w obrazach\n",
        "\n",
        "Zobaczmy jak to działa na kilku przykładach. Wiadomo, że transformata Fouriera 1D dobrze rozpoznaje sygnał sinusoidalny (jako pojedyńcy punkt na spektrogramie). Zobaczmy czy tak samo będzie z tranformatą 2D. Wygnereuj taki sygnał i narysuj jego widmo amplitudowe i fazowe:\n",
        "\n",
        "\\begin{equation}\n",
        "I_{x,y}=A\\cdot\\sin(2\\cdot\\pi\\cdot f\\cdot x/W+\\phi)\\hspace{1cm}\\text{, dla }x\\in[0,W-1]\\text{ i }y\\in[0,H-1]\n",
        "\\end{equation}\n",
        "\n",
        "Możesz najpierw założyć jednostkową amplitudę i zerową fazę oraz $f$ ustawić na 100, a póżniej zobaczyć co się stanie jak zmienisz parametry. Załóż że W i H są 512 pikseli. Zaleca się użycia polecenia *numpy.meshgrid* do wygenerowania wartości współrzędnych X i Y z powyższego wzoru (najlepiej jako liczby rzeczywiste)."
      ]
    },
    {
      "metadata": {
        "id": "LGevLnl3fssA",
        "colab_type": "code",
        "colab": {}
      },
      "cell_type": "code",
      "source": [
        ""
      ],
      "execution_count": 0,
      "outputs": []
    },
    {
      "metadata": {
        "id": "yl-WWiMrfssG",
        "colab_type": "text"
      },
      "cell_type": "markdown",
      "source": [
        "A teraz zrób to samo ale dla $y$ zamiast $x$:\n",
        "\n",
        "\\begin{equation}\n",
        "I_{x,y}=A\\cdot\\sin(2\\cdot\\pi\\cdot f\\cdot y/H+\\phi)\\hspace{1cm}\\text{, dla }x\\in[0,W-1]\\text{ i }y\\in[0,H-1]\n",
        "\\end{equation}"
      ]
    },
    {
      "metadata": {
        "id": "Heaxn7JbfssI",
        "colab_type": "code",
        "colab": {}
      },
      "cell_type": "code",
      "source": [
        ""
      ],
      "execution_count": 0,
      "outputs": []
    },
    {
      "metadata": {
        "id": "boab_NsRfssN",
        "colab_type": "text"
      },
      "cell_type": "markdown",
      "source": [
        "Teraz zrób to samo dla sumy $x$ i $y$:\n",
        "\n",
        "\\begin{equation}\n",
        "I_{x,y}=A\\cdot \\sin(2\\cdot\\pi\\cdot f\\frac{x/W+y/H}{2}+\\phi)\\hspace{1cm}\\text{, dla }x\\in[0,W]\\text{ i }y\\in[0,H]\n",
        "\\end{equation}"
      ]
    },
    {
      "metadata": {
        "id": "8q1SEtXNfssP",
        "colab_type": "code",
        "colab": {}
      },
      "cell_type": "code",
      "source": [
        ""
      ],
      "execution_count": 0,
      "outputs": []
    },
    {
      "metadata": {
        "id": "rWBcMEIsfssU",
        "colab_type": "text"
      },
      "cell_type": "markdown",
      "source": [
        "Spróbuj zdefniować obszar wartości widma 2D i określić co w nim oznaczają poszczególne punkty. Jaka występuje symetria?\n",
        "\n",
        "Zrób przykładowe widmo jakiegoś obrazu i dokonaj odwrotnej transformaty Fouriera."
      ]
    },
    {
      "metadata": {
        "id": "vyUFUv04fssW",
        "colab_type": "code",
        "colab": {}
      },
      "cell_type": "code",
      "source": [
        ""
      ],
      "execution_count": 0,
      "outputs": []
    },
    {
      "metadata": {
        "id": "5wl2K1ZRfsse",
        "colab_type": "text"
      },
      "cell_type": "markdown",
      "source": [
        "Wczytaj przykładowy obraz natuarlny i narysuj jego widmo. Zauważ, że taki obraz może mieć dosyć duże przesunięcie DC, więc jego składowa widma $(0,0)$ będzie bardzo wysoka. Najlepiej obejrzeć widmo w skali logarytmicznej."
      ]
    },
    {
      "metadata": {
        "id": "wgtbQmOVfssg",
        "colab_type": "code",
        "colab": {}
      },
      "cell_type": "code",
      "source": [
        ""
      ],
      "execution_count": 0,
      "outputs": []
    },
    {
      "metadata": {
        "id": "9ZpzE7iefssl",
        "colab_type": "text"
      },
      "cell_type": "markdown",
      "source": [
        "Dokonaj zmian w widmie maskując jego poszczególne części: najpierw górne, potem dolne częstotliwości i narysuj co z tego wyjdzie."
      ]
    },
    {
      "metadata": {
        "id": "q7WVIe8qfssn",
        "colab_type": "code",
        "colab": {}
      },
      "cell_type": "code",
      "source": [
        ""
      ],
      "execution_count": 0,
      "outputs": []
    },
    {
      "metadata": {
        "id": "Y1j2MeH8fssr",
        "colab_type": "text"
      },
      "cell_type": "markdown",
      "source": [
        "# Dyskretrna transformata kosinusowa\n",
        "\n",
        "Narysuj wynik DCT na przykładowym obrazie naturalnym. Ponieważ *numpy* nie ma implementacji DCT, do jej policzenia użyj metody *scipy.fftpack.dct*. Metoda ta niestety liczy tylko 1D wersję transformaty, ale możemty zastosować pewną zależność transfotmaty żeby otrzymać poprawną wersję 2D:\n",
        "\n",
        "  * policz DCT z obrazu\n",
        "  * dokonaj transpozycji wyniku\n",
        "  * policz DCT z powyższej transpozycji\n",
        "  * dokonaj jeszcze jednej transpozycji wyniku"
      ]
    },
    {
      "metadata": {
        "id": "8WKKLRTpfsss",
        "colab_type": "code",
        "colab": {}
      },
      "cell_type": "code",
      "source": [
        ""
      ],
      "execution_count": 0,
      "outputs": []
    },
    {
      "metadata": {
        "id": "S4qNE_STfssx",
        "colab_type": "text"
      },
      "cell_type": "markdown",
      "source": [
        "Użyj DCT do dokonania tych samych operacji filtrowania w dziedzinie częstotliwości, jak w przypadku FFT w ćwiczeniach powyżej. Uważaj żeby dokonać poprawnej procedury odwracania liczenia DCT2."
      ]
    },
    {
      "metadata": {
        "id": "EnIdmyl5fssz",
        "colab_type": "code",
        "colab": {}
      },
      "cell_type": "code",
      "source": [
        ""
      ],
      "execution_count": 0,
      "outputs": []
    },
    {
      "metadata": {
        "id": "gVOgAArQfss4",
        "colab_type": "text"
      },
      "cell_type": "markdown",
      "source": [
        "# Splot w obrazie\n",
        "\n",
        "Splot w obrazach 2D jest podobny do sygnałów akustycznych 1D. Metodę tą można s powodzeniem stosować do filtrowania obrazu i wszystkie inne reguły (np. dotyczące dziedziny częstotliwości) mają takie same odzwericiedlenie jak w sygnałach 1D.\n",
        "\n",
        "Zacznijmy więc od najprostszego filtru: uśredniającego. Filtry do splotu 2D mają 2 wymiary (wysokość i szerokość). Zrób fitr uśredniający 10x10 i dokonaj splotu z wybranym obrazem (metoda *scipy.signal.convolve2d*).\n",
        "\n",
        "Jaka jest charakterystyka tego filtru? Co on robi?"
      ]
    },
    {
      "metadata": {
        "id": "D0H0rnnNfss5",
        "colab_type": "code",
        "colab": {}
      },
      "cell_type": "code",
      "source": [
        ""
      ],
      "execution_count": 0,
      "outputs": []
    },
    {
      "metadata": {
        "id": "1LAIPW03fss-",
        "colab_type": "text"
      },
      "cell_type": "markdown",
      "source": [
        "Zamiast filtru uśredniającego, zastosuj filtr *Gaussowski*. Jaką on ma charakterystykę? Dlaczeo jest lepszy od uśredniającego?\n",
        "\n",
        "Żeby zrobić Gaussowski filtr 2D, trzeba:\n",
        "* zrobić filtr 1D o długości N\n",
        "* zmienić go na macierz 2D (1xN)\n",
        "* dokonać mnożenia tej macierzy przez jej transponowaną wersję"
      ]
    },
    {
      "metadata": {
        "id": "BY-4kgGhfss_",
        "colab_type": "code",
        "colab": {}
      },
      "cell_type": "code",
      "source": [
        ""
      ],
      "execution_count": 0,
      "outputs": []
    },
    {
      "metadata": {
        "id": "w7TTHwfCfstI",
        "colab_type": "text"
      },
      "cell_type": "markdown",
      "source": [
        "Zrób filtr używając następujących wartości:\n",
        "\n",
        "| | | |\n",
        "|-|-|-|\n",
        "| -1 | -1 | -1 |\n",
        "| -1 | 8 | -1 |\n",
        "| -1 | -1 | -1 |\n",
        "\n",
        "Co robi ten filtr?"
      ]
    },
    {
      "metadata": {
        "id": "Ci_fYmSOfstM",
        "colab_type": "code",
        "colab": {}
      },
      "cell_type": "code",
      "source": [
        ""
      ],
      "execution_count": 0,
      "outputs": []
    },
    {
      "metadata": {
        "id": "8frEhuMCfstT",
        "colab_type": "text"
      },
      "cell_type": "markdown",
      "source": [
        "Łatwo można policzyć filtr który liczy pochodną z obrazu w poziomie albo pionie. Jak?\n",
        "\n",
        "Zrób filtr Sobela-Feldmana zdefiniowanego w ten sposób:\n",
        "\n",
        "| | | |\n",
        "|-|-|-|\n",
        "| -1 | -2 | -1 |\n",
        "| 0 | 0 | 0 |\n",
        "| 1 | 2 | 1 |\n",
        "\n",
        "Oraz jego transponowaną wersję (odpowiadającą pochodnej według innej osi).\n",
        "\n",
        "Narysuj obydwie pochodne obrazu, a potem ich moc i kąt używając tych samych wzorów jak w przypadku liczenia widma."
      ]
    },
    {
      "metadata": {
        "id": "0NF_bCpvfstV",
        "colab_type": "code",
        "colab": {}
      },
      "cell_type": "code",
      "source": [
        ""
      ],
      "execution_count": 0,
      "outputs": []
    },
    {
      "metadata": {
        "id": "hQHmlHbufstj",
        "colab_type": "text"
      },
      "cell_type": "markdown",
      "source": [
        "# Praca domowa\n",
        "\n",
        "## 1. Filtrowanie w dziedzinie częstotliwości\n",
        "\n",
        "Wczytaj obraz *noisecam.png*.\n",
        "\n",
        "Jest to klatka ze szkolnego systemu monitoringu. Ze względu na oszczędności w instalacji użyto nieekranowanych kabli UTP do przesyłania zarówno sygnału jak i zasilania poszczególnych kamer (wskazówka!). Zrób filtrowanie w dziedzinie częstotliwości żeby usunąć szum na obrazie."
      ]
    },
    {
      "metadata": {
        "id": "g3UVyt7wfstl",
        "colab_type": "code",
        "colab": {}
      },
      "cell_type": "code",
      "source": [
        ""
      ],
      "execution_count": 0,
      "outputs": []
    },
    {
      "metadata": {
        "id": "QH0_m-fYfstr",
        "colab_type": "text"
      },
      "cell_type": "markdown",
      "source": [
        "## 2. Wyrównanie tekstu\n",
        "\n",
        "Ktoś źle zeskanował ten tekst i obraz *text.png* jest bardzo przechylony:\n",
        "\n",
        "Użyj analizy częstotliwości obrazu żeby znaleźć kąt przechylenia obrazu. Jeśli chcesz, użyj metody *skimage.transform.rotate* żeby skorygować zdjęcie używając policzonych wartości."
      ]
    },
    {
      "metadata": {
        "id": "QsZ1615ufsts",
        "colab_type": "code",
        "colab": {}
      },
      "cell_type": "code",
      "source": [
        ""
      ],
      "execution_count": 0,
      "outputs": []
    },
    {
      "metadata": {
        "id": "h-f0bbftfstv",
        "colab_type": "text"
      },
      "cell_type": "markdown",
      "source": [
        "## 3. Analiza obrazu\n",
        "\n",
        "Wczytaj obraz *brickwall.jpg*.\n",
        "\n",
        "Użyj analizy częstotliwości żeby oszacować ilość cegieł na zdjęciu. Znajdź na widmie punkty odpowiadające wierszom i kolumnom na zdjęciu. Pokaż jak te punkty odpowiadają ilości cegieł. Pomnoż te wartości żeby podać szacunkową ilość cegieł."
      ]
    },
    {
      "metadata": {
        "id": "DKa-Facjfstx",
        "colab_type": "code",
        "colab": {}
      },
      "cell_type": "code",
      "source": [
        ""
      ],
      "execution_count": 0,
      "outputs": []
    }
  ]
}