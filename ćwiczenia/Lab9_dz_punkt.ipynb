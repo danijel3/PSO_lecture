{
  "nbformat": 4,
  "nbformat_minor": 0,
  "metadata": {
    "colab": {
      "name": "Lab9_dz_punkt.ipynb",
      "version": "0.3.2",
      "provenance": [],
      "collapsed_sections": []
    },
    "kernelspec": {
      "display_name": "Python 3",
      "language": "python",
      "name": "python3"
    }
  },
  "cells": [
    {
      "metadata": {
        "id": "EACwcaFz1dQ8",
        "colab_type": "code",
        "colab": {}
      },
      "cell_type": "code",
      "source": [
        "from skimage import data, color, transform,io,filters, morphology\n",
        "\n",
        "%pylab inline"
      ],
      "execution_count": 0,
      "outputs": []
    },
    {
      "metadata": {
        "id": "XpYXAqjC1dRM",
        "colab_type": "text"
      },
      "cell_type": "markdown",
      "source": [
        "# Operacje punktowe\n",
        "\n",
        "Najpierw wczytaj jakiś przykładowy obraz w odcieniach szarości i wyświetl. Jaki zakres wartości posiada ten obraz?"
      ]
    },
    {
      "metadata": {
        "id": "2XfuuDVE1dRN",
        "colab_type": "code",
        "colab": {}
      },
      "cell_type": "code",
      "source": [
        ""
      ],
      "execution_count": 0,
      "outputs": []
    },
    {
      "metadata": {
        "id": "06b2vjy51dRU",
        "colab_type": "text"
      },
      "cell_type": "markdown",
      "source": [
        "Zdefiniuj funkcję $f(x)$, która zwraca $x$ powiększoną o jakąś stałą wartość (np. $0.5$). Pamiętaj że obraz musi zaweriać liczby w zakresie $<0,1>$, więc zastosuj funkcję *numpy.clip* aby wymusić tą zależność. Żeby łatwo zastosować funkcję na wszystkich pikselach obrazu, możesz użyć metody *numpy.vectorize* aby przekształcić standardową funkcję, na taką, która może być stosowana na wektorach numpy.\n",
        "\n",
        "Na końcu, zastosuj funkcję na poprzednim obrazie i wyświetl wynik."
      ]
    },
    {
      "metadata": {
        "id": "rSHGwYJc1dRV",
        "colab_type": "code",
        "colab": {}
      },
      "cell_type": "code",
      "source": [
        ""
      ],
      "execution_count": 0,
      "outputs": []
    },
    {
      "metadata": {
        "id": "HpB6lBpd1dRd",
        "colab_type": "text"
      },
      "cell_type": "markdown",
      "source": [
        "Zdefiniuj prostą funkcję liniową $f(x)=a*x+b$ jako operację punktową obrazu. Żeby łatwiej zrozumieć działanie tej funkcji na obrazie, oprócz stosowania jej na obrazie, narysuj wykres liniowy (*pyploy.plot*) pokazujący jak ta funkcja zmienia wsyzstkie odcienie szarości (w zakresie $<0,1>$)."
      ]
    },
    {
      "metadata": {
        "id": "kG7Jeo2p1dRf",
        "colab_type": "code",
        "colab": {}
      },
      "cell_type": "code",
      "source": [
        ""
      ],
      "execution_count": 0,
      "outputs": []
    },
    {
      "metadata": {
        "id": "0YzcDJHd1dRm",
        "colab_type": "text"
      },
      "cell_type": "markdown",
      "source": [
        "Powyższe przekształcenia służą przeważnie do zmiany ekspozycji. Jeśli zrejestrowany obraz jest prześwietlony (overexposed) albo niedoświetlony (underexposed), histogram takiego obrazu będzie skupiony w pewnym wąskim obszarze odcieni szarości. Stosowanie powyższej funkcji liniowej pozwoli wydobić z histogramu istotne wartości odcieni szarości (te zawierające informacje) i odrzucenie innych.\n",
        "\n",
        "Znajdź jakiś przykładowy obraz wymagający korekty ekspozycji i znajdź odpowiednie parametry dla powyższej operacji.\n",
        "\n",
        "Na przykład:\n",
        "https://lifeaperture.files.wordpress.com/2011/04/dsc0085.jpg\n",
        "\n",
        "UWAGA: Żeby przyspieszyć działanie algorytmu, można zastosować *transform.rescale* żeby zmniejszyć rozmiar obrazu."
      ]
    },
    {
      "metadata": {
        "id": "614_cpwn1dRt",
        "colab_type": "code",
        "colab": {}
      },
      "cell_type": "code",
      "source": [
        ""
      ],
      "execution_count": 0,
      "outputs": []
    },
    {
      "metadata": {
        "id": "YzzXrA2A1dR0",
        "colab_type": "text"
      },
      "cell_type": "markdown",
      "source": [
        "Powyższa operacja skutecznie rozjaśnia (albo ściemnia) interesujące nas odcienie, ale inne są całkowicie usuwane z obrazu. W przypadku rozjaśniania, część obrazu zostanie zmieniona na całkowicie biały kolor, a w przypadku ściemniania na czarny. Powoduje to utratę szczegółów w niektórych (możliwie dużych) fragmentach obrazu.\n",
        "\n",
        "Zamiast calkowicie usunąć wybrany fragment obrazu, lepiej by było zastosować nieliniową operację, która \"rozciąga\" interesujące nas fragmenty histogramu, \"ściska\" te mniej interesujące, ale nadal nie powoduje ich całkowitą utratę. Jednym z takich nieliniowych operacji jest tzw. **gamma**. Definiujemy ją jako:\n",
        "\n",
        "\\begin{equation}\n",
        "f(x)=x^\\gamma\n",
        "\\end{equation}\n",
        "\n",
        "Stwórz własny operator gamma i znajdź odpowiednie parametry dla swojego obrazu."
      ]
    },
    {
      "metadata": {
        "id": "1qsWyh2g1dR4",
        "colab_type": "code",
        "colab": {}
      },
      "cell_type": "code",
      "source": [
        ""
      ],
      "execution_count": 0,
      "outputs": []
    },
    {
      "metadata": {
        "id": "WukaiyzA1dSD",
        "colab_type": "text"
      },
      "cell_type": "markdown",
      "source": [
        "Zaimplementuj opearcję wyrównania histogramu. Należy najpierw policzyć histogram obrazu, a potem policzyć jego *dystrybuantę*, czyli skumulowaną sumę poszczególnych próbek histogramu. Do tego celu można użyc funkcję *numpy.cumsum*. Jeśli dystrybuantę potraktujemy jako funkcję do operatora punktowego, wynik takiej operacji powinien być \"wyrównany\".\n",
        "\n",
        "Zastosuj taką operację na swoim obrazie."
      ]
    },
    {
      "metadata": {
        "id": "z8QZhSwZ1dSE",
        "colab_type": "code",
        "colab": {}
      },
      "cell_type": "code",
      "source": [
        ""
      ],
      "execution_count": 0,
      "outputs": []
    },
    {
      "metadata": {
        "id": "-HsCnPcG1dSL",
        "colab_type": "text"
      },
      "cell_type": "markdown",
      "source": [
        "# Binaryzacja obrazu\n",
        "\n",
        "Najprostsza metoda binaryzacji jest tzw. progowanie (ang. thresholding). Dla zdefiniowanej wartości progu (np. 0.5), każdy piksel którego wartość przekracza ten próg ustaw na 1, a wszystkie inne na 0. Użyj zdjęcia *camera* (z klasy *skimage.data*) do wszystkich zadań."
      ]
    },
    {
      "metadata": {
        "id": "0LoRqZ4h1dSM",
        "colab_type": "code",
        "colab": {}
      },
      "cell_type": "code",
      "source": [
        ""
      ],
      "execution_count": 0,
      "outputs": []
    },
    {
      "metadata": {
        "id": "5svhMEV11dSS",
        "colab_type": "text"
      },
      "cell_type": "markdown",
      "source": [
        "Dla większości zdjęć, proste progowanie nie jest skuteczną metodą detekcji elementów morfologicznych. Jest kilka rozszerzeń jakie można zastosować: użyć kilka progów (czyli np. \"od-do\"), zmienić przestrzeń barw (np. progowanie na podstawie odcieni barw), wykonać inne kroki przetwarzania wstępnego (np. wygładzanie, odszumianie, normalizacja).\n",
        "\n",
        "## Binaryzacja kontekstowa - metoda Otsu\n",
        "\n",
        "Dla niektórych zdjęć trudno wyliczyć uniwersalny próg, bo kontrast się zmienia w zależności od obszaru zdjęcia jaki analizujemy. Sprawdź zdjęcie z metody *data.page* i zastosuj na nim jakiś próg.\n",
        "\n",
        "Metoda wymyślona przez naukowaca Nobuyuki Otsu polega na wyliczeniu optymalnego progu dla każdego piksela (na podstawie jego najbliższego sąsiedztwa) i dokonanie binaryzacji na tej podstawie. Do znalezienia progu użyj metody *skimage.filters.rank.otsu*, a jako element strukturalny tej metody użyj objekt *skimage.morphology.disk*. Odejmij wartość 10 od wyliczonego progu żeby się pozbyć artefaktów w tle."
      ]
    },
    {
      "metadata": {
        "id": "imeNCVc81dSU",
        "colab_type": "code",
        "colab": {}
      },
      "cell_type": "code",
      "source": [
        ""
      ],
      "execution_count": 0,
      "outputs": []
    },
    {
      "metadata": {
        "id": "2DUvuwPG1dSb",
        "colab_type": "text"
      },
      "cell_type": "markdown",
      "source": [
        "Podobne efekty można uzyskać stosując inne lokalnie adaptacyjnie metody. Użyj metody *skimage.filters.threshold_local* o sąsiedztwie 35 i parametrze *offset* równym 10 na tym samym obrazie. Sprawdź inne opcje jakie ma ta metoda."
      ]
    },
    {
      "metadata": {
        "id": "E0YvULCV1dSc",
        "colab_type": "code",
        "colab": {}
      },
      "cell_type": "code",
      "source": [
        ""
      ],
      "execution_count": 0,
      "outputs": []
    },
    {
      "metadata": {
        "id": "r5VYjzlv1dSp",
        "colab_type": "text"
      },
      "cell_type": "markdown",
      "source": [
        "# Praca domowa\n",
        "\n",
        "Zamiplementuj metodę tranformacji kontrastu na podstawie funkcji logistycznej z parametrem $k$ określającym jej intesywność. Uważaj żeby funkcja zawsze była znormalizowana tak, żeby 0 było zamieniane na 0, a 1 na 1."
      ]
    },
    {
      "metadata": {
        "id": "L4afe6Ty1dSs",
        "colab_type": "code",
        "colab": {}
      },
      "cell_type": "code",
      "source": [
        ""
      ],
      "execution_count": 0,
      "outputs": []
    }
  ]
}