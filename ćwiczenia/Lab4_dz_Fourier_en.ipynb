{
 "nbformat": 4,
 "nbformat_minor": 0,
 "metadata": {
  "colab": {
   "name": "Lab4_dz_Fourier.ipynb",
   "version": "0.3.2",
   "provenance": [],
   "collapsed_sections": []
  },
  "kernelspec": {
   "display_name": "Python 3",
   "language": "python",
   "name": "python3"
  },
  "pycharm": {
   "stem_cell": {
    "cell_type": "raw",
    "source": [],
    "metadata": {
     "collapsed": false
    }
   }
  }
 },
 "cells": [
  {
   "metadata": {
    "id": "E17ie495Ne5N",
    "colab_type": "code",
    "colab": {}
   },
   "cell_type": "code",
   "source": [
    "%pylab inline"
   ],
   "execution_count": 0,
   "outputs": []
  },
  {
   "metadata": {
    "id": "yf7mXFeHNe5L",
    "colab_type": "text"
   },
   "cell_type": "markdown",
   "source": [
    "# Fourier transform\n",
    "\n",
    "## Complex numbers and polar coordinates\n",
    "\n",
    "Draw the function $A=\\varphi$ (similar to $y=x$) for $\\varphi$ defined in the range 0 to 10. Use the conversion from polar to cartesian coordinates (as mentioned in the lecture):"
   ]
  },
  {
   "metadata": {
    "id": "uO0FtQ7lNe5X",
    "colab_type": "code",
    "colab": {}
   },
   "cell_type": "code",
   "source": [],
   "execution_count": 0,
   "outputs": []
  },
  {
   "metadata": {
    "id": "ft7xMJ7kNe5e",
    "colab_type": "text"
   },
   "cell_type": "markdown",
   "source": [
    "Do the same for the function $A=1$:"
   ]
  },
  {
   "metadata": {
    "id": "jQtS7T2ANe5f",
    "colab_type": "code",
    "colab": {}
   },
   "cell_type": "code",
   "source": [],
   "execution_count": 0,
   "outputs": []
  },
  {
   "metadata": {
    "id": "XFigVGTXNe5l",
    "colab_type": "text"
   },
   "cell_type": "markdown",
   "source": [
    "Make a graph of the function $A=sin(n\\cdot\\varphi)+k$ for $\\varphi$ between $-5\\pi$ and $5\\pi$ and play around with the $n$ and $k$ parameters:"
   ]
  },
  {
   "metadata": {
    "id": "_wamYIo7Ne5n",
    "colab_type": "code",
    "colab": {}
   },
   "cell_type": "code",
   "source": [],
   "execution_count": 0,
   "outputs": []
  },
  {
   "metadata": {
    "id": "t55cKfZFNe5s",
    "colab_type": "text"
   },
   "cell_type": "markdown",
   "source": [
    "Note the same can be achieved by using the builtin functions available in matplotlib. Do a simple function $y=x$ and draw it using the following code: \n",
    "\n",
    "```\n",
    "ax=axes(polar=True)\n",
    "ax.plot(x,y)\n",
    "```"
   ]
  },
  {
   "metadata": {
    "id": "tXa5ycgbNe5u",
    "colab_type": "code",
    "colab": {}
   },
   "cell_type": "code",
   "source": [],
   "execution_count": 0,
   "outputs": []
  },
  {
   "metadata": {
    "id": "oIHjWCiUNe50",
    "colab_type": "text"
   },
   "cell_type": "markdown",
   "source": [
    "## Complex exponential signal - $e^{it}$\n",
    "\n",
    "There is an interesting relation stemming from the Euler formula:\n",
    "\n",
    "\\begin{equation}\n",
    "e^{ix} = \\cos{x} + i \\cdot \\sin{x}\n",
    "\\end{equation}\n",
    "\n",
    "Check this video in your spare time if you want to know more about it: https://www.youtube.com/watch?v=F_0yfvm0UoU\n",
    "\n",
    "Draw the equation $e^{it}$ for $t\\in<0,2\\pi>$. To use imaginary numbers in Python use the value `1j`. Note that all the values\n",
    "of the function are complex, so matplotlib will draw only its real part. Draw both the real and the imaginary part of the function\n",
    "using different colors and also draw the amplitude (absolute value) and phase (angle) of the function. Also, draw the amplitude \n",
    "and the phase on the polar coordinate system."
   ]
  },
  {
   "metadata": {
    "id": "ytHQk3uPNe51",
    "colab_type": "code",
    "colab": {}
   },
   "cell_type": "code",
   "source": [],
   "execution_count": 0,
   "outputs": []
  },
  {
   "metadata": {
    "id": "-j2RUjBdNe58",
    "colab_type": "text"
   },
   "cell_type": "markdown",
   "source": [
    "## Discrete Fourier Transform - DFT\n",
    "\n",
    "Discrete Fourier Transform is given using the following formula:\n",
    "\\begin{equation}\n",
    "X_k=\\sum_{n=0}^{N-1} x_n \\cdot e ^ {-i2\\pi k n/N},\\, k \\in \\mathbb{Z}\n",
    "\\end{equation}\n",
    "\n",
    "\n",
    "The inverse is given by:\n",
    "\n",
    "\\begin{equation}\n",
    "x_n=\\frac{1}{N} \\sum_{k=0}^{N-1} X_k \\cdot e ^ {i2\\pi k n/N},\\, N \\in \\mathbb{Z}\n",
    "\\end{equation}\n",
    "\n",
    "Generate a simple signal ($f=200, T=3, Fs=10000, \\phi=\\pi, A=2$) and compute its Fourier transform using the formula above.\n",
    "Next repeat the computation using the `numpy.fft.fft` method and compare the speeds. Finally, draw the amplitude and phase\n",
    "of the signal."
   ]
  },
  {
   "metadata": {
    "id": "EWPm9ziiNe6C",
    "colab_type": "code",
    "colab": {}
   },
   "cell_type": "code",
   "source": [],
   "execution_count": 0,
   "outputs": []
  },
  {
   "metadata": {
    "id": "CsA1M2ZMNe6V",
    "colab_type": "text"
   },
   "cell_type": "markdown",
   "source": [
    "Make a signal that is a sum of 3 sines and compute its Fourier transform. Draw the amplitude and phase, like before,"
   ]
  },
  {
   "metadata": {
    "id": "DlHYEHaRNe6X",
    "colab_type": "code",
    "colab": {}
   },
   "cell_type": "code",
   "source": [],
   "execution_count": 0,
   "outputs": []
  },
  {
   "metadata": {
    "id": "0rJ0LU8tNe6d",
    "colab_type": "text"
   },
   "cell_type": "markdown",
   "source": [
    "# Homework\n",
    "\n",
    "## Task 1\n",
    "\n",
    "Load a natural signal and draw its spectrum. Describe briefly the characteristics of the spectrum."
   ]
  },
  {
   "metadata": {
    "id": "910by96KNe6e",
    "colab_type": "code",
    "colab": {}
   },
   "cell_type": "code",
   "source": [],
   "execution_count": 0,
   "outputs": []
  },
  {
   "metadata": {
    "id": "jO8ugt-INe6i",
    "colab_type": "text"
   },
   "cell_type": "markdown",
   "source": [
    "## Task 2 - resynthesis\n",
    "\n",
    "Use the individual values of the above spectrum to reconstruct the original signal by a sum of sines. This formula\n",
    "may help you out:\n",
    "\n",
    "\\begin{equation}\n",
    "y_t = \\frac{2}{N}\\sum_{k=0}^{N/2} |Y_k| \\cdot sin(2 \\pi \\omega_k n + \\angle Y_k )\n",
    "\\end{equation}\n",
    "\n",
    "where \n",
    "\n",
    "  - $N$ is the length of the signal (you can truncate the signal is the process is too slow)\n",
    "  - $Y_k$ is the value of the Fourier transform at frequency $k$\n",
    "  - $\\omega_k=\\frac{k}{N}$\n",
    "  - $n$ are integers in the range $<0..N-1>$"
   ]
  },
  {
   "metadata": {
    "id": "U1m1245INe6j",
    "colab_type": "code",
    "colab": {}
   },
   "cell_type": "code",
   "source": [
    ""
   ],
   "execution_count": 0,
   "outputs": []
  }
 ]
}