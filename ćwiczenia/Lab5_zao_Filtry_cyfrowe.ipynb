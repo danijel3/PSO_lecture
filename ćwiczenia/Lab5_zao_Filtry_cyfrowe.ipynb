{
  "nbformat": 4,
  "nbformat_minor": 0,
  "metadata": {
    "colab": {
      "name": "Lab5_zao_Filtry_cyfrowe.ipynb",
      "version": "0.3.2",
      "provenance": [],
      "collapsed_sections": []
    },
    "kernelspec": {
      "display_name": "Python 3",
      "language": "python",
      "name": "python3"
    }
  },
  "cells": [
    {
      "metadata": {
        "id": "5j9v6Yd5pSse",
        "colab_type": "code",
        "colab": {}
      },
      "cell_type": "code",
      "source": [
        "%pylab inline"
      ],
      "execution_count": 0,
      "outputs": []
    },
    {
      "metadata": {
        "id": "OmIrqWMapSso",
        "colab_type": "text"
      },
      "cell_type": "markdown",
      "source": [
        "# Filtry cyfrowe\n",
        "\n",
        "## FIR - SOI\n",
        "\n",
        "Filtry o skończonej odpowiedzi impulsowej wykonują operację splotu z zestawem parametrów definiujących dany filtr. Powiedzmy, że mamy sygnał o określonej częstotliwości 2 Hz zaszumiony szumem białym o niskiej amplitudzie."
      ]
    },
    {
      "metadata": {
        "id": "SOH9b8JHpSsr",
        "colab_type": "code",
        "colab": {}
      },
      "cell_type": "code",
      "source": [
        ""
      ],
      "execution_count": 0,
      "outputs": []
    },
    {
      "metadata": {
        "id": "gdDtDxkwpSsx",
        "colab_type": "text"
      },
      "cell_type": "markdown",
      "source": [
        "W jaki sposób się możemy pozbyć szumu? Spróbujmy użyć operacji splotu żeby dla każdej próbki wyliczyć średnią $N$ poprzednich próbek (dla określonego $N$). Zróbmy więc sygnał składający się z liczby $\\frac{1}{N}$ powtórzonej $N$ razy. Wyliczmy splot zaszumionego sygnału z tym sygnałem i narysujmy wynik."
      ]
    },
    {
      "metadata": {
        "id": "OJJRKFONpSsz",
        "colab_type": "code",
        "colab": {}
      },
      "cell_type": "code",
      "source": [
        ""
      ],
      "execution_count": 0,
      "outputs": []
    },
    {
      "metadata": {
        "id": "_GwjC4HnpSs4",
        "colab_type": "text"
      },
      "cell_type": "markdown",
      "source": [
        "Zobaczmy co ten zestaw współczynników robi w dziedzinie częstotliwości. Wykonaj transformatę Fouriera i narysuj widmo amplitudowe i fazowe. Żeby otrzymać większą \"rozdzielczość\" dodaj mnóstwo zer na końcu sygnału. Co robi ten filtr? Sprawdź też funkcję *scipy.signal.freqz*."
      ]
    },
    {
      "metadata": {
        "id": "A00Hc7P8pSs6",
        "colab_type": "code",
        "colab": {}
      },
      "cell_type": "code",
      "source": [
        ""
      ],
      "execution_count": 0,
      "outputs": []
    },
    {
      "metadata": {
        "id": "YXWT2Q-gpStH",
        "colab_type": "text"
      },
      "cell_type": "markdown",
      "source": [
        "Użyjmy teraz funkcji Gaussowskiej, zamiast serii tej samej liczby (właściwie funkcji prostokątnej). Znajdziesz ją w *scipy.signal.gaussian*. Jakie ona ma widmo?"
      ]
    },
    {
      "metadata": {
        "id": "56iUUbJApStJ",
        "colab_type": "code",
        "colab": {}
      },
      "cell_type": "code",
      "source": [
        ""
      ],
      "execution_count": 0,
      "outputs": []
    },
    {
      "metadata": {
        "id": "1-8UUtCrpStP",
        "colab_type": "text"
      },
      "cell_type": "markdown",
      "source": [
        "Spróbuj teraz funkcę *np.sinc*."
      ]
    },
    {
      "metadata": {
        "id": "ZjrpuN-JpStR",
        "colab_type": "code",
        "colab": {}
      },
      "cell_type": "code",
      "source": [
        ""
      ],
      "execution_count": 0,
      "outputs": []
    },
    {
      "metadata": {
        "id": "K6Q37ZZOpStY",
        "colab_type": "text"
      },
      "cell_type": "markdown",
      "source": [
        "Wszystkie poprzednie filtry, to filtry dolno-przepustowe. Jak zrobić górno przepustowy? Spróbuj odwrócić znak co drugiego elementu sygnału."
      ]
    },
    {
      "metadata": {
        "id": "5YLAne1rpStZ",
        "colab_type": "code",
        "colab": {}
      },
      "cell_type": "code",
      "source": [
        ""
      ],
      "execution_count": 0,
      "outputs": []
    },
    {
      "metadata": {
        "id": "rUuCdqxepSte",
        "colab_type": "text"
      },
      "cell_type": "markdown",
      "source": [
        "Zróbmy połączenie dwóch filtrów (dolno i górno przepustowego). Do tego wystarczy zrobić sumę w dziedzinie częstotliowości, czyli również sumę w dziedzinie czasu."
      ]
    },
    {
      "metadata": {
        "id": "h20RpKcipStf",
        "colab_type": "code",
        "colab": {}
      },
      "cell_type": "code",
      "source": [
        ""
      ],
      "execution_count": 0,
      "outputs": []
    },
    {
      "metadata": {
        "id": "ORUr7nVrpStk",
        "colab_type": "text"
      },
      "cell_type": "markdown",
      "source": [
        "Weźmy teraz sygnał sinusowy o określonej częstotliwości jako współczynniki filtru. Co otrzymaliśmy?"
      ]
    },
    {
      "metadata": {
        "id": "b0KYt7fcpStl",
        "colab_type": "code",
        "colab": {}
      },
      "cell_type": "code",
      "source": [
        ""
      ],
      "execution_count": 0,
      "outputs": []
    },
    {
      "metadata": {
        "id": "Sp6jMMejpStq",
        "colab_type": "text"
      },
      "cell_type": "markdown",
      "source": [
        "Użyj funkcji *scipy.signal.firwin* żeby wygnereować filtr z wybranej funkcji okienkowej."
      ]
    },
    {
      "metadata": {
        "id": "uy-3mOfLpSts",
        "colab_type": "code",
        "colab": {}
      },
      "cell_type": "code",
      "source": [
        ""
      ],
      "execution_count": 0,
      "outputs": []
    },
    {
      "metadata": {
        "id": "4cnKyNKLpStz",
        "colab_type": "text"
      },
      "cell_type": "markdown",
      "source": [
        "## IIR - NOI\n",
        "\n",
        "Filtry IIR są bardziej skomplikowane, ponieważ złe współczynniki mogą spowodować niestabilność układu (poprzez efekt *feedback*). Zaprojektuj filtr IIR za pomocą funkcji *scipy.signal.butter*. Użyj funkcji *scipy.signal.freqz* żeby obejrzeć jego widma, a *scipy.signal.lfilter* żeby zastosować filtr na sygnale.\n",
        "\n",
        "Sensownymi wartościami filtru Butterwortha to $N=19$ i $W_n=0.5$."
      ]
    },
    {
      "metadata": {
        "id": "-waL1-YPpSt1",
        "colab_type": "code",
        "colab": {}
      },
      "cell_type": "code",
      "source": [
        ""
      ],
      "execution_count": 0,
      "outputs": []
    },
    {
      "metadata": {
        "id": "LXHiQQimpSt6",
        "colab_type": "text"
      },
      "cell_type": "markdown",
      "source": [
        "Spróbuj filtr eliptyczny używając funkcji *scipy.signal.ellip* z parametrami $N=10$, $rp=0.1$, $rs=10$ i $Wn=0.5$."
      ]
    },
    {
      "metadata": {
        "id": "hHE9dQMfpSt9",
        "colab_type": "code",
        "colab": {}
      },
      "cell_type": "code",
      "source": [
        ""
      ],
      "execution_count": 0,
      "outputs": []
    },
    {
      "metadata": {
        "id": "soAC_4lYpSuB",
        "colab_type": "text"
      },
      "cell_type": "markdown",
      "source": [
        "Policz odpowiedź impulsową tego filtru."
      ]
    },
    {
      "metadata": {
        "id": "GLCI91YvpSuD",
        "colab_type": "code",
        "colab": {}
      },
      "cell_type": "code",
      "source": [
        ""
      ],
      "execution_count": 0,
      "outputs": []
    },
    {
      "metadata": {
        "id": "u5knppFfpSuI",
        "colab_type": "text"
      },
      "cell_type": "markdown",
      "source": [
        "Sprawdź czy filtr jest stabilny. Filtr IIR jest stabilny jeśli wartości bezwględne pierwiastków jego współczynników mianownikowych są mniejsze od 1. Do policzenia pierwiastków można użyć funkcji *np.roots*."
      ]
    },
    {
      "metadata": {
        "id": "7h2d6eGfpSuJ",
        "colab_type": "code",
        "colab": {}
      },
      "cell_type": "code",
      "source": [
        ""
      ],
      "execution_count": 0,
      "outputs": []
    },
    {
      "metadata": {
        "id": "Nqf5V4yIpSuN",
        "colab_type": "text"
      },
      "cell_type": "markdown",
      "source": [
        "Narysuj wykres zer i bigunów (pole/zero plot) do wybranego filtru. Do narysowania okręgu jednostowego użyj funkcji z biblioteki *matplotlib.patches*,np\n",
        "\n",
        "```\n",
        "ax.add_patch(patches.Circle((0,0), radius=1, fill=True, color='black', ls='dashed', alpha=0.5))\n",
        "```\n",
        "\n",
        "Do wyliczenia współczynników zer i biegunów, możesz użyć funkcji *scipy.signal.tf2zpk*.\n"
      ]
    },
    {
      "metadata": {
        "id": "NUOlT2BxpSuO",
        "colab_type": "code",
        "colab": {}
      },
      "cell_type": "code",
      "source": [
        ""
      ],
      "execution_count": 0,
      "outputs": []
    },
    {
      "metadata": {
        "id": "NKtCbNpgpSuU",
        "colab_type": "text"
      },
      "cell_type": "markdown",
      "source": [
        "# Praca domowa\n",
        "\n",
        "## 1. Filtr SOI\n",
        "\n",
        "Zrób sygnał z trzema sygnałami: 1 kHz, 2kHz i 3 kHz. Zrób filtr który usunie składową 2 kHz."
      ]
    },
    {
      "metadata": {
        "id": "trcbXsi0pSuU",
        "colab_type": "code",
        "colab": {}
      },
      "cell_type": "code",
      "source": [
        ""
      ],
      "execution_count": 0,
      "outputs": []
    },
    {
      "metadata": {
        "id": "fbbrOsh1pSuX",
        "colab_type": "text"
      },
      "cell_type": "markdown",
      "source": [
        "## 2. Filtr NOI\n",
        "\n",
        "Użyj tego samego sygnału co powyżej, ale zastosuj filtr NOI. Sprawdź czy filtr jest na pewno stabilny."
      ]
    },
    {
      "metadata": {
        "id": "ksXeMJkJpSuZ",
        "colab_type": "code",
        "colab": {}
      },
      "cell_type": "code",
      "source": [
        ""
      ],
      "execution_count": 0,
      "outputs": []
    }
  ]
}