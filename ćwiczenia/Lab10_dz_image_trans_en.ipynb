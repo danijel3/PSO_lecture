{
 "nbformat": 4,
 "nbformat_minor": 0,
 "metadata": {
  "colab": {
   "name": "Lab10_dz_obrazy_trans.ipynb",
   "version": "0.3.2",
   "provenance": [],
   "collapsed_sections": []
  },
  "kernelspec": {
   "display_name": "Python 3",
   "language": "python",
   "name": "python3"
  },
  "pycharm": {
   "stem_cell": {
    "cell_type": "raw",
    "source": [],
    "metadata": {
     "collapsed": false
    }
   }
  }
 },
 "cells": [
  {
   "metadata": {
    "id": "rYQRAj_Rfsr0",
    "colab_type": "code",
    "colab": {}
   },
   "cell_type": "code",
   "source": [
    "%pylab inline\n",
    "from skimage import data, color, transform, morphology\n",
    "from scipy.fftpack import dct,idct\n",
    "from scipy.signal import gaussian, convolve2d"
   ],
   "execution_count": 0,
   "outputs": []
  },
  {
   "metadata": {
    "id": "hZ6iYP-Lfsr-",
    "colab_type": "text"
   },
   "cell_type": "markdown",
   "source": [
    "# Fourier transform for images\n",
    "\n",
    "Let us observe how the FT works using a few examples. In 1D the FT of a pure sice is present as a single point in the spectrum. Let's see if it's the same in 2D. Generate a signal and draw its amplitude spectrum:\n",
    "\n",
    "\\begin{equation}\n",
    "I_{x,y}=A\\cdot\\sin(2\\cdot\\pi\\cdot f\\cdot x/W+\\phi)\\hspace{1cm}\\text{, for }x\\in[0,W-1]\\text{ and }y\\in[0,H-1]\n",
    "\\end{equation}\n",
    "\n",
    "You can assume unit amplitude and zero phase for now and set $f$ to 100. Later try to tweak these paraemeter. Assume $W$ and $H$ are both 512 pixels. Using\n",
    "`numpy.meshgrid` should make it simpler to generate the $x$ and $y$ coordinates."
   ]
  },
  {
   "metadata": {
    "id": "LGevLnl3fssA",
    "colab_type": "code",
    "colab": {}
   },
   "cell_type": "code",
   "source": [],
   "execution_count": 0,
   "outputs": []
  },
  {
   "metadata": {
    "id": "yl-WWiMrfssG",
    "colab_type": "text"
   },
   "cell_type": "markdown",
   "source": [
    "Now do the same, but use $y$ instead of $x$:\n",
    "\n",
    "\\begin{equation}\n",
    "I_{x,y}=A\\cdot\\sin(2\\cdot\\pi\\cdot f\\cdot y/H+\\phi)\\hspace{1cm}\\text{, for }x\\in[0,W-1]\\text{ and }y\\in[0,H-1]\n",
    "\\end{equation}"
   ]
  },
  {
   "metadata": {
    "id": "Heaxn7JbfssI",
    "colab_type": "code",
    "colab": {}
   },
   "cell_type": "code",
   "source": [],
   "execution_count": 0,
   "outputs": []
  },
  {
   "metadata": {
    "id": "boab_NsRfssN",
    "colab_type": "text"
   },
   "cell_type": "markdown",
   "source": [
    "Now use the sum (average) of $x$ and $y$:\n",
    "\n",
    "\\begin{equation}\n",
    "I_{x,y}=A\\cdot \\sin(2\\cdot\\pi\\cdot f\\frac{x/W+y/H}{2}+\\phi)\\hspace{1cm}\\text{, for }x\\in[0,W]\\text{ and }y\\in[0,H]\n",
    "\\end{equation}"
   ]
  },
  {
   "metadata": {
    "id": "8q1SEtXNfssP",
    "colab_type": "code",
    "colab": {}
   },
   "cell_type": "code",
   "source": [],
   "execution_count": 0,
   "outputs": []
  },
  {
   "metadata": {
    "id": "rWBcMEIsfssU",
    "colab_type": "text"
   },
   "cell_type": "markdown",
   "source": [
    "Try to define what certain areas of the 2D spectrum represent. What is its simmetry?\n",
    "\n",
    "Create a sample spectrum by hand and do an inverse FT to recreate its image."
   ]
  },
  {
   "metadata": {
    "id": "vyUFUv04fssW",
    "colab_type": "code",
    "colab": {}
   },
   "cell_type": "code",
   "source": [],
   "execution_count": 0,
   "outputs": []
  },
  {
   "metadata": {
    "id": "5wl2K1ZRfsse",
    "colab_type": "text"
   },
   "cell_type": "markdown",
   "source": [
    "Load a natural image and draw its spectrum. Notice that the image usually has a significant DC offset so the value at $(0,0)$ is very high. Drawing it in log scale should make it more clear."
   ]
  },
  {
   "metadata": {
    "id": "wgtbQmOVfssg",
    "colab_type": "code",
    "colab": {}
   },
   "cell_type": "code",
   "source": [],
   "execution_count": 0,
   "outputs": []
  },
  {
   "metadata": {
    "id": "9ZpzE7iefssl",
    "colab_type": "text"
   },
   "cell_type": "markdown",
   "source": [
    "Change the spectrum by masking certain areas: first high- and then low-frequency. Draw the inverse to see what happens."
   ]
  },
  {
   "metadata": {
    "id": "q7WVIe8qfssn",
    "colab_type": "code",
    "colab": {}
   },
   "cell_type": "code",
   "source": [],
   "execution_count": 0,
   "outputs": []
  },
  {
   "metadata": {
    "id": "Y1j2MeH8fssr",
    "colab_type": "text"
   },
   "cell_type": "markdown",
   "source": [
    "# Discrete cosine transform\n",
    "\n",
    "Do a DCT of a natural image. `numpy` doesn't have a DCT implementation so you need to use `scipy.fftpack.dct` instead. This method is for 1D signals only, but a trick can be used to apply to 2D:\n",
    "\n",
    "  * compute DCT of the whole image\n",
    "  * transpose the image\n",
    "  * do the DCT one more time\n",
    "  * transpose the image one more time "
   ]
  },
  {
   "metadata": {
    "id": "8WKKLRTpfsss",
    "colab_type": "code",
    "colab": {}
   },
   "cell_type": "code",
   "source": [],
   "execution_count": 0,
   "outputs": []
  },
  {
   "metadata": {
    "id": "S4qNE_STfssx",
    "colab_type": "text"
   },
   "cell_type": "markdown",
   "source": [
    "Use DCT to compute the same filtering operations as in the FT example above. "
   ]
  },
  {
   "metadata": {
    "id": "EnIdmyl5fssz",
    "colab_type": "code",
    "colab": {}
   },
   "cell_type": "code",
   "source": [],
   "execution_count": 0,
   "outputs": []
  },
  {
   "metadata": {
    "id": "gVOgAArQfss4",
    "colab_type": "text"
   },
   "cell_type": "markdown",
   "source": [
    "# Image convolution\n",
    "\n",
    "Convolution for 2D signals is similar to audio. It can be used to perform filtering just as with audio and all the rules (eg. related to the spectrum) are the same. \n",
    "\n",
    "Let's do the simplest filter first: the averaging filter. 2D convolution filters have 2 dimensions (width and height). Create a 10x10 averaging filter and perfrom 2D convolution (using `scipy.signal.convolve2d`).\n",
    "\n",
    "What is its frequency response of the filter? What does it do?"
   ]
  },
  {
   "metadata": {
    "id": "D0H0rnnNfss5",
    "colab_type": "code",
    "colab": {}
   },
   "cell_type": "code",
   "source": [],
   "execution_count": 0,
   "outputs": []
  },
  {
   "metadata": {
    "id": "1LAIPW03fss-",
    "colab_type": "text"
   },
   "cell_type": "markdown",
   "source": [
    "Instead of the averaging filter, do a Gaussian filter. What is the difference between it and the averaging filter?\n",
    "\n",
    "To make a 2D Gaussian filter, you can:\n",
    "* create a 1D filter of length N\n",
    "* change it to a 2D matrix (1xN)\n",
    "* perfrom a product of the matrix with itself transposed"
   ]
  },
  {
   "metadata": {
    "id": "BY-4kgGhfss_",
    "colab_type": "code",
    "colab": {}
   },
   "cell_type": "code",
   "source": [],
   "execution_count": 0,
   "outputs": []
  },
  {
   "metadata": {
    "id": "w7TTHwfCfstI",
    "colab_type": "text"
   },
   "cell_type": "markdown",
   "source": [
    "Create a filter using the following values:\n",
    "\n",
    "| | | |\n",
    "|-|-|-|\n",
    "| -1 | -1 | -1 |\n",
    "| -1 | 8 | -1 |\n",
    "| -1 | -1 | -1 |\n",
    "\n",
    "What does it do?"
   ]
  },
  {
   "metadata": {
    "id": "Ci_fYmSOfstM",
    "colab_type": "code",
    "colab": {}
   },
   "cell_type": "code",
   "source": [],
   "execution_count": 0,
   "outputs": []
  },
  {
   "metadata": {
    "id": "8frEhuMCfstT",
    "colab_type": "text"
   },
   "cell_type": "markdown",
   "source": [
    "It's easy to make a filter that computes the horizontal or vertical derivative. How? \n",
    "\n",
    "Do the Sobela-Feldmana filter defined as:\n",
    "\n",
    "| | | |\n",
    "|-|-|-|\n",
    "| -1 | -2 | -1 |\n",
    "| 0 | 0 | 0 |\n",
    "| 1 | 2 | 1 |\n",
    "\n",
    "Also do a transposed version (for the other direction).\n",
    "\n",
    "Draw both image derivatices and then their amplitude and phase using the same formulas we used in case of spectrum."
   ]
  },
  {
   "metadata": {
    "id": "0NF_bCpvfstV",
    "colab_type": "code",
    "colab": {}
   },
   "cell_type": "code",
   "source": [],
   "execution_count": 0,
   "outputs": []
  },
  {
   "metadata": {
    "id": "hQHmlHbufstj",
    "colab_type": "text"
   },
   "cell_type": "markdown",
   "source": [
    "# Homework\n",
    "\n",
    "## 1. Filtering in the frequency domain\n",
    "\n",
    "Load `noisecam.png`.\n",
    "\n",
    "It's a frame from the school monitoring system. Due to cost and laziness, a single collection of unscreened cables to transfer both power and image signal. Why is that a problem? Filter the signal so the image is cleaner. "
   ]
  },
  {
   "metadata": {
    "id": "g3UVyt7wfstl",
    "colab_type": "code",
    "colab": {}
   },
   "cell_type": "code",
   "source": [],
   "execution_count": 0,
   "outputs": []
  },
  {
   "metadata": {
    "id": "QH0_m-fYfstr",
    "colab_type": "text"
   },
   "cell_type": "markdown",
   "source": [
    "## 2. Image rotation recovery\n",
    "\n",
    "An document was badly scanned and the text in `text.png` is terribly skewed.\n",
    "\n",
    "Use frequency analysis to find the angle needed to correctly align the image. Use `skimage.transform.rotate` to test the angle."
   ]
  },
  {
   "metadata": {
    "id": "QsZ1615ufsts",
    "colab_type": "code",
    "colab": {}
   },
   "cell_type": "code",
   "source": [],
   "execution_count": 0,
   "outputs": []
  },
  {
   "metadata": {
    "id": "h-f0bbftfstv",
    "colab_type": "text"
   },
   "cell_type": "markdown",
   "source": [
    "## 3. Image analysis\n",
    "\n",
    "Load `brickwall.jpg`.\n",
    "\n",
    "Use frequency analysis to estimate the number of bricks in the image. A point in the spectrum should tell you what is the number of rows and columns in the image. Multiplying those values should give you the approximate number of bricks. "
   ]
  },
  {
   "metadata": {
    "id": "DKa-Facjfstx",
    "colab_type": "code",
    "colab": {}
   },
   "cell_type": "code",
   "source": [
    ""
   ],
   "execution_count": 0,
   "outputs": []
  }
 ]
}