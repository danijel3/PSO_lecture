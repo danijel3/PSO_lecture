{
  "nbformat": 4,
  "nbformat_minor": 0,
  "metadata": {
    "colab": {
      "name": "Lab8_dz_obrazy.ipynb",
      "version": "0.3.2",
      "provenance": [],
      "collapsed_sections": []
    },
    "kernelspec": {
      "display_name": "Python 3",
      "language": "python",
      "name": "python3"
    }
  },
  "cells": [
    {
      "metadata": {
        "id": "mM33OLXzfvqr",
        "colab_type": "code",
        "colab": {}
      },
      "cell_type": "code",
      "source": [
        "%pylab inline\n",
        "from skimage import data, color, exposure, io\n",
        "import os\n",
        "import urllib"
      ],
      "execution_count": 0,
      "outputs": []
    },
    {
      "metadata": {
        "id": "cBRXFXnZfvq8",
        "colab_type": "text"
      },
      "cell_type": "markdown",
      "source": [
        "# Obrazy\n",
        "\n",
        "Powyżej zaimportowano kilka klas z biblioteki *scikit-image*:\n",
        "\n",
        "  * data - przykładowe zdjęcia i metody do wczytywania danych\n",
        "  * color - metody dotyczące przestrzeni barw\n",
        "  * exposure - metody do obliczania i manipulacji histogramu\n",
        "  * io - metody wyjścia/wejścia\n",
        "\n",
        "Dokładny opis biblioteki znajdziesz tutaj: http://scikit-image.org/docs/stable/api/api.html\n",
        "\n",
        "W bibliotece jest o wiele więcej klas, ale dzisiaj użyjemy tylko te wspomniane wyżej.\n",
        "\n",
        "Oprócz *scikit-image* importujemy biblioteki *urllib* 1 i 2 do ściągania danych z internetu i standardowo *numpy* oraz *matplotlib*. Spójrzmy najpierw jakie metody mamy w klasie *data*?"
      ]
    },
    {
      "metadata": {
        "id": "JvM8K5Uvfvq_",
        "colab_type": "code",
        "colab": {}
      },
      "cell_type": "code",
      "source": [
        ""
      ],
      "execution_count": 0,
      "outputs": []
    },
    {
      "metadata": {
        "id": "UK-d9nWTfvrF",
        "colab_type": "text"
      },
      "cell_type": "markdown",
      "source": [
        "Wczytaj obraz o nazwie \"astronaut\" i wyświetl go metodą *pyplot.imshow*.\n",
        "\n",
        "Sprawdź jakiego typu danych jest zmienna zawierająca obraz i jakiego kształtu jest ta macierz.\n",
        "\n",
        "Narysuj osobno czerwoną, zieloną i niebieską składową obrazu."
      ]
    },
    {
      "metadata": {
        "id": "3KbcC9s3fvrH",
        "colab_type": "code",
        "colab": {}
      },
      "cell_type": "code",
      "source": [
        ""
      ],
      "execution_count": 0,
      "outputs": []
    },
    {
      "metadata": {
        "id": "m2pLPgfRfvrO",
        "colab_type": "text"
      },
      "cell_type": "markdown",
      "source": [
        "## Wczytywanie z internetu\n",
        "\n",
        "Wczytaj teraz obraz PNG z internetu i narysuj go.\n",
        "\n",
        "Można użyć ten URL: http://www.pja.edu.pl/templates/pjwstk/images/logo-lg-md.png\n",
        "\n",
        "Użyj metody *urllib2.urlopen* żeby otworzyć strumień i przekaż go do funkcji *pyplot.imread*."
      ]
    },
    {
      "metadata": {
        "id": "6rfRWJ3zfvrQ",
        "colab_type": "code",
        "colab": {}
      },
      "cell_type": "code",
      "source": [
        ""
      ],
      "execution_count": 0,
      "outputs": []
    },
    {
      "metadata": {
        "id": "aEN8eXUwfvrW",
        "colab_type": "text"
      },
      "cell_type": "markdown",
      "source": [
        "Swpróbujmy obraz https://upload.wikimedia.org/wikipedia/commons/a/a0/Sunflower_as_gif_websafe.gif\n",
        "\n",
        "Pyplot niestety nie obsługuje obrazów GIF, więc w tym przypadku trzeba ściągnąć i zapisać plik na dysku. Do tego można użyć metody *urllib.urlretrieve*, a potem można obraz wczytać metodą *data.load* z biblioteki *scikit-image*.\n",
        "\n",
        "Metoda *data.load* nie wczytuje plików z bieżącego katalogu, więc należy użyć metody *os.getcwd()* żeby wskazać katalog w którym się znajdujemy."
      ]
    },
    {
      "metadata": {
        "id": "yfkzyZAYfvrY",
        "colab_type": "code",
        "colab": {}
      },
      "cell_type": "code",
      "source": [
        ""
      ],
      "execution_count": 0,
      "outputs": []
    },
    {
      "metadata": {
        "id": "DheLIIpRfvrf",
        "colab_type": "text"
      },
      "cell_type": "markdown",
      "source": [
        "## Przestrzenie barw\n",
        "\n",
        "Zmień przetrzeń barw z RGB na HSV i narysuj składwe H, S i V obrazu."
      ]
    },
    {
      "metadata": {
        "id": "S_aQkCaRfvrg",
        "colab_type": "code",
        "colab": {}
      },
      "cell_type": "code",
      "source": [
        ""
      ],
      "execution_count": 0,
      "outputs": []
    },
    {
      "metadata": {
        "id": "vfrany74fvrm",
        "colab_type": "text"
      },
      "cell_type": "markdown",
      "source": [
        "Zrób to samo ale dla przestrzeni LAB."
      ]
    },
    {
      "metadata": {
        "id": "UHZoQErmfvrn",
        "colab_type": "code",
        "colab": {}
      },
      "cell_type": "code",
      "source": [
        ""
      ],
      "execution_count": 0,
      "outputs": []
    },
    {
      "metadata": {
        "id": "BhTucN22fvru",
        "colab_type": "text"
      },
      "cell_type": "markdown",
      "source": [
        "Narysuj obraz astronautki w odcieniach szerości i zbliż zdjęcie do zakresu 250-350 w osi X i Y (użwając metod *xlim* i *ylim*).\n",
        "\n",
        "Sprawdź działanie argumentu *interpolation* w metodzie *imshow* (sprawdź ustawienie 'none')."
      ]
    },
    {
      "metadata": {
        "id": "7FwYeSi9fvrv",
        "colab_type": "code",
        "colab": {}
      },
      "cell_type": "code",
      "source": [
        ""
      ],
      "execution_count": 0,
      "outputs": []
    },
    {
      "metadata": {
        "id": "g5bt9jHSfvr0",
        "colab_type": "text"
      },
      "cell_type": "markdown",
      "source": [
        "## Histogramy\n",
        "\n",
        "Policz histogram obrazu Lena w odcieniach szarości uzywając 3 metod:\n",
        "\n",
        "  * biblioteką scikit-image - metoda *exposure.histogram*\n",
        "  * biblioteką numpy - metoda *numpy.histogram*\n",
        "  * biblioteką matplotlib - metoda *pyplot.hist*\n",
        "  \n",
        "Narsyuj przy użyciu wykresu *pyplot.bar* albo *pyplot.plot*."
      ]
    },
    {
      "metadata": {
        "id": "6BiBJAK7fvr2",
        "colab_type": "code",
        "colab": {}
      },
      "cell_type": "code",
      "source": [
        ""
      ],
      "execution_count": 0,
      "outputs": []
    },
    {
      "metadata": {
        "id": "Sd434ZvIfvr8",
        "colab_type": "text"
      },
      "cell_type": "markdown",
      "source": [
        "## Steganografia\n",
        "\n",
        "Wczytaj obraz stego.bmp i wyświetl. Czy jest coś nie tak z tym obrazem?\n",
        "\n",
        "Narysuj jego histogram.\n",
        "\n",
        "Odczytaj 3 ostatnie bity każdego piksela z danego obrazu i zrób z tego inny obraz.\n",
        "\n",
        "Metoda ukrywania informacji w obrazach (lub innych zbiorach danych gdzie niewielkie perturbacje wartości nie zmieniają jego treści) znana jest właśnie pod nazwą *steganografia*. Więcej informacji znajdziesz tutaj:\n",
        "\n",
        "https://en.wikipedia.org/wiki/Steganography"
      ]
    },
    {
      "metadata": {
        "id": "rQrqWqVBfvr-",
        "colab_type": "code",
        "colab": {}
      },
      "cell_type": "code",
      "source": [
        ""
      ],
      "execution_count": 0,
      "outputs": []
    },
    {
      "metadata": {
        "id": "qH1Lck6HfvsD",
        "colab_type": "text"
      },
      "cell_type": "markdown",
      "source": [
        "# Praca domowa\n",
        "\n",
        "Zrób własny przykład steganografii. Ukryj jakąś informacje (nie musi to być zdjęcie) w jakimś innym pliku tak żeby nie zaburzyć jego "
      ]
    },
    {
      "metadata": {
        "id": "1-d2fIZrfvsE",
        "colab_type": "code",
        "colab": {}
      },
      "cell_type": "code",
      "source": [
        ""
      ],
      "execution_count": 0,
      "outputs": []
    }
  ]
}