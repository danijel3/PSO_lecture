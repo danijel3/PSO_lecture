{
 "nbformat": 4,
 "nbformat_minor": 0,
 "metadata": {
  "colab": {
   "name": "Lab9_dz_punkt.ipynb",
   "version": "0.3.2",
   "provenance": [],
   "collapsed_sections": []
  },
  "kernelspec": {
   "display_name": "Python 3",
   "language": "python",
   "name": "python3"
  },
  "pycharm": {
   "stem_cell": {
    "cell_type": "raw",
    "source": [],
    "metadata": {
     "collapsed": false
    }
   }
  }
 },
 "cells": [
  {
   "metadata": {
    "id": "EACwcaFz1dQ8",
    "colab_type": "code",
    "colab": {}
   },
   "cell_type": "code",
   "source": [
    "from skimage import data, color, transform,io,filters, morphology\n",
    "\n",
    "%pylab inline"
   ],
   "execution_count": 0,
   "outputs": []
  },
  {
   "metadata": {
    "id": "XpYXAqjC1dRM",
    "colab_type": "text"
   },
   "cell_type": "markdown",
   "source": [
    "# Point operations\n",
    "\n",
    "Load a sample grayscale image and display it. What are the ranges of the values of the pixels?"
   ]
  },
  {
   "metadata": {
    "id": "2XfuuDVE1dRN",
    "colab_type": "code",
    "colab": {}
   },
   "cell_type": "code",
   "source": [],
   "execution_count": 0,
   "outputs": []
  },
  {
   "metadata": {
    "id": "06b2vjy51dRU",
    "colab_type": "text"
   },
   "cell_type": "markdown",
   "source": [
    "Define the function $f(x)$ to return its argument increased by a constant value (eg. $0.5$).\n",
    "Use the `numpy.clip` function to make sure that the values don't overflow outside the range $<0,1>$.\n",
    "To make it easier to apply this function to all the pixels use the `numpy.vectorize` function to convert the standard python function to a type that works with numpy arrays.\n",
    "\n",
    "Finally, apply the function on the previous image and display the result."
   ]
  },
  {
   "metadata": {
    "id": "rSHGwYJc1dRV",
    "colab_type": "code",
    "colab": {}
   },
   "cell_type": "code",
   "source": [],
   "execution_count": 0,
   "outputs": []
  },
  {
   "metadata": {
    "id": "HpB6lBpd1dRd",
    "colab_type": "text"
   },
   "cell_type": "markdown",
   "source": [
    "Define a simple linear function $f(x)=a*x+b$ as a point operation. To better understand what it does also draw a linear plot demonstraing its effect on the various grayscale values of the image (in the range $<0,1>$). \n"
   ]
  },
  {
   "metadata": {
    "id": "kG7Jeo2p1dRf",
    "colab_type": "code",
    "colab": {}
   },
   "cell_type": "code",
   "source": [],
   "execution_count": 0,
   "outputs": []
  },
  {
   "metadata": {
    "id": "0YzcDJHd1dRm",
    "colab_type": "text"
   },
   "cell_type": "markdown",
   "source": [
    "The above operations are used to change the image exposure. If the image is overexposed or underexposed the image's histogram will be limited to a specific narrow range of grayscale values. The above function can be used to stretch the important parts of the histogram while discarding those that are less important.\n",
    "\n",
    "Find a badly exposed image and find the right parameters to correct its exposure.\n",
    "\n",
    "For example:\n",
    "https://lifeaperture.files.wordpress.com/2011/04/dsc0085.jpg\n",
    "\n",
    "NOTE: To speed up the exercise, use the `transfrom.rescale` in order to make the whole image somewhat smaller. "
   ]
  },
  {
   "metadata": {
    "id": "614_cpwn1dRt",
    "colab_type": "code",
    "colab": {}
   },
   "cell_type": "code",
   "source": [],
   "execution_count": 0,
   "outputs": []
  },
  {
   "metadata": {
    "id": "YzzXrA2A1dR0",
    "colab_type": "text"
   },
   "cell_type": "markdown",
   "source": [
    "The above operation is effective in making specific part of the image lighter (eg. grass) or darker (eg. sky), but it completely erases other parts of the image.\n",
    "\n",
    "Instead of completely erasing parts of the image, it would be nicer if we could use a non-linear operation which merely \"stretches\" parts that we find interesting and \"squashes\" all the others. One way of doing this is using the **gamma** operation:\n",
    "\n",
    "\\begin{equation}\n",
    "f(x)=x^\\gamma\n",
    "\\end{equation}\n",
    "\n",
    "Implement the gamma operator and find the right parameter for the above image."
   ]
  },
  {
   "metadata": {
    "id": "1qsWyh2g1dR4",
    "colab_type": "code",
    "colab": {}
   },
   "cell_type": "code",
   "source": [],
   "execution_count": 0,
   "outputs": []
  },
  {
   "metadata": {
    "id": "WukaiyzA1dSD",
    "colab_type": "text"
   },
   "cell_type": "markdown",
   "source": [
    "Finally, we can use the operation known as \"histogram equalization\". First compute the histogram and then calculate the CDF (cumulative distribution function, computed using the `numpy.cumsum` function) over the histogram values. If we treat the value of the histogram's CDF as a point operation on the image, the result of the transformation will be a perfectly uniform (ie. equalized) histogram."
   ]
  },
  {
   "metadata": {
    "id": "z8QZhSwZ1dSE",
    "colab_type": "code",
    "colab": {}
   },
   "cell_type": "code",
   "source": [],
   "execution_count": 0,
   "outputs": []
  },
  {
   "metadata": {
    "id": "-HsCnPcG1dSL",
    "colab_type": "text"
   },
   "cell_type": "markdown",
   "source": [
    "# Image binarization\n",
    "\n",
    "Thresholding is the simplest form of image binarization. For a defined threshold (eg. 0.5), set each pixel to 1 iff its value crosses the threshold. Otherwise set it to 0. Use the `camera` image (from `skimage.data`) to demonstrate this effect. "
   ]
  },
  {
   "metadata": {
    "id": "0LoRqZ4h1dSM",
    "colab_type": "code",
    "colab": {}
   },
   "cell_type": "code",
   "source": [],
   "execution_count": 0,
   "outputs": []
  },
  {
   "metadata": {
    "id": "5svhMEV11dSS",
    "colab_type": "text"
   },
   "cell_type": "markdown",
   "source": [
    "In most real-life cases, simple thresholding isn't effective because it's hard to choose a single best value. There are several extensions to this simple idea - usually involving several threshold values.\n",
    "\n",
    "\n",
    "## Contextual binarization - Otsu method\n",
    "\n",
    "If the contrast changes throughout the image it is imposible to use a single threshold value.  Try to do this on the `data.page` image. \n",
    "\n",
    "A method invented by Nobuyuki Otsu simply calculates a different threshold for each pixel based on its closes neighborhood. Use `skimage.filters.rank.otsu` to get the threshold values and `skimage.morphology.disk` as the structural element of the method. Subtract a constant value (eg. 10) from the resulting threshold to remove some of the artefacts. "
   ]
  },
  {
   "metadata": {
    "id": "imeNCVc81dSU",
    "colab_type": "code",
    "colab": {}
   },
   "cell_type": "code",
   "source": [],
   "execution_count": 0,
   "outputs": []
  },
  {
   "metadata": {
    "id": "2DUvuwPG1dSb",
    "colab_type": "text"
   },
   "cell_type": "markdown",
   "source": [
    "Similar results can be achieved using other local adaptation methods. Use `skimage.filters.threshold_local` with the neighborhood 35 and offset 10. Try setting other parameters as well. "
   ]
  },
  {
   "metadata": {
    "id": "E0YvULCV1dSc",
    "colab_type": "code",
    "colab": {}
   },
   "cell_type": "code",
   "source": [],
   "execution_count": 0,
   "outputs": []
  },
  {
   "metadata": {
    "id": "r5VYjzlv1dSp",
    "colab_type": "text"
   },
   "cell_type": "markdown",
   "source": [
    "# Homework\n",
    "\n",
    "Implement a contrast modifying point operation based on the logistic function. Try defining a single parameter $k$ to control its intensity. It's a good idea to scale the logistic function so it always starts at $0,0$ and ends at $1,1$."
   ]
  },
  {
   "metadata": {
    "id": "L4afe6Ty1dSs",
    "colab_type": "code",
    "colab": {}
   },
   "cell_type": "code",
   "source": [
    ""
   ],
   "execution_count": 0,
   "outputs": []
  }
 ]
}