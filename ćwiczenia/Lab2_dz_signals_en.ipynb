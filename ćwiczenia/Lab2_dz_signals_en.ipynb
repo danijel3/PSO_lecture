{
  "nbformat": 4,
  "nbformat_minor": 0,
  "metadata": {
    "colab": {
      "name": "Lab2_dz_sygnały.ipynb",
      "version": "0.3.2",
      "provenance": [],
      "collapsed_sections": []
    },
    "kernelspec": {
      "display_name": "Python 3",
      "language": "python",
      "name": "python3"
    }
  },
  "cells": [
    {
      "metadata": {
        "id": "2253-7jWMrvx",
        "colab_type": "text",
        "pycharm": {}
      },
      "cell_type": "markdown",
      "source": "# 1D signals\n\nWe will use this lab to start analyzing simple 1D signals. We will start with initializing Matplotlib and Numpy (run the block below):  "
    },
    {
      "metadata": {
        "id": "6pC6Cpm0Mrvz",
        "colab_type": "code",
        "colab": {},
        "pycharm": {}
      },
      "cell_type": "code",
      "source": [
        "%pylab inline"
      ],
      "execution_count": 0,
      "outputs": []
    },
    {
      "metadata": {
        "id": "IYPFjRoDMrv9",
        "colab_type": "text",
        "pycharm": {}
      },
      "cell_type": "markdown",
      "source": "## Initial tasks - simple signals\n\nReproduce the following functions. Assume the range $\u003c0,20\u003e$ for $x$.\n\n### Step function\n\n![](https://raw.githubusercontent.com/danijel3/PSO_lecture/master/%C4%87wiczenia/step.png)"
    },
    {
      "metadata": {
        "id": "NrF4m0kxMrv-",
        "colab_type": "code",
        "colab": {},
        "pycharm": {}
      },
      "cell_type": "code",
      "source": [
        ""
      ],
      "execution_count": 0,
      "outputs": []
    },
    {
      "metadata": {
        "id": "r0VG7ABbMrwH",
        "colab_type": "text",
        "pycharm": {}
      },
      "cell_type": "markdown",
      "source": "### Pulse (use \"stem\" to draw)\n\n![](https://raw.githubusercontent.com/danijel3/PSO_lecture/master/%C4%87wiczenia/impulse.png)"
    },
    {
      "metadata": {
        "id": "JRr19TEZMrwK",
        "colab_type": "code",
        "colab": {},
        "pycharm": {}
      },
      "cell_type": "code",
      "source": [
        ""
      ],
      "execution_count": 0,
      "outputs": []
    },
    {
      "metadata": {
        "id": "sRjICJkpMrwQ",
        "colab_type": "text",
        "pycharm": {}
      },
      "cell_type": "markdown",
      "source": "### Square wave\n\n![](https://raw.githubusercontent.com/danijel3/PSO_lecture/master/%C4%87wiczenia/square.png)"
    },
    {
      "metadata": {
        "id": "sYqYpi3_MrwT",
        "colab_type": "code",
        "colab": {},
        "pycharm": {}
      },
      "cell_type": "code",
      "source": [
        ""
      ],
      "execution_count": 0,
      "outputs": []
    },
    {
      "metadata": {
        "id": "0AXuCCviMrwd",
        "colab_type": "text",
        "pycharm": {}
      },
      "cell_type": "markdown",
      "source": "### Sawtooth wave\n\n![](https://raw.githubusercontent.com/danijel3/PSO_lecture/master/%C4%87wiczenia/sawtooth.png)"
    },
    {
      "metadata": {
        "id": "hD7ttSudMrwg",
        "colab_type": "code",
        "colab": {},
        "pycharm": {}
      },
      "cell_type": "code",
      "source": [
        ""
      ],
      "execution_count": 0,
      "outputs": []
    },
    {
      "metadata": {
        "id": "_zqhuT81Mrwo",
        "colab_type": "text",
        "pycharm": {}
      },
      "cell_type": "markdown",
      "source": "### Triangle wave\n\n![](https://raw.githubusercontent.com/danijel3/PSO_lecture/master/%C4%87wiczenia/triangle.png)"
    },
    {
      "metadata": {
        "id": "TqQIXqEMMrwq",
        "colab_type": "code",
        "colab": {},
        "pycharm": {}
      },
      "cell_type": "code",
      "source": [
        ""
      ],
      "execution_count": 0,
      "outputs": []
    },
    {
      "metadata": {
        "id": "6EGpB0ChMrww",
        "colab_type": "text",
        "pycharm": {}
      },
      "cell_type": "markdown",
      "source": "## Sine wave\n\nDraw a sine wave using the following parameters:\n\n* Amplitude: 2\n* Frequency: 5 Hz\n* Phase: $\\pi/2$ rad\n* Duration: 3 s\n* Sampling frequency: 100 Hz\n\nTry other settings to see how they affect the signal."
    },
    {
      "metadata": {
        "id": "6oGHkCzuMrwy",
        "colab_type": "code",
        "colab": {},
        "pycharm": {}
      },
      "cell_type": "code",
      "source": [
        ""
      ],
      "execution_count": 0,
      "outputs": []
    },
    {
      "metadata": {
        "id": "_tpLBO1tMrw_",
        "colab_type": "text",
        "pycharm": {}
      },
      "cell_type": "markdown",
      "source": "Now make 1 second of the signal sampled at 48 kHz with a frequency of 300 Hz. Play it back in an HTML5 component. Try other frequencies to learn how they sound."
    },
    {
      "metadata": {
        "scrolled": true,
        "id": "BPRZP6N7MrxB",
        "colab_type": "code",
        "colab": {},
        "pycharm": {}
      },
      "cell_type": "code",
      "source": [
        ""
      ],
      "execution_count": 0,
      "outputs": []
    },
    {
      "metadata": {
        "id": "cI4dYIV5MrxG",
        "colab_type": "text",
        "pycharm": {}
      },
      "cell_type": "markdown",
      "source": "## Modulation\n\n### Amplitude modulation - AM\n\nAmplitude modulation is based on replacing the amplitude constant of the carrier signal with the values of the modulating signal. Let\u0027s take a 3 second signal with frequency of 30 Hz sampled at 1 kHz. Modulate its amplitude using a signal with the frequency of 2 Hz and draw the result below."
    },
    {
      "metadata": {
        "id": "GjTXXAX7MrxH",
        "colab_type": "code",
        "colab": {},
        "pycharm": {}
      },
      "cell_type": "code",
      "source": [
        ""
      ],
      "execution_count": 0,
      "outputs": []
    },
    {
      "metadata": {
        "id": "kfufJsNLMrxN",
        "colab_type": "text",
        "pycharm": {}
      },
      "cell_type": "markdown",
      "source": "Generate and play back a modulated signal with a carrier frequency of 500 Hz modulated by a sine with the frequency of 3 Hz. Set the M parameter to 0.5"
    },
    {
      "metadata": {
        "id": "mUB9LdH9MrxO",
        "colab_type": "code",
        "colab": {},
        "pycharm": {}
      },
      "cell_type": "code",
      "source": [
        ""
      ],
      "execution_count": 0,
      "outputs": []
    },
    {
      "metadata": {
        "id": "K_lPT7nFMrxU",
        "colab_type": "text",
        "pycharm": {}
      },
      "cell_type": "markdown",
      "source": "### Frequency modulation - FM\n\nFrequency modulation is similar to amplitude modulation but instead of the amplitude, we modulate the frequency of the carrier signal. Using the same parameters as the previous task (3s, 30Hz, Fs\u003d1kHz)  perform frequency modulation below.\n\nPlease note that the range of amplitude of the modulating signal is converted to frequencies, so it should be multiplied by a factor to be noticeable by ear (at least 10, 20 Hz)."
    },
    {
      "metadata": {
        "id": "fjm5T9P0MrxW",
        "colab_type": "code",
        "colab": {},
        "pycharm": {}
      },
      "cell_type": "code",
      "source": [
        ""
      ],
      "execution_count": 0,
      "outputs": []
    },
    {
      "metadata": {
        "id": "j3Rb053-Mrxc",
        "colab_type": "text",
        "pycharm": {}
      },
      "cell_type": "markdown",
      "source": "Frequency modulation is easier to understand by observing the result in the frequency domain but this will not be discussed until later in the course. Generate the frequency modulated signal but increase its sampling frequency to 10 kHz, carrier frequency of 1 kHz and M parameter to 100 Hz.\n\nTo view the spectrum of a function without too much hassle, we can use the following instruction:\n\n```\n_\u003dP.specgram(y)\n```   "
    },
    {
      "cell_type": "code",
      "execution_count": null,
      "outputs": [],
      "source": "",
      "metadata": {
        "pycharm": {
          "metadata": false,
          "name": "#%%\n"
        }
      }
    },
    {
      "metadata": {
        "id": "eRGahASIMrxi",
        "colab_type": "text",
        "pycharm": {}
      },
      "cell_type": "markdown",
      "source": "# Exercises\n### (homework)\n\nGenerate a signal expressed and the sum of sines with parameters given below. The signal has the length of 2.5 seconds and is sampled at 44.1 kHz. Draw and play back the sound.\n\n1. f\u003d500Hz A\u003d2 $\\phi$\u003d0 rad\n2. f\u003d1234Hz A\u003d0.5 $\\phi$\u003d$\\pi$ rad\n3. f\u003d100Hz A\u003d1 $\\phi$\u003d115$^\\circ$"
    },
    {
      "metadata": {
        "id": "Ibh1f7gRMrxj",
        "colab_type": "code",
        "colab": {},
        "pycharm": {}
      },
      "cell_type": "code",
      "source": [
        ""
      ],
      "execution_count": 0,
      "outputs": []
    },
    {
      "metadata": {
        "id": "rj3tQ5AdMrxn",
        "colab_type": "text",
        "pycharm": {}
      },
      "cell_type": "markdown",
      "source": "Compute the odd and even component of the signal above (see lecture). Add those components back to reconstruct the original signal. To invert a sequence use the numpy `flip` method."
    },
    {
      "metadata": {
        "id": "BAadn2jiMrxp",
        "colab_type": "code",
        "colab": {},
        "pycharm": {}
      },
      "cell_type": "code",
      "source": [
        ""
      ],
      "execution_count": 0,
      "outputs": []
    },
    {
      "metadata": {
        "id": "WCM1rMJxMrxs",
        "colab_type": "text",
        "pycharm": {}
      },
      "cell_type": "markdown",
      "source": "Generate one second of a signal sampled at 10 kHz using the parameters below and draw the result. Write down why you got such a result (note the scale of the graph).\n\n1. f\u003d100 Hz A\u003d1 $\\phi$\u003d$\\frac{\\pi}{2}$\n2. f\u003d200 Hz A\u003d2 $\\phi$\u003d$\\pi$\n3. f\u003d100 Hz A\u003d-1 $\\phi$\u003d$\\frac{\\pi}{2}$\n4. f\u003d200 Hz A\u003d2 $\\phi$\u003d$2\\pi$"
    },
    {
      "metadata": {
        "id": "fkc9u3e4Mrxt",
        "colab_type": "code",
        "colab": {},
        "pycharm": {}
      },
      "cell_type": "code",
      "source": [
        ""
      ],
      "execution_count": 0,
      "outputs": []
    }
  ]
}