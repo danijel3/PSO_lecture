{
 "nbformat": 4,
 "nbformat_minor": 0,
 "metadata": {
  "colab": {
   "name": "Lab7_dz_Filtry_cyfrowe.ipynb",
   "version": "0.3.2",
   "provenance": [],
   "collapsed_sections": []
  },
  "kernelspec": {
   "display_name": "Python 3",
   "language": "python",
   "name": "python3"
  },
  "pycharm": {
   "stem_cell": {
    "cell_type": "raw",
    "source": [],
    "metadata": {
     "collapsed": false
    }
   }
  }
 },
 "cells": [
  {
   "metadata": {
    "id": "YQzKTajgYhED",
    "colab_type": "code",
    "colab": {}
   },
   "cell_type": "code",
   "source": [
    "%pylab inline"
   ],
   "execution_count": 0,
   "outputs": []
  },
  {
   "metadata": {
    "id": "dd5PLR6FYhES",
    "colab_type": "text"
   },
   "cell_type": "markdown",
   "source": [
    "# Digital Filters\n",
    "\n",
    "## FIR\n",
    "\n",
    "Finite Impulse Response filters perform a convolution with a sequence of parameters determining the chosen filter. Let's say we have a 2 Hz signal mixed with some white noise with low amplitude. "
   ]
  },
  {
   "metadata": {
    "id": "5tvk8sC-YhET",
    "colab_type": "code",
    "colab": {}
   },
   "cell_type": "code",
   "source": [],
   "execution_count": 0,
   "outputs": []
  },
  {
   "metadata": {
    "id": "Ob7zFyyvYhEc",
    "colab_type": "text"
   },
   "cell_type": "markdown",
   "source": [
    "How can we remove the noise without sacrificing the original signal? Let's try using convolution to compute for each sample a mean of $N$ previous samples."
   ]
  },
  {
   "metadata": {
    "id": "9SSxseAWYhEd",
    "colab_type": "code",
    "colab": {}
   },
   "cell_type": "code",
   "source": [],
   "execution_count": 0,
   "outputs": []
  },
  {
   "metadata": {
    "id": "Zd5z0h8TYhEm",
    "colab_type": "text"
   },
   "cell_type": "markdown",
   "source": [
    "Let's see what this set of coefficients does in the sampling frequency. Do the Fourier Transform of the coefficients and plot its amplitude and phase spectra. Use zero-padding to increase the resolution. What does this filter do? Also check out the `scipy.signal.freqz` function."
   ]
  },
  {
   "metadata": {
    "id": "veD0Gh2nYhEo",
    "colab_type": "code",
    "colab": {}
   },
   "cell_type": "code",
   "source": [],
   "execution_count": 0,
   "outputs": []
  },
  {
   "metadata": {
    "id": "lb_3DG4uYhE1",
    "colab_type": "text"
   },
   "cell_type": "markdown",
   "source": [
    "Instead of the mean, use a Gaussian.You can find it in `scipy.signal.gaussian`. What is the difference in this function's spectrum? "
   ]
  },
  {
   "metadata": {
    "id": "QNhCWTIjYhE3",
    "colab_type": "code",
    "colab": {}
   },
   "cell_type": "code",
   "source": [],
   "execution_count": 0,
   "outputs": []
  },
  {
   "metadata": {
    "id": "12O9Tu1cYhFI",
    "colab_type": "text"
   },
   "cell_type": "markdown",
   "source": [
    "Now also try the `np.sinc` function."
   ]
  },
  {
   "metadata": {
    "id": "cGzvgK3nYhFL",
    "colab_type": "code",
    "colab": {}
   },
   "cell_type": "code",
   "source": [],
   "execution_count": 0,
   "outputs": []
  },
  {
   "metadata": {
    "id": "PdgqwW1lYhFX",
    "colab_type": "text"
   },
   "cell_type": "markdown",
   "source": [
    "All the previous filters were low-pass. How can we make a high-pass filter? Try flipping the sign of every other coefficient."
   ]
  },
  {
   "metadata": {
    "id": "OCmZaEieYhFY",
    "colab_type": "code",
    "colab": {}
   },
   "cell_type": "code",
   "source": [],
   "execution_count": 0,
   "outputs": []
  },
  {
   "metadata": {
    "id": "b6cXLowbYhFd",
    "colab_type": "text"
   },
   "cell_type": "markdown",
   "source": [
    "Lets combine a low- and a high-pass filter to get a band-pass or a band-stop filter."
   ]
  },
  {
   "metadata": {
    "id": "IRX63dCMYhFf",
    "colab_type": "code",
    "colab": {}
   },
   "cell_type": "code",
   "source": [],
   "execution_count": 0,
   "outputs": []
  },
  {
   "metadata": {
    "id": "lR0kll0PYhFl",
    "colab_type": "text"
   },
   "cell_type": "markdown",
   "source": [
    "What happens if we take a sine of a specific frequency as our filter coefficients? "
   ]
  },
  {
   "metadata": {
    "id": "GZDMNhqbYhFn",
    "colab_type": "code",
    "colab": {}
   },
   "cell_type": "code",
   "source": [],
   "execution_count": 0,
   "outputs": []
  },
  {
   "metadata": {
    "id": "rNH210L2YhFw",
    "colab_type": "text"
   },
   "cell_type": "markdown",
   "source": [
    "Use the *scipy.signal.firwin* to generate a filter using a specific window function."
   ]
  },
  {
   "metadata": {
    "id": "W0Vg0fm8YhFy",
    "colab_type": "code",
    "colab": {}
   },
   "cell_type": "code",
   "source": [],
   "execution_count": 0,
   "outputs": []
  },
  {
   "metadata": {
    "id": "O_Hb6Kz8YhF-",
    "colab_type": "text"
   },
   "cell_type": "markdown",
   "source": [
    "## IIR\n",
    "\n",
    "Infinite impulse response filters are more complicated and can easily become unstable. Design an IIR filter using the `scipy.signal.butter` function. Use the `scipy.signal.freqz` function to see the filter's frequency response. The `scipy.signal.lfilter` function can be used to apply the filter on a signal.  \n",
    "\n",
    "Reasonable values for the Butterworth filter are $N=19$ amd $W_n=0.5$."
   ]
  },
  {
   "metadata": {
    "id": "yKT69is1YhGB",
    "colab_type": "code",
    "colab": {}
   },
   "cell_type": "code",
   "source": [],
   "execution_count": 0,
   "outputs": []
  },
  {
   "metadata": {
    "id": "zVarxyULYhGH",
    "colab_type": "text"
   },
   "cell_type": "markdown",
   "source": [
    "Try designing an elliptic filter using the `scipy.signal.ellip` function with parameters $N=10$, $rp=0.1$, $rs=10$ and $Wn=0.5$."
   ]
  },
  {
   "metadata": {
    "id": "Lq4F5N_IYhGJ",
    "colab_type": "code",
    "colab": {}
   },
   "cell_type": "code",
   "source": [],
   "execution_count": 0,
   "outputs": []
  },
  {
   "metadata": {
    "id": "GrmNyPJzYhGP",
    "colab_type": "text"
   },
   "cell_type": "markdown",
   "source": [
    "Compute the impulse response of the filter."
   ]
  },
  {
   "metadata": {
    "id": "V66UNlPkYhGS",
    "colab_type": "code",
    "colab": {}
   },
   "cell_type": "code",
   "source": [],
   "execution_count": 0,
   "outputs": []
  },
  {
   "metadata": {
    "id": "ah1szsArYhGa",
    "colab_type": "text"
   },
   "cell_type": "markdown",
   "source": [
    "Check if the filter is stable. An IIR filter is stable if the absolute values of the roots of the denominator of its transfer function is less than 1. You can use the `np.roots` function to calculate the roots of a polynomial."
   ]
  },
  {
   "metadata": {
    "id": "H4ZWoMrzYhGc",
    "colab_type": "code",
    "colab": {}
   },
   "cell_type": "code",
   "source": [],
   "execution_count": 0,
   "outputs": []
  },
  {
   "metadata": {
    "id": "vAWPe-YbYhGi",
    "colab_type": "text"
   },
   "cell_type": "markdown",
   "source": [
    "Plot a pole/zero graph for a given filter.  You can use the `matplotlib.patches` module to draw the unit circle, eg:\n",
    "\n",
    "```\n",
    "ax.add_patch(patches.Circle((0,0), radius=1, fill=True, color='black', ls='dashed', alpha=0.5))\n",
    "```\n",
    "\n",
    "To get the poles and zeros, you can use the `scipy.signal.tf2zpk` function."
   ]
  },
  {
   "metadata": {
    "id": "ZdWGw9K_YhGj",
    "colab_type": "code",
    "colab": {}
   },
   "cell_type": "code",
   "source": [],
   "execution_count": 0,
   "outputs": []
  },
  {
   "metadata": {
    "id": "C0zyV-__YhGn",
    "colab_type": "text"
   },
   "cell_type": "markdown",
   "source": [
    "# Homework\n",
    "\n",
    "## 1. FIR filter\n",
    "\n",
    "Create a signal with three components: 1 kHz, 2 kHz and 3 kHz. Create an FIR filter to remove the middle, 2 kHz component."
   ]
  },
  {
   "metadata": {
    "id": "gHI7uiDOYhGp",
    "colab_type": "code",
    "colab": {}
   },
   "cell_type": "code",
   "source": [],
   "execution_count": 0,
   "outputs": []
  },
  {
   "metadata": {
    "id": "G5_tNrWuYhGu",
    "colab_type": "text"
   },
   "cell_type": "markdown",
   "source": [
    "## 2. IIR filter\n",
    "\n",
    "Use the same signal above, but create an IIR filter instead. Make sure the filter is stable."
   ]
  },
  {
   "metadata": {
    "id": "p4PHR089YhGv",
    "colab_type": "code",
    "colab": {}
   },
   "cell_type": "code",
   "source": [
    ""
   ],
   "execution_count": 0,
   "outputs": []
  }
 ]
}