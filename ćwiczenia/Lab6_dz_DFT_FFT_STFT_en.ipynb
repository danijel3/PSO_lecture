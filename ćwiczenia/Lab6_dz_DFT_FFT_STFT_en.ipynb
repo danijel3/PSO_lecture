{
 "nbformat": 4,
 "nbformat_minor": 0,
 "metadata": {
  "colab": {
   "name": "Lab6_dz_DFT_FFT_STFT.ipynb",
   "version": "0.3.2",
   "provenance": [],
   "collapsed_sections": []
  },
  "kernelspec": {
   "display_name": "Python 3",
   "language": "python",
   "name": "python3"
  },
  "pycharm": {
   "stem_cell": {
    "cell_type": "raw",
    "source": [],
    "metadata": {
     "collapsed": false
    }
   }
  }
 },
 "cells": [
  {
   "metadata": {
    "id": "Bxz60s0kZIp-",
    "colab_type": "code",
    "colab": {}
   },
   "cell_type": "code",
   "source": [
    "%pylab inline"
   ],
   "execution_count": 0,
   "outputs": []
  },
  {
   "metadata": {
    "id": "f37kaF6iZIqI",
    "colab_type": "text"
   },
   "cell_type": "markdown",
   "source": [
    "# Modifying the signal in the frequency domain \n",
    "\n",
    "Let's take a signal containing to frequency components: $1kHz$ and $2kHz$. We want to remove one of those frequencies from the signal, but we don't know anything about filtering yet - there is an easy way to deal with this using the Fast Fourier Transform and its inverse. \n",
    "\n",
    "1. Generate the above signal and draw its plot.\n",
    "2. Compute the Fourier Transform and draw the amplitude spectrum of the signal.\n",
    "3. Delete the values of the chosen frequency component with a small margin around it, eg between $900-1100 Hz$ to erase the $1kHz$ signal.\n",
    "4. Take into account that the Fourier transform has to be symmetrical so apply the correction procedure described below. \n",
    "5. Plot the corrected spectrum one more time. \n",
    "6. Compute the inverse Fourier Transform and plot the resulting signal. Check that the signal is real (ie. the imaginary part of all its samples has to be very close to 0). \n",
    "\n",
    "## Hermitian symmetry\n",
    "\n",
    "\\begin{equation}\n",
    "H_{F_{s}-x}=H_x^\\star \\text{, for } x \\in <1,F_s-1>\n",
    "\\end{equation}\n",
    "\n",
    "We can implement it by performing the following steps:\n",
    "\n",
    "1. Copy the left side of the graph (without the 0 and $F_s/2$)\n",
    "2. Use `np.flipud` to invert the graph.\n",
    "3. Use `np.conj` to get the complex conjugate.\n",
    "4. Paste the result to the right side of the graph (also without $F_s/2$)."
   ]
  },
  {
   "metadata": {
    "id": "r6H3Bgb2ZIqK",
    "colab_type": "code",
    "colab": {}
   },
   "cell_type": "code",
   "source": [],
   "execution_count": 0,
   "outputs": []
  },
  {
   "metadata": {
    "id": "0xsxdAJIZIqQ",
    "colab_type": "text"
   },
   "cell_type": "markdown",
   "source": [
    "## Alternative solution\n",
    "\n",
    "Instead of `fft.fft` and `fft.ifft` we can use slightly more efficient implementations `fft.rfft` and `fft.irfft`. R-FFT computes only half of the graph (between $0..F_s/2$) and I-R-FFT computes the inverse of R-FFT ignoring the symmetry requirements altogether (assuming that the signal is real - therefore the name).\n",
    "\n",
    "Repeat the previous experiment but using the `fft.rfft` and `fft.irfft`."
   ]
  },
  {
   "metadata": {
    "id": "llJk4GftZIqT",
    "colab_type": "code",
    "colab": {}
   },
   "cell_type": "code",
   "source": [],
   "execution_count": 0,
   "outputs": []
  },
  {
   "metadata": {
    "id": "XgTjl5YVZIqY",
    "colab_type": "text"
   },
   "cell_type": "markdown",
   "source": [
    "# Frequency leakage\n",
    "\n",
    "1. Generate a sequence of ~100 numbers spread lineary between 999 and 1001.\n",
    "2. Create a loop to generate a signal with a frequency from pt. 1, unit amplitude and zero phase.  \n",
    "3. In each iteration, compute the Fourier transform of the signal and compute the height of the peak amplitude (using `np.max`) and store it in a list.   \n",
    "4. Draw the list of stored values from pt. 3 using a plot whose labels on the X axis are values from pt 1. \n",
    "\n",
    "Note that, depending on the frequency, the height of the amplitude peak is not constant and changes, even by 40%! Lets look at the extreme values (minimum and maximum) in the spectral domain. \n",
    "\n",
    "Note that for the maximum, the plot is almost ideal: one point exactly at the chosen frequency and its value is the same as the amplitude of the signal multiplied by half of the length of the signal (the other half is on the right side of the plot).\n",
    "\n",
    "The minimal point is completely different. Since the analyzed frequency isn't located precisely at any point of the DFT, the amplitude \"leaks\" to the neighboring points - lowering the height of the peak, but preserving the Parseval theorem.  "
   ]
  },
  {
   "metadata": {
    "id": "9xanmZekZIqa",
    "colab_type": "code",
    "colab": {}
   },
   "cell_type": "code",
   "source": [],
   "execution_count": 0,
   "outputs": []
  },
  {
   "metadata": {
    "id": "U2qO06GWZIqg",
    "colab_type": "text"
   },
   "cell_type": "markdown",
   "source": [
    "# Windowing\n",
    "\n",
    "Plot the Hamming function and its amplitude spectrum. Generate 10ms of a 1 kHz signal. Draw its amplitude sepctrum and note the leakage. Multiply the signal with the Hamming function (of the same length) and plot the amplitude spectrum again."
   ]
  },
  {
   "metadata": {
    "id": "q3dc3EqLZIqh",
    "colab_type": "code",
    "colab": {}
   },
   "cell_type": "code",
   "source": [],
   "execution_count": 0,
   "outputs": []
  },
  {
   "metadata": {
    "id": "lOBFWoicZIqn",
    "colab_type": "text"
   },
   "cell_type": "markdown",
   "source": [
    "# STFT\n",
    "\n",
    "Implement your own STFT. First generate a sample signal: 5 seconds sampled at 16 kHz containing a component at a constant frequency of 1000 Hz and another one with the frequency increasing with time from 0 to $2 \\cdot F_s$."
   ]
  },
  {
   "metadata": {
    "id": "EAQf8sHCZIqo",
    "colab_type": "code",
    "colab": {}
   },
   "cell_type": "code",
   "source": [],
   "execution_count": 0,
   "outputs": []
  },
  {
   "metadata": {
    "id": "N0cYcYRsZIqv",
    "colab_type": "text"
   },
   "cell_type": "markdown",
   "source": [
    "Start by splitting the signal into short-term windows aka. frames.\n",
    "\n",
    "Defined by the following variables:\n",
    "\n",
    "  * $L$ - length of the signal (in samples)\n",
    "  * $T$ - duration of the signal (in seconds) \n",
    "  * $win\\_len$ - window length (in samples) - eg. 256\n",
    "  * $win\\_shift$ - window shift (in samples) - eg. 128\n",
    "  * $win\\_num$ - number of windows per signal (rounded down) - $\\frac{L-win\\_len}{win\\_shift}+1$\n",
    "  * $S$ - 2D matrix of shape ($\\frac{win\\_len}{2}+1$,$win\\_num$)\n",
    "  \n",
    "For each iteration of a loop extract a window from the signal and compute its Fourier Transform. Save the result in the $S$ matrix.\n",
    "\n",
    "Compute the labels for the X and Y axes of the plot and use the `pyplot.pcolormesh` function to draw the magnitude $S$ matrix. You can also compute the logarithm of the magnitude to increase the details of the plot."
   ]
  },
  {
   "metadata": {
    "id": "fZfHZVmoZIqw",
    "colab_type": "code",
    "colab": {}
   },
   "cell_type": "code",
   "source": [],
   "execution_count": 0,
   "outputs": []
  },
  {
   "metadata": {
    "id": "gBRrcfaSZIq4",
    "colab_type": "text"
   },
   "cell_type": "markdown",
   "source": [
    "The image is still quite noisy. Use a windowing function (like the Hamming function) to clean it up."
   ]
  },
  {
   "metadata": {
    "id": "quBiezDiZIq6",
    "colab_type": "code",
    "colab": {}
   },
   "cell_type": "code",
   "source": [],
   "execution_count": 0,
   "outputs": []
  },
  {
   "metadata": {
    "id": "TUPTFcrcZIrA",
    "colab_type": "text"
   },
   "cell_type": "markdown",
   "source": [
    "What happens if we change the window length?"
   ]
  },
  {
   "metadata": {
    "id": "oSCpNxXVZIrC",
    "colab_type": "code",
    "colab": {}
   },
   "cell_type": "code",
   "source": [],
   "execution_count": 0,
   "outputs": []
  },
  {
   "metadata": {
    "id": "1jXXjztnZIrI",
    "colab_type": "text"
   },
   "cell_type": "markdown",
   "source": [
    "What happens if we add a DC-offset to the signal?"
   ]
  },
  {
   "metadata": {
    "id": "dcAttsAKZIrJ",
    "colab_type": "code",
    "colab": {}
   },
   "cell_type": "code",
   "source": [],
   "execution_count": 0,
   "outputs": []
  },
  {
   "metadata": {
    "id": "1y8lvoojZIrQ",
    "colab_type": "text"
   },
   "cell_type": "markdown",
   "source": [
    "The image has a low resolution. Add another parameter called $fftn$ (eg. 512, generally a power of 2) and compute the Fourier Transform with the window padded with zeros to that amount. "
   ]
  },
  {
   "metadata": {
    "id": "mKDn9G3YZIrR",
    "colab_type": "code",
    "colab": {}
   },
   "cell_type": "code",
   "source": [],
   "execution_count": 0,
   "outputs": []
  },
  {
   "metadata": {
    "id": "f6ficb0zZIra",
    "colab_type": "text"
   },
   "cell_type": "markdown",
   "source": [
    "Compare your implementation to the built-in `pyplot.specgram` function. Read the documentation and note what each parameter does."
   ]
  },
  {
   "metadata": {
    "id": "c9UtmYCtZIre",
    "colab_type": "code",
    "colab": {}
   },
   "cell_type": "code",
   "source": [],
   "execution_count": 0,
   "outputs": []
  },
  {
   "metadata": {
    "id": "kiXBnjc1ZIrn",
    "colab_type": "text"
   },
   "cell_type": "markdown",
   "source": [
    "# Homework\n",
    "\n",
    "## 1. Filtering in the frequency domain\n",
    "\n",
    "Use filtering in the frequency domain to recreate the low ($<200Hz$), middle (between $500Hz$ and $1000Hz$) and high (between $2 kHz$ and $4 kHz$) frequencies of a natural speech signal."
   ]
  },
  {
   "metadata": {
    "id": "G_VgmkrtZIro",
    "colab_type": "code",
    "colab": {}
   },
   "cell_type": "code",
   "source": [],
   "execution_count": 0,
   "outputs": []
  },
  {
   "metadata": {
    "id": "LirAWRpUZIrr",
    "colab_type": "text"
   },
   "cell_type": "markdown",
   "source": [
    "## 2. Windowing functions\n",
    "\n",
    "Draw and test the following windowing function present in the numpy library:\n",
    "\n",
    "* bartlett\n",
    "* blackman\n",
    "* hamming\n",
    "* hanning\n",
    "* kaiser\n",
    "\n",
    "Also test the different $\\beta$ parameters for the `kaiser` function.\n",
    "\n",
    "Note specifically the amplitude spectrum in the log scale of each windowing function."
   ]
  },
  {
   "metadata": {
    "id": "KnsxhzA9ZIru",
    "colab_type": "code",
    "colab": {}
   },
   "cell_type": "code",
   "source": [
    ""
   ],
   "execution_count": 0,
   "outputs": []
  }
 ]
}