{
  "nbformat": 4,
  "nbformat_minor": 0,
  "metadata": {
    "colab": {
      "name": "Lab11_dz_cechy.ipynb",
      "version": "0.3.2",
      "provenance": [],
      "collapsed_sections": []
    },
    "kernelspec": {
      "display_name": "Python 3",
      "language": "python",
      "name": "python3"
    }
  },
  "cells": [
    {
      "metadata": {
        "id": "e_7EHgP17WX6",
        "colab_type": "code",
        "colab": {}
      },
      "cell_type": "code",
      "source": [
        "%pylab inline\n",
        "from skimage import data,color,filters,morphology,feature,draw,transform,util"
      ],
      "execution_count": 0,
      "outputs": []
    },
    {
      "metadata": {
        "id": "GVK8WJpo7WYE",
        "colab_type": "text"
      },
      "cell_type": "markdown",
      "source": [
        "## Filtrowanie szumu\n",
        "\n",
        "Zrób zdjęcie zawierające szum typu salt/pepper i zastosuj na nim filtry uśredniający, gaussowski i medianowy z modułu *skimage.filters*."
      ]
    },
    {
      "metadata": {
        "id": "cDQZxOrf7WYG",
        "colab_type": "code",
        "colab": {}
      },
      "cell_type": "code",
      "source": [
        ""
      ],
      "execution_count": 0,
      "outputs": []
    },
    {
      "metadata": {
        "id": "nsiMF1237WYP",
        "colab_type": "text"
      },
      "cell_type": "markdown",
      "source": [
        "## Dylacja, erozja, zamknięcie i otwarcie\n",
        "\n",
        "Dokonaj operacji dylacji, erozji, otwarcia i zamknięcia na tym samym zdjęciu co powyżej, w filtrze medianowym. Jakie operacje się nadają do jakiego rodzaju szumu?"
      ]
    },
    {
      "metadata": {
        "id": "-p0IVi3P7WYS",
        "colab_type": "code",
        "colab": {}
      },
      "cell_type": "code",
      "source": [
        ""
      ],
      "execution_count": 0,
      "outputs": []
    },
    {
      "metadata": {
        "id": "SrpRb9UQ7WYZ",
        "colab_type": "text"
      },
      "cell_type": "markdown",
      "source": [
        "## Detekcja elementów morfologicznych - transformata Hough'a\n",
        "\n",
        "Po dokonaniu binaryzacji zdjęć, możemy zaczać szukać pozytecznych informacji w rastrze. Istnieje na to wiele metod, ale tutaj omówimy pewną ciekawą metodę znaną jako transformatę Hough'a.\n",
        "\n",
        "Użyj transforamty Hough'a żeby odnaleźć linie występujące w krawędziach zdjęcia *data.camera* (użyj transformaty Canny'ego do otrzymania krawędzi). Do tranformacji zdjęcia do przestrzeni Hough'a użyj metody *skimage.transform.hough_line*. Do wyboru największych przecięć można użyć *skimage.transform.hough_line_peaks*. Wygodniej jednak będzie zastosować *skimage.transform.probabilistic_hough_line* do policzenia współrzędnych linii na obrazie. Użyj parametrów *threshold=10*, *line_length=5* oraz *line_gap=3*. Pokesperymentuyj z nimi żeby znaleźć inne rozwiązania."
      ]
    },
    {
      "metadata": {
        "id": "xm2MeXZR7WYa",
        "colab_type": "code",
        "colab": {}
      },
      "cell_type": "code",
      "source": [
        ""
      ],
      "execution_count": 0,
      "outputs": []
    },
    {
      "metadata": {
        "id": "TzgA0SBr7WYh",
        "colab_type": "text"
      },
      "cell_type": "markdown",
      "source": [
        "# Praca domowa\n",
        "\n",
        "Użyj transformaty Hougha do detekcji kół i elips (metoda *hough_circle*) na zdjęciu *data.coins*."
      ]
    },
    {
      "metadata": {
        "id": "O-sEtxx87WYj",
        "colab_type": "code",
        "colab": {}
      },
      "cell_type": "code",
      "source": [
        ""
      ],
      "execution_count": 0,
      "outputs": []
    }
  ]
}