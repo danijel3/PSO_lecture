{
 "nbformat": 4,
 "nbformat_minor": 0,
 "metadata": {
  "colab": {
   "name": "Lab5_dz_Probkowanie.ipynb",
   "version": "0.3.2",
   "provenance": [],
   "collapsed_sections": []
  },
  "kernelspec": {
   "display_name": "Python 3",
   "language": "python",
   "name": "python3"
  },
  "pycharm": {
   "stem_cell": {
    "cell_type": "raw",
    "source": [],
    "metadata": {
     "collapsed": false
    }
   }
  }
 },
 "cells": [
  {
   "metadata": {
    "id": "46hUP7lmTbVj",
    "colab_type": "code",
    "colab": {}
   },
   "cell_type": "code",
   "source": [
    "%pylab inline"
   ],
   "execution_count": 0,
   "outputs": []
  },
  {
   "metadata": {
    "id": "-vp6pF4biDRk",
    "colab_type": "text"
   },
   "cell_type": "markdown",
   "source": [
    "# Sampling and quantization\n",
    "\n",
    "## Nyquist/Shannon sampling theorem\n",
    "\n",
    "We know what sampling frequency is, but what value should it have? What is the minimum number of sampled (minimal memory use) required to maintain a required signal quality?\n",
    "\n",
    "The answer is pretty simple, but before we simply give the formula, let's do a couple of experiments to reach the same result emprically. \n",
    "\n",
    "Let's generate and draw 1 second of 1 Hz sine with unit amplitude and zero phase. What is the minimum number of samples required to reconstruct the signal? What about 2 Hz? 3 Hz?"
   ]
  },
  {
   "metadata": {
    "id": "yQsxRRhwiDRo",
    "colab_type": "code",
    "colab": {}
   },
   "cell_type": "code",
   "source": [],
   "execution_count": 0,
   "outputs": []
  },
  {
   "metadata": {
    "id": "7cYrav3yiDR2",
    "colab_type": "text"
   },
   "cell_type": "markdown",
   "source": [
    "The above exercise may not be obvious, so let's tackle the problem from the other direction. Let's assume a constant sampling frequency of 10 Hz. What signals can we reconstruct using only 10 samples? What does a 1 Hz signal look like? 4 Hz? 5 Hz? 6 Hz? 9 Hz? 10 Hz? 11 Hz? Try generating other frequencies. Which signals look the same and which differ? "
   ]
  },
  {
   "metadata": {
    "id": "9zLaDZsRiDR6",
    "colab_type": "code",
    "colab": {}
   },
   "cell_type": "code",
   "source": [],
   "execution_count": 0,
   "outputs": []
  },
  {
   "metadata": {
    "id": "jOpTLCyriDSD",
    "colab_type": "text"
   },
   "cell_type": "markdown",
   "source": [
    "Let's take a step further. Generate a sine whose frequency parameter is a real variable changing with time instead of a constant. Let's make it change from 1 Hz to double the sampling frequency for a signal of 10 seconds sampled at 1000 Hz. What's goining on with the signal? Play it back. \n"
   ]
  },
  {
   "metadata": {
    "id": "scxXr3tRiDSF",
    "colab_type": "code",
    "colab": {}
   },
   "cell_type": "code",
   "source": [],
   "execution_count": 0,
   "outputs": []
  },
  {
   "metadata": {
    "id": "6Oae6E4ViDSQ",
    "colab_type": "text"
   },
   "cell_type": "markdown",
   "source": [
    "Use `specgram` to see the spectrum of the signals (more on that in the next lab). The function takes the signal as the fist argument and sampling frequency as the second. How does the graph correspond to the audio? "
   ]
  },
  {
   "metadata": {
    "id": "guPWuPb2iDSV",
    "colab_type": "code",
    "colab": {}
   },
   "cell_type": "code",
   "source": [],
   "execution_count": 0,
   "outputs": []
  },
  {
   "metadata": {
    "id": "-JcS4mWJiDSj",
    "colab_type": "text"
   },
   "cell_type": "markdown",
   "source": [
    "# Bit resolution\n",
    "\n",
    "Open a WAV file using the standard `wave` library and print the parameters stored in the file (use `getparams` method). You can find the documentation of the library here:\n",
    "\n",
    "https://docs.python.org/3/library/wave.html\n",
    "\n",
    "The library relies on the standard header written in the file:\n",
    "\n",
    "http://soundfile.sapp.org/doc/WaveFormat/"
   ]
  },
  {
   "metadata": {
    "id": "P78taq4CiDSm",
    "colab_type": "code",
    "colab": {}
   },
   "cell_type": "code",
   "source": [],
   "execution_count": 0,
   "outputs": []
  },
  {
   "metadata": {
    "id": "V-JC-ClUiDSv",
    "colab_type": "text"
   },
   "cell_type": "markdown",
   "source": [
    "Load the file in the memory, but for ease of use it's much more convenient to use the scipy library:\n",
    "\n",
    "http://docs.scipy.org/doc/scipy/reference/generated/scipy.io.wavfile.read.html\n",
    "\n",
    "Draw and play back the file."
   ]
  },
  {
   "metadata": {
    "id": "iTG3rKoAiDSx",
    "colab_type": "code",
    "colab": {}
   },
   "cell_type": "code",
   "source": [],
   "execution_count": 0,
   "outputs": []
  },
  {
   "metadata": {
    "id": "6YbxxypEiDTD",
    "colab_type": "text"
   },
   "cell_type": "markdown",
   "source": [
    "Perform quantization of the file using a lower amount of bits per samples. Play the sound and compare it to the original. What can you hear? Calculate the difference between the original and the quantized version and play it back. What is the main property of this difference?\n",
    "\n",
    "Use the `hist` function (from matplotlib) to draw the histogram of the difference. How does the difference change wrt the number of bits?"
   ]
  },
  {
   "metadata": {
    "id": "7Hf7lxlJiDTF",
    "colab_type": "code",
    "colab": {}
   },
   "cell_type": "code",
   "source": [],
   "execution_count": 0,
   "outputs": []
  },
  {
   "metadata": {
    "id": "D5vY4b0siDTQ",
    "colab_type": "text"
   },
   "cell_type": "markdown",
   "source": [
    "# Homework\n",
    "\n",
    "## Task 1\n",
    "\n",
    "Load the audio from the file and reduce its sampling frequency by half. You can do this by simply copying every second sample.\n",
    "From the experiments above we know we should expect aliasing to occur. Draw the spectrum of the file before and after the change of sampling frequency.\n",
    "Can you show where the aliasing occurs?"
   ]
  },
  {
   "metadata": {
    "id": "NTmorMCCiDTT",
    "colab_type": "code",
    "colab": {}
   },
   "cell_type": "code",
   "source": [],
   "execution_count": 0,
   "outputs": []
  },
  {
   "metadata": {
    "id": "nmoduaUViDTc",
    "colab_type": "text"
   },
   "cell_type": "markdown",
   "source": [
    "## Task 2\n",
    "\n",
    "Load the signal from the file and perform quantization on all different levels. Measure the SNR of the signal and plot a graph comparing SNR to bit depth.\n",
    "Do the same for SNR measured in dB. Which plot is more useful?"
   ]
  },
  {
   "metadata": {
    "id": "yRqJstwHiDT2",
    "colab_type": "code",
    "colab": {}
   },
   "cell_type": "code",
   "source": [],
   "execution_count": 0,
   "outputs": []
  },
  {
   "metadata": {
    "id": "_gPOuA44iDUT",
    "colab_type": "text"
   },
   "cell_type": "markdown",
   "source": [
    "## Zadanie 3\n",
    "\n",
    "Do the same as above but use $\\mu$-law encoding."
   ]
  },
  {
   "metadata": {
    "id": "qe7hYPrriDUV",
    "colab_type": "code",
    "colab": {}
   },
   "cell_type": "code",
   "source": [
    ""
   ],
   "execution_count": 0,
   "outputs": []
  }
 ]
}