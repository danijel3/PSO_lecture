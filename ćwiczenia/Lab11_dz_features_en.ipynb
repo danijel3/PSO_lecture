{
 "nbformat": 4,
 "nbformat_minor": 0,
 "metadata": {
  "colab": {
   "name": "Lab11_dz_cechy.ipynb",
   "version": "0.3.2",
   "provenance": [],
   "collapsed_sections": []
  },
  "kernelspec": {
   "display_name": "Python 3",
   "language": "python",
   "name": "python3"
  },
  "pycharm": {
   "stem_cell": {
    "cell_type": "raw",
    "source": [],
    "metadata": {
     "collapsed": false
    }
   }
  }
 },
 "cells": [
  {
   "metadata": {
    "id": "e_7EHgP17WX6",
    "colab_type": "code",
    "colab": {}
   },
   "cell_type": "code",
   "source": [
    "%pylab inline\n",
    "from skimage import data,color,filters,morphology,feature,draw,transform,util"
   ],
   "execution_count": 0,
   "outputs": []
  },
  {
   "metadata": {
    "id": "GVK8WJpo7WYE",
    "colab_type": "text"
   },
   "cell_type": "markdown",
   "source": [
    "## Noise filtering\n",
    "\n",
    "Create a noisy image using salt/pepper noise and apply a mean, gaussian and median filter from the `skimage.filters` module."
   ]
  },
  {
   "metadata": {
    "id": "cDQZxOrf7WYG",
    "colab_type": "code",
    "colab": {}
   },
   "cell_type": "code",
   "source": [],
   "execution_count": 0,
   "outputs": []
  },
  {
   "metadata": {
    "id": "nsiMF1237WYP",
    "colab_type": "text"
   },
   "cell_type": "markdown",
   "source": [
    "## Dilation, eroision, closing, opening\n",
    "\n",
    "Try the dilation, erosion, opening and closing on the the above images. Which operations work for what type of noise?"
   ]
  },
  {
   "metadata": {
    "id": "-p0IVi3P7WYS",
    "colab_type": "code",
    "colab": {}
   },
   "cell_type": "code",
   "source": [],
   "execution_count": 0,
   "outputs": []
  },
  {
   "metadata": {
    "id": "SrpRb9UQ7WYZ",
    "colab_type": "text"
   },
   "cell_type": "markdown",
   "source": [
    "## Morphology detection - Hough transform\n",
    "\n",
    "After making a binary image, we can look for useful information in the bitmap. There are many methods, but here we will discuss only the Hough transform. \n",
    "\n",
    "Use the Hough transorm to find lines in the `data.camera` image (first apply the Canny detector to get the edges). Use `skimage.transform.hough_line` to transform\n",
    "the image into the Hough space. To find the best candidates for lines you can use `skimage.transform.hough_line_peaks`, but it's probably easier to use `skimage.transform.probabilistic_hough_line`\n",
    "to get direct coordinates of lines on the image. You can use: `threshold=10`, `line_length=5` and `line_gap=3`. Experiment with other values to see how the affect the result."
   ]
  },
  {
   "metadata": {
    "id": "xm2MeXZR7WYa",
    "colab_type": "code",
    "colab": {}
   },
   "cell_type": "code",
   "source": [],
   "execution_count": 0,
   "outputs": []
  },
  {
   "metadata": {
    "id": "TzgA0SBr7WYh",
    "colab_type": "text"
   },
   "cell_type": "markdown",
   "source": [
    "# Homework\n",
    "\n",
    "Use the Hough transform to detect circle and ellipses (the `hough_circle` method) on the `data.coins` image."
   ]
  },
  {
   "metadata": {
    "id": "O-sEtxx87WYj",
    "colab_type": "code",
    "colab": {}
   },
   "cell_type": "code",
   "source": [
    ""
   ],
   "execution_count": 0,
   "outputs": []
  }
 ]
}