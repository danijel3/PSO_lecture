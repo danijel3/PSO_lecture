{
  "nbformat": 4,
  "nbformat_minor": 0,
  "metadata": {
    "colab": {
      "name": "Lab8_zao_cechy.ipynb",
      "version": "0.3.2",
      "provenance": [],
      "collapsed_sections": []
    },
    "kernelspec": {
      "display_name": "Python 3",
      "language": "python",
      "name": "python3"
    }
  },
  "cells": [
    {
      "metadata": {
        "id": "BVgaUtfw_c6D",
        "colab_type": "code",
        "colab": {}
      },
      "cell_type": "code",
      "source": [
        "%pylab inline\n",
        "from skimage import data,color,filters,morphology,feature,draw,transform,util"
      ],
      "execution_count": 0,
      "outputs": []
    },
    {
      "metadata": {
        "id": "IB1emdPN_c6M",
        "colab_type": "text"
      },
      "cell_type": "markdown",
      "source": [
        "## Filtrowanie szumu\n",
        "\n",
        "Zrób zdjęcie zawierające szum typu salt/pepper i zastosuj na nim filtry uśredniający, gaussowski i medianowy z modułu *skimage.filters*."
      ]
    },
    {
      "metadata": {
        "id": "dJ1GjwaI_c6O",
        "colab_type": "code",
        "colab": {}
      },
      "cell_type": "code",
      "source": [
        ""
      ],
      "execution_count": 0,
      "outputs": []
    },
    {
      "metadata": {
        "id": "4__Hz8rU_c6U",
        "colab_type": "text"
      },
      "cell_type": "markdown",
      "source": [
        "## Dylacja, erozja, zamknięcie i otwarcie\n",
        "\n",
        "Dokonaj operacji dylacji, erozji, otwarcia i zamknięcia na tym samym zdjęciu co powyżej, w filtrze medianowym. Jakie operacje się nadają do jakiego rodzaju szumu?"
      ]
    },
    {
      "metadata": {
        "id": "H2bED4T1_c6W",
        "colab_type": "code",
        "colab": {}
      },
      "cell_type": "code",
      "source": [
        ""
      ],
      "execution_count": 0,
      "outputs": []
    },
    {
      "metadata": {
        "id": "asyHBjyj_c6c",
        "colab_type": "text"
      },
      "cell_type": "markdown",
      "source": [
        "## Detekcja elementów morfologicznych - transformata Hough'a\n",
        "\n",
        "Po dokonaniu binaryzacji zdjęć, możemy zaczać szukać pozytecznych informacji w rastrze. Istnieje na to wiele metod, ale tutaj omówimy pewną ciekawą metodę znaną jako transformatę Hough'a.\n",
        "\n",
        "Użyj transforamty Hough'a żeby odnaleźć linie występujące w krawędziach zdjęcia *data.camera* (użyj transformaty Canny'ego do otrzymania krawędzi). Do tranformacji zdjęcia do przestrzeni Hough'a użyj metody *skimage.transform.hough_line*. Do wyboru największych przecięć można użyć *skimage.transform.hough_line_peaks*. Wygodniej jednak będzie zastosować *skimage.transform.probabilistic_hough_line* do policzenia współrzędnych linii na obrazie. Użyj parametrów *threshold=10*, *line_length=5* oraz *line_gap=3*. Pokesperymentuyj z nimi żeby znaleźć inne rozwiązania."
      ]
    },
    {
      "metadata": {
        "id": "pWbrRju-_c6d",
        "colab_type": "code",
        "colab": {}
      },
      "cell_type": "code",
      "source": [
        ""
      ],
      "execution_count": 0,
      "outputs": []
    }
  ]
}