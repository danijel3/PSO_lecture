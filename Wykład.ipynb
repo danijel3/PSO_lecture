{
 "cells": [
  {
   "cell_type": "markdown",
   "metadata": {
    "slideshow": {
     "slide_type": "slide"
    }
   },
   "source": [
    "# Przetwarzanie sygnałów i obrazów\n",
    "\n",
    "## Danijel Koržinek\n",
    "### danijel@pja.edu.pl"
   ]
  },
  {
   "cell_type": "markdown",
   "metadata": {
    "slideshow": {
     "slide_type": "subslide"
    }
   },
   "source": [
    "# Literatura\n",
    "\n",
    "- **Zieliński T.** *Cyfrowe przetwarzanie sygnałów* WKiŁ. 2005-7.\n",
    "- **Lyons R.G.** *Wprowadzenie do cyfrowego przetwarza-nia sygnałów* WKiŁ. 1999. \n",
    "- **Szabatin J.** *Podstawy teorii sygnałów* WKiŁ. 1982.\n",
    "- **Szabatin J.** *Przetwarzanie sygnałów* (online) 2003.\n",
    "\n",
    "Ćwiczenia:\n",
    "- **José Unpingco** *Python for Signal Processing* Springer 2013.\n",
    "- **Allen B. Downey** *Think DSP: Digital Signal Processing in Python*, O'Reily, 2016."
   ]
  },
  {
   "cell_type": "markdown",
   "metadata": {
    "slideshow": {
     "slide_type": "subslide"
    }
   },
   "source": [
    "# Warunki zaliczeń\n",
    "\n",
    "## Ćwiczenia\n",
    "\n",
    "- Każde ćwiczenie jest oceniane od 2-5\n",
    "- Ocena końcowa to średnia wszystkich ćwiczeń\n",
    "- Nieoddane lub niezaliczone ćwiczenie to ocena 0\n",
    "- Ćwiczenia oddajemy najpóźniej na następnej lekcji\n",
    "- W uzasadnionych przypadkach można poprosić o przedłużenie terminu oddania\n",
    "- Dozwolone maksymalne 2 nieobecności na ćwiczeniach bez uzasadnienia (1 na stud. zaocznych)\n",
    "\n",
    "## Egzamin\n",
    "\n",
    "- Egzamin dotyczy materiału z wykładów\n",
    "- Pytania będą dotyczyły zarówno definicji pojęć, jak i rozwiązywaia prostych zadań"
   ]
  },
  {
   "cell_type": "markdown",
   "metadata": {
    "slideshow": {
     "slide_type": "slide"
    }
   },
   "source": [
    "# Wprowadzenie\n",
    "\n",
    "- Sygnał to ogólnie *wszelki umowny znak o treści informacyjnej*\n",
    "  - łac. *signum* $\\rightarrow$ znak\n",
    "  - czas. *sygnalizować*\n",
    "\n",
    "<img src=\"https://upload.wikimedia.org/wikipedia/commons/9/9a/US_Navy_051129-N-0685C-007_Quartermaster_Seaman_Ryan_Ruona_signals_with_semaphore_flags_during_a_replenishment_at_sea.jpg\" style=\"width:320px\">\n",
    "\n",
    "- Dla nas to przede wszystkim *przebieg zmiennośći pewnego zjawiska* (zwykle w czasie)\n",
    "- Używamy do:\n",
    "  - badania zjawisk fizycznych i systemów\n",
    "  - sterowania systemami\n",
    "  - przekazywania informacji"
   ]
  },
  {
   "cell_type": "markdown",
   "metadata": {
    "slideshow": {
     "slide_type": "subslide"
    }
   },
   "source": [
    "# Dyskusja\n",
    "\n",
    "Podaj przykłady sygnałów występujących w świecie?\n",
    "\n",
    "- naturalne?\n",
    "- sztuczne?\n",
    "- do sterowania?\n",
    "- do transmisji informacji?"
   ]
  },
  {
   "cell_type": "markdown",
   "metadata": {
    "slideshow": {
     "slide_type": "subslide"
    }
   },
   "source": [
    "# Obszary użycia przetwarzania sygnałów\n",
    "\n",
    "- telekomunikacja\n",
    "- transmisja informacji, elektronika\n",
    "- dźwięk, muzyka, obraz, multimedia\n",
    "- astronomia\n",
    "- medycyna\n",
    "- radary\n",
    "- nawigacja satelitarna\n",
    "- zjawiska fizyczne (np. sejsmologia, meteorologia)\n",
    "- analiza danych numerycznych (np. rynkowych)"
   ]
  },
  {
   "cell_type": "markdown",
   "metadata": {
    "slideshow": {
     "slide_type": "subslide"
    }
   },
   "source": [
    "# Przetwarzanie sygnałów\n",
    "\n",
    "- Synteza lub generowanie sygnałów\n",
    "- Analiza lub parametryzacja sygnałów\n",
    "- Modyfikacja - przetwarzanie sygnałów"
   ]
  },
  {
   "cell_type": "markdown",
   "metadata": {
    "slideshow": {
     "slide_type": "subslide"
    }
   },
   "source": [
    "# Transmisja sygnału\n",
    "\n",
    "![](images/Shannon-and-Weaver-1948.png)\n",
    "(Shannon i Weaver, 1948)"
   ]
  },
  {
   "cell_type": "markdown",
   "metadata": {
    "slideshow": {
     "slide_type": "subslide"
    }
   },
   "source": [
    "# Rodzaje sygnału\n",
    "\n",
    "- funkcja czasu, położenia, ...\n",
    "  - $f(t)$ lub $f(x)$\n",
    "- jednowymiarowe lub dwuwymiarowe lub wielowymiarowe\n",
    "  - $f(x)$ lub $f(x,y)$\n",
    "- rzeczywiste lub zespolone\n",
    "  - $\\mathbb{R}$ lub $\\mathbb{C}$\n",
    "- ciągłe lub dyskretne (analogowe lub cyfrowe)\n",
    "- deterministyczna lub losowe\n",
    "- okresowe, impulsowe, nieskończone"
   ]
  },
  {
   "cell_type": "markdown",
   "metadata": {
    "slideshow": {
     "slide_type": "subslide"
    }
   },
   "source": [
    "![](images/sound_signal.png)"
   ]
  },
  {
   "cell_type": "markdown",
   "metadata": {
    "slideshow": {
     "slide_type": "subslide"
    }
   },
   "source": [
    "![](images/Sygnały.svg)\n",
    "(T. Zieliński)"
   ]
  },
  {
   "cell_type": "markdown",
   "metadata": {
    "slideshow": {
     "slide_type": "subslide"
    }
   },
   "source": [
    "# Sygnały okresowe\n",
    "\n",
    "Sygnał okresowy (ang. periodic) to taki w którym:\n",
    "\n",
    "- istnieje wartość $T$, zwana okresem sygnału\n",
    "- dla której, dla wszystkich wartości czasu $t \\in \\mathbb{R}$ i dla dowolnej liczby $k \\in \\mathbb{Z}$ zachodzi zależność:\n",
    "\n",
    "$x(t)=x(t+kT)$\n",
    "\n",
    "![](images/periodic.png)"
   ]
  },
  {
   "cell_type": "markdown",
   "metadata": {
    "slideshow": {
     "slide_type": "subslide"
    }
   },
   "source": [
    "# Przykłady sygnałów deterministycznych\n",
    "\n",
    "- Impuls prostokątny\n",
    "\n",
    "\\begin{equation}\n",
    "x(t)=\\left\\{\n",
    "\\begin{array}{l l}\n",
    " 0 & \\text{dla $|t|>\\frac{1}{2}$} \\\\\n",
    " \\frac{1}{2} & \\text{dla $|t|=\\frac{1}{2}$} \\\\\n",
    " 1 & \\text{dla $|t|<\\frac{1}{2}$}\n",
    "\\end{array}\n",
    "\\right.\n",
    "\\end{equation}\n",
    "\n",
    "![](images/impuls.png?1)"
   ]
  },
  {
   "cell_type": "markdown",
   "metadata": {
    "slideshow": {
     "slide_type": "subslide"
    }
   },
   "source": [
    "# Przykłady sygnałów deterministycznych\n",
    "- Skok jednostkowy\n",
    "\n",
    "\\begin{equation}\n",
    "x(t)=\\left\\{\n",
    "\\begin{array}{l l}\n",
    "1 & \\text{dla $t>0$} \\\\\n",
    "\\frac{1}{2} & \\text{dla $t=0$} \\\\\n",
    "0 & \\text{dla $t<0$}\n",
    "\\end{array}\n",
    "\\right.\n",
    "\\end{equation}\n",
    "\n",
    "![](images/skok.png)"
   ]
  },
  {
   "cell_type": "markdown",
   "metadata": {
    "slideshow": {
     "slide_type": "subslide"
    }
   },
   "source": [
    "# Przykłady sygnałów deterministycznych\n",
    "- Sygnał sinusoidalny\n",
    "\\begin{equation}\n",
    "x(t)=A\\sin(\\omega_0t+\\phi)\n",
    "\\end{equation}\n",
    "![](images/sinus.png)"
   ]
  },
  {
   "cell_type": "markdown",
   "metadata": {
    "slideshow": {
     "slide_type": "subslide"
    }
   },
   "source": [
    "# Przykłady sygnałów deterministycznych\n",
    "- Sinc (w uproszczeniu)\n",
    "\\begin{equation}\n",
    "x(t)=\\frac{\\sin(\\omega_0t)}{\\omega_0t}\n",
    "\\end{equation}\n",
    "![](images/sinc.png)"
   ]
  },
  {
   "cell_type": "markdown",
   "metadata": {
    "slideshow": {
     "slide_type": "subslide"
    }
   },
   "source": [
    "# Sygnały losowe\n",
    "\n",
    "- stacjonarne - parametry statystycznie nie zmieniają się w czasie\n",
    "- ergodyczne - parametry statystyczne również niezmienne dla dowolnej realizacji procesu losowego w dowolnej chwili w czasie\n",
    "- ergodyczne procesy losowe zazwyczaj aproksymujemy używając dystrybucji statystycznej, np:\n",
    "  - równomierna (ang. uniform)\n",
    "  - normalna (ang. normal, Gaussian)\n",
    "  - Poissona\n",
    "  - itd..."
   ]
  },
  {
   "cell_type": "markdown",
   "metadata": {
    "slideshow": {
     "slide_type": "subslide"
    }
   },
   "source": [
    "![](images/losowe.png)\n",
    "(T. Zielinski)"
   ]
  },
  {
   "cell_type": "markdown",
   "metadata": {
    "slideshow": {
     "slide_type": "subslide"
    }
   },
   "source": [
    "# Reprezentacja sygnału\n",
    "\n",
    "- sygnał najczęściej zapisujemy jako funkcję wartości rzeczywistych w czasie: $f(x)$\n",
    "- sygnał może jednak być reprezentowany jako funkcja liczb zespolonych\n",
    "  - przykładem sygnału zespolonego to przebieg wykładniczy:\n",
    "\n",
    "\\begin{equation}\n",
    "z(t)=e^{j\\omega t}=\\cos(\\omega t)+j\\sin(\\omega t)\n",
    "\\end{equation}\n",
    "\n",
    "- sygnały można też przeskształcać do innych dziedzin\n",
    "  - przykładowo za pomocą transformaty Fouriera do dziedziny częstotliowści"
   ]
  },
  {
   "cell_type": "markdown",
   "metadata": {
    "slideshow": {
     "slide_type": "subslide"
    }
   },
   "source": [
    "# Sygnał cyfrowy\n",
    "\n",
    "- Sygnał ciągły (analogowy)\n",
    "- Sygnał dyskretny czasu ciągłego\n",
    "  - np. wyjście DAC przed filtrowaniem\n",
    "  - kwantyzacja\n",
    "- Sygnał ciągły czasu dyskretnego\n",
    "  - np. wyjście matrycy CCD\n",
    "  - dyskretyzacja (próbkowanie)\n",
    "- Sygnał dysktretny czasu dyskretnego - sygnał cyfrowy"
   ]
  },
  {
   "cell_type": "markdown",
   "metadata": {
    "slideshow": {
     "slide_type": "subslide"
    }
   },
   "source": [
    "# Zalety cyfrowego przetwarzania danych\n",
    "\n",
    "- programowalność, elastyczność\n",
    "- stabilność, odporność na zakłócenia, starty\n",
    "- powtarzalność\n",
    "- kompresja danych\n",
    "- wydajna praca wielokanałowa\n",
    "- niska cena"
   ]
  },
  {
   "cell_type": "markdown",
   "metadata": {
    "slideshow": {
     "slide_type": "subslide"
    }
   },
   "source": [
    "# Transformaty\n",
    "\n",
    "- sygnał jest reprezentowany za pomocą funkcji operującej na liczbach, np:\n",
    "\n",
    "\\begin{equation}\n",
    "f(t) : \\mathbb{R} \\to \\mathbb{R}\n",
    "\\end{equation}\n",
    "\n",
    "- transformata to działanie matematyczne (podobne do funkcji) ale operujące na funkcjach:\n",
    "\n",
    "\\begin{equation}\n",
    "F(f) : f(t) \\to g(\\xi)\n",
    "\\end{equation}\n",
    "\n",
    "- pozwalają \"inaczej spojrzeć\" na zawartość sygnału\n",
    "- znacznie upraszczają niektóre działania matematyczne"
   ]
  },
  {
   "cell_type": "markdown",
   "metadata": {
    "slideshow": {
     "slide_type": "slide"
    }
   },
   "source": [
    "# Rozkład przedmiotu\n",
    "\n",
    "- Przetwarzanie sygnałów jedno-wymiarowych\n",
    "  - Sygnały i ich parametry\n",
    "  - Splot\n",
    "  - Transformata Fouriera\n",
    "  - Kwantyzacja i kodowanie sygnału\n",
    "  - Dyskretna transformata Fouriera, FFT, STFT\n",
    "  - Filtry cyfrowe oraz odpowiedź impulsowa\n",
    "- Przetwarzanie obrazów\n",
    "  - Kodowanie obrazu, przestrzenie barw\n",
    "  - Histogramy i transformacje punktowe\n",
    "  - Splot w obrazie\n",
    "  - Transformaty w obrazie\n",
    "  - Operacje morfologiczne\n",
    "- Podsumowanie i powtórzenie materiału"
   ]
  },
  {
   "cell_type": "markdown",
   "metadata": {
    "slideshow": {
     "slide_type": "slide"
    }
   },
   "source": [
    "# Sygnały i ich parametry"
   ]
  },
  {
   "cell_type": "markdown",
   "metadata": {
    "slideshow": {
     "slide_type": "subslide"
    }
   },
   "source": [
    "# Ciągły\n",
    "\n",
    "![](images/analog.png?1)"
   ]
  },
  {
   "cell_type": "markdown",
   "metadata": {
    "slideshow": {
     "slide_type": "subslide"
    }
   },
   "source": [
    "# Ciągły, dyskretnego czasu\n",
    "\n",
    "![](images/discrete_time.png)"
   ]
  },
  {
   "cell_type": "markdown",
   "metadata": {
    "slideshow": {
     "slide_type": "subslide"
    }
   },
   "source": [
    "# Dyskretny ciągłego czasu\n",
    "\n",
    "![](images/discrete_value.png)"
   ]
  },
  {
   "cell_type": "markdown",
   "metadata": {
    "slideshow": {
     "slide_type": "subslide"
    }
   },
   "source": [
    "# Cyfrowy\n",
    "\n",
    "![](images/digital.png)"
   ]
  },
  {
   "cell_type": "markdown",
   "metadata": {
    "slideshow": {
     "slide_type": "subslide"
    }
   },
   "source": [
    "# Okresowy\n",
    "\n",
    "\n",
    "\\begin{equation}\n",
    "\\forall t \\in \\mathbb{R},\\, \\forall k \\in \\mathbb{Z},\\, \\exists T \\in \\mathbb{R} \\\\\n",
    "y(t)=y(t+kT)\n",
    "\\end{equation}\n",
    "\n",
    "![](images/periodic.png?1)\n"
   ]
  },
  {
   "cell_type": "markdown",
   "metadata": {
    "slideshow": {
     "slide_type": "subslide"
    }
   },
   "source": [
    "# Nieokresowy\n",
    "\n",
    "![](images/aperiodic.png)"
   ]
  },
  {
   "cell_type": "markdown",
   "metadata": {
    "slideshow": {
     "slide_type": "subslide"
    }
   },
   "source": [
    "# Deterministyczny\n",
    "\n",
    "\n",
    "![](images/deterministic.png)"
   ]
  },
  {
   "cell_type": "markdown",
   "metadata": {
    "slideshow": {
     "slide_type": "subslide"
    }
   },
   "source": [
    "# Losowy\n",
    "\n",
    "![](images/random.png?1)"
   ]
  },
  {
   "cell_type": "markdown",
   "metadata": {
    "slideshow": {
     "slide_type": "subslide"
    }
   },
   "source": [
    "# Skończony\n",
    "\n",
    "![](images/finite.png?1)"
   ]
  },
  {
   "cell_type": "markdown",
   "metadata": {
    "slideshow": {
     "slide_type": "subslide"
    }
   },
   "source": [
    "# Nieskończony\n",
    "\n",
    "## Nieprzyczynowy\n",
    "\n",
    "![](images/infinite.png)"
   ]
  },
  {
   "cell_type": "markdown",
   "metadata": {
    "slideshow": {
     "slide_type": "subslide"
    }
   },
   "source": [
    "# Przyczynowy\n",
    "\n",
    "![](images/causal.png)"
   ]
  },
  {
   "cell_type": "markdown",
   "metadata": {
    "slideshow": {
     "slide_type": "subslide"
    }
   },
   "source": [
    "# Anty-przyczynowy\n",
    "\n",
    "![](images/anticausal.png)"
   ]
  },
  {
   "cell_type": "markdown",
   "metadata": {
    "slideshow": {
     "slide_type": "subslide"
    }
   },
   "source": [
    "# Symetryczny parzysty\n",
    "\n",
    "\\begin{equation}\n",
    "f(t)=f(-t)\n",
    "\\end{equation}\n",
    "\n",
    "![](images/even.png)"
   ]
  },
  {
   "cell_type": "markdown",
   "metadata": {
    "slideshow": {
     "slide_type": "subslide"
    }
   },
   "source": [
    "# Symetryczny nieparzysty\n",
    "\n",
    "\\begin{equation}\n",
    "f(t)=-f(-t)\n",
    "\\end{equation}\n",
    "\n",
    "![](images/odd.png)"
   ]
  },
  {
   "cell_type": "markdown",
   "metadata": {
    "slideshow": {
     "slide_type": "subslide"
    }
   },
   "source": [
    "# Dekompozycja\n",
    "\n",
    "\\begin{equation}\n",
    "f_p(t)=f(t)+f(-t) \\\\\n",
    "f_n(t)=f(t)-f(-t) \\\\\n",
    "f(t)=\\frac{1}{2}(f(t)+f(-t))+\\frac{1}{2}(f(t)-f(-t))\n",
    "\\end{equation}\n",
    "\n",
    "![](images/evenplusodd.png)"
   ]
  },
  {
   "cell_type": "markdown",
   "metadata": {
    "collapsed": true,
    "slideshow": {
     "slide_type": "slide"
    }
   },
   "source": [
    "# Definicje pojęć\n",
    "\n",
    "## Amplituda\n",
    "\n",
    "* miara zmiany wartości sygnału:\n",
    "    * peak (*1*)\n",
    "    * peak-to-peak (*2*)\n",
    "    * RMS (*3*) $\\sqrt{\\frac{1}{T}\\int_{0}^{T} f(t)^2 dt}$\n",
    "    \n",
    "![](https://upload.wikimedia.org/wikipedia/commons/8/8a/Sine_voltage.svg)"
   ]
  },
  {
   "cell_type": "markdown",
   "metadata": {
    "slideshow": {
     "slide_type": "subslide"
    }
   },
   "source": [
    "## Faza\n",
    "\n",
    "* przesunięcie sygnału w przestrzeni parametrów (np. czasu)\n",
    "* w przypadku sygnałów okresowych zdefiniowana jako kąt\n",
    "    * gdzie $360^{\\circ} = 2 \\pi = T$\n",
    "\n",
    "## Częstotliwość\n",
    "\n",
    "* ilość występowania pewnego zjawiska (np. okresu) w jednostce czasu\n",
    "* Hz -- ilość okresów na sekundę\n",
    "\n",
    "## Długość fali\n",
    "\n",
    "* długość okresu sygnału w danym medium\n",
    "* odwrotność częstotliwości: $\\lambda = \\frac{v}{f}$\n",
    "* dla dźwięku: $f=1000Hz \\rightarrow v \\approx 343 m/s \\rightarrow \\lambda \\approx 34 cm$\n",
    "\n",
    "## Próbka\n",
    "\n",
    "* w sygnale dyskretnym, wartość amplitudy sygnału w jednej chwili czasowej\n",
    "* częstotliwość próbkowania -- ilość próbek wyliczonych na 1 sekundę sygnału"
   ]
  },
  {
   "cell_type": "markdown",
   "metadata": {
    "slideshow": {
     "slide_type": "slide"
    }
   },
   "source": [
    "# Sinusoidalny\n",
    "\\begin{equation}\n",
    "f(t)=A*\\sin(2\\pi f_0 t+\\phi)\n",
    "\\end{equation}\n",
    "![](images/sine.png)\n",
    "\n",
    "* $A$ - amplituda\n",
    "* $f_0$ - częstotliwość ($1/T$)\n",
    "* $\\phi$ - faza\n"
   ]
  },
  {
   "cell_type": "markdown",
   "metadata": {
    "slideshow": {
     "slide_type": "subslide"
    }
   },
   "source": [
    "# Sinusoidalny\n",
    "\\begin{equation}\n",
    "f(n)=A*\\sin(2\\pi f_0 n / f_s +\\phi)\n",
    "\\end{equation}\n",
    "![](images/sine_disc.png)\n",
    "\n",
    "* $n$ - numer próbki ($\\in \\mathbb{N}$)\n",
    "* $f_s$ - częstotliwość próbkowania\n"
   ]
  },
  {
   "cell_type": "markdown",
   "metadata": {
    "slideshow": {
     "slide_type": "slide"
    }
   },
   "source": [
    "# Impuls prostokątny\n",
    "\n",
    "\\begin{equation}\n",
    "x(t)=\\Pi(t)=\\left\\{\n",
    "\\begin{array}{l l}\n",
    " 0 & \\text{dla $|t|>\\frac{1}{2}$} \\\\\n",
    " \\frac{1}{2} & \\text{dla $|t|=\\frac{1}{2}$} \\\\\n",
    " 1 & \\text{dla $|t|<\\frac{1}{2}$}\n",
    "\\end{array}\n",
    "\\right.\n",
    "\\end{equation}\n",
    "\n",
    "![](images/square_pulse.png)"
   ]
  },
  {
   "cell_type": "markdown",
   "metadata": {
    "slideshow": {
     "slide_type": "subslide"
    }
   },
   "source": [
    "# Impuls trójkątny\n",
    "\n",
    "\\begin{equation}\n",
    "x(t)=\\Lambda(t)=\\left\\{\n",
    "\\begin{array}{l l}\n",
    " 0 & \\text{dla $|t|>\\frac{1}{2}$} \\\\\n",
    " 1-|t| & \\text{dla $|t|\\leq\\frac{1}{2}$} \\\\\n",
    "\\end{array}\n",
    "\\right.\n",
    "\\end{equation}\n",
    "\n",
    "![](images/triangle_pulse.png)"
   ]
  },
  {
   "cell_type": "markdown",
   "metadata": {
    "slideshow": {
     "slide_type": "subslide"
    }
   },
   "source": [
    "# Impuls kosinusoidalny\n",
    "\n",
    "\\begin{equation}\n",
    "x(t)=cos(\\omega_0 t) \\cdot \\Pi\\left(\\frac{t}{T/2}\\right) \\\\\n",
    "\\omega_0 = 2\\pi f_0,\\,f_0 = 1/T\n",
    "\\end{equation}\n",
    "\n",
    "![](images/cosine_pulse.png)"
   ]
  },
  {
   "cell_type": "markdown",
   "metadata": {
    "slideshow": {
     "slide_type": "subslide"
    }
   },
   "source": [
    "# Delta diraca\n",
    "\n",
    "\\begin{equation}\n",
    "f(t)=\\delta(t)=\\left\\{\n",
    "\\begin{array}{l l}\n",
    "0 & \\text{dla $t<0$} \\\\\n",
    "\\infty & \\text{dla $t=0$} \\\\\n",
    "0 & \\text{dla $t>0$}\n",
    "\\end{array}\n",
    "\\right. \n",
    "\\end{equation}\n",
    "\n",
    "\n",
    "<img src=\"https://upload.wikimedia.org/wikipedia/commons/4/48/Dirac_distribution_PDF.svg\" style=\"width:500px\">"
   ]
  },
  {
   "cell_type": "markdown",
   "metadata": {
    "slideshow": {
     "slide_type": "subslide"
    }
   },
   "source": [
    "# Delta diraca\n",
    "\\begin{equation}\n",
    "\\lim_{\\epsilon\\rightarrow0}\\int_{-\\epsilon}^{\\epsilon}\\delta(t)dt=1\n",
    "\\end{equation}\n",
    "\n",
    "![](https://upload.wikimedia.org/wikipedia/commons/b/b4/Dirac_function_approximation.gif)"
   ]
  },
  {
   "cell_type": "markdown",
   "metadata": {
    "slideshow": {
     "slide_type": "subslide"
    }
   },
   "source": [
    "# Delta kroneckera\n",
    "\n",
    "\\begin{equation}\n",
    "f(n)=\\left\\{\n",
    "\\begin{array}{l l}\n",
    "1 & \\text{dla $n=0$} \\\\\n",
    "0 & \\text{dla $n\\neq0$}\n",
    "\\end{array}\n",
    "\\right. \n",
    "\\end{equation}\n",
    "\n",
    "![](images/kronecker.png)"
   ]
  },
  {
   "cell_type": "markdown",
   "metadata": {
    "slideshow": {
     "slide_type": "subslide"
    }
   },
   "source": [
    "# Wykładniczy malejący\n",
    "\n",
    "\\begin{equation}\n",
    "f(t)=\\left\\{\n",
    "\\begin{array}{l l}\n",
    "Ae^{-\\alpha t} & \\text{dla $t\\geq 0$} \\\\\n",
    "0 & \\text{dla $t<0$}\n",
    "\\end{array}\n",
    "\\right. \\\\\n",
    "\\alpha >0\n",
    "\\end{equation}\n",
    "\n",
    "![](images/exp_dec.png)"
   ]
  },
  {
   "cell_type": "markdown",
   "metadata": {
    "slideshow": {
     "slide_type": "subslide"
    }
   },
   "source": [
    "# Sinusoidalny malejący wykładniczo\n",
    "\n",
    "\\begin{equation}\n",
    "f(t)=\\left\\{\n",
    "\\begin{array}{l l}\n",
    "Ae^{-\\alpha t} \\sin(\\omega_0 t) & \\text{dla $t\\geq 0$} \\\\\n",
    "0 & \\text{dla $t<0$}\n",
    "\\end{array}\n",
    "\\right. \n",
    "\\end{equation}\n",
    "\n",
    "![](images/exp_sin.png)"
   ]
  },
  {
   "cell_type": "markdown",
   "metadata": {
    "slideshow": {
     "slide_type": "subslide"
    }
   },
   "source": [
    "# Sinc\n",
    "\n",
    "\\begin{equation}\n",
    "f(t)=\\left\\{\n",
    "\\begin{array}{l l}\n",
    "\\sin(\\omega_0 t)/(\\omega_0 t) & \\text{dla $t\\neq 0$} \\\\\n",
    "1 & \\text{dla $t=0$}\n",
    "\\end{array}\n",
    "\\right. \n",
    "\\end{equation}\n",
    "\n",
    "![](images/sinc.png?1)"
   ]
  },
  {
   "cell_type": "markdown",
   "metadata": {
    "slideshow": {
     "slide_type": "subslide"
    }
   },
   "source": [
    "# Gaussowski\n",
    "\n",
    "\\begin{equation}\n",
    "f(t)=e^{-\\pi t^2}\n",
    "\\end{equation}\n",
    "\n",
    "![](images/gaussian.png)"
   ]
  },
  {
   "cell_type": "markdown",
   "metadata": {
    "slideshow": {
     "slide_type": "subslide"
    }
   },
   "source": [
    "# Skok jednostkowy\n",
    "\n",
    "\\begin{equation}\n",
    "f(t)=\\left\\{\n",
    "\\begin{array}{l l}\n",
    "1 & \\text{dla $t\\geq 0$} \\\\\n",
    "0 & \\text{dla $t<0$}\n",
    "\\end{array}\n",
    "\\right. \n",
    "\\end{equation}\n",
    "\n",
    "![](images/step.png)"
   ]
  },
  {
   "cell_type": "markdown",
   "metadata": {
    "slideshow": {
     "slide_type": "subslide"
    }
   },
   "source": [
    "# Wykładniczy narastający\n",
    "\n",
    "\\begin{equation}\n",
    "f(t)=\\left\\{\n",
    "\\begin{array}{l l}\n",
    "(1-e^{-\\alpha t}) & \\text{dla $t\\geq 0$} \\\\\n",
    "0 & \\text{dla $t<0$}\n",
    "\\end{array}\n",
    "\\right. \\\\\n",
    "\\alpha>0\n",
    "\\end{equation}\n",
    "\n",
    "![](images/exp_inc.png)"
   ]
  },
  {
   "cell_type": "markdown",
   "metadata": {
    "slideshow": {
     "slide_type": "subslide"
    }
   },
   "source": [
    "# Znak (signum)\n",
    "\n",
    "\\begin{equation}\n",
    "f(t)=\\left\\{\n",
    "\\begin{array}{l l}\n",
    "1 & \\text{dla $t>0$} \\\\\n",
    "0 & \\text{dla $t=0$} \\\\\n",
    "-1 & \\text{dla $t<0$}\n",
    "\\end{array}\n",
    "\\right. \n",
    "\\end{equation}\n",
    "\n",
    "![](images/sign.png)"
   ]
  },
  {
   "cell_type": "markdown",
   "metadata": {
    "slideshow": {
     "slide_type": "subslide"
    }
   },
   "source": [
    "# Całka z sinc\n",
    "\n",
    "![](images/sinc_int.png)"
   ]
  },
  {
   "cell_type": "markdown",
   "metadata": {
    "slideshow": {
     "slide_type": "subslide"
    }
   },
   "source": [
    "# Fala prosrokątna (PWM)\n",
    "\n",
    "![](images/pwm.png)"
   ]
  },
  {
   "cell_type": "markdown",
   "metadata": {
    "slideshow": {
     "slide_type": "subslide"
    }
   },
   "source": [
    "# Fala trójkątna\n",
    "\n",
    "![](images/pwm_tri.png)"
   ]
  },
  {
   "cell_type": "markdown",
   "metadata": {
    "slideshow": {
     "slide_type": "slide"
    }
   },
   "source": [
    "# Parametry\n",
    "\n",
    "\\begin{equation}\n",
    "\\mu_n = \\int_{-\\infty}^{\\infty} (x-c)^n f(x) dx\n",
    "\\end{equation}\n",
    "\n",
    "- momenty\n",
    "    - średnia\n",
    "    - wariancja\n",
    "    - skośność\n",
    "    - kurtoza\n",
    "    - (hiperskośność, hiperkurtoza)\n",
    "    "
   ]
  },
  {
   "cell_type": "markdown",
   "metadata": {
    "slideshow": {
     "slide_type": "subslide"
    }
   },
   "source": [
    "## Skośność \n",
    "\n",
    "![](https://upload.wikimedia.org/wikipedia/commons/f/f8/Negative_and_positive_skew_diagrams_%28English%29.svg)\n",
    "\n",
    "## Kurtoza\n",
    "\n",
    "<img src=\"https://upload.wikimedia.org/wikipedia/commons/e/e6/Standard_symmetric_pdfs.png\" style=\"width:500px\">"
   ]
  },
  {
   "cell_type": "markdown",
   "metadata": {
    "slideshow": {
     "slide_type": "subslide"
    }
   },
   "source": [
    "# Parametry\n",
    "\n",
    "## Energia\n",
    "\n",
    "\\begin{equation}\n",
    "E = \\int_{-\\infty}^{\\infty} f(t) ^2 dt\n",
    "\\end{equation}\n",
    "\n",
    "## Moc\n",
    "\n",
    "\\begin{equation}\n",
    "P = \\lim_{T\\rightarrow\\infty}\\frac{E}{T}\n",
    "\\end{equation}\n",
    "\n",
    "## Skuteczna amplituda (RMS)\n",
    "\n",
    "\\begin{equation}\n",
    "RMS(T) = \\sqrt{P_T}\n",
    "\\end{equation}\n",
    "\n",
    "## decybel (dB)\n",
    "\n",
    "- Prawo Webera-Fechnera\n",
    "\n",
    "\\begin{equation}\n",
    "P_{dB} = 10 \\log_{10} \\frac{P}{P_0} = 20 \\log_{10} \\frac{A}{A_0}\n",
    "\\end{equation}\n"
   ]
  },
  {
   "cell_type": "markdown",
   "metadata": {
    "slideshow": {
     "slide_type": "slide"
    }
   },
   "source": [
    "# Operacje\n",
    "\n",
    "- przesunięcie w czasie\n",
    "- przesunięcie w amplitudzie\n",
    "- zmiana amplitudy\n",
    "- skalowanie czasowe\n",
    "\n",
    "\\begin{equation}\n",
    "g(t)=A*f(a*t-b)+B\n",
    "\\end{equation}"
   ]
  },
  {
   "cell_type": "markdown",
   "metadata": {
    "slideshow": {
     "slide_type": "subslide"
    }
   },
   "source": [
    "# Modulacja\n",
    "\n",
    "- amplitudowa (AM)\n",
    "- częstotliwościowa (FM)\n",
    "- fazowa\n",
    "\n",
    "- sygnał modulowany, tzw. fala nośna (carrier signal) - 504 - 1600 kHz (AM), lub 88-108 MHz (FM)\n",
    "- sygnał modulujący\n",
    "- szerokość pasma 10 kHz (AM) i 200 kHz (FM)\n",
    "\n",
    "\\begin{equation}\n",
    "y(t) = (1 + M \\cdot y_t ) \\cdot y_c \\\\\n",
    "y(t) = sin(2 \\cdot \\pi \\cdot f_c \\cdot t + M \\cdot y_t)\n",
    "\\end{equation}"
   ]
  }
 ],
 "metadata": {
  "celltoolbar": "Slideshow",
  "kernelspec": {
   "display_name": "Python 2",
   "language": "python",
   "name": "python2"
  },
  "language_info": {
   "codemirror_mode": {
    "name": "ipython",
    "version": 2
   },
   "file_extension": ".py",
   "mimetype": "text/x-python",
   "name": "python",
   "nbconvert_exporter": "python",
   "pygments_lexer": "ipython2",
   "version": "2.7.13"
  }
 },
 "nbformat": 4,
 "nbformat_minor": 1
}
