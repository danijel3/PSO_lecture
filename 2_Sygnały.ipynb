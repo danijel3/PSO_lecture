{
 "cells": [
  {
   "cell_type": "markdown",
   "metadata": {
    "slideshow": {
     "slide_type": "slide"
    }
   },
   "source": [
    "# Sygnały i ich parametry"
   ]
  },
  {
   "cell_type": "markdown",
   "metadata": {
    "slideshow": {
     "slide_type": "subslide"
    }
   },
   "source": [
    "# Ciągły\n",
    "\n",
    "![](images/analog.png?1)"
   ]
  },
  {
   "cell_type": "markdown",
   "metadata": {
    "slideshow": {
     "slide_type": "subslide"
    }
   },
   "source": [
    "# Ciągły, dyskretnego czasu\n",
    "\n",
    "![](images/discrete_time.png?1)"
   ]
  },
  {
   "cell_type": "markdown",
   "metadata": {
    "slideshow": {
     "slide_type": "subslide"
    }
   },
   "source": [
    "# Dyskretny ciągłego czasu\n",
    "\n",
    "![](images/discrete_value.png?1)"
   ]
  },
  {
   "cell_type": "markdown",
   "metadata": {
    "slideshow": {
     "slide_type": "subslide"
    }
   },
   "source": [
    "# Cyfrowy\n",
    "\n",
    "![](images/digital.png?1)"
   ]
  },
  {
   "cell_type": "markdown",
   "metadata": {
    "slideshow": {
     "slide_type": "subslide"
    }
   },
   "source": [
    "# Okresowy\n",
    "\n",
    "\n",
    "\\begin{equation}\n",
    "\\forall t \\in \\mathbb{R},\\, \\forall k \\in \\mathbb{Z},\\, \\exists T \\in \\mathbb{R} \\\\\n",
    "y(t)=y(t+kT)\n",
    "\\end{equation}\n",
    "\n",
    "![](images/periodic.png?2)\n"
   ]
  },
  {
   "cell_type": "markdown",
   "metadata": {
    "slideshow": {
     "slide_type": "subslide"
    }
   },
   "source": [
    "# Nieokresowy\n",
    "\n",
    "![](images/aperiodic.png?1)"
   ]
  },
  {
   "cell_type": "markdown",
   "metadata": {
    "slideshow": {
     "slide_type": "subslide"
    }
   },
   "source": [
    "# Deterministyczny\n",
    "\n",
    "\n",
    "![](images/deterministic.png?1)"
   ]
  },
  {
   "cell_type": "markdown",
   "metadata": {
    "slideshow": {
     "slide_type": "subslide"
    }
   },
   "source": [
    "# Losowy\n",
    "\n",
    "![](images/random.png?2)"
   ]
  },
  {
   "cell_type": "markdown",
   "metadata": {
    "slideshow": {
     "slide_type": "subslide"
    }
   },
   "source": [
    "# Skończony\n",
    "\n",
    "![](images/finite.png?2)"
   ]
  },
  {
   "cell_type": "markdown",
   "metadata": {
    "slideshow": {
     "slide_type": "subslide"
    }
   },
   "source": [
    "# Nieskończony\n",
    "\n",
    "## Nieprzyczynowy\n",
    "\n",
    "![](images/infinite.png?3)"
   ]
  },
  {
   "cell_type": "markdown",
   "metadata": {
    "slideshow": {
     "slide_type": "subslide"
    }
   },
   "source": [
    "# Przyczynowy\n",
    "\n",
    "![](images/causal.png?3)"
   ]
  },
  {
   "cell_type": "markdown",
   "metadata": {
    "slideshow": {
     "slide_type": "subslide"
    }
   },
   "source": [
    "# Anty-przyczynowy\n",
    "\n",
    "![](images/anticausal.png)"
   ]
  },
  {
   "cell_type": "markdown",
   "metadata": {
    "slideshow": {
     "slide_type": "subslide"
    }
   },
   "source": [
    "# Symetryczny parzysty\n",
    "\n",
    "\\begin{equation}\n",
    "f(t)=f(-t)\n",
    "\\end{equation}\n",
    "\n",
    "![](images/even.png)"
   ]
  },
  {
   "cell_type": "markdown",
   "metadata": {
    "slideshow": {
     "slide_type": "subslide"
    }
   },
   "source": [
    "# Symetryczny nieparzysty\n",
    "\n",
    "\\begin{equation}\n",
    "f(t)=-f(-t)\n",
    "\\end{equation}\n",
    "\n",
    "![](images/odd.png)"
   ]
  },
  {
   "cell_type": "markdown",
   "metadata": {
    "slideshow": {
     "slide_type": "subslide"
    }
   },
   "source": [
    "# Dekompozycja\n",
    "\n",
    "\\begin{equation}\n",
    "f_p(t)=f(t)+f(-t) \\\\\n",
    "f_n(t)=f(t)-f(-t) \\\\\n",
    "f(t)=\\frac{1}{2}(f(t)+f(-t))+\\frac{1}{2}(f(t)-f(-t))\n",
    "\\end{equation}\n",
    "\n",
    "![](images/evenplusodd.png)"
   ]
  },
  {
   "cell_type": "markdown",
   "metadata": {
    "collapsed": true,
    "slideshow": {
     "slide_type": "slide"
    }
   },
   "source": [
    "# Definicje pojęć\n",
    "\n",
    "## Amplituda\n",
    "\n",
    "* miara zmiany wartości sygnału:\n",
    "    * peak (*1*)\n",
    "    * peak-to-peak (*2*)\n",
    "    * RMS (*3*) $\\sqrt{\\frac{1}{T}\\int_{0}^{T} f(t)^2 dt}$\n",
    "    \n",
    "![](https://upload.wikimedia.org/wikipedia/commons/8/8a/Sine_voltage.svg)"
   ]
  },
  {
   "cell_type": "markdown",
   "metadata": {
    "slideshow": {
     "slide_type": "subslide"
    }
   },
   "source": [
    "## Faza\n",
    "\n",
    "* przesunięcie sygnału w przestrzeni parametrów (np. czasu)\n",
    "* w przypadku sygnałów okresowych zdefiniowana jako kąt\n",
    "    * gdzie $360^{\\circ} = 2 \\pi = T$\n",
    "\n",
    "## Częstotliwość\n",
    "\n",
    "* ilość występowania pewnego zjawiska (np. okresu) w jednostce czasu\n",
    "* Hz -- ilość okresów na sekundę\n",
    "\n",
    "## Długość fali\n",
    "\n",
    "* długość okresu sygnału w danym medium\n",
    "* odwrotność częstotliwości: $\\lambda = \\frac{v}{f}$\n",
    "* dla dźwięku: $f=1000Hz \\rightarrow v \\approx 343 m/s \\rightarrow \\lambda \\approx 34 cm$\n",
    "\n",
    "## Próbka\n",
    "\n",
    "* w sygnale dyskretnym, wartość amplitudy sygnału w jednej chwili czasowej\n",
    "* częstotliwość próbkowania -- ilość próbek wyliczonych na 1 sekundę sygnału"
   ]
  },
  {
   "cell_type": "markdown",
   "metadata": {
    "slideshow": {
     "slide_type": "slide"
    }
   },
   "source": [
    "# Sinusoidalny\n",
    "\\begin{equation}\n",
    "f(t)=A*\\sin(2\\pi f_0 t+\\phi)\n",
    "\\end{equation}\n",
    "![](images/sine.png)\n",
    "\n",
    "* $A$ - amplituda\n",
    "* $f_0$ - częstotliwość ($1/T$)\n",
    "* $\\phi$ - faza\n"
   ]
  },
  {
   "cell_type": "markdown",
   "metadata": {
    "slideshow": {
     "slide_type": "subslide"
    }
   },
   "source": [
    "# Sinusoidalny\n",
    "\\begin{equation}\n",
    "f(n)=A*\\sin(2\\pi f_0 n / f_s +\\phi)\n",
    "\\end{equation}\n",
    "![](images/sine_disc.png)\n",
    "\n",
    "* $n$ - numer próbki ($\\in \\mathbb{N}$)\n",
    "* $f_s$ - częstotliwość próbkowania\n"
   ]
  },
  {
   "cell_type": "markdown",
   "metadata": {
    "slideshow": {
     "slide_type": "slide"
    }
   },
   "source": [
    "# Impuls prostokątny\n",
    "\n",
    "\\begin{equation}\n",
    "x(t)=\\Pi(t)=\\left\\{\n",
    "\\begin{array}{l l}\n",
    " 0 & \\text{dla $|t|>\\frac{1}{2}$} \\\\\n",
    " \\frac{1}{2} & \\text{dla $|t|=\\frac{1}{2}$} \\\\\n",
    " 1 & \\text{dla $|t|<\\frac{1}{2}$}\n",
    "\\end{array}\n",
    "\\right.\n",
    "\\end{equation}\n",
    "\n",
    "![](images/square_pulse.png)"
   ]
  },
  {
   "cell_type": "markdown",
   "metadata": {
    "slideshow": {
     "slide_type": "subslide"
    }
   },
   "source": [
    "# Impuls trójkątny\n",
    "\n",
    "\\begin{equation}\n",
    "x(t)=\\Lambda(t)=\\left\\{\n",
    "\\begin{array}{l l}\n",
    " 0 & \\text{dla $|t|>1$} \\\\\n",
    " 1-|t| & \\text{dla $|t|\\leq 1$} \\\\\n",
    "\\end{array}\n",
    "\\right.\n",
    "\\end{equation}\n",
    "\n",
    "![](images/triangle_pulse.png?1)"
   ]
  },
  {
   "cell_type": "markdown",
   "metadata": {
    "slideshow": {
     "slide_type": "subslide"
    }
   },
   "source": [
    "# Impuls kosinusoidalny\n",
    "\n",
    "\\begin{equation}\n",
    "x(t)=cos(\\omega_0 t) \\cdot \\Pi\\left(\\frac{t}{T/2}\\right) \\\\\n",
    "\\omega_0 = 2\\pi f_0,\\,f_0 = 1/T\n",
    "\\end{equation}\n",
    "\n",
    "![](images/cosine_pulse.png)"
   ]
  },
  {
   "cell_type": "markdown",
   "metadata": {
    "slideshow": {
     "slide_type": "slide"
    }
   },
   "source": [
    "# Delta diraca\n",
    "\n",
    "\\begin{equation}\n",
    "f(t)=\\delta(t)=\\left\\{\n",
    "\\begin{array}{l l}\n",
    "0 & \\text{dla $t<0$} \\\\\n",
    "\\infty & \\text{dla $t=0$} \\\\\n",
    "0 & \\text{dla $t>0$}\n",
    "\\end{array}\n",
    "\\right. \n",
    "\\end{equation}\n",
    "\n",
    "\n",
    "<img src=\"https://upload.wikimedia.org/wikipedia/commons/4/48/Dirac_distribution_PDF.svg\" style=\"width:500px\">"
   ]
  },
  {
   "cell_type": "markdown",
   "metadata": {
    "slideshow": {
     "slide_type": "subslide"
    }
   },
   "source": [
    "# Delta diraca\n",
    "\\begin{equation}\n",
    "\\lim_{\\epsilon\\rightarrow0}\\int_{-\\epsilon}^{\\epsilon}\\delta(t)dt=1\n",
    "\\end{equation}\n",
    "\n",
    "![](https://upload.wikimedia.org/wikipedia/commons/b/b4/Dirac_function_approximation.gif)"
   ]
  },
  {
   "cell_type": "markdown",
   "metadata": {
    "slideshow": {
     "slide_type": "subslide"
    }
   },
   "source": [
    "# Delta kroneckera\n",
    "\n",
    "\\begin{equation}\n",
    "f(n)=\\left\\{\n",
    "\\begin{array}{l l}\n",
    "1 & \\text{dla $n=0$} \\\\\n",
    "0 & \\text{dla $n\\neq0$}\n",
    "\\end{array}\n",
    "\\right. \n",
    "\\end{equation}\n",
    "\n",
    "![](images/kronecker.png)"
   ]
  },
  {
   "cell_type": "markdown",
   "metadata": {
    "slideshow": {
     "slide_type": "slide"
    }
   },
   "source": [
    "# Wykładniczy malejący\n",
    "\n",
    "\\begin{equation}\n",
    "f(t)=\\left\\{\n",
    "\\begin{array}{l l}\n",
    "Ae^{-\\alpha t} & \\text{dla $t\\geq 0$} \\\\\n",
    "0 & \\text{dla $t<0$}\n",
    "\\end{array}\n",
    "\\right. \\\\\n",
    "\\alpha >0\n",
    "\\end{equation}\n",
    "\n",
    "![](images/exp_dec.png)"
   ]
  },
  {
   "cell_type": "markdown",
   "metadata": {
    "slideshow": {
     "slide_type": "subslide"
    }
   },
   "source": [
    "# Sinusoidalny malejący wykładniczo\n",
    "\n",
    "\\begin{equation}\n",
    "f(t)=\\left\\{\n",
    "\\begin{array}{l l}\n",
    "Ae^{-\\alpha t} \\sin(\\omega_0 t) & \\text{dla $t\\geq 0$} \\\\\n",
    "0 & \\text{dla $t<0$}\n",
    "\\end{array}\n",
    "\\right. \n",
    "\\end{equation}\n",
    "\n",
    "![](images/exp_sin.png)"
   ]
  },
  {
   "cell_type": "markdown",
   "metadata": {
    "slideshow": {
     "slide_type": "subslide"
    }
   },
   "source": [
    "# Sinc\n",
    "\n",
    "\\begin{equation}\n",
    "f(t)=\\left\\{\n",
    "\\begin{array}{l l}\n",
    "\\sin(\\omega_0 t)/(\\omega_0 t) & \\text{dla $t\\neq 0$} \\\\\n",
    "1 & \\text{dla $t=0$}\n",
    "\\end{array}\n",
    "\\right. \n",
    "\\end{equation}\n",
    "\n",
    "![](images/sinc.png?1)"
   ]
  },
  {
   "cell_type": "markdown",
   "metadata": {
    "slideshow": {
     "slide_type": "slide"
    }
   },
   "source": [
    "# Gaussowski\n",
    "\n",
    "\\begin{equation}\n",
    "f(t)=e^{-\\pi t^2}\n",
    "\\end{equation}\n",
    "\n",
    "![](images/gaussian.png)"
   ]
  },
  {
   "cell_type": "markdown",
   "metadata": {
    "slideshow": {
     "slide_type": "slide"
    }
   },
   "source": [
    "# Skok jednostkowy\n",
    "\n",
    "\\begin{equation}\n",
    "f(t)=\\left\\{\n",
    "\\begin{array}{l l}\n",
    "1 & \\text{dla $t\\geq 0$} \\\\\n",
    "0 & \\text{dla $t<0$}\n",
    "\\end{array}\n",
    "\\right. \n",
    "\\end{equation}\n",
    "\n",
    "![](images/step.png)"
   ]
  },
  {
   "cell_type": "markdown",
   "metadata": {
    "slideshow": {
     "slide_type": "subslide"
    }
   },
   "source": [
    "# Wykładniczy narastający\n",
    "\n",
    "\\begin{equation}\n",
    "f(t)=\\left\\{\n",
    "\\begin{array}{l l}\n",
    "(1-e^{-\\alpha t}) & \\text{dla $t\\geq 0$} \\\\\n",
    "0 & \\text{dla $t<0$}\n",
    "\\end{array}\n",
    "\\right. \\\\\n",
    "\\alpha>0\n",
    "\\end{equation}\n",
    "\n",
    "![](images/exp_inc.png)"
   ]
  },
  {
   "cell_type": "markdown",
   "metadata": {
    "slideshow": {
     "slide_type": "slide"
    }
   },
   "source": [
    "# Znak (signum)\n",
    "\n",
    "\\begin{equation}\n",
    "f(t)=\\left\\{\n",
    "\\begin{array}{l l}\n",
    "1 & \\text{dla $t>0$} \\\\\n",
    "0 & \\text{dla $t=0$} \\\\\n",
    "-1 & \\text{dla $t<0$}\n",
    "\\end{array}\n",
    "\\right. \n",
    "\\end{equation}\n",
    "\n",
    "![](images/sign.png)"
   ]
  },
  {
   "cell_type": "markdown",
   "metadata": {
    "slideshow": {
     "slide_type": "subslide"
    }
   },
   "source": [
    "# Całka z sinc\n",
    "\n",
    "![](images/sinc_int.png)"
   ]
  },
  {
   "cell_type": "markdown",
   "metadata": {
    "slideshow": {
     "slide_type": "slide"
    }
   },
   "source": [
    "# Fala prosrokątna (PWM)\n",
    "\n",
    "![](images/pwm.png)"
   ]
  },
  {
   "cell_type": "markdown",
   "metadata": {
    "slideshow": {
     "slide_type": "subslide"
    }
   },
   "source": [
    "# Fala trójkątna\n",
    "\n",
    "![](images/pwm_tri.png)"
   ]
  },
  {
   "cell_type": "markdown",
   "metadata": {
    "slideshow": {
     "slide_type": "slide"
    }
   },
   "source": [
    "# Parametry\n",
    "\n",
    "\\begin{equation}\n",
    "\\mu_n = \\int_{-\\infty}^{\\infty} (x-c)^n f(x) dx\n",
    "\\end{equation}\n",
    "\n",
    "- momenty\n",
    "    - średnia\n",
    "    - wariancja\n",
    "    - skośność\n",
    "    - kurtoza\n",
    "    - (hiperskośność, hiperkurtoza)\n",
    "    "
   ]
  },
  {
   "cell_type": "markdown",
   "metadata": {
    "slideshow": {
     "slide_type": "subslide"
    }
   },
   "source": [
    "## Skośność \n",
    "\n",
    "![](https://upload.wikimedia.org/wikipedia/commons/f/f8/Negative_and_positive_skew_diagrams_%28English%29.svg)\n",
    "\n",
    "## Kurtoza\n",
    "\n",
    "<img src=\"https://upload.wikimedia.org/wikipedia/commons/e/e6/Standard_symmetric_pdfs.png\" style=\"width:500px\">"
   ]
  },
  {
   "cell_type": "markdown",
   "metadata": {
    "slideshow": {
     "slide_type": "slide"
    }
   },
   "source": [
    "# Parametry\n",
    "\n",
    "## Energia\n",
    "\n",
    "\\begin{equation}\n",
    "E = \\int_{-\\infty}^{\\infty} f(t) ^2 dt\n",
    "\\end{equation}\n",
    "\n",
    "## Moc\n",
    "\n",
    "\\begin{equation}\n",
    "P = \\lim_{T\\rightarrow\\infty}\\frac{E}{T}\n",
    "\\end{equation}\n",
    "\n",
    "## Skuteczna amplituda (RMS)\n",
    "\n",
    "\\begin{equation}\n",
    "RMS(T) = \\sqrt{P_T}\n",
    "\\end{equation}\n",
    "\n",
    "## decybel (dB)\n",
    "\n",
    "- Prawo Webera-Fechnera\n",
    "\n",
    "\\begin{equation}\n",
    "P_{dB} = 10 \\log_{10} \\frac{P}{P_0} = 20 \\log_{10} \\frac{A}{A_0}\n",
    "\\end{equation}\n"
   ]
  },
  {
   "cell_type": "markdown",
   "metadata": {
    "slideshow": {
     "slide_type": "slide"
    }
   },
   "source": [
    "# Operacje\n",
    "\n",
    "- przesunięcie w czasie ($\\phi$)\n",
    "- przesunięcie w amplitudzie ($\\delta$)\n",
    "- zmiana amplitudy ($A$)\n",
    "- skalowanie czasowe ($\\theta$)\n",
    "\n",
    "\\begin{equation}\n",
    "g(t)=A\\cdot f(\\theta\\cdot t - \\phi)+\\delta\n",
    "\\end{equation}"
   ]
  },
  {
   "cell_type": "markdown",
   "metadata": {
    "slideshow": {
     "slide_type": "slide"
    }
   },
   "source": [
    "# Modulacja\n",
    "\n",
    "## Sygnał nośny (carrier signal) - $y_c$\n",
    "\n",
    "![](images/carrier.png)"
   ]
  },
  {
   "cell_type": "markdown",
   "metadata": {
    "slideshow": {
     "slide_type": "subslide"
    }
   },
   "source": [
    "# Modulacja\n",
    "\n",
    "## Sygnał modulujący - $y_m$\n",
    "\n",
    "![](images/analog.png)"
   ]
  },
  {
   "cell_type": "markdown",
   "metadata": {
    "slideshow": {
     "slide_type": "subslide"
    }
   },
   "source": [
    "# Modulacja\n",
    "\n",
    "## Amplitudowa (AM)\n",
    "\n",
    "\\begin{equation}\n",
    "y(t) = (1 + M \\cdot y_m ) \\cdot y_c \\\\\n",
    "\\end{equation}\n",
    "\n",
    "- Carrier: 504 - 1600 kHz\n",
    "- Szerokość pasma: 10 kHz\n",
    "\n",
    "![](images/am.png)"
   ]
  },
  {
   "cell_type": "markdown",
   "metadata": {
    "slideshow": {
     "slide_type": "subslide"
    }
   },
   "source": [
    "# Modulacja\n",
    "\n",
    "## Częstotliwościowa (FM)\n",
    "\n",
    "\\begin{equation}\n",
    "y(t) = sin\\left(2 \\cdot \\pi \\cdot f_c \\cdot t + M \\cdot \\int_t y_m dt\\right)\n",
    "\\end{equation}\n",
    "\n",
    "- Carrier: 88-108 MHz\n",
    "- Szerokość pasma: 200 kHz\n",
    "\n",
    "![](images/fm.png?1)"
   ]
  },
  {
   "cell_type": "markdown",
   "metadata": {
    "slideshow": {
     "slide_type": "subslide"
    }
   },
   "source": [
    "# Modulacja\n",
    "\n",
    "## Fazowa (PM)\n",
    "\n",
    "\\begin{equation}\n",
    "y(t) = sin(2 \\cdot \\pi \\cdot f_c \\cdot t + M \\cdot y_m )\n",
    "\\end{equation}\n",
    "\n",
    "![](images/pm.png)"
   ]
  }
 ],
 "metadata": {
  "celltoolbar": "Slideshow",
  "kernelspec": {
   "display_name": "Python 2",
   "language": "python",
   "name": "python2"
  },
  "language_info": {
   "codemirror_mode": {
    "name": "ipython",
    "version": 2
   },
   "file_extension": ".py",
   "mimetype": "text/x-python",
   "name": "python",
   "nbconvert_exporter": "python",
   "pygments_lexer": "ipython2",
   "version": "2.7.13"
  }
 },
 "nbformat": 4,
 "nbformat_minor": 1
}
