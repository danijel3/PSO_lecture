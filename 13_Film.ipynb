{
 "cells": [
  {
   "cell_type": "markdown",
   "metadata": {
    "slideshow": {
     "slide_type": "slide"
    }
   },
   "source": [
    "# Film"
   ]
  },
  {
   "cell_type": "markdown",
   "metadata": {
    "slideshow": {
     "slide_type": "subslide"
    }
   },
   "source": [
    "## Wprowadznie\n",
    "\n",
    "- Bezwładność oka ludzkiego\n",
    "    - [Zoetrope](https://en.wikipedia.org/wiki/Zoetrope)\n",
    "- Historia\n",
    "    - [\"Magiczna latarnia\" Huygensa](https://en.wikipedia.org/wiki/Magic_lantern) (XVII w.)\n",
    "    - Bracia Lumière (XIX w.) - pierwszy film 1895 r.\n",
    "- Algorytm:\n",
    "    1. Otwórz migawkę na krótki czas $t_0$\n",
    "    2. Wyświetl/nagraj zdjęcie\n",
    "    3. Zamknij migwakę po upłynięciu czasu $t_0$\n",
    "    4. Przesuń taśmę o jedną klatkę\n",
    "    5. Powróć do punktu 1.\n"
   ]
  },
  {
   "cell_type": "markdown",
   "metadata": {
    "slideshow": {
     "slide_type": "subslide"
    }
   },
   "source": [
    "### Udźwiękowienie filmu\n",
    "\n",
    "- Poluzowanie naciągu w projektorze ([fig](https://en.wikipedia.org/wiki/Movie_projector#/media/File:Projmech.jpg))\n",
    "- Zapis dźwięku na taśmie filmowej ([fig](https://upload.wikimedia.org/wikipedia/commons/thumb/1/1d/35mm_film_audio_macro.jpg/250px-35mm_film_audio_macro.jpg))"
   ]
  },
  {
   "cell_type": "markdown",
   "metadata": {
    "slideshow": {
     "slide_type": "subslide"
    }
   },
   "source": [
    "### Próbkowanie filmu\n",
    "\n",
    "- Film analogy zdefiniowany zmiennymi $x$,$y$ oraz $t$\n",
    "- Na taśmie, $x$ i $y$ są rzeczywiste, ale $t$ jest próbkowane\n",
    "- Twierdzenie Nyquista w filmie, np. [1](https://www.youtube.com/watch?v=UkotZy3lQqo), [2](https://www.youtube.com/watch?v=VNftf5qLpiA)\n",
    "- Transformata Fouriera 3D\n",
    "- Typowe częstotliwści próbkowania:\n",
    "    - 12, 24/25 - kino \n",
    "    - 50/60 - TV, monitor\n",
    "- Składowe:\n",
    "    - YUV444, YUV422, YUV411, YUV420 [link](https://en.wikipedia.org/wiki/Chroma_subsampling#Sampling_systems_and_ratios)\n",
    "- Przykładowo YUV444:\n",
    "\n",
    "\\begin{equation}\n",
    "24 \\text{ fps} \\cdot 3 \\text{ skł.} \\cdot 1920 \\cdot 1080 \\cdot 8 \\text{ b} = 1194393600 \\text{ b/s} \\approx 1.94 \\text{ Gb/s}\n",
    "\\end{equation}\n",
    "\n",
    "- Przeplot (ang. [interlace](https://en.wikipedia.org/wiki/Interlaced_video))"
   ]
  },
  {
   "cell_type": "markdown",
   "metadata": {
    "slideshow": {
     "slide_type": "subslide"
    }
   },
   "source": [
    "### MPEG\n",
    "\n",
    "- Kompresja pojedynczych klatek: MJPEG\n",
    "- Zapis różnicowy\n",
    "    - makrobloki (4 bloki 8x8)\n",
    "    - wektory przesunieć (x,y) i obrót (r)\n",
    "- Rodzaje klatek:\n",
    "    - I (internal), P (progressive), B (bi-predictive)\n",
    "- Przykład kodowania: IPBBBBBBIPBBBBBBIPBBBBBB\n",
    "- 1080p można przsyłać używając zaledwie 9.5 Mb/s\n",
    "- Utrata klatki [link](https://www.researchgate.net/publication/224393200_Not_All_Packets_Are_Equal_Part_2_The_Impact_of_Network_Packet_Loss_on_Video_Quality)"
   ]
  }
 ],
 "metadata": {
  "celltoolbar": "Slideshow",
  "kernelspec": {
   "display_name": "Python 3",
   "language": "python",
   "name": "python3"
  },
  "language_info": {
   "codemirror_mode": {
    "name": "ipython",
    "version": 3
   },
   "file_extension": ".py",
   "mimetype": "text/x-python",
   "name": "python",
   "nbconvert_exporter": "python",
   "pygments_lexer": "ipython3",
   "version": "3.6.2"
  }
 },
 "nbformat": 4,
 "nbformat_minor": 2
}
