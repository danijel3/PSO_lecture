{
 "cells": [
  {
   "cell_type": "markdown",
   "metadata": {
    "slideshow": {
     "slide_type": "slide"
    }
   },
   "source": [
    "# Filtry cyfrowe\n",
    "\n",
    "## Projektowanie i cechy"
   ]
  },
  {
   "cell_type": "markdown",
   "metadata": {
    "slideshow": {
     "slide_type": "slide"
    }
   },
   "source": [
    "# Transformata Laplace'a\n",
    "\n",
    "\\begin{equation}\n",
    "F(s)=\\int_{-\\infty}^{\\infty} f(t)e^{-st}dt\n",
    "\\end{equation}\n",
    "\n",
    "## Transformata Fouriera\n",
    "\n",
    "\\begin{equation}\n",
    "\\hat{f}(\\omega)=\\int_{-\\infty}^{\\infty} f(t)e^{-i\\omega t}dt\n",
    "\\end{equation}\n",
    "\n",
    "- Czyli:\n",
    "\n",
    "\\begin{equation}\n",
    "s = i\\omega\n",
    "\\end{equation}\n",
    "\n",
    "- Transformata Laplace'a służy do analizy sygnałów dla których $\\hat{f}(t)$ nie istnieje"
   ]
  },
  {
   "cell_type": "markdown",
   "metadata": {
    "slideshow": {
     "slide_type": "subslide"
    }
   },
   "source": [
    "## Transformata Z\n",
    "\n",
    "- Dyskretna wersja transformaty Laplace'a:\n",
    "\n",
    "\\begin{equation}\n",
    "X(z)=\\sum_{n=-\\infty}^{\\infty}x[n]z^{-n}\n",
    "\\end{equation}\n",
    "\n",
    "- Porównując do DFT:\n",
    "\n",
    "\\begin{equation}\n",
    "X(\\omega)=\\sum_{n=-\\infty}^{\\infty}x[n]e^{-i\\omega n}\n",
    "\\end{equation}\n",
    "\n",
    "- O ile $\\omega$ to rzeczywista częstotliwość sygnału, $z$ to liczba zespolona\n",
    "\n",
    "- Mówimy o płaściźnie zespolonej Z (ang. *Z plane*) gdzie wartość $z=e^i\\omega$ to okrąg reprezentujący transformatę Fouriera\n",
    "\n",
    "- $X(\\omega)$ istnieje jeśli $\\sum \\left|x[n]\\right| < \\infty$\n",
    "- $X(z)$ można policzyć dla wielu innych sygnałów"
   ]
  },
  {
   "cell_type": "markdown",
   "metadata": {
    "slideshow": {
     "slide_type": "subslide"
    }
   },
   "source": [
    "## Obszar zbieżności\n",
    "### (ang. region-of-convergence - ROC)\n",
    "\n",
    "- $X(z)$ jest zbieżne w obszarze punktów, dla których:\n",
    "\n",
    "\\begin{equation}\n",
    "z=\\left|\\sum_{n=-\\infty}^{\\infty}x[n]z^{-n}\\right| < \\infty\n",
    "\\end{equation}\n",
    "\n",
    "- W zasadzie mamy do czynienia z następującymy ROC:\n",
    "\n",
    "![](images/roc_types.png?1)\n",
    "\n",
    "- System jest stabilny jeśli okrąg jednostkowy (ang. *unit circle*) należy do ROC"
   ]
  },
  {
   "cell_type": "markdown",
   "metadata": {
    "slideshow": {
     "slide_type": "subslide"
    }
   },
   "source": [
    "## Zera i bieguny\n",
    "\n",
    "- Szególnie nas interesują miejsca w płaściźnie Z w których $|z|=0$ oraz $|z|=\\infty$\n",
    "\n",
    "- Zera zaznaczamy kółkami, a bieguny krzyżykami, np:\n",
    "\n",
    "![](images/polezero.png)\n"
   ]
  },
  {
   "cell_type": "markdown",
   "metadata": {
    "slideshow": {
     "slide_type": "subslide"
    }
   },
   "source": [
    "## Zasady\n",
    "\n",
    "- ROC to koło albo pierścień ze środkiem w $(0+0i)$\n",
    "\n",
    "- ROC nigdy nie zawiera biegunów!\n",
    "\n",
    "- Dla skończonego $x[n]$, ROC to cała przestrzeń $Z$ z możliwym wyjątkiem dla $z=0$ lub $z=\\infty$\n",
    "\n",
    "![](images/roc_types2.png)"
   ]
  },
  {
   "cell_type": "markdown",
   "metadata": {
    "slideshow": {
     "slide_type": "subslide"
    }
   },
   "source": [
    "## Transmitancja\n",
    "\n",
    "\\begin{equation}\n",
    "y[n]=x[n]*h[n]\n",
    "\\end{equation}\n",
    "\n",
    "\\begin{equation}\n",
    "Y(z) = H(z)X(z)\n",
    "\\end{equation}\n",
    "\n",
    "\\begin{equation}\n",
    "H(z)=\\frac{Y(z)}{X(z)}\n",
    "\\end{equation}\n",
    "\n",
    "\\begin{equation}\n",
    "\\left|Y(z)\\right| = \\left|H(z)\\right| \\cdot \\left|X(z)\\right|\n",
    "\\end{equation}\n",
    "\n",
    "\\begin{equation}\n",
    "\\angle Y(z) = \\angle H(z) + \\angle X(z)\n",
    "\\end{equation}\n"
   ]
  },
  {
   "cell_type": "markdown",
   "metadata": {
    "slideshow": {
     "slide_type": "slide"
    }
   },
   "source": [
    "# Rodzaje filtrów\n",
    "\n",
    "![](images/filter_types.png)"
   ]
  },
  {
   "cell_type": "markdown",
   "metadata": {},
   "source": [
    "## Zagadka?\n",
    "\n",
    "![](images/pole_zero_filters.jpg)"
   ]
  },
  {
   "cell_type": "markdown",
   "metadata": {
    "slideshow": {
     "slide_type": "subslide"
    }
   },
   "source": [
    "- Zazwyczaj projektujemy dolno-przepustowe filtry\n",
    "\n",
    "- Górno-przepustowy można zaprojektować odejmując dolno-przepustowy od 1:\n",
    "    - $H_{hi}(z)=1-H_{lo}(z)=H_{lo}(e^{j\\omega-\\pi})$\n",
    "    - $h_{hi}[n] = (-1)^n h_{lo}[n]$\n",
    "    \n",
    "- Pasmowo-zaporowy to połączenie górno- i dolno-przepustowego:\n",
    "    - $H_{bs} = H_{lo} + H_{hi}$\n",
    "    - $h_{bs} = h_{lo} + h_{hi}$\n",
    "    \n",
    "- Pasmowo-przepustowy to iloczyon górno- i dolno-prezpustowego:\n",
    "    - $H_{bs} = H_{lo} \\cdot H_{hi}$\n",
    "    - $h_{bs} = h_{lo} * h_{hi}$"
   ]
  },
  {
   "cell_type": "markdown",
   "metadata": {
    "slideshow": {
     "slide_type": "subslide"
    }
   },
   "source": [
    "## Ograniczenia w projektowaniu filtrów\n",
    "\n",
    "- Odpowiedź częstotliowściowa\n",
    "- Rodzaj filtru: SOI (FIR), NOI (IIR)\n",
    "- Długość filtru\n",
    "- Liniowa faza\n",
    "- Przyczynowość\n",
    "- Stabilny\n",
    "- Ograniczenia:\n",
    "![](images/filter_design.png)\n",
    "\n"
   ]
  },
  {
   "cell_type": "markdown",
   "metadata": {
    "slideshow": {
     "slide_type": "subslide"
    }
   },
   "source": [
    "## Czemu nie sinc?\n",
    "\n",
    "- Nieprzyczynowy\n",
    "- Nieskończony\n",
    "\n",
    "![](images/sinc.png)"
   ]
  },
  {
   "cell_type": "markdown",
   "metadata": {
    "slideshow": {
     "slide_type": "subslide"
    }
   },
   "source": [
    "## Widmo amplitudowe vs moduł widma\n",
    "\n",
    "![](images/amp_mag.png?1)"
   ]
  },
  {
   "cell_type": "markdown",
   "metadata": {
    "slideshow": {
     "slide_type": "subslide"
    }
   },
   "source": [
    "## 4 rodzaje filtrów SOI (FIR) z liniową fazą\n",
    "\n",
    "![](images/linphase_fir.png?1)"
   ]
  },
  {
   "cell_type": "markdown",
   "metadata": {
    "slideshow": {
     "slide_type": "subslide"
    }
   },
   "source": [
    "## Metody projektowania filtrów SOI (FIR)\n",
    "\n",
    "### Metoda próbkowania częstotliwości\n",
    "\n",
    "1. Wybieramy N \n",
    "2. Projektujemy filtr w dziedzinie częstotliwości\n",
    "3. Próbkujemy odpowiedź częstotliwościową N punktami\n",
    "4. Wykonujemy IDFT\n",
    "\n",
    "![](images/sample_fir.png?1)\n",
    "    "
   ]
  },
  {
   "cell_type": "markdown",
   "metadata": {
    "slideshow": {
     "slide_type": "subslide"
    }
   },
   "source": [
    "### Metoda minimalizacji błędu średniokwadratowego\n",
    "\n",
    "1. Wybieramy N\n",
    "2. Projektujemy filtr w dziedzinie częstotliwości\n",
    "3. Próbkukjemy odpowiedź częstotliwościową M > N pukntami\n",
    "4. Wykonujemy IDFT\n",
    "5. Wybieramy N środkowych (wokól maksimum) wartości\n",
    "\n",
    "![](images/leastsquares_fir.png)"
   ]
  },
  {
   "cell_type": "markdown",
   "metadata": {
    "slideshow": {
     "slide_type": "subslide"
    }
   },
   "source": [
    "### Metoda \"okienkowa\"\n",
    "\n",
    "- Działa podobnie do poprzednich, ale współczynniki filtru są najpierw mnożone przez wybraną funkcję okienkową\n",
    "\n",
    "![](images/window_fir.png)"
   ]
  },
  {
   "cell_type": "markdown",
   "metadata": {
    "slideshow": {
     "slide_type": "subslide"
    }
   },
   "source": [
    "## Zalety filtrów SOI (FIR)\n",
    "\n",
    "- Mogą mieć liniową fazę\n",
    "- Wydajna implementacja\n",
    "- Łatwe projektowanie\n",
    "- Zawsze stabilne\n",
    "\n",
    "## Wady\n",
    "\n",
    "- Mogą wymagać dużo N\n",
    "- Przez co mogą wymagać dużo operacji/pamięci do implementacji\n",
    "- Przez co mogą wprowadzić duże opóźnienie sygnału"
   ]
  },
  {
   "cell_type": "markdown",
   "metadata": {
    "slideshow": {
     "slide_type": "slide"
    }
   },
   "source": [
    "## Filtry NOI (IIR)\n",
    "\n",
    "### Zalety\n",
    "\n",
    "- Mogą realizować zadania zawierające o wiele bardziej skomplikowane wymagania\n",
    "- Wymagają z reguły mniejszego N\n",
    "\n",
    "### Wady\n",
    "\n",
    "- Nie mają liniowej fazy\n",
    "- Mogą być niestabilne\n",
    "- Są nieco trudniejsze w projektowaniu i implementacji"
   ]
  },
  {
   "cell_type": "markdown",
   "metadata": {
    "slideshow": {
     "slide_type": "subslide"
    }
   },
   "source": [
    "## Opis filtru NOI (IIR)\n",
    "\n",
    "\\begin{equation}\n",
    "y[n]=\\sum_{m=0}^{M} b[m]x[n-m]-\\sum_{k=1}^{N}a[k]y[n-k]\n",
    "\\end{equation}\n",
    "\n",
    "![](images/iir_block.png)"
   ]
  },
  {
   "cell_type": "markdown",
   "metadata": {
    "slideshow": {
     "slide_type": "subslide"
    }
   },
   "source": [
    "## Transmitancja filtru NOI (IIR)\n",
    "\n",
    "\\begin{equation}\n",
    "H(z)=\\sum_{n=0}^{\\infty}h[n]z^{-n}\n",
    "\\end{equation}\n",
    "\n",
    "\\begin{equation}\n",
    "H(z)=\\frac{\\sum_{n=0}^{M}b[n]z^{-n}}{\\sum_{n=0}^{N}a[n]z^{-n}}\n",
    "\\end{equation}\n",
    "\n",
    "\\begin{equation}\n",
    "H(z)=\\frac{B(z)}{A(z)}\n",
    "\\end{equation}\n",
    "\n",
    "- Pierwiastki $B(z)$ odpowiadają zerom\n",
    "- Pierwiastki $A(z)$ odpowiadają biegunom\n",
    "- Dla przyczynowego filtru biguny muszą być wewnątrz okręgu jednostkowegu, czyli $|r|<1$\n"
   ]
  },
  {
   "cell_type": "markdown",
   "metadata": {
    "slideshow": {
     "slide_type": "subslide"
    }
   },
   "source": [
    "## Parametry optymalizacyjne filtrów NOI (IIR)\n",
    "\n",
    "- Długość filtru N\n",
    "- F_p,F_s krawędzie pasma przepustowego/zaporowego\n",
    "- $\\delta_1$ odchylenie pasma przepustowego (od 1)\n",
    "- $\\delta_2$ odchylenie pasma zaporowego (od 0)\n",
    "\n",
    "\n",
    "### Minimalizacja parametru N\n",
    "\n",
    "\\begin{equation}\n",
    "N \\approx \\frac{-20\\log_{10}\\sqrt{\\delta_1 \\delta_2}-13}{14.6(F_s-F_p)}+1\n",
    "\\end{equation}"
   ]
  },
  {
   "cell_type": "markdown",
   "metadata": {
    "slideshow": {
     "slide_type": "subslide"
    }
   },
   "source": [
    "## Przykładowe algorytmy\n",
    "\n",
    "- W praktyce projektowanie filtrów NOI (IIR) polega na zaprojektowaniu filtru analogowego i przeniesieniu go do dziedziny cyfrowej (Laplace $\\rightarrow$ transformata Z)\n",
    "\n",
    "![](images/iir_design.png)"
   ]
  }
 ],
 "metadata": {
  "celltoolbar": "Slideshow",
  "kernelspec": {
   "display_name": "Python 3",
   "language": "python",
   "name": "python3"
  },
  "language_info": {
   "codemirror_mode": {
    "name": "ipython",
    "version": 3
   },
   "file_extension": ".py",
   "mimetype": "text/x-python",
   "name": "python",
   "nbconvert_exporter": "python",
   "pygments_lexer": "ipython3",
   "version": "3.6.2"
  }
 },
 "nbformat": 4,
 "nbformat_minor": 2
}
