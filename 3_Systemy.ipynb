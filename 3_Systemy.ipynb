{
 "cells": [
  {
   "cell_type": "markdown",
   "metadata": {
    "slideshow": {
     "slide_type": "slide"
    }
   },
   "source": [
    "# Systemy LTI"
   ]
  },
  {
   "cell_type": "markdown",
   "metadata": {
    "slideshow": {
     "slide_type": "subslide"
    }
   },
   "source": [
    "![](images/uklad.svg)\n",
    "\n",
    "- Jak analizować układ?\n",
    "  - Co on robi? Jak się zachowa na różnych rodzajach danych wejściowych?\n",
    "- Jak zaprojektować układ?\n",
    "  - Jak osiągnąć konkretną funkcję? Filtrowanie? Sterownie?"
   ]
  },
  {
   "cell_type": "markdown",
   "metadata": {
    "slideshow": {
     "slide_type": "slide"
    }
   },
   "source": [
    "## Rodzaje systemów (układów)\n",
    "\n",
    "- Ciągłe i dyskretne\n",
    "- Liniowe i nieliniowe\n",
    "- Zależne i niezależne czasowo \n",
    "    - ang. time invariant vs. time varying\n",
    "- Przyczynowe i nieprzyczynowe\n",
    "    - ang. causal vs. non-causal\n",
    "- Stabilne i niestabilne\n"
   ]
  },
  {
   "cell_type": "markdown",
   "metadata": {
    "slideshow": {
     "slide_type": "slide"
    }
   },
   "source": [
    "## Liniowość\n",
    "\n",
    "- Skalowanie (jednorodność) - skalowanie sygnału wejściowego skaluje wyjściowy o tą samą wartość\n",
    "\n",
    "\\begin{equation}\n",
    "H(k\\cdot f(t)) = k\\cdot H(f(t))\n",
    "\\end{equation}\n",
    "\n",
    "- Superpozycja (addytywność) - dodanie dwóch sygnałów przed konwersją jest równoważne dodaniem ich po konwersji\n",
    "\n",
    "\\begin{equation}\n",
    "H(f_1(t)+f_2(t)) = H(f_1(t))+H(f_2(t))\n",
    "\\end{equation}\n",
    "\n",
    "- Alternatywnie połączenie obydwu definicji\n",
    "\n",
    "\\begin{equation}\n",
    "H(k_1\\cdot f_1(t)+k_2\\cdot f_2(t)) = k_1\\cdot H(f_1(t))+k_2\\cdot H(f_2(t))\n",
    "\\end{equation}\n",
    "\n",
    "![](images/linearity.png)"
   ]
  },
  {
   "cell_type": "markdown",
   "metadata": {
    "slideshow": {
     "slide_type": "subslide"
    }
   },
   "source": [
    "### Przykład\n",
    "\n",
    "- Dla sygnału:\n",
    "\n",
    "\\begin{equation}\n",
    "H[f(x)]=f(2x)\n",
    "\\end{equation}\n",
    "\n",
    "- (I) Niech $r(x)=k_1\\cdot f_1(x)+k_2\\cdot f_2(x)$:\n",
    "\n",
    "\\begin{equation}\n",
    "H[r(x)]=r(2x)=k_1\\cdot f_1(2x)+k_2\\cdot f_2(2x)\n",
    "\\end{equation}\n",
    "\n",
    "- (II) Oraz:\n",
    "\n",
    "\\begin{equation}\n",
    "k_1\\cdot H[f_1(x)] + k_2\\cdot H[f_2(x)] = k_1\\cdot f_1(2x) + k_2\\cdot f_2(2x)\n",
    "\\end{equation}\n",
    "\n",
    "- Ponieważ (I) i (II) są równe, system jest liniowy!\n"
   ]
  },
  {
   "cell_type": "markdown",
   "metadata": {
    "slideshow": {
     "slide_type": "subslide"
    }
   },
   "source": [
    "### Przykład 2\n",
    "\n",
    "- Dla sygnału:\n",
    "\n",
    "\\begin{equation}\n",
    "H[f(x)]=(f(x))^2\n",
    "\\end{equation}\n",
    "\n",
    "- (I) Niech $r(x)=k_1\\cdot f_1(x)+k_2\\cdot f_2(x)$:\n",
    "\n",
    "\\begin{equation}\n",
    "H[r(x)]=(r(x))^2=(k_1\\cdot f_1(x)+k_2\\cdot f_2(x))^2 = \\\\\n",
    "= (k_1)^2\\cdot (f_1(x))^2 + 2\\cdot k_1 \\cdot f_1(x)\\cdot k_2 \\cdot f_2(x) + (k_2)^2\\cdot (f_2(x))^2\n",
    "\\end{equation}\n",
    "\n",
    "- (II) Oraz:\n",
    "\n",
    "\\begin{equation}\n",
    "k_1\\cdot H[f_1(x)] + k_2\\cdot H[f_2(x)] = k_1\\cdot (f_1(2x))^2 + k_2\\cdot (f_2(2x))^2\n",
    "\\end{equation}\n",
    "\n",
    "- Tym razem (I) i (II) się różnią, więc system nie może być liniowy!\n"
   ]
  },
  {
   "cell_type": "markdown",
   "metadata": {
    "slideshow": {
     "slide_type": "slide"
    }
   },
   "source": [
    "# Niezależność czasowa\n",
    "\n",
    "- Jeśli zdefiniujemy $H(f(t))$ jako jakąś funkcję $s(t)$, sprawdzamy czy:\n",
    "\n",
    "\\begin{equation}\n",
    "H(f(t+t_0)) = s(t+t_0)\n",
    "\\end{equation}\n",
    "\n",
    "- Inaczej mówiąc, jeśli przesuniemy funkcję wejściową o $t_0$, funkcja wyjściowa (po przetworzeniu przez układ) zostanie przesunięta o tą samą wartość"
   ]
  },
  {
   "cell_type": "markdown",
   "metadata": {
    "slideshow": {
     "slide_type": "subslide"
    }
   },
   "source": [
    "### Przykład\n",
    "\n",
    "- Dla sygnału:\n",
    "\n",
    "\\begin{equation}\n",
    "H[f(x)]=f(2x)\n",
    "\\end{equation}\n",
    "\n",
    "- (I) Niech $s(x)=H[f(x)]=f(2x)$:\n",
    "\n",
    "\\begin{equation}\n",
    "s(x+x_0)=f(2(x+x_0))=f(2x+2x_0)\n",
    "\\end{equation}\n",
    "\n",
    "- (II) Niech $r(x)=f(x+x_0)$:\n",
    "\n",
    "\\begin{equation}\n",
    "H[f(x+x0)]=H[r(x)]=r(2x)=f(2x+x_0)\n",
    "\\end{equation}\n",
    "\n",
    "Uwaga: $r(2x)=f(2x+x_0)$ ponieważ $x_0$ jest stałą, a funkcja podwaja tylko argument $x$!\n",
    "\n",
    "- Ponieważ (I) i (II) się różnią, system jest zależny czasowo!\n"
   ]
  },
  {
   "cell_type": "markdown",
   "metadata": {
    "slideshow": {
     "slide_type": "subslide"
    }
   },
   "source": [
    "### Przykład 2\n",
    "\n",
    "- Dla sygnału:\n",
    "\n",
    "\\begin{equation}\n",
    "H[f(x)]=(f(x))^2\n",
    "\\end{equation}\n",
    "\n",
    "- (I) Niech $s(x)=H[f(x)]=(f(x))^2$:\n",
    "\n",
    "\\begin{equation}\n",
    "s(x+x_0)=(f(x+x_0))^2\n",
    "\\end{equation}\n",
    "\n",
    "- (II) Niech $r(x)=f(x+x_0)$:\n",
    "\n",
    "\\begin{equation}\n",
    "H[f(x+x_0)]=H[r(x)]=(r(x))^2=(f(x+x_0))^2\n",
    "\\end{equation}\n",
    "\n",
    "Uwaga: tym razem operacja kwadratu jest wykonywana na końcu i wpływa zarówno na zmienne i stałe.\n",
    "\n",
    "- Ponieważ (I) i (II) są takie same, system jest czasowo niezależny!\n"
   ]
  },
  {
   "cell_type": "markdown",
   "metadata": {
    "slideshow": {
     "slide_type": "slide"
    }
   },
   "source": [
    "## Przyczynowość\n",
    "\n",
    "- Przyczynowy układ - wartości na wyjściu zależne tylko i wyłącznie od przeszłych wartości na wejściu\n",
    "- Anty-przyczynowy - zależny tylko od przyszłych wartości\n",
    "- Nieprzyczynowy - wartości na wyjściu zależne zarówno od przeszłych jak i przyszłych wartości"
   ]
  },
  {
   "cell_type": "markdown",
   "metadata": {
    "slideshow": {
     "slide_type": "subslide"
    }
   },
   "source": [
    "## Stabilność\n",
    "\n",
    "- BIBO - bounded input - bounded output\n",
    "\n",
    "- Jeśli mamy $|f(t)|<\\infty$ stabilny system $H$ również spełnia $|H(f(t))|<\\infty$\n",
    "\n",
    "- Norma $L_1$ układu $||H||_1 < \\infty$"
   ]
  },
  {
   "cell_type": "markdown",
   "metadata": {
    "slideshow": {
     "slide_type": "slide"
    }
   },
   "source": [
    "# Splot\n",
    "\n",
    "\\begin{equation}\n",
    "(f * g)(t) = \\int_{-\\infty}^{\\infty} f(\\tau)g(t-\\tau) d\\tau\n",
    "\\end{equation}\n",
    "\n",
    "- Należy policzyć całkę po $\\tau$ dla wszystkich wartości $t$\n",
    "- Kroki:\n",
    "  1. odwracamy funkcję $g$ względem osi $y$\n",
    "  2. wykonujemy iloczyn funkcji $f\\cdot g$\n",
    "  3. liczymy powierzchnię pola pod wynikiem iloczynu\n",
    "  4. powtarzamy kroki 1-3 dla wszystkich przesunięć $t$ funkcji $g$"
   ]
  },
  {
   "cell_type": "markdown",
   "metadata": {
    "slideshow": {
     "slide_type": "subslide"
    }
   },
   "source": [
    "## Opis działania\n",
    "\n",
    "<img src=\"images/convolution.svg\" style=\"width: 350px\">"
   ]
  },
  {
   "cell_type": "markdown",
   "metadata": {
    "slideshow": {
     "slide_type": "slide"
    }
   },
   "source": [
    "## Przypomnienie definicji impulsu prostokątnego\n",
    "\n",
    "\\begin{equation}\n",
    "x(t)=\\Pi(t)=\\left\\{\n",
    "\\begin{array}{l l}\n",
    " 0 & \\text{dla $|t|>\\frac{1}{2}$} \\\\\n",
    " \\frac{1}{2} & \\text{dla $|t|=\\frac{1}{2}$} \\\\\n",
    " 1 & \\text{dla $|t|<\\frac{1}{2}$}\n",
    "\\end{array}\n",
    "\\right.\n",
    "\\end{equation}\n",
    "\n",
    "![](images/square_pulse.png)"
   ]
  },
  {
   "cell_type": "markdown",
   "metadata": {
    "slideshow": {
     "slide_type": "subslide"
    }
   },
   "source": [
    "## Przykład splotu dla prostąkontnych impulsów\n",
    "\n",
    "- Dla $f(t)=\\Pi(t)$ oraz $g(t)=\\Pi(t)$:\n",
    "\n",
    "\\begin{equation}\n",
    "(f*g)=\\Pi(t)*\\Pi(t)\n",
    "=\\int_{-\\infty}^{\\infty}f(t-\\tau)g(\\tau)d\\tau \n",
    "= \\int_{-\\infty}^{\\infty}\\Pi(t-\\tau)\\Pi(\\tau)d\\tau\n",
    "\\end{equation}\n",
    "\n",
    "- Dla $t<=-\\frac{1}{2}$ oraz $t>=\\frac{1}{2}$: $(f*g)=0$\n",
    "\n",
    "- Dla $-\\frac{1}{2}<t<=0$:\n",
    "\n",
    "\\begin{equation}\n",
    "\\int_{-\\infty}^{\\infty}\\Pi(t-\\tau)\\Pi(\\tau)d\\tau = \\int_{-0.5}^{t+0.5} 1 d\\tau =1 \\rvert_{-0.5}^{t+0.5}=t+0.5-(-0.5)=t+1\n",
    "\\end{equation}\n",
    "\n",
    "- Dla $0<t<\\frac{1}{2}$:\n",
    "\n",
    "\\begin{equation}\n",
    "\\int_{-infty}^{\\infty}\\Pi(t-\\tau)\\Pi(\\tau)d\\tau = \\int_{t-0.5}^{0.5} 1 d\\tau =1 \\rvert_{t-0.5}^{0.5}=0.5-(t-0.5)=1-t\n",
    "\\end{equation}"
   ]
  },
  {
   "cell_type": "markdown",
   "metadata": {
    "slideshow": {
     "slide_type": "subslide"
    }
   },
   "source": [
    "## Wynik\n",
    "\n",
    "\\begin{equation}\n",
    "\\Pi(t)*\\Pi(t)=\\Lambda(t)=\\left\\{\n",
    "\\begin{array}{l l}\n",
    " 0 & \\text{dla $|t|>\\frac{1}{2}$} \\\\\n",
    " t+1 & \\text{dla $-\\frac{1}{2}<t<=0$}\\\\\n",
    " 1-t & \\text{dla $0<t<\\frac{1}{2}$}\n",
    "\\end{array}\n",
    "\\right.\n",
    "\\end{equation}\n",
    "\n",
    "![](images/triangle_pulse.png?1)"
   ]
  },
  {
   "cell_type": "markdown",
   "metadata": {
    "slideshow": {
     "slide_type": "slide"
    }
   },
   "source": [
    "## Przykłady\n",
    "\n",
    "![](images/conv_box.gif)\n",
    "\n",
    "![](images/conv_exp_decay.gif)\n",
    "\n",
    "- Co się stanie jeśli jedna z funkcji do delta Dirac'a?"
   ]
  },
  {
   "cell_type": "markdown",
   "metadata": {
    "slideshow": {
     "slide_type": "slide"
    }
   },
   "source": [
    "## Właściwości\n",
    "\n",
    "- przemienność: $f*g=g*f$\n",
    "- łączność: $f*(g*h) = (f*g)*h$\n",
    "- rozdzielność: $f*(g+h)=(f*g)+(f*h)$\n",
    "- rozdzielność ze stałą: $\\alpha(f*g)=\\alpha f*g$\n",
    "- pochodna: $(f*g)'=f'*g=f*g'$\n",
    "- niezależność na przesunięcie: $\\tau_x(f*g)=\\tau_xf*g=f*\\tau_xg$\n"
   ]
  },
  {
   "cell_type": "markdown",
   "metadata": {
    "slideshow": {
     "slide_type": "slide"
    }
   },
   "source": [
    "## Splot dyskretny\n",
    "\n",
    "\\begin{equation}\n",
    "(f*g)[n]=\\sum_{m=-\\infty}^{\\infty} f[m]g[n-m] = \\sum_{m=-\\infty}^{\\infty} f[n-m]g[m]\n",
    "\\end{equation}\n",
    "\n",
    "- Jeśli długość sygnału $f$ to $N$, a sygnału $g$ to $M$, wynik splotu będzie miał długość $N+M-1$\n",
    "- W sygnałach dyskretnych, odpowiednikiem delty Dirac'a $\\delta(t)$ jest delta Kroneckera $\\delta[n]$:\n",
    "\n",
    "\\begin{equation}\n",
    "\\delta[n]=\\left\\{\n",
    "\\begin{array}{l l}\n",
    "1 & \\text{dla $n=0$} \\\\\n",
    "0 & \\text{dla $n\\neq0$}\n",
    "\\end{array}\n",
    "\\right. \n",
    "\\end{equation}\n",
    "\n",
    "- Odpowiedź impulsowa sygnału dyskretnego jest liczona poprzez splot z deltą Kroneckera"
   ]
  },
  {
   "cell_type": "markdown",
   "metadata": {
    "slideshow": {
     "slide_type": "subslide"
    }
   },
   "source": [
    "## Przykład liczenia dyskretnego splotu\n",
    "\n",
    "- Dla sygnałów:\n",
    "\\begin{equation}\n",
    "f=\\{1,2,3\\}\\text{, oraz }g=\\{4,5\\} \\\\\n",
    "\\end{equation}\n",
    "\n",
    "- Policz splot:\n",
    "\\begin{equation}\n",
    "f*g= \\{\\ldots , 0 , (4\\cdot1) , (4\\cdot2 + 5\\cdot1) , (4\\cdot3+5\\cdot2) , (5\\cdot3) , 0 , \\ldots \\}=\\\\\n",
    "=\\{\\ldots,0,4,13,22,15,0,\\ldots\\}\n",
    "\\end{equation}\n",
    "\n",
    "- Jeśli pominiemy zera, długość sygnału $f$ jest $3$, $g$ jest $2$, a wynik splotu ma długość $4$"
   ]
  },
  {
   "cell_type": "markdown",
   "metadata": {
    "slideshow": {
     "slide_type": "slide"
    }
   },
   "source": [
    "## Skończona odpowiedź impulsowa (SOI)\n",
    "\n",
    "- ang. Finite Impulse Response (FIR)\n",
    "\n",
    "![](images/FIR.svg)\n",
    "\n",
    "- zawsze stabilne!"
   ]
  },
  {
   "cell_type": "markdown",
   "metadata": {
    "slideshow": {
     "slide_type": "subslide"
    }
   },
   "source": [
    "## Nieskończona odpowiedź impulsowa (NOI)\n",
    "\n",
    "- ang. Infinite Impulse Response (IIR)\n",
    "\n",
    "![](images/IIR.svg)\n",
    "\n",
    "- lepszej jakości, ale mogą mieć problem ze stabilnością"
   ]
  }
 ],
 "metadata": {
  "celltoolbar": "Slideshow",
  "kernelspec": {
   "display_name": "Python 2",
   "language": "python",
   "name": "python2"
  },
  "language_info": {
   "codemirror_mode": {
    "name": "ipython",
    "version": 2
   },
   "file_extension": ".py",
   "mimetype": "text/x-python",
   "name": "python",
   "nbconvert_exporter": "python",
   "pygments_lexer": "ipython2",
   "version": "2.7.13"
  }
 },
 "nbformat": 4,
 "nbformat_minor": 1
}
