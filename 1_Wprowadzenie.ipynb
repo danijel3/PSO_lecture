{
 "cells": [
  {
   "cell_type": "markdown",
   "metadata": {
    "slideshow": {
     "slide_type": "slide"
    }
   },
   "source": [
    "# Przetwarzanie sygnałów i obrazów\n",
    "\n",
    "## Danijel Koržinek\n",
    "### danijel@pja.edu.pl"
   ]
  },
  {
   "cell_type": "markdown",
   "metadata": {
    "slideshow": {
     "slide_type": "subslide"
    }
   },
   "source": [
    "# Literatura\n",
    "\n",
    "- **Zieliński T.** *Cyfrowe przetwarzanie sygnałów* WKiŁ. 2005-7.\n",
    "- **Lyons R.G.** *Wprowadzenie do cyfrowego przetwarza-nia sygnałów* WKiŁ. 1999. \n",
    "- **Szabatin J.** *Podstawy teorii sygnałów* WKiŁ. 1982.\n",
    "- **Szabatin J.** *Przetwarzanie sygnałów* (online) 2003.\n",
    "\n",
    "Ćwiczenia:\n",
    "- **José Unpingco** *Python for Signal Processing* Springer 2013.\n",
    "- **Allen B. Downey** *Think DSP: Digital Signal Processing in Python*, O'Reily, 2016."
   ]
  },
  {
   "cell_type": "markdown",
   "metadata": {
    "slideshow": {
     "slide_type": "subslide"
    }
   },
   "source": [
    "# Warunki zaliczeń\n",
    "\n",
    "## Ćwiczenia\n",
    "\n",
    "- Każde ćwiczenie jest oceniane od 2-5\n",
    "- Ocena końcowa to średnia wszystkich ćwiczeń\n",
    "- Nieoddane lub niezaliczone ćwiczenie to ocena 0\n",
    "- Ćwiczenia oddajemy najpóźniej na następnej lekcji\n",
    "- W uzasadnionych przypadkach można poprosić o przedłużenie terminu oddania\n",
    "- Dozwolone maksymalne 2 nieobecności na ćwiczeniach bez uzasadnienia (1 na stud. zaocznych)\n",
    "\n",
    "## Egzamin\n",
    "\n",
    "- Egzamin dotyczy materiału z wykładów\n",
    "- Pytania będą dotyczyły zarówno definicji pojęć, jak i rozwiązywaia prostych zadań"
   ]
  },
  {
   "cell_type": "markdown",
   "metadata": {
    "slideshow": {
     "slide_type": "slide"
    }
   },
   "source": [
    "# Wprowadzenie\n",
    "\n",
    "- Sygnał to ogólnie *wszelki umowny znak o treści informacyjnej*\n",
    "  - łac. *signum* $\\rightarrow$ znak\n",
    "  - czas. *sygnalizować*\n",
    "\n",
    "<img src=\"https://upload.wikimedia.org/wikipedia/commons/9/9a/US_Navy_051129-N-0685C-007_Quartermaster_Seaman_Ryan_Ruona_signals_with_semaphore_flags_during_a_replenishment_at_sea.jpg\" style=\"width:320px\">\n",
    "\n",
    "- Dla nas to przede wszystkim *przebieg zmiennośći pewnego zjawiska* (zwykle w czasie)\n",
    "- Używamy do:\n",
    "  - badania zjawisk fizycznych i systemów\n",
    "  - sterowania systemami\n",
    "  - przekazywania informacji"
   ]
  },
  {
   "cell_type": "markdown",
   "metadata": {
    "slideshow": {
     "slide_type": "subslide"
    }
   },
   "source": [
    "# Dyskusja\n",
    "\n",
    "Podaj przykłady sygnałów występujących w świecie?\n",
    "\n",
    "- naturalne?\n",
    "- sztuczne?\n",
    "- do sterowania?\n",
    "- do transmisji informacji?"
   ]
  },
  {
   "cell_type": "markdown",
   "metadata": {
    "slideshow": {
     "slide_type": "subslide"
    }
   },
   "source": [
    "# Obszary użycia przetwarzania sygnałów\n",
    "\n",
    "- telekomunikacja\n",
    "- transmisja informacji, elektronika\n",
    "- dźwięk, muzyka, obraz, multimedia\n",
    "- astronomia\n",
    "- medycyna\n",
    "- radary\n",
    "- nawigacja satelitarna\n",
    "- zjawiska fizyczne (np. sejsmologia, meteorologia)\n",
    "- analiza danych numerycznych (np. rynkowych)"
   ]
  },
  {
   "cell_type": "markdown",
   "metadata": {
    "slideshow": {
     "slide_type": "slide"
    }
   },
   "source": [
    "# Przetwarzanie sygnałów\n",
    "\n",
    "- Synteza lub generowanie sygnałów\n",
    "- Analiza lub parametryzacja sygnałów\n",
    "- Modyfikacja - przetwarzanie sygnałów"
   ]
  },
  {
   "cell_type": "markdown",
   "metadata": {
    "slideshow": {
     "slide_type": "subslide"
    }
   },
   "source": [
    "# Transmisja sygnału\n",
    "\n",
    "![](images/Shannon-and-Weaver-1948.png)\n",
    "(Shannon i Weaver, 1948)"
   ]
  },
  {
   "cell_type": "markdown",
   "metadata": {
    "slideshow": {
     "slide_type": "slide"
    }
   },
   "source": [
    "# Rodzaje sygnału\n",
    "\n",
    "- funkcja czasu, położenia, ...\n",
    "  - $f(t)$ lub $f(x)$\n",
    "- jednowymiarowe lub dwuwymiarowe lub wielowymiarowe\n",
    "  - $f(x)$ lub $f(x,y)$\n",
    "- rzeczywiste lub zespolone\n",
    "  - $\\mathbb{R}$ lub $\\mathbb{C}$\n",
    "- ciągłe lub dyskretne (analogowe lub cyfrowe)\n",
    "- deterministyczna lub losowe\n",
    "- okresowe, impulsowe, nieskończone"
   ]
  },
  {
   "cell_type": "markdown",
   "metadata": {
    "slideshow": {
     "slide_type": "subslide"
    }
   },
   "source": [
    "![](images/sound_signal.png)"
   ]
  },
  {
   "cell_type": "markdown",
   "metadata": {
    "slideshow": {
     "slide_type": "slide"
    }
   },
   "source": [
    "![](images/Sygnały.svg)\n",
    "(T. Zieliński)"
   ]
  },
  {
   "cell_type": "markdown",
   "metadata": {
    "slideshow": {
     "slide_type": "slide"
    }
   },
   "source": [
    "# Sygnały okresowe\n",
    "\n",
    "Sygnał okresowy (ang. periodic) to taki w którym:\n",
    "\n",
    "- istnieje wartość $T$, zwana okresem sygnału\n",
    "- dla której, dla wszystkich wartości czasu $t \\in \\mathbb{R}$ i dla dowolnej liczby $k \\in \\mathbb{Z}$ zachodzi zależność:\n",
    "\n",
    "$x(t)=x(t+kT)$\n",
    "\n",
    "![](images/periodic.png)"
   ]
  },
  {
   "cell_type": "markdown",
   "metadata": {
    "slideshow": {
     "slide_type": "subslide"
    }
   },
   "source": [
    "# Przykłady sygnałów deterministycznych\n",
    "\n",
    "- Impuls prostokątny\n",
    "\n",
    "\\begin{equation}\n",
    "x(t)=\\left\\{\n",
    "\\begin{array}{l l}\n",
    " 0 & \\text{dla $|t|>\\frac{1}{2}$} \\\\\n",
    " \\frac{1}{2} & \\text{dla $|t|=\\frac{1}{2}$} \\\\\n",
    " 1 & \\text{dla $|t|<\\frac{1}{2}$}\n",
    "\\end{array}\n",
    "\\right.\n",
    "\\end{equation}\n",
    "\n",
    "![](images/impuls.png?1)"
   ]
  },
  {
   "cell_type": "markdown",
   "metadata": {
    "slideshow": {
     "slide_type": "subslide"
    }
   },
   "source": [
    "# Przykłady sygnałów deterministycznych\n",
    "- Skok jednostkowy\n",
    "\n",
    "\\begin{equation}\n",
    "x(t)=\\left\\{\n",
    "\\begin{array}{l l}\n",
    "1 & \\text{dla $t>0$} \\\\\n",
    "\\frac{1}{2} & \\text{dla $t=0$} \\\\\n",
    "0 & \\text{dla $t<0$}\n",
    "\\end{array}\n",
    "\\right.\n",
    "\\end{equation}\n",
    "\n",
    "![](images/skok.png)"
   ]
  },
  {
   "cell_type": "markdown",
   "metadata": {
    "slideshow": {
     "slide_type": "subslide"
    }
   },
   "source": [
    "# Przykłady sygnałów deterministycznych\n",
    "- Sygnał sinusoidalny\n",
    "\\begin{equation}\n",
    "x(t)=A\\sin(\\omega_0t+\\phi)\n",
    "\\end{equation}\n",
    "![](images/sinus.png)"
   ]
  },
  {
   "cell_type": "markdown",
   "metadata": {
    "slideshow": {
     "slide_type": "subslide"
    }
   },
   "source": [
    "# Przykłady sygnałów deterministycznych\n",
    "- Sinc (w uproszczeniu)\n",
    "\\begin{equation}\n",
    "x(t)=\\frac{\\sin(\\omega_0t)}{\\omega_0t}\n",
    "\\end{equation}\n",
    "![](images/sinc.png)"
   ]
  },
  {
   "cell_type": "markdown",
   "metadata": {
    "slideshow": {
     "slide_type": "slide"
    }
   },
   "source": [
    "# Sygnały losowe\n",
    "\n",
    "- stacjonarne - parametry statystycznie nie zmieniają się w czasie\n",
    "- ergodyczne - parametry statystyczne również niezmienne dla dowolnej realizacji procesu losowego w dowolnej chwili w czasie\n",
    "- ergodyczne procesy losowe zazwyczaj aproksymujemy używając dystrybucji statystycznej, np:\n",
    "  - równomierna (ang. uniform)\n",
    "  - normalna (ang. normal, Gaussian)\n",
    "  - Poissona\n",
    "  - itd..."
   ]
  },
  {
   "cell_type": "markdown",
   "metadata": {
    "slideshow": {
     "slide_type": "subslide"
    }
   },
   "source": [
    "![](images/losowe.png)\n",
    "\n",
    "(T. Zielinski)"
   ]
  },
  {
   "cell_type": "markdown",
   "metadata": {
    "slideshow": {
     "slide_type": "slide"
    }
   },
   "source": [
    "# Reprezentacja sygnału\n",
    "\n",
    "- sygnał najczęściej zapisujemy jako funkcję wartości rzeczywistych w czasie: $f(x)$\n",
    "- sygnał może jednak być reprezentowany jako funkcja liczb zespolonych\n",
    "  - przykładem sygnału zespolonego to przebieg wykładniczy:\n",
    "\n",
    "\\begin{equation}\n",
    "z(t)=e^{j\\omega t}=\\cos(\\omega t)+j\\sin(\\omega t)\n",
    "\\end{equation}\n",
    "\n",
    "- sygnały można też przeskształcać do innych dziedzin\n",
    "  - przykładowo za pomocą transformaty Fouriera do dziedziny częstotliowści"
   ]
  },
  {
   "cell_type": "markdown",
   "metadata": {
    "slideshow": {
     "slide_type": "slide"
    }
   },
   "source": [
    "# Sygnał cyfrowy\n",
    "\n",
    "- Sygnał ciągły (analogowy)\n",
    "- Sygnał dyskretny czasu ciągłego\n",
    "  - np. wyjście DAC przed filtrowaniem\n",
    "  - kwantyzacja\n",
    "- Sygnał ciągły czasu dyskretnego\n",
    "  - np. wyjście matrycy CCD\n",
    "  - dyskretyzacja (próbkowanie)\n",
    "- Sygnał dysktretny czasu dyskretnego - sygnał cyfrowy"
   ]
  },
  {
   "cell_type": "markdown",
   "metadata": {
    "slideshow": {
     "slide_type": "subslide"
    }
   },
   "source": [
    "# Zalety cyfrowego przetwarzania danych\n",
    "\n",
    "- programowalność, elastyczność\n",
    "- stabilność, odporność na zakłócenia, starty\n",
    "- powtarzalność\n",
    "- kompresja danych\n",
    "- wydajna praca wielokanałowa\n",
    "- niska cena"
   ]
  },
  {
   "cell_type": "markdown",
   "metadata": {
    "slideshow": {
     "slide_type": "slide"
    }
   },
   "source": [
    "# Transformaty\n",
    "\n",
    "- sygnał jest reprezentowany za pomocą funkcji operującej na liczbach, np:\n",
    "\n",
    "\\begin{equation}\n",
    "f(t) : \\mathbb{R} \\to \\mathbb{R}\n",
    "\\end{equation}\n",
    "\n",
    "- transformata to działanie matematyczne (podobne do funkcji) ale operujące na funkcjach:\n",
    "\n",
    "\\begin{equation}\n",
    "F(f) : f(t) \\to g(\\xi)\n",
    "\\end{equation}\n",
    "\n",
    "- pozwalają \"inaczej spojrzeć\" na zawartość sygnału\n",
    "- znacznie upraszczają niektóre działania matematyczne"
   ]
  },
  {
   "cell_type": "markdown",
   "metadata": {
    "slideshow": {
     "slide_type": "slide"
    }
   },
   "source": [
    "# Rozkład przedmiotu\n",
    "\n",
    "- Przetwarzanie sygnałów jedno-wymiarowych\n",
    "  - Sygnały i ich parametry\n",
    "  - Systemy LTI i splot\n",
    "  - Transformata Fouriera\n",
    "  - Kwantyzacja i kodowanie sygnału\n",
    "  - Dyskretna transformata Fouriera, FFT, STFT\n",
    "  - Filtry cyfrowe\n",
    "- Przetwarzanie obrazów\n",
    "  - Kodowanie obrazu, przestrzenie barw\n",
    "  - Histogramy i transformacje punktowe\n",
    "  - Splot w obrazie\n",
    "  - Transformaty w obrazie\n",
    "  - Operacje morfologiczne\n",
    "- Podsumowanie i powtórzenie materiału"
   ]
  }
 ],
 "metadata": {
  "celltoolbar": "Slideshow",
  "kernelspec": {
   "display_name": "Python 2",
   "language": "python",
   "name": "python2"
  },
  "language_info": {
   "codemirror_mode": {
    "name": "ipython",
    "version": 2
   },
   "file_extension": ".py",
   "mimetype": "text/x-python",
   "name": "python",
   "nbconvert_exporter": "python",
   "pygments_lexer": "ipython2",
   "version": "2.7.13"
  }
 },
 "nbformat": 4,
 "nbformat_minor": 1
}
