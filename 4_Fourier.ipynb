{
 "cells": [
  {
   "cell_type": "markdown",
   "metadata": {
    "slideshow": {
     "slide_type": "slide"
    }
   },
   "source": [
    "# Transformata Fouriera"
   ]
  },
  {
   "cell_type": "markdown",
   "metadata": {
    "slideshow": {
     "slide_type": "slide"
    }
   },
   "source": [
    "# Przypomnienie\n",
    "\n",
    "- Co to jest liczba zespolona?\n",
    "- Co to jest postać trygonometryczna liczby zespolonej?\n",
    "- Czym się różni układ kartezjański od polarnego?\n",
    "\n",
    "![](images/imaginary.svg)\n",
    "\n",
    "- Jak policzyć $r$ i $\\varphi$ na podstawie $\\Re$ i $\\Im$ oraz w odwrotną stronę?"
   ]
  },
  {
   "cell_type": "markdown",
   "metadata": {
    "slideshow": {
     "slide_type": "subslide"
    }
   },
   "source": [
    "### Polarne $\\rightarrow$ kartezjańskie\n",
    "\\begin{equation}\n",
    "\\Re=A \\cos \\varphi \\\\\n",
    "\\Im=A \\sin \\varphi \\\\\n",
    "\\end{equation}\n",
    "\n",
    "### Kartezjańskie $\\rightarrow$ polarne\n",
    "\\begin{equation}\n",
    "A = \\sqrt{\\Re^2+\\Im^2} \\\\\n",
    "\\varphi = \\text{atan2}(\\Im,\\Re) \\approx \\arctan \\left(\\frac{\\Im}{\\Re}\\right)\n",
    "\\end{equation}\n",
    "\n",
    "### Wzór Eulera\n",
    "\\begin{equation}\n",
    "z=\\Re + i\\cdot\\Im \\\\\n",
    "z=A\\cdot(\\cos{\\varphi} + i\\cdot\\sin{\\varphi})\\\\\n",
    "e^{ix}=\\cos{x}+i\\sin{x} \\\\\n",
    "z=A\\cdot e^{i\\varphi}\n",
    "\\end{equation}"
   ]
  },
  {
   "cell_type": "markdown",
   "metadata": {
    "slideshow": {
     "slide_type": "slide"
    }
   },
   "source": [
    "# Szereg Taylora\n",
    "\n",
    "\\begin{equation}\n",
    "f(x) = f(a) + \\frac{f'(a)}{1!} (x-a) + \\frac{f''(a)}{2!} (x-a)^2 + \\frac{f'''(a)}{3!} (x-a)^3 +\\ldots\n",
    "\\end{equation}\n",
    "\n",
    "\\begin{equation}\n",
    "f(x) = \\sum_{n=0}^{\\infty} \\frac{f^{(n)}(a)}{n!} (x-a)^n\n",
    "\\end{equation}\n",
    "\n",
    "\n",
    "- gdzie $f^{(0)}(x)=f(x)$ i $0!=1$\n",
    "- dla $a=0$ znany jako szereg Maclaurina"
   ]
  },
  {
   "cell_type": "markdown",
   "metadata": {
    "slideshow": {
     "slide_type": "slide"
    }
   },
   "source": [
    "# Szereg Fouriera\n",
    "\n",
    "- dla ortogonalnych składowcyh $g_1\\ldots g_n$ oraz współczynników $a_1\\ldots a_n$ weźmy:\n",
    "\n",
    "\\begin{equation}\n",
    "f(t)=a_1\\cdot g_1(t) + a_2\\cdot g_2(t) + a_3\\cdot g_3(t) + \\ldots + a_n\\cdot g_n(t) = \\sum_{n=1}^{\\infty}a_n\\cdot g_n(t)\n",
    "\\end{equation}\n",
    "\n",
    "- wybierzmy sobie składową $g_1$ i pomnożmy obydwie strony równania:\n",
    "\n",
    "\\begin{equation}\n",
    "g_1(t)\\cdot f(t)=a_1\\cdot g_1^2(t) + \\sum_{n=2}^{\\infty} a_n\\cdot g_n(t)\\cdot g_1(t)\n",
    "\\end{equation}\n",
    "\n",
    "- wyliczmy całkę z obydwu stron równania:\n",
    "\n",
    "\\begin{equation}\n",
    "\\int_{t_1}^{t_2} g_1(t)\\cdot f(t) dt=\\int_{t_1}^{t_2} a_1\\cdot g_1^2(t)\\ dt + \\sum_{n=2}^{\\infty} \\int_{t_1}^{t_2} a_n\\cdot g_n(t)\\cdot g_1(t)\\ dt\n",
    "\\end{equation}"
   ]
  },
  {
   "cell_type": "markdown",
   "metadata": {
    "slideshow": {
     "slide_type": "subslide"
    }
   },
   "source": [
    "## Szereg Fouriera\n",
    "\n",
    "- ponieważ wszystkie składowe są ortogonalne, ich iloczyn jest równy 0, więc możemy usunąć większość równania:\n",
    "\n",
    "\\begin{equation}\n",
    "\\int_{t_1}^{t_2} g_1(t)\\cdot f(t)\\ dt=\\int_{t_1}^{t_2} a_1\\cdot g_1^2(t)\\ dt = a_1\\cdot \\int_{t_1}^{t_2} g_1^2(t)\\ dt\n",
    "\\end{equation}\n",
    "\n",
    "\n",
    "- dla współczynnika $a_1$ zachodzi więc:\n",
    "\n",
    "\\begin{equation}\n",
    "a_1=\\frac{\\int_{t_1}^{t_2} g_1(t)\\cdot f(t)\\ dt}{\\int_{t_1}^{t_2} g_1^2(t)\\ dt}\n",
    "\\end{equation}\n",
    "\n",
    "- dla innych współczynników $a_n$ można policzyć podobne równanie\n",
    "\n",
    "\n",
    "\\begin{equation}\n",
    "a_n=\\frac{\\int_{t_1}^{t_2} g_n(t)\\cdot f(t)\\,dt}{\\int_{t_1}^{t_2} g_n^2(t)\\ dt}\n",
    "\\end{equation}\n",
    "\n"
   ]
  },
  {
   "cell_type": "markdown",
   "metadata": {
    "slideshow": {
     "slide_type": "subslide"
    }
   },
   "source": [
    "## Trygonometryczny szereg Fouriera\n",
    "\n",
    "- Fourier jako funkcję $g_n$ przyjął funkcję $\\sin$:\n",
    "\n",
    "\\begin{equation}\n",
    "f(t) = \\frac{A_0}{2} + \\sum_{n=1}^{\\infty}A_n\\cdot\\sin(n\\omega_0t+\\varphi_n)\n",
    "\\end{equation}\n",
    "\n",
    "(gdzie $\\omega_0=\\frac{2\\pi}{T_0}$)\n",
    "\n",
    "- Ze względu na następujące równości:\n",
    "\n",
    "\\begin{equation}\n",
    "\\sin(n\\omega_0t+\\varphi_n) = \\sin(\\varphi_n)\\cos(n\\omega_0t)+\\cos(\\varphi_n)\\sin(n\\omega_0t) \\\\\n",
    "a_n=A_n\\sin(\\phi_n)\\ \\text{(jako $\\Re$)} \\\\\n",
    "b_n=A_n\\cos(\\phi_n)\\ \\text{(jako $\\Im$)}\n",
    "\\end{equation}\n",
    "\n",
    "- Wzór jest często zapisywany jako:\n",
    "\n",
    "\\begin{equation}\n",
    "f(t) = \\frac{a_0}{2} + \\sum_{n=1}^{\\infty}a_n\\cdot\\cos(n\\omega_0t)+b_n\\cdot\\sin(n\\omega_0t)\n",
    "\\end{equation}"
   ]
  },
  {
   "cell_type": "markdown",
   "metadata": {
    "slideshow": {
     "slide_type": "subslide"
    }
   },
   "source": [
    "## Trygonometryczny szereg Fouriera\n",
    "\n",
    "\\begin{equation}\n",
    "f(t) = a_0 + \\sum_{n=1}^{\\infty}a_n\\cdot\\cos(n\\omega_0t)+b_n\\cdot\\sin(n\\omega_0t)\n",
    "\\end{equation}\n",
    "\n",
    "- gdzie $a_n$ i $b_n$ to tzw. *współczynniki Fouriera*:\n",
    "\n",
    "\\begin{equation}\n",
    "a_0 = \\frac{1}{T_0}\\int_{0}^{T_0}f(t)\\ dt \\\\\n",
    "a_n = \\frac{2}{T_0}\\int_{0}^{T_0}f(t)\\cdot\\cos(n\\omega_0t)\\ dt \\\\\n",
    "b_n = \\frac{2}{T_0}\\int_{0}^{T_0}f(t)\\cdot\\sin(n\\omega_0t)\\ dt \\\\\n",
    "\\end{equation}"
   ]
  },
  {
   "cell_type": "markdown",
   "metadata": {
    "slideshow": {
     "slide_type": "subslide"
    }
   },
   "source": [
    "## Zespolony szereg Fouriera\n",
    "\n",
    "\n",
    "\n",
    "- Częściej jednak używany jest zapis w dziedzinie liczb zespolonych:\n",
    "\n",
    "\\begin{equation}\n",
    "f(t) = \\sum_{n=-\\infty}^{\\infty}F_n\\cdot e^{in\\omega_0t}\n",
    "\\end{equation}\n",
    "\n",
    "- gdzie $F_n$ wyliczamy:\n",
    "\n",
    "\\begin{equation}\n",
    "F_n=\\frac{1}{T_0}\\int_{0}^{T_0}f(t)\\cdot e^{-jn\\omega_0t}\\ dt\n",
    "\\end{equation}\n",
    "\n",
    "- można wykazać, że:\n",
    "\\begin{equation}\n",
    "F_0=a_0 \\\\\n",
    "F_{-n}=F_n^{*} \\quad |F_n|=|F_{-n}| \\quad \\angle(F_n)=-\\angle(F_{-n}) \\\\\n",
    "F_n=0.5\\cdot(a_n-i\\cdot b_n) \\quad F_{-n}=0.5\\cdot(a_n+i\\cdot b_n) \\\\\n",
    "a_n=(F_n+F_{-n}) \\quad b_n=i\\cdot(F_n+F_{-n}) \\quad A_n=\\sqrt{a_n^2+b_n^2}=2|F_n|\n",
    "\\end{equation}"
   ]
  },
  {
   "cell_type": "markdown",
   "metadata": {
    "slideshow": {
     "slide_type": "subslide"
    }
   },
   "source": [
    "## Przykłady online\n",
    "\n",
    "https://www.intmath.com/fourier-series/fourier-graph-applet.php\n",
    "\n",
    "http://www.mathstools.com/section/main/fourier_series_calculator"
   ]
  },
  {
   "cell_type": "markdown",
   "metadata": {
    "slideshow": {
     "slide_type": "slide"
    }
   },
   "source": [
    "# Transformata Fouriera\n",
    "\n",
    "\\begin{equation}\n",
    "F_n=\\frac{1}{T_0}\\int_{0}^{T_0}f(t)\\cdot e^{-jn\\omega_0t}\\ dt\n",
    "\\end{equation}\n",
    "\n",
    "- Szereg Fouriera zdefiniowani dla sygnałów okresowych (z okresem $T_0$)!\n",
    "\n",
    "- Jak wyliczyć szereg Fouriera dla sygnałów nie-okresowych?\n",
    "\n",
    "    - Jak $T_0\\rightarrow\\infty$ to $\\omega_0\\rightarrow0$\n",
    "\n",
    "    - Z tego wynika że współczynniki $F_n$ zamiast szeregu punktów $\\rightarrow$ funckja wartości rzeczywistych $F(\\xi)$\n",
    "    \n",
    "\n",
    "\\begin{equation}\n",
    "F(\\xi) = \\int_{-\\infty}^{\\infty} f(t)e^{-2\\pi i t \\xi} dt\n",
    "\\end{equation}\n"
   ]
  },
  {
   "cell_type": "markdown",
   "metadata": {
    "slideshow": {
     "slide_type": "subslide"
    }
   },
   "source": [
    "# Transformata Fouriera\n",
    "\n",
    "- Funkcja analityczna:\n",
    "\n",
    "\\begin{equation}\n",
    "F(\\xi) = \\int_{-\\infty}^{\\infty} f(t)e^{-2\\pi i t \\xi} dt\n",
    "\\end{equation}\n",
    "\n",
    "- Funkcja syntetyczna (odwrotna):\n",
    "\n",
    "\\begin{equation}\n",
    "f(t) = \\int_{-\\infty}^{\\infty} F(\\xi)e^{2\\pi i t \\xi} dt\n",
    "\\end{equation}\n",
    "\n",
    "\n",
    "- Oprócz samego rozkładu w dziedzinie częstotliwości, istotne jest też\n",
    "  - Widmo amplitudowe: $|F(\\xi)|$\n",
    "  - Widmo fazowe: $\\angle[F(\\xi)]$\n",
    "  - Widmo mocy: $|F(\\xi)|^2$"
   ]
  },
  {
   "cell_type": "markdown",
   "metadata": {
    "slideshow": {
     "slide_type": "subslide"
    }
   },
   "source": [
    "## Kiedy można liczyć?\n",
    "\n",
    "- ograniczona energia: $\\int_{-\\infty}^{\\infty}\\lvert x(t) \\rvert^2dt<\\infty$\n",
    "- ograniczona ilość ekstremów\n",
    "- ograniczona ilość nieciągłości\n",
    "- dowolny sygnał okresowy (w tym o nieskończonej energii)"
   ]
  },
  {
   "cell_type": "markdown",
   "metadata": {
    "slideshow": {
     "slide_type": "slide"
    }
   },
   "source": [
    "# Dyskretna transformata Fouriera\n",
    "\n",
    "- W przypadku sygnału cyfrowego\n",
    "\n",
    "- Funkcja analityczna:\n",
    "\n",
    "\\begin{equation}\n",
    "X_k=\\sum_{n=0}^{N-1} x_n \\cdot e ^ {-i2\\pi k n/N},\\, k \\in \\mathbb{Z}\n",
    "\\end{equation}\n",
    "\n",
    "- Funkcja syntetyczna (odwrotna):\n",
    "\n",
    "\\begin{equation}\n",
    "x_n=\\frac{1}{N} \\sum_{k=0}^{N-1} X_k \\cdot e ^ {i2\\pi k n/N},\\, N \\in \\mathbb{Z}\n",
    "\\end{equation}\n"
   ]
  },
  {
   "cell_type": "markdown",
   "metadata": {
    "slideshow": {
     "slide_type": "subslide"
    }
   },
   "source": [
    "# Rodzaje transformaty Fouriera\n",
    "\n",
    "![](images/fourier1.png)"
   ]
  },
  {
   "cell_type": "markdown",
   "metadata": {
    "slideshow": {
     "slide_type": "subslide"
    }
   },
   "source": [
    "## Szereg Fouriera\n",
    "\n",
    "![](images/fourier2.png)"
   ]
  },
  {
   "cell_type": "markdown",
   "metadata": {
    "slideshow": {
     "slide_type": "subslide"
    }
   },
   "source": [
    "## DTFT\n",
    "\n",
    "![](images/fourier3.png)"
   ]
  },
  {
   "cell_type": "markdown",
   "metadata": {
    "slideshow": {
     "slide_type": "subslide"
    }
   },
   "source": [
    "## DFT\n",
    "\n",
    "![](images/fourier4.png)"
   ]
  },
  {
   "cell_type": "markdown",
   "metadata": {
    "slideshow": {
     "slide_type": "slide"
    }
   },
   "source": [
    "# Właściwości transformaty Fouriera\n",
    "\n",
    "\\begin{equation}\n",
    "f(t) \\qquad\\rightarrow\\qquad F(\\omega)\n",
    "\\end{equation}\n",
    "\n",
    "### Odwrotność \n",
    "\n",
    "\\begin{equation}\n",
    "F(t) \\qquad\\rightarrow\\qquad 2\\pi f(-\\omega)\n",
    "\\end{equation}\n",
    "\n",
    "### Splot\n",
    "\n",
    "\\begin{equation}\n",
    "f_1\\star f_2(t) \\qquad\\rightarrow\\qquad F_1(\\omega)F_2(\\omega)\n",
    "\\end{equation}\n",
    "\n",
    "### Iloczyn \n",
    "\n",
    "\\begin{equation}\n",
    "f_1(t)f_2(t) \\qquad\\rightarrow\\qquad \\frac{1}{2\\pi}F_1\\star F_2(\\omega)\n",
    "\\end{equation}"
   ]
  },
  {
   "cell_type": "markdown",
   "metadata": {
    "slideshow": {
     "slide_type": "subslide"
    }
   },
   "source": [
    "### Przesunięcie\n",
    "\n",
    "\\begin{equation}\n",
    "f(t-u) \\qquad\\rightarrow\\qquad e^{-iu\\omega}F(\\omega)\n",
    "\\end{equation}\n",
    "\n",
    "### Modulacja amplitudowa\n",
    "\n",
    "\\begin{equation}\n",
    "e^{i\\xi t}f(t) \\qquad\\rightarrow\\qquad F(\\omega-\\xi)\n",
    "\\end{equation}\n",
    "\n",
    "### Skalowanie \n",
    "\n",
    "\\begin{equation}\n",
    "f(t/s)  \\qquad\\rightarrow\\qquad  |s|F(s\\omega)\n",
    "\\end{equation}\n",
    "\n",
    "### Pochodna czasowa\n",
    "\n",
    "\\begin{equation}\n",
    "f^{(p)}(t) \\qquad\\rightarrow\\qquad (i\\omega)^{(p)}F(\\omega)\n",
    "\\end{equation}"
   ]
  },
  {
   "cell_type": "markdown",
   "metadata": {
    "slideshow": {
     "slide_type": "subslide"
    }
   },
   "source": [
    "### Pochodna częstotliwościowa \n",
    "\n",
    "\\begin{equation}\n",
    "(-it)^{(p)}f(t) \\qquad\\rightarrow\\qquad F^{(p)}(\\omega)\n",
    "\\end{equation}\n",
    "\n",
    "### Sprzężenie zespolone \n",
    "\n",
    "\\begin{equation}\n",
    "f^{\\star}(t)  \\qquad\\rightarrow\\qquad F^{\\star}(-\\omega)\n",
    "\\end{equation}\n",
    "\n",
    "### Symetria hermitowska \n",
    "\n",
    "\\begin{equation}\n",
    "f(t)\\in \\mathbb{R}  \\qquad\\rightarrow\\qquad F(-\\omega)=F^{\\star}(\\omega)\n",
    "\\end{equation}"
   ]
  },
  {
   "cell_type": "markdown",
   "metadata": {
    "slideshow": {
     "slide_type": "subslide"
    }
   },
   "source": [
    "## Jeszcze o symetrii\n",
    "\n",
    "- dla każdego rzeczywistego sygnału $f(t)$, Transformata Fouriera ma następujące właściwości:\n",
    "    - $\\Re(F)$ - jest funkcją parzystą\n",
    "    - $\\Im(F)$ - jest funkcją nie-parzystą\n",
    "    - $\\lvert F \\rvert$ - jest funkcją parzystą\n",
    "    - $\\angle(f)$ jest funkcją nie-parzystą\n",
    "- jeśli $X$ nie jest symetryczna j/w, odwrotna TF nie jest sygnałem rzeczywistym (tylko zespolonym)\n",
    "- dodatkowo:\n",
    "    - jeśli $f(t)$ jest rzeczywiste i parzyste - $F(\\omega)$ jest całkowicie rzeczywiste i parzyste\n",
    "    - jeśli $f(t)$ jest rzeczywiste i nie-parzyste - $F(\\omega)$ jest całkowicie urojone i nieparzyste\n",
    "- ponieważ każdy sygnał $f(t)$ można rozłożyć na część parzystą i nie-parzystą:\n",
    "    - parzysta składowa sygnału $f(t)$ odpowiada $\\Re[F(\\omega)]$\n",
    "    - nie-parzysta składowa sygnału $f(t)$ odpowiada $i\\Im[F(\\omega)]$"
   ]
  },
  {
   "cell_type": "markdown",
   "metadata": {
    "slideshow": {
     "slide_type": "slide"
    }
   },
   "source": [
    "## Twierdzenie Parsevala\n",
    "\n",
    "\\begin{equation}\n",
    "\\int_{-\\infty}^{\\infty}f(x)g^{*}(x)\\ dx=\\int_{-\\infty}^{\\infty}F(\\xi)G^{*}(\\xi)\\ d\\xi\n",
    "\\end{equation}\n",
    "\n",
    "## Twierdzenie Plancherela\n",
    "\n",
    "\\begin{equation}\n",
    "\\int_{-\\infty}^{\\infty}||f(x)||^2\\ dx=\\int_{-\\infty}^{\\infty}||F(\\xi)||^2\\ d\\xi\n",
    "\\end{equation}\n",
    "\n",
    "- Moc sygnału\n",
    "\n",
    "\\begin{equation}\n",
    "P=\\lim_{T\\rightarrow\\infty} \\int_{-\\infty}^{\\infty} |f(t)|^2 dt\n",
    "\\end{equation}\n",
    "\n",
    "- Dla sygnałów dyskretnych:\n",
    "\n",
    "\\begin{equation}\n",
    "\\sum_{n=0}^{N-1}|x[n]|^2 = \\frac{1}{N} \\sum_{k=0}^{N-1}|X[k]|^2\n",
    "\\end{equation}"
   ]
  },
  {
   "cell_type": "markdown",
   "metadata": {
    "slideshow": {
     "slide_type": "slide"
    }
   },
   "source": [
    "# Przykłady\n",
    "\n",
    "![](images/fourier_sample1.png)\n"
   ]
  },
  {
   "cell_type": "markdown",
   "metadata": {
    "slideshow": {
     "slide_type": "subslide"
    }
   },
   "source": [
    "\n",
    "![](images/fourier_sample2.png)\n"
   ]
  },
  {
   "cell_type": "markdown",
   "metadata": {
    "slideshow": {
     "slide_type": "subslide"
    }
   },
   "source": [
    "\n",
    "![](images/fourier_sample3.png)\n"
   ]
  },
  {
   "cell_type": "markdown",
   "metadata": {
    "slideshow": {
     "slide_type": "subslide"
    }
   },
   "source": [
    "\n",
    "![](images/fourier_sample4.png)\n"
   ]
  },
  {
   "cell_type": "markdown",
   "metadata": {
    "slideshow": {
     "slide_type": "subslide"
    }
   },
   "source": [
    "\n",
    "![](images/fourier_sample5.png)\n"
   ]
  },
  {
   "cell_type": "markdown",
   "metadata": {
    "slideshow": {
     "slide_type": "subslide"
    }
   },
   "source": [
    "\n",
    "![](images/fourier_sample6.png)\n"
   ]
  },
  {
   "cell_type": "markdown",
   "metadata": {
    "slideshow": {
     "slide_type": "subslide"
    }
   },
   "source": [
    "\n",
    "![](images/fourier_sample7.png)\n"
   ]
  }
 ],
 "metadata": {
  "celltoolbar": "Slideshow",
  "kernelspec": {
   "display_name": "Python 2",
   "language": "python",
   "name": "python2"
  },
  "language_info": {
   "codemirror_mode": {
    "name": "ipython",
    "version": 2
   },
   "file_extension": ".py",
   "mimetype": "text/x-python",
   "name": "python",
   "nbconvert_exporter": "python",
   "pygments_lexer": "ipython2",
   "version": "2.7.14"
  }
 },
 "nbformat": 4,
 "nbformat_minor": 2
}
