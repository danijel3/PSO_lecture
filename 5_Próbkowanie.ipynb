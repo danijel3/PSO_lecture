{
 "cells": [
  {
   "cell_type": "markdown",
   "metadata": {
    "slideshow": {
     "slide_type": "slide"
    }
   },
   "source": [
    "# Próbkowanie i kwantyzacja"
   ]
  },
  {
   "cell_type": "markdown",
   "metadata": {
    "slideshow": {
     "slide_type": "subslide"
    }
   },
   "source": [
    "## Przypomnienie\n",
    "\n",
    "### Sygnał Ciągły\n",
    "\n",
    "![](images/analog.png)"
   ]
  },
  {
   "cell_type": "markdown",
   "metadata": {
    "slideshow": {
     "slide_type": "subslide"
    }
   },
   "source": [
    "### Próbkowanie\n",
    "\n",
    "![](images/discrete_time.png)"
   ]
  },
  {
   "cell_type": "markdown",
   "metadata": {
    "slideshow": {
     "slide_type": "subslide"
    }
   },
   "source": [
    "### Kwantyzacja\n",
    "\n",
    "![](images/discrete_value.png)"
   ]
  },
  {
   "cell_type": "markdown",
   "metadata": {
    "slideshow": {
     "slide_type": "subslide"
    }
   },
   "source": [
    "### Sygnał cyfrowy\n",
    "\n",
    "![](images/digital.png)"
   ]
  },
  {
   "cell_type": "markdown",
   "metadata": {
    "slideshow": {
     "slide_type": "slide"
    }
   },
   "source": [
    "## Próbkowanie\n",
    "\n",
    "- polega na zapisywaniu chwilowej wartości sygnału w regularnych odstępach czasowych\n",
    "    - uwzględniając dokładność w czasie, chwilowość i szum\n",
    "- otrzymujemy szereg dyskretnych impulsów reprezentujących ciągły sygnał\n",
    "- jakie ciągłe sygnały możemy odtworzyć na podstawie wybranych impulsów?\n",
    "- jak próbkować żeby nie było problemów z odtworzeniem ciągłego sygnału?"
   ]
  },
  {
   "cell_type": "markdown",
   "metadata": {
    "slideshow": {
     "slide_type": "subslide"
    }
   },
   "source": [
    "### Interpolacja\n",
    "\n",
    "![](images/interpolation.png?1)"
   ]
  },
  {
   "cell_type": "markdown",
   "metadata": {
    "slideshow": {
     "slide_type": "subslide"
    }
   },
   "source": [
    "### Wystarczająca ilość próbek\n",
    "\n",
    "![](images/oversample.png)"
   ]
  },
  {
   "cell_type": "markdown",
   "metadata": {
    "slideshow": {
     "slide_type": "subslide"
    }
   },
   "source": [
    "### Niedostateczna ilość próbek\n",
    "\n",
    "![](images/undersample.png)"
   ]
  },
  {
   "cell_type": "markdown",
   "metadata": {
    "slideshow": {
     "slide_type": "subslide"
    }
   },
   "source": [
    "### Próbkowanie jako iloczyn z szeregiem delt\n",
    "\n",
    "- Zdefiniujmy próbkowanie w dziedzinie czasu:\n",
    "\n",
    "\\begin{equation}\n",
    "x_p(t)=x_c(t)\\cdot\\delta(t)\n",
    "\\end{equation}\n",
    "\n",
    "- W dziedzinie częstotliowści wygląda ono tak:\n",
    "\n",
    "\\begin{equation}\n",
    "\\begin{array}{ll}\n",
    "X_p(\\omega) & = \\frac{1}{2\\pi} X_c(\\omega)*D(\\omega) \\\\\n",
    "  & = \\frac{1}{2\\pi}X_c(\\omega)*\\left[\\frac{2\\pi}{T}\\sum_{k=-\\infty}^{\\infty} \\delta(\\omega-k\\omega_p) \\right] \\\\\n",
    "  & = \\frac{1}{T} \\sum_{k=\\infty}^{\\infty}X_c(\\omega-k\\omega_p)\n",
    "\\end{array}\n",
    "\\end{equation}"
   ]
  },
  {
   "cell_type": "markdown",
   "metadata": {
    "slideshow": {
     "slide_type": "subslide"
    }
   },
   "source": [
    "### Szereg delt\n",
    "#### (ang. delta pulse train)\n",
    "\n",
    "<img src=\"images/pulsetrain1.png\" style=\"width:400px\">\n",
    "<img src=\"images/pulsetrain2.png\" style=\"width:400px\">"
   ]
  },
  {
   "cell_type": "markdown",
   "metadata": {
    "slideshow": {
     "slide_type": "subslide"
    }
   },
   "source": [
    "![](images/sampling1.png)"
   ]
  },
  {
   "cell_type": "markdown",
   "metadata": {
    "slideshow": {
     "slide_type": "subslide"
    }
   },
   "source": [
    "### Zły przypadek\n",
    "\n",
    "![](images/sampling2.png)"
   ]
  },
  {
   "cell_type": "markdown",
   "metadata": {
    "slideshow": {
     "slide_type": "subslide"
    }
   },
   "source": [
    "## Twierdzenie o próbkowaniu\n",
    "\n",
    "- Niech $\\omega_p$ to częstotliwość próbkowania\n",
    "- Niech $\\omega_{max}$ to maksymalna częstotliwość ciągłego sygnału\n",
    "- Wtedy:\n",
    "\\begin{equation}\n",
    "\\omega_p > 2\\cdot\\omega_{max}\n",
    "\\end{equation}\n",
    "- Częstotliwość $2\\cdot\\omega_{max}$ we wzorze powyżej jest znana pod nazwą częstotliwości Nyquista albo Shannona\n",
    "- Jako dowód, na poprzednim rysunku widzimy, że $\\omega_{max}$ musi być mniejsze od $\\omega_p-\\omega_{max}$"
   ]
  },
  {
   "cell_type": "markdown",
   "metadata": {
    "slideshow": {
     "slide_type": "subslide"
    }
   },
   "source": [
    "## Aliasing\n",
    "\n",
    "![](https://upload.wikimedia.org/wikipedia/commons/f/f6/Aliasing-folding.png)"
   ]
  },
  {
   "cell_type": "markdown",
   "metadata": {
    "slideshow": {
     "slide_type": "subslide"
    }
   },
   "source": [
    "## Czy jest dobrze jeśli $\\omega_p = 2\\cdot\\omega_{max}$?\n",
    "\n",
    "- Co się stanie w przypadku funkcji $\\cos(t)$, a co w przypadku funkcji $\\sin(t)$?"
   ]
  },
  {
   "cell_type": "markdown",
   "metadata": {
    "slideshow": {
     "slide_type": "subslide"
    }
   },
   "source": [
    "## Przykładowe wartości częstotliwości próbkowania\n",
    "\n",
    "- 8000 Hz - telefoniczna, wystarczająca do przeniesienia informacji o mowie\n",
    "- 16000 Hz - wideband telephony, transmisja sygnału mowy wyższej jakości (m.in. VoIP, ASR) \n",
    "- 32/36 kHz - kasety audio\n",
    "- 44100 Hz - audio CD, MPEG-1 (na podstawie PAL: 3 próbki, 588 linii, 25 fps)\n",
    "    * 11025, 22050 - dla formatów audio niskiej wartości\n",
    "    * 44056 - j/w ale dla NTSC\n",
    "- 48000 Hz - standard dla wysokiej jakości audio w nagraniach studyjnych\n",
    "- 96, 192, ... kHz - DVD, BluRay, ultradźwięki?"
   ]
  },
  {
   "cell_type": "markdown",
   "metadata": {
    "slideshow": {
     "slide_type": "slide"
    }
   },
   "source": [
    "## Kwantyzacja\n",
    "\n",
    "\n",
    "![](images/discrete_value.png)"
   ]
  },
  {
   "cell_type": "markdown",
   "metadata": {
    "slideshow": {
     "slide_type": "subslide"
    }
   },
   "source": [
    "## Kwantyzacja równomierna\n",
    "\n",
    "(8 poziomów = 3 bity)\n",
    "\n",
    "![](images/uniform_quant.png)"
   ]
  },
  {
   "cell_type": "markdown",
   "metadata": {
    "slideshow": {
     "slide_type": "subslide"
    }
   },
   "source": [
    "### Drabinka rezystorów\n",
    "\n",
    "![](images/R2r-ladder.png)"
   ]
  },
  {
   "cell_type": "markdown",
   "metadata": {
    "slideshow": {
     "slide_type": "subslide"
    }
   },
   "source": [
    "## Właściwości\n",
    "\n",
    "- Operację kwantyzacji traktujemy jako $\\hat{x}(t) = \\lfloor x(t)\\cdot L \\rfloor$, gdzie $L$ to ilość poziomów\n",
    "    * zakładamy że sygnał $x(t)$ jest w zakresie $<0,1>$\n",
    "- Rekonstrukcja sygnału $x(t) = \\hat{x}(t)/L+\\epsilon(t)$, gdzie $\\epsilon$ to błąd kwantyzacji\n",
    "- Błąd ten jest zmienną losową w zakresie $<0..1/L>$ i ma rozkład równomierny\n",
    "- Błąd jest niezależny od sygnału, stąd sprawia wrażenie szumu jednorodnego\n",
    "- Szum wynikający z błędu kwantyzacji jest często nazywany **szumem kwantyzacyjnym**\n",
    "- Kodowanie PCM wykorzystuję kwantyzację równomierną z 16-bitami na kodowanie poziomów"
   ]
  },
  {
   "cell_type": "markdown",
   "metadata": {
    "slideshow": {
     "slide_type": "subslide"
    }
   },
   "source": [
    "## SNR jako miara jakości sygnału\n",
    "\n",
    "- Signal-to-noise ratio - stosunek sygnału do szumu\n",
    "\n",
    "\\begin{equation}\n",
    "\\text{SNR} = \\frac{\\sigma_{\\text{sygnał}}}{\\sigma_{\\text{szum}}}\n",
    "\\end{equation}\n",
    "\n",
    "- Pamiętaj że szum zdefiniowaliśmy jako $\\epsilon(t)=x(t)-\\hat{x}(t)$\n",
    "- Można go też oszacować na podstawie mocy sygnału\n",
    "\n",
    "\\begin{equation}\n",
    "\\text{SNR} = \\frac{P_{\\text{sygnał}}}{P_{\\text{szum}}}\n",
    "\\end{equation}\n",
    "\n",
    "- Często podajemy w decybelach: $SNR_{dB} = 10\\cdot log_{10}(SNR)$\n",
    "- Ogólna zasada: każdy 1 bit poprawia SNR o ~6 dB"
   ]
  },
  {
   "cell_type": "markdown",
   "metadata": {
    "slideshow": {
     "slide_type": "subslide"
    }
   },
   "source": [
    "## Czy można lepiej niż kwantyzacja równomierna?\n",
    "\n",
    "![](images/log_quant.png)"
   ]
  },
  {
   "cell_type": "markdown",
   "metadata": {
    "slideshow": {
     "slide_type": "subslide"
    }
   },
   "source": [
    "## Kodowania logarytmiczne\n",
    "\n",
    "- $\\mu$-law  / A-law \n",
    "- stosowane w telefonii (8-bitów, T0/POTS 64 kb/s)\n",
    "- wzór na kodowanie $\\mu$-law:\n",
    "\n",
    "\\begin{equation}\n",
    "\\hat{x}=sgn(x)\\frac{ln(1+\\mu \\vert x \\vert)}{ln(1+\\mu)}\n",
    "\\end{equation}\n",
    "\n",
    "- gdzie $x\\in <-1,1>$, a $\\mu$ to maksymlany poziom (czyli 255 dla 8-bitów)\n",
    "- dekodowanie:\n",
    "\n",
    "\\begin{equation}\n",
    "x=sgn(\\hat{x})(1/\\mu)((1+\\mu)^{\\vert\\hat{x}\\vert}-1\n",
    "\\end{equation}\n"
   ]
  },
  {
   "cell_type": "markdown",
   "metadata": {
    "slideshow": {
     "slide_type": "subslide"
    }
   },
   "source": [
    "## Czy można lepiej?\n",
    "\n",
    "- dystrybuanta wartości sygnału i algorytm Lloyd-Max\n",
    "- kodowanie adaptacyjne A-PCM\n",
    "    - feed-forward - paramter adaptacyjny liczony na $x(t)$ i przesyłany z sygnałem\n",
    "    - feed-back - parametr adaptacyjny liczony na $\\hat{x}(t)$\n",
    "- kodowanie różnicowe D-PCM\n",
    "- algorytm ADPCM"
   ]
  }
 ],
 "metadata": {
  "celltoolbar": "Slideshow",
  "kernelspec": {
   "display_name": "Python 2",
   "language": "python",
   "name": "python2"
  },
  "language_info": {
   "codemirror_mode": {
    "name": "ipython",
    "version": 2
   },
   "file_extension": ".py",
   "mimetype": "text/x-python",
   "name": "python",
   "nbconvert_exporter": "python",
   "pygments_lexer": "ipython2",
   "version": "2.7.14"
  }
 },
 "nbformat": 4,
 "nbformat_minor": 2
}
