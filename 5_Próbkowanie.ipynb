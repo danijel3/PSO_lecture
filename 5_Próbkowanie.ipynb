{
 "cells": [
  {
   "cell_type": "markdown",
   "metadata": {
    "slideshow": {
     "slide_type": "slide"
    }
   },
   "source": [
    "# Próbkowanie i kwantyzacja"
   ]
  },
  {
   "cell_type": "markdown",
   "metadata": {
    "slideshow": {
     "slide_type": "subslide"
    }
   },
   "source": [
    "## Przypomnienie\n",
    "\n",
    "### Sygnał Ciągły\n",
    "\n",
    "![](images/analog.png)"
   ]
  },
  {
   "cell_type": "markdown",
   "metadata": {
    "slideshow": {
     "slide_type": "subslide"
    }
   },
   "source": [
    "### Próbkowanie\n",
    "\n",
    "![](images/discrete_time.png)"
   ]
  },
  {
   "cell_type": "markdown",
   "metadata": {
    "slideshow": {
     "slide_type": "subslide"
    }
   },
   "source": [
    "### Kwantyzacja\n",
    "\n",
    "![](images/discrete_value.png)"
   ]
  },
  {
   "cell_type": "markdown",
   "metadata": {
    "slideshow": {
     "slide_type": "subslide"
    }
   },
   "source": [
    "### Sygnał cyfrowy\n",
    "\n",
    "![](images/digital.png)"
   ]
  },
  {
   "cell_type": "markdown",
   "metadata": {
    "slideshow": {
     "slide_type": "slide"
    }
   },
   "source": [
    "## Próbkowanie\n",
    "\n",
    "- polega na zapisywaniu chwilowej wartości sygnału w regularnych odstępach czasowych\n",
    "    - uwzględniając dokładność w czasie, chwilowość i szum\n",
    "- otrzymujemy szereg dyskretnych impulsów reprezentujących ciągły sygnał\n",
    "- jakie ciągłe sygnały możemy odtworzyć na podstawie wybranych impulsów?\n",
    "- jak próbkować żeby nie było problemów z odtworzeniem ciągłego sygnału?"
   ]
  },
  {
   "cell_type": "markdown",
   "metadata": {
    "slideshow": {
     "slide_type": "subslide"
    }
   },
   "source": [
    "### Interpolacja\n",
    "\n",
    "![](images/interpolation.png?1)"
   ]
  },
  {
   "cell_type": "markdown",
   "metadata": {
    "slideshow": {
     "slide_type": "subslide"
    }
   },
   "source": [
    "### Wystarczająca ilość próbek\n",
    "\n",
    "![](images/oversample.png)"
   ]
  },
  {
   "cell_type": "markdown",
   "metadata": {
    "slideshow": {
     "slide_type": "subslide"
    }
   },
   "source": [
    "### Niedostateczna ilość próbek\n",
    "\n",
    "![](images/undersample.png)"
   ]
  },
  {
   "cell_type": "markdown",
   "metadata": {
    "slideshow": {
     "slide_type": "subslide"
    }
   },
   "source": [
    "### Próbkowanie jako iloczyn z szeregiem delt\n",
    "\n",
    "- Zdefiniujmy próbkowanie w dziedzinie czasu:\n",
    "\n",
    "\\begin{equation}\n",
    "x_p(t)=x_c(t)\\cdot\\delta(t)\n",
    "\\end{equation}\n",
    "\n",
    "- W dziedzinie częstotliowści wygląda ono tak:\n",
    "\n",
    "\\begin{equation}\n",
    "\\begin{array}{ll}\n",
    "X_p(\\omega) & = \\frac{1}{2\\pi} X_c(\\omega)*D(\\omega) \\\\\n",
    "  & = \\frac{1}{2\\pi}X_c(\\omega)*\\left[\\frac{2\\pi}{T}\\sum_{k=-\\infty}^{\\infty} \\delta(\\omega-k\\omega_p) \\right] \\\\\n",
    "  & = \\frac{1}{T} \\sum_{k=\\infty}^{\\infty}X_c(\\omega-k\\omega_p)\n",
    "\\end{array}\n",
    "\\end{equation}"
   ]
  },
  {
   "cell_type": "markdown",
   "metadata": {
    "slideshow": {
     "slide_type": "subslide"
    }
   },
   "source": [
    "### Szereg delt\n",
    "#### (ang. delta pulse train)\n",
    "\n",
    "<img src=\"images/pulsetrain1.png\" style=\"width:400px\">\n",
    "<img src=\"images/pulsetrain2.png\" style=\"width:400px\">"
   ]
  },
  {
   "cell_type": "markdown",
   "metadata": {
    "slideshow": {
     "slide_type": "subslide"
    }
   },
   "source": [
    "![](images/sampling1.png)"
   ]
  },
  {
   "cell_type": "markdown",
   "metadata": {
    "slideshow": {
     "slide_type": "subslide"
    }
   },
   "source": [
    "### Zły przypadek\n",
    "\n",
    "![](images/sampling2.png)"
   ]
  },
  {
   "cell_type": "markdown",
   "metadata": {},
   "source": [
    "## Twierdzenie o próbkowaniu\n",
    "\n",
    "- Niech $\\omega_p$ to częstotliwość próbkowania\n",
    "- Niech $\\omega_{max}$ to maksymalna częstotliwość ciągłego sygnału\n",
    "- Wtedy:\n",
    "\\begin{equation}\n",
    "\\omega_p > 2\\cdot\\omega_{max}\n",
    "\\end{equation}\n",
    "- Częstotliwość $\\omega_{max}$ we wzorze powyżej jest znana pod nazwą częstotliwości Nyquista albo Shannona\n",
    "- Jako dowód, na poprzednim rysunku widzimy, że $\\omega_{max}$ musi być mniejsze od $\\omega_p-\\omega_{max}$"
   ]
  },
  {
   "cell_type": "markdown",
   "metadata": {
    "slideshow": {
     "slide_type": "subslide"
    }
   },
   "source": [
    "![aliasing](https://upload.wikimedia.org/wikipedia/commons/f/f6/Aliasing-folding.png)"
   ]
  },
  {
   "cell_type": "markdown",
   "metadata": {
    "slideshow": {
     "slide_type": "subslide"
    }
   },
   "source": [
    "## Czy jest dobrze jeśli $\\omega_p = 2\\cdot\\omega_{max}$?\n",
    "\n",
    "- Co się stanie w przypadku funkcji $\\cos(t)$, a co w przypadku funkcji $\\sin(t)$?"
   ]
  },
  {
   "cell_type": "markdown",
   "metadata": {
    "slideshow": {
     "slide_type": "slide"
    }
   },
   "source": [
    "## Kwantyzacja"
   ]
  }
 ],
 "metadata": {
  "celltoolbar": "Slideshow",
  "kernelspec": {
   "display_name": "Python 2",
   "language": "python",
   "name": "python2"
  },
  "language_info": {
   "codemirror_mode": {
    "name": "ipython",
    "version": 2
   },
   "file_extension": ".py",
   "mimetype": "text/x-python",
   "name": "python",
   "nbconvert_exporter": "python",
   "pygments_lexer": "ipython2",
   "version": "2.7.14"
  }
 },
 "nbformat": 4,
 "nbformat_minor": 2
}
