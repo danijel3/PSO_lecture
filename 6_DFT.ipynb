{
 "cells": [
  {
   "cell_type": "markdown",
   "metadata": {
    "slideshow": {
     "slide_type": "slide"
    }
   },
   "source": [
    "# Dyskretna Transformata Fouriera"
   ]
  },
  {
   "cell_type": "markdown",
   "metadata": {
    "slideshow": {
     "slide_type": "subslide"
    }
   },
   "source": [
    "## Przypomnienie\n",
    "\n",
    "\n",
    "![](images/fourier_types.png?1)"
   ]
  },
  {
   "cell_type": "markdown",
   "metadata": {
    "slideshow": {
     "slide_type": "subslide"
    }
   },
   "source": [
    "### Szereg Fouriera\n",
    "\n",
    "![](images/fourier2.png)"
   ]
  },
  {
   "cell_type": "markdown",
   "metadata": {
    "slideshow": {
     "slide_type": "subslide"
    }
   },
   "source": [
    "### Transformata Fouriera\n",
    "\n",
    "![](images/fourier1.png)"
   ]
  },
  {
   "cell_type": "markdown",
   "metadata": {
    "slideshow": {
     "slide_type": "subslide"
    }
   },
   "source": [
    "### DTFT\n",
    "\n",
    "![](images/fourier3.png)"
   ]
  },
  {
   "cell_type": "markdown",
   "metadata": {
    "slideshow": {
     "slide_type": "subslide"
    }
   },
   "source": [
    "### DFT\n",
    "\n",
    "![](images/fourier4.png)"
   ]
  },
  {
   "cell_type": "markdown",
   "metadata": {
    "slideshow": {
     "slide_type": "subslide"
    }
   },
   "source": [
    "### Transformata DTFT\n",
    "\n",
    "\\begin{equation}\n",
    "X(\\omega)=\\sum_{n=-\\infty}^{\\infty} x_n e^{-i\\omega n} \\\\\n",
    "\\omega \\in \\mathbb{R}\n",
    "\\end{equation}\n",
    "\n",
    "### Transformata DFT\n",
    "\n",
    "\\begin{equation}\n",
    "X_k=\\sum_{n=0}^{N-1} x_n e^{-ik\\frac{2\\pi}{N} n} \\\\\n",
    "k \\in 0,1\\ldots N-1\n",
    "\\end{equation}\n"
   ]
  },
  {
   "cell_type": "markdown",
   "metadata": {
    "slideshow": {
     "slide_type": "slide"
    }
   },
   "source": [
    "## Uproszczony wzór\n",
    "\n",
    "- Wprowadźmy zmienną\n",
    "\n",
    "\\begin{equation}\n",
    "W_N=e^{-i\\frac{2\\pi}{N}}\n",
    "\\end{equation}\n",
    "\n",
    "- Znana jako N-ty pierwiastek jedynki\n",
    "\n",
    "\\begin{equation}\n",
    "(W_N)^N=1\n",
    "\\end{equation}\n",
    "\n",
    "- Dzięki niej wzór na transformatę można zapisać jako\n",
    "\n",
    "\\begin{equation}\n",
    "X_k=\\sum_{n=0}^{N-1} x_n W_N^{kn} \\\\\n",
    "k \\in 0,1\\ldots N-1\n",
    "\\end{equation}"
   ]
  },
  {
   "cell_type": "markdown",
   "metadata": {
    "slideshow": {
     "slide_type": "subslide"
    }
   },
   "source": [
    "### DFT jako zmiana bazy\n",
    "\n",
    "- Ten wzór można interpretować jako zmiana bazy\n",
    "\n",
    "\\begin{equation}\n",
    "X_k=x_n\\cdot W_{(N)}\n",
    "\\end{equation}\n",
    "\n",
    "- Gdzie $W_{(N)}$ jest bazą DFT, np. dla rozmiaru 4:\n",
    "\n",
    "|        |         |         |         |\n",
    "|--------------------------------------|\n",
    "| 1.+0.j |  1.+0.j | 1.+0.j  |  1.+0.j |\n",
    "| 1.+0.j |  0.-1.j | -1.+0.j |  0.+1.j |\n",
    "| 1.+0.j | -1.+0.j |  1.+0.j | -1.+0.j |\n",
    "| 1.+0.j |  0.+1.j | -1.+0.j |  0.-1.j |"
   ]
  },
  {
   "cell_type": "markdown",
   "metadata": {
    "slideshow": {
     "slide_type": "subslide"
    }
   },
   "source": [
    "![](images/dftbase_ln.png)"
   ]
  },
  {
   "cell_type": "markdown",
   "metadata": {
    "slideshow": {
     "slide_type": "subslide"
    }
   },
   "source": [
    "![](images/dftbase_im.png)"
   ]
  },
  {
   "cell_type": "markdown",
   "metadata": {
    "slideshow": {
     "slide_type": "slide"
    }
   },
   "source": [
    "## Związek między DFT i DTFT\n",
    "\n",
    "- DFT jest wartością DTFT próbkowaną używając N próbek\n",
    "\n",
    "\\begin{equation}\n",
    "X_k^{(DFT)}=X^{(DTFT)}\\left(\\frac{2\\pi k}{N}\\right)\n",
    "\\end{equation}\n",
    "\n",
    "- Na przykład weźmy sygnał o okresie N=10:\n",
    "\n",
    "\\begin{equation}\n",
    "x_k\\left\\{\n",
    "\\begin{array}{l l}\n",
    " 1 & \\text{dla }k=0\\ldots4 \\\\\n",
    " 0 & \\text{dla }k=5\\ldots9 \\\\\n",
    "\\end{array}\n",
    "\\right.\n",
    "\\end{equation}\n",
    "\n",
    "- Jego DTFT wynosi:\n",
    "\n",
    "\\begin{equation}\n",
    "X(\\omega)=e^{-2i\\omega}\\frac{\\sin(5\\omega/2)}{\\sin(\\omega/2))}\n",
    "\\end{equation}"
   ]
  },
  {
   "cell_type": "markdown",
   "metadata": {
    "slideshow": {
     "slide_type": "subslide"
    }
   },
   "source": [
    "- DFT precyzyjnie odzwierciedla wartości DTFT w określonych punktach:\n",
    "\n",
    "![](images/dft_samplow.png)"
   ]
  },
  {
   "cell_type": "markdown",
   "metadata": {
    "slideshow": {
     "slide_type": "subslide"
    }
   },
   "source": [
    "## Zero-padding\n",
    "\n",
    "- Dodając zera na koniec sygnału można zwiększyć jego próbkowanie:\n",
    "\n",
    "![](images/dft_samphi.png)"
   ]
  },
  {
   "cell_type": "markdown",
   "metadata": {
    "slideshow": {
     "slide_type": "subslide"
    }
   },
   "source": [
    "## DC-offset\n",
    "\n",
    "\n",
    "![](images/fourier_sample4.png)"
   ]
  },
  {
   "cell_type": "markdown",
   "metadata": {
    "slideshow": {
     "slide_type": "slide"
    }
   },
   "source": [
    "## Splot kołowy\n",
    "\n",
    "- W świecie dyskretnym nadal istnieje twierdzenie o splocie\n",
    "\n",
    "- Ale DFT zarówno w czasie i częstotliwości musi być okresowe\n",
    "\n",
    "- Dla DFT twierdzenie o splocie jest prawdziwe dla splotu kołowego\n",
    "    - funkcje nie mają 0 na zewanątrz tylko są okresowe\n",
    "    \n",
    "- Splot jest wygodnie implementować jako iloczyn w dziedzinie częstotliwości:\n",
    "\n",
    "\\begin{equation}\n",
    "f * g = \\mathfrak{F}^{-1}[\\mathfrak{F}(f)\\cdot \\mathfrak{F}(g)]\n",
    "\\end{equation}\n",
    "\n",
    "- Chcąc policzyć zwykły splot za pomocą DFT, musimy dopisać 0 do krótszego sygnału tak żeby obydwa miały taką samą długość"
   ]
  },
  {
   "cell_type": "markdown",
   "metadata": {
    "slideshow": {
     "slide_type": "slide"
    }
   },
   "source": [
    "## Okienkowanie\n",
    "\n",
    "- Ekstrakcja krótkiego segmentu sygnału jest równoważna z iloczynem z funkcją okienkującą\n",
    "\n",
    "- Domyślna funkcja okienkująca to impuls prostokątny\n",
    "\n",
    "\\begin{equation}\n",
    "x[b:e] = x \\cdot \\Pi(b,e)\n",
    "\\end{equation}\n",
    "\n",
    "- Iloczyn w czasie jest równoważny splotowi w częstotliwości\n",
    "\n",
    "- Okienkowanie oknem prostokątnym w czasie jest równoważne splotowi funkcją sinc w częstotliwości\n",
    "\n"
   ]
  },
  {
   "cell_type": "markdown",
   "metadata": {
    "slideshow": {
     "slide_type": "subslide"
    }
   },
   "source": [
    "- Na przykład, 50 próbek sinusoidy:\n",
    "\n",
    "![](images/dft_rectwin.png)"
   ]
  },
  {
   "cell_type": "markdown",
   "metadata": {
    "slideshow": {
     "slide_type": "subslide"
    }
   },
   "source": [
    "- Możemy zamiast tego użyć innego okna, np Hamminga:\n",
    "\n",
    "![](images/hamming.png)\n",
    "\n",
    "- Jest szereg innych [okien](http://mathworld.wolfram.com/ApodizationFunction.html)"
   ]
  },
  {
   "cell_type": "markdown",
   "metadata": {
    "slideshow": {
     "slide_type": "subslide"
    }
   },
   "source": [
    "- Po dokonaniu iloczynu otrzymujemy taki wynik\n",
    "\n",
    "![](images/dft_hammwin.png)"
   ]
  },
  {
   "cell_type": "markdown",
   "metadata": {
    "slideshow": {
     "slide_type": "slide"
    }
   },
   "source": [
    "## FFT\n",
    "\n",
    "- Wymyślony prze Gaussa w 1806 roku i spoularyzowany w połowie 20 wieku przez J.W. Cooley'a i Johna Tukey'a\n",
    "\n",
    "- Jest wiele wariantów - tutaj omówimy wersję radix-2 metodą DIT (decimation in time)\n",
    "\n",
    "- Zacznijmy od definicji DFT\n",
    "\n",
    "\\begin{equation}\n",
    "X_k = \\sum_{n=0}^{N-1} x_n W_{N}^{nk}\n",
    "\\end{equation}\n",
    "\n",
    "- Jego złożoność obliczeniowa to $O(N)=N^2$\n",
    "\n",
    "- Do FFT użyjemy strategii \"dziel-i-rządź\"\n"
   ]
  },
  {
   "cell_type": "markdown",
   "metadata": {
    "slideshow": {
     "slide_type": "subslide"
    }
   },
   "source": [
    "- Podzielmy operację sumowania na indeksy parzyste i nieparzyste\n",
    "\n",
    "\\begin{equation}\n",
    "X_k = \\sum_{r=0}^{N/2-1} x_{(2r)} W_{N}^{(2r)k} + \\sum_{r=0}^{N/2-1} x_{(2r+1)} W_{N}^{(2r+1)k} = \\\\\n",
    "\\sum_{r=0}^{N/2-1} x_{(2r)} (W_{N}^{2})^{rk} + W_N^k \\sum_{r=0}^{N/2-1} x_{(2r+1)} (W_{N}^2)^{rk} =\\\\\n",
    "\\sum_{r=0}^{N/2-1} x_{(2r)} W_{N/2}^{rk} + W_N^k \\sum_{r=0}^{N/2-1} x_{(2r+1)} W_{N/2}^{rk} =\n",
    "\\end{equation}\n",
    "\n",
    "- Co jest równoważne liczeniu dwóch krótszych ($N/2$) DFT zamiast jednej dużej"
   ]
  },
  {
   "cell_type": "markdown",
   "metadata": {
    "slideshow": {
     "slide_type": "subslide"
    }
   },
   "source": [
    "<img src=\"images/FFT_even_odd.png\" style=\"width: 500px\">"
   ]
  },
  {
   "cell_type": "markdown",
   "metadata": {
    "slideshow": {
     "slide_type": "subslide"
    }
   },
   "source": [
    "<img src=\"images/FFT_radix2.png\" style=\"width: 500px\">"
   ]
  },
  {
   "cell_type": "markdown",
   "metadata": {
    "slideshow": {
     "slide_type": "subslide"
    }
   },
   "source": [
    "### Podsumowanie FFT\n",
    "\n",
    "- Jeśli długość sygnału jest potęgą dwójki, procedurę można rozbić na $log_2 N$ kroków\n",
    "\n",
    "- W każdym kroku mnożymy i dodajmy do siebie $N$ liczb, więc ostateczna złożoność to $O(N)=N \\log N$\n",
    "\n",
    "- Każdy z elementów strukturalnych jest nazywany motylem (butterfly)\n",
    "\n",
    "- Algorytm może być liczony \"w-miejscu\" (jest to ułatwione ułożeniem elementów w odpowiedniej kolejności - bit reversal)\n",
    "\n",
    "- Jednym z najbardziej znanych implementacji w C++ to biblioteka FFTW\n",
    "\n",
    "- Istnieją algorytmy wielowątkowe wykorzystujące $N$ elementów obliczeniowych i złożoność obliczeniową $O(N) = \\log N$ (np. biblioteka cuFFT)"
   ]
  },
  {
   "cell_type": "markdown",
   "metadata": {
    "slideshow": {
     "slide_type": "subslide"
    }
   },
   "source": [
    "#### DIF\n",
    "\n",
    "<img src=\"images/fft_dif.png\" style=\"width: 500px\">"
   ]
  },
  {
   "cell_type": "markdown",
   "metadata": {
    "slideshow": {
     "slide_type": "slide"
    }
   },
   "source": [
    "## Filtrowanie za pomocą FFT\n",
    "\n",
    "- Zazwyczaj filtry wdrażamy operacją splotu\n",
    "\n",
    "- Prosta metoda filtrowania polega na dokonaniu zmiany sygnału w dziedzinie częstotliwości:\n",
    "\n",
    "1. wykonujemy FFT sygnału\n",
    "2. dokonujemy iloczynu widma z charakterystyką filtru\n",
    "3. wykonujemy IFFT widma\n",
    "\n",
    "- zanim dokonamy krok 3 musimy być pewni że widmo spełnia warunek symetrii Hermitowskiej!\n"
   ]
  },
  {
   "cell_type": "markdown",
   "metadata": {
    "slideshow": {
     "slide_type": "slide"
    }
   },
   "source": [
    "## Analiza czsowo-częstotliwościowa\n",
    "\n",
    "- Oprócz samego rozkładu częstotliowości, często potrzbujemy informację o czasie rozpoczęcia i ukończenia poszczegółnych skłądowych częstotliwościowych\n",
    "\n",
    "- Najprostsza metoda analizy czasowo-częstotliwościowej to STFT (short-term Fourier transform)\n",
    "\n",
    "- Określamy parametry:\n",
    "    - $Q$ - odstęp między początkami ramek (frame rate, frame step)\n",
    "    - $K$ - szerokość ramki (frame length, window size)\n",
    "    \n",
    "- Na podstawie tego możemy wywnioskować:\n",
    "    - overlap: $K-Q$\n",
    "    - ilość ramek w sygnale o długości $N$: $\\lfloor (N-K)/Q \\rfloor +1$"
   ]
  },
  {
   "cell_type": "markdown",
   "metadata": {
    "slideshow": {
     "slide_type": "subslide"
    }
   },
   "source": [
    "<img src='images/frames.png' style='width:500px'>"
   ]
  },
  {
   "cell_type": "markdown",
   "metadata": {
    "slideshow": {
     "slide_type": "subslide"
    }
   },
   "source": [
    "- Dla każdej ramki usuwamy DC-offset\n",
    "\n",
    "- Dodajemy zero-padding (zwykle do najniższej potęgi 2, ale można i więcej)\n",
    "\n",
    "- Każdą ramkę mnożymy przez funkcję okienkową\n",
    "\n",
    "- Kluczowe jest określenie rozmiaru ramki - określa ona kompromis między rozdzielczością w czasie i częstotliwości\n",
    "\n",
    "- Nie można mieć idealną rozdzielczość zarówno w czasie jak i częstotliwości - zasada nieoznaczoności Heisenberga (ang. Heisenberg Uncertainty Principle)"
   ]
  }
 ],
 "metadata": {
  "celltoolbar": "Slideshow",
  "kernelspec": {
   "display_name": "Python 2",
   "language": "python",
   "name": "python2"
  },
  "language_info": {
   "codemirror_mode": {
    "name": "ipython",
    "version": 2
   },
   "file_extension": ".py",
   "mimetype": "text/x-python",
   "name": "python",
   "nbconvert_exporter": "python",
   "pygments_lexer": "ipython2",
   "version": "2.7.14"
  }
 },
 "nbformat": 4,
 "nbformat_minor": 2
}
