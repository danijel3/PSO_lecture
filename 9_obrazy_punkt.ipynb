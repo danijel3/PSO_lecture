{
 "cells": [
  {
   "cell_type": "markdown",
   "metadata": {
    "slideshow": {
     "slide_type": "slide"
    }
   },
   "source": [
    "# Przetwarzanie obrazów\n",
    "## Operacje punktowe"
   ]
  },
  {
   "cell_type": "markdown",
   "metadata": {
    "slideshow": {
     "slide_type": "slide"
    }
   },
   "source": [
    "## Kodowanie obrazu\n",
    "\n",
    "- rozdzielczość $\\equiv$ częstotliwość próbkowania\n",
    "![](images/imscale.png)"
   ]
  },
  {
   "cell_type": "markdown",
   "metadata": {
    "slideshow": {
     "slide_type": "subslide"
    }
   },
   "source": [
    "- głębia bitowa\n",
    "![](images/imdepth.png)"
   ]
  },
  {
   "cell_type": "markdown",
   "metadata": {
    "slideshow": {
     "slide_type": "subslide"
    }
   },
   "source": [
    "## Propagacja błędu\n",
    "\n",
    "- ang. *dither*\n",
    "\n",
    "- metoda Floyd–Steinberg, 16 poziomów\n",
    "\n",
    "\\begin{equation}\n",
    "\\begin{bmatrix}\n",
    "\\ldots & & * & 7 & \\ldots \\\\\n",
    "\\ldots & 3 & 5 & 1 & \\ldots \\\\\n",
    "\\end{bmatrix} /16\n",
    "\\end{equation}\n",
    "\n",
    "![](images/imdither.png)\n",
    "\n"
   ]
  },
  {
   "cell_type": "markdown",
   "metadata": {
    "slideshow": {
     "slide_type": "subslide"
    }
   },
   "source": [
    "- metoda Stucki, 8 poziomów\n",
    "\n",
    "![](images/imdither2.png)"
   ]
  },
  {
   "cell_type": "markdown",
   "metadata": {
    "slideshow": {
     "slide_type": "slide"
    }
   },
   "source": [
    "## Przekstałcenia punktowe\n",
    "\n",
    "- ang. *point operations*\n",
    "\n",
    "- zmiana wartości piksela (punktu) niezależnie od innych zmiennych (wartości innych pikseli, jego położenia, ...)\n",
    "\n",
    "\\begin{equation}\n",
    "f(p) \\hspace{1cm} \\forall p = i[x,y]\n",
    "\\end{equation}\n",
    "\n",
    "- opearcja \"curves\" w programie Photoshop\n",
    "\n",
    "![](images/ps_curves.jpg)"
   ]
  },
  {
   "cell_type": "markdown",
   "metadata": {
    "slideshow": {
     "slide_type": "subslide"
    }
   },
   "source": [
    "### Przekształcenia liniowe\n",
    "\n",
    "\\begin{equation}\n",
    "f(x)=x\n",
    "\\end{equation}\n",
    "\n",
    "![](images/im_point1.png)"
   ]
  },
  {
   "cell_type": "markdown",
   "metadata": {
    "slideshow": {
     "slide_type": "subslide"
    }
   },
   "source": [
    "### Przekształcenia liniowe\n",
    "\n",
    "\\begin{equation}\n",
    "f(x)=x \\pm 100\n",
    "\\end{equation}\n",
    "\n",
    "![](images/im_point2.png)\n",
    "![](images/im_point3.png)"
   ]
  },
  {
   "cell_type": "markdown",
   "metadata": {
    "slideshow": {
     "slide_type": "subslide"
    }
   },
   "source": [
    "### Przekształcenia liniowe\n",
    "\n",
    "\\begin{equation}\n",
    "f(x)=x\\cdot2\\\\\n",
    "f(x)=\\frac{x}{2}\n",
    "\\end{equation}\n",
    "\n",
    "\n",
    "![](images/im_point4.png)\n",
    "![](images/im_point5.png)"
   ]
  },
  {
   "cell_type": "markdown",
   "metadata": {
    "slideshow": {
     "slide_type": "subslide"
    }
   },
   "source": [
    "### Przekształcenia liniowe\n",
    "\n",
    "\\begin{equation}\n",
    "f(x)=A\\cdot x+B\n",
    "\\end{equation}\n",
    "\n",
    "\n",
    "![](images/im_point6.png)\n",
    "![](images/im_point7.png)"
   ]
  },
  {
   "cell_type": "markdown",
   "metadata": {
    "slideshow": {
     "slide_type": "subslide"
    }
   },
   "source": [
    "### Przekształcenia nieliniowe - gamma\n",
    "\n",
    "\\begin{equation}\n",
    "f(x)=x^{\\alpha}\n",
    "\\end{equation}\n",
    "\n",
    "\n",
    "![](images/im_point8.png)\n",
    "![](images/im_point9.png)"
   ]
  },
  {
   "cell_type": "markdown",
   "metadata": {
    "slideshow": {
     "slide_type": "subslide"
    }
   },
   "source": [
    "### Przekształcenia nieliniowe - sigmoidalny kontrast\n",
    "\n",
    "\\begin{equation}\n",
    "f(x)=\\frac{L}{1+e^{-k(x-x_0)}}\n",
    "\\end{equation}\n",
    "\n",
    "\n",
    "![](images/im_point10.png)"
   ]
  },
  {
   "cell_type": "markdown",
   "metadata": {
    "slideshow": {
     "slide_type": "subslide"
    }
   },
   "source": [
    "### Przekształcenia nieliniowe - wyrównanie histogramu\n",
    "\n",
    "![](images/im_point13.png)"
   ]
  },
  {
   "cell_type": "markdown",
   "metadata": {
    "slideshow": {
     "slide_type": "subslide"
    }
   },
   "source": [
    "### Kwantyzacja\n",
    "\n",
    "\n",
    "![](images/im_point11.png)"
   ]
  },
  {
   "cell_type": "markdown",
   "metadata": {
    "slideshow": {
     "slide_type": "subslide"
    }
   },
   "source": [
    "### Progowanie\n",
    "\n",
    "\n",
    "![](images/im_point12.png)"
   ]
  },
  {
   "cell_type": "markdown",
   "metadata": {
    "slideshow": {
     "slide_type": "subslide"
    }
   },
   "source": [
    "### Progowanie metodą otsu\n",
    "\n",
    "\n",
    "![](images/im_otsu.png)"
   ]
  },
  {
   "cell_type": "markdown",
   "metadata": {
    "slideshow": {
     "slide_type": "subslide"
    }
   },
   "source": [
    "### Progowanie adaptacyjne\n",
    "\n",
    "\n",
    "![](images/im_adaptive.png)"
   ]
  }
 ],
 "metadata": {
  "celltoolbar": "Slideshow",
  "kernelspec": {
   "display_name": "Python 3",
   "language": "python",
   "name": "python3"
  },
  "language_info": {
   "codemirror_mode": {
    "name": "ipython",
    "version": 3
   },
   "file_extension": ".py",
   "mimetype": "text/x-python",
   "name": "python",
   "nbconvert_exporter": "python",
   "pygments_lexer": "ipython3",
   "version": "3.6.2"
  }
 },
 "nbformat": 4,
 "nbformat_minor": 2
}
