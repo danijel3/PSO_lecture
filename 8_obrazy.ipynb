{
 "cells": [
  {
   "cell_type": "markdown",
   "metadata": {
    "slideshow": {
     "slide_type": "slide"
    }
   },
   "source": [
    "# Cyfrowe obrazy\n",
    "## Wprowadzenie"
   ]
  },
  {
   "cell_type": "markdown",
   "metadata": {
    "collapsed": true,
    "slideshow": {
     "slide_type": "slide"
    }
   },
   "source": [
    "## Światło \n",
    "\n",
    "- część promieniowania elektromagnetycznego\n",
    "- widoczne (przez ludzi) w zakresie ~400-700 nm\n",
    "- prędkość w próźni 299 792 458 m/s\n",
    "- częstotliwość między $4 \\text{ a } 8 \\cdot 10^{14} Hz$ ( $400 - 800 THz$ )\n",
    "- \"dualizm korpuskularno-falowy\"\n",
    "    -rozszczepienie, dyfrakcja"
   ]
  },
  {
   "cell_type": "markdown",
   "metadata": {
    "collapsed": true,
    "slideshow": {
     "slide_type": "subslide"
    }
   },
   "source": [
    "### Spektrum elektromagnetyczne\n",
    "\n",
    "![](images/EM_spectrum.svg)"
   ]
  },
  {
   "cell_type": "markdown",
   "metadata": {
    "slideshow": {
     "slide_type": "subslide"
    }
   },
   "source": [
    "## Miary \n",
    "\n",
    "- lumen (miara SI)\n",
    "\n",
    "\\begin{equation}\n",
    "1 \\text{ lm} = 1 \\text{ cd} \\cdot \\text{ sr}\n",
    "\\end{equation}\n",
    "\n",
    "- candela (cd) - ~jasność jednej świecy ($\\frac{1}{683}$ watta na sr światła o barwie 540 THz)\n",
    "- steradian (sr) - odpowiednik radiana w 3D\n",
    "- lux - lumen na metr kwadratowy\n"
   ]
  },
  {
   "cell_type": "markdown",
   "metadata": {
    "slideshow": {
     "slide_type": "subslide"
    }
   },
   "source": [
    "<img src=\"images/lumen.jpg\" style=\"width: 400px\">"
   ]
  },
  {
   "cell_type": "markdown",
   "metadata": {
    "slideshow": {
     "slide_type": "subslide"
    }
   },
   "source": [
    "<img src=\"images/lux.jpg\" style=\"width: 400px\">"
   ]
  },
  {
   "cell_type": "markdown",
   "metadata": {
    "slideshow": {
     "slide_type": "subslide"
    }
   },
   "source": [
    "## Barwa światła\n",
    "\n",
    "<img src=\"images/color_temp.png\" style=\"width: 400px\">"
   ]
  },
  {
   "cell_type": "markdown",
   "metadata": {
    "slideshow": {
     "slide_type": "subslide"
    }
   },
   "source": [
    "<img src=\"images/colour-temperature-chart.png\" style=\"height: 500px\">"
   ]
  },
  {
   "cell_type": "markdown",
   "metadata": {
    "slideshow": {
     "slide_type": "slide"
    }
   },
   "source": [
    "## Oko\n",
    "\n",
    "![](images/oko.png)"
   ]
  },
  {
   "cell_type": "markdown",
   "metadata": {
    "slideshow": {
     "slide_type": "subslide"
    }
   },
   "source": [
    "1. twardówka\n",
    "2. naczyniówka\n",
    "3. kanał Schlemma\n",
    "4. wyrostek rzęskowy\n",
    "5. **rogówka**\n",
    "6. **tęczówka**\n",
    "7. **źrenica**\n",
    "8. komora przednia oka\n",
    "9. komora tylna oka\n",
    "10. ciało rzęskowe \t\n",
    "11. **soczewka**\n",
    "12. ciało szkliste\n",
    "13. **siatkówka**\n",
    "14. **nerw wzrokowy**\n",
    "15. więzadełko rzęskowe"
   ]
  },
  {
   "cell_type": "markdown",
   "metadata": {
    "slideshow": {
     "slide_type": "subslide"
    }
   },
   "source": [
    "## Czopki i pręciki\n",
    "\n",
    "![](images/czopki-preciki.png)"
   ]
  },
  {
   "cell_type": "markdown",
   "metadata": {
    "slideshow": {
     "slide_type": "subslide"
    }
   },
   "source": [
    "![](images/cones_rods.jpg)"
   ]
  },
  {
   "cell_type": "markdown",
   "metadata": {
    "slideshow": {
     "slide_type": "slide"
    }
   },
   "source": [
    "## Obraz analogowy\n",
    "\n",
    "- Film fotograficzny\n",
    "    - światłoczułe kryształy soli srebra\n",
    "- Tarcza Nipkowa\n",
    "- Telewizja analogowa\n",
    "- Ekrany\n",
    "    - CRT\n",
    "    - LCD\n",
    "    - Plasma\n",
    "    - LED\n",
    "    - mnóstwo innych...\n",
    "- Druk\n",
    "    - Igłowy\n",
    "    - Termiczny\n",
    "    - Ink-jet\n",
    "    - Laserowy"
   ]
  },
  {
   "cell_type": "markdown",
   "metadata": {
    "slideshow": {
     "slide_type": "subslide"
    }
   },
   "source": [
    "### Telewizja z tarczą Nipkowa\n",
    "\n",
    "![](images/nipkow.jpg)"
   ]
  },
  {
   "cell_type": "markdown",
   "metadata": {
    "slideshow": {
     "slide_type": "subslide"
    }
   },
   "source": [
    "<img src=\"images/tv_transmission.png\" style=\"height: 500px\">"
   ]
  },
  {
   "cell_type": "markdown",
   "metadata": {
    "slideshow": {
     "slide_type": "subslide"
    }
   },
   "source": [
    "### Kineskop CRT\n",
    "\n",
    "![](images/crt.png)"
   ]
  },
  {
   "cell_type": "markdown",
   "metadata": {
    "slideshow": {
     "slide_type": "subslide"
    }
   },
   "source": [
    "<img src=\"images/color_pixel.jpg\" style=\"height: 500px\">"
   ]
  },
  {
   "cell_type": "markdown",
   "metadata": {
    "slideshow": {
     "slide_type": "slide"
    }
   },
   "source": [
    "## Obraz cyfrowy\n",
    "\n",
    "- piksel - *ang. picture element*\n",
    "- rozdzielczość\n",
    "    - miara DPI/PPI (druk), megapiksele (ekran)\n",
    "    - subpixel rendering\n",
    "    - 4:3, 3:2, 16:9\n",
    "- głębia bitowa (*ang. bit-depth*)\n",
    "- kanały kolorów"
   ]
  },
  {
   "cell_type": "markdown",
   "metadata": {
    "slideshow": {
     "slide_type": "subslide"
    }
   },
   "source": [
    "## Przestrzenie barw\n",
    "\n",
    "- RGB\n",
    "- CMYK\n",
    "- HSV/HSL\n",
    "- XYZ\n",
    "- YUV\n",
    "- ..."
   ]
  },
  {
   "cell_type": "markdown",
   "metadata": {
    "slideshow": {
     "slide_type": "subslide"
    }
   },
   "source": [
    "### RGB/CMYK\n",
    "\n",
    "![](images/RGBCube.png)"
   ]
  },
  {
   "cell_type": "markdown",
   "metadata": {
    "slideshow": {
     "slide_type": "subslide"
    }
   },
   "source": [
    "### HSV/HSL\n",
    "\n",
    "- http://tinyurl.com/pjatk-grk (Barwy i histogram)\n",
    "\n",
    "<img src=\"images/hsv_hsl.png\" style=\"height: 500px\">"
   ]
  },
  {
   "cell_type": "markdown",
   "metadata": {
    "slideshow": {
     "slide_type": "subslide"
    }
   },
   "source": [
    "### CIE XYZ\n",
    "\n",
    "<img src=\"images/xyz.png\" style=\"height: 500px\">"
   ]
  },
  {
   "cell_type": "markdown",
   "metadata": {
    "slideshow": {
     "slide_type": "subslide"
    }
   },
   "source": [
    "### YUV\n",
    "\n",
    "<img src=\"images/YUV.svg\" style=\"height: 500px;float:left\">\n",
    "<img src=\"images/Barn-yuv.png\" style=\"height: 500px;clear:none\">"
   ]
  },
  {
   "cell_type": "markdown",
   "metadata": {
    "slideshow": {
     "slide_type": "slide"
    }
   },
   "source": [
    "## Arytmetyka obrazu\n",
    "\n",
    "- Dodawnie\n",
    "    - np. rozjaśnianie obrazu, łącznie masek\n",
    "- Odejmowanie\n",
    "    - np. szukanie różnic w obrazie\n",
    "- Mnożenie\n",
    "    - np. stosowanie masek\n",
    "- Dzielenie\n",
    "    - np. usuwanie poświaty używając obrazu pola światła\n",
    "- Łączenie (*ang. blending*)\n",
    "    - np. uśrednianie\n",
    "- Binarne\n",
    "    - AND, OR, NOT, XOR"
   ]
  },
  {
   "cell_type": "markdown",
   "metadata": {
    "slideshow": {
     "slide_type": "subslide"
    }
   },
   "source": [
    "## Histogram\n",
    "\n",
    "<img src=\"images/histograms.png\" style=\"height: 500px\">"
   ]
  },
  {
   "cell_type": "markdown",
   "metadata": {},
   "source": [
    "## Momenty obrazu\n",
    "\n",
    "- Moment obrazu względem punktu $c$ - zwykle $(0,0)$:\n",
    "\n",
    "\\begin{equation}\n",
    "\\mu_{m,n} = \\sum_{x=0}^{W}\\sum_{y=0}^{H} (x-c_x)^m (y-c_y)^n f(x,y)\n",
    "\\end{equation}\n",
    "\n",
    "- Powierzchnia binarnego obrazu: \n",
    "\n",
    "\\begin{equation}\n",
    "\\mu_{0,0}\n",
    "\\end{equation}\n",
    "\n",
    "- Centroid binarnego obrazu:\n",
    "\n",
    "\\begin{equation}\n",
    "\\left(\\frac{\\mu_{1,0}}{\\mu_{0,0}},\\frac{\\mu_{0,1}}{\\mu_{0,0}}\\right)\n",
    "\\end{equation}"
   ]
  },
  {
   "cell_type": "markdown",
   "metadata": {
    "slideshow": {
     "slide_type": "subslide"
    }
   },
   "source": [
    "## Linki\n",
    "\n",
    "- https://homepages.inf.ed.ac.uk/rbf/HIPR2/index.htm\n",
    "- http://scikit-image.org/docs/dev/auto_examples/index.html\n",
    "- https://docs.opencv.org/master/d9/df8/tutorial_root.html\n",
    "- http://aishack.in/"
   ]
  }
 ],
 "metadata": {
  "celltoolbar": "Slideshow",
  "kernelspec": {
   "display_name": "Python 3",
   "language": "python",
   "name": "python3"
  },
  "language_info": {
   "codemirror_mode": {
    "name": "ipython",
    "version": 3
   },
   "file_extension": ".py",
   "mimetype": "text/x-python",
   "name": "python",
   "nbconvert_exporter": "python",
   "pygments_lexer": "ipython3",
   "version": "3.6.2"
  }
 },
 "nbformat": 4,
 "nbformat_minor": 2
}
